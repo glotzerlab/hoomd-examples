{
 "cells": [
  {
   "cell_type": "markdown",
   "id": "71899a40-f0ab-448a-a398-3f59560cb97f",
   "metadata": {
    "editable": true,
    "slideshow": {
     "slide_type": ""
    },
    "tags": []
   },
   "source": [
    "# Wall geometries\n",
    "\n",
    "## Overview\n",
    "\n",
    "### Questions\n",
    "\n",
    "* How can I define smooth wall surfaces?\n",
    "\n",
    "### Objectives\n",
    "\n",
    "* Show how to create **wall geometries**.\n",
    "* Explain that wall geometries are **surfaces**.\n",
    "    \n",
    "## Boilerplate code"
   ]
  },
  {
   "cell_type": "code",
   "execution_count": 1,
   "id": "64ce6411-0de6-4dd7-9e0b-5441d1015ff4",
   "metadata": {},
   "outputs": [],
   "source": [
    "import hoomd"
   ]
  },
  {
   "cell_type": "markdown",
   "id": "5f6d8479-9d1a-43a8-ad6a-d868efe53996",
   "metadata": {
    "editable": true,
    "slideshow": {
     "slide_type": ""
    },
    "tags": []
   },
   "source": [
    "## Sphere, cylinder, and planar walls\n",
    "\n",
    "The previous section of this tutorial showed how to place particles to form barriers. You can use this technique to place arbitrarily shaped barriers with rough surfaces. To define a smooth surface, use one or more of the **wall geometry** classes: `Sphere`, `Cylinder`, and/or `Plane`.\n",
    "\n",
    "Each of these classes describes a two dimensional **surface** in a three dimensional space. Each surface separates the space into two regions: One where particles are expected (described by a positive signed distance to the surface) and one where particles are not (described by a negative signed distance). \n",
    "\n",
    "As described in [Barriers](01-Barriers.ipynb), the **particles** are always wrapped into the **periodic** simulation box. Thus, **particles** will interact _only_ with the portions of the wall geometries that lie in the primary box image."
   ]
  },
  {
   "cell_type": "markdown",
   "id": "d90db8ca-49a2-4bc6-a7f4-b03f40ec2dc7",
   "metadata": {
    "editable": true,
    "slideshow": {
     "slide_type": ""
    },
    "tags": []
   },
   "source": [
    "### Sphere wall geometry\n",
    "\n",
    "The `Sphere` **wall geometry** defines a spherical surface. You can place a `Sphere` wall where particles are expected on the inside of the sphere:"
   ]
  },
  {
   "cell_type": "code",
   "execution_count": 2,
   "id": "84a324f2-6a65-410a-89aa-661b6db373f1",
   "metadata": {},
   "outputs": [],
   "source": [
    "sphere = hoomd.wall.Sphere(radius=10, inside=True)"
   ]
  },
  {
   "cell_type": "markdown",
   "id": "bb0372e3-1d0a-4e73-b2f7-8f17ce87f4df",
   "metadata": {},
   "source": [
    "or on the outside:"
   ]
  },
  {
   "cell_type": "code",
   "execution_count": 3,
   "id": "cdd7fdda-6fc9-4c7a-a84b-ef0f9e6f6ce1",
   "metadata": {},
   "outputs": [],
   "source": [
    "sphere = hoomd.wall.Sphere(radius=5, inside=False)"
   ]
  },
  {
   "cell_type": "markdown",
   "id": "7732fed5-538d-4836-afc5-ce560c864bb3",
   "metadata": {
    "editable": true,
    "slideshow": {
     "slide_type": ""
    },
    "tags": []
   },
   "source": [
    "### Cylinder wall geometry\n",
    "\n",
    "The `Cylinder` **wall geometry** defines the surface of an infinite right circular cylinder along a given axis. Typically, you should align the cylinder to the x, y, or z axis to match the periodic boundary conditions:"
   ]
  },
  {
   "cell_type": "code",
   "execution_count": 4,
   "id": "132d0d1a-7d8f-4003-b66d-7bbe8a4fbfc0",
   "metadata": {},
   "outputs": [],
   "source": [
    "clyinder = hoomd.wall.Cylinder(radius=10, axis=(0, 0, 1), inside=True)"
   ]
  },
  {
   "cell_type": "markdown",
   "id": "28925bc2-f4b7-4295-9ad9-14189e7afcb8",
   "metadata": {},
   "source": [
    "As with spheres, you can also place a `Cylinder` where particles are expected on the outside:"
   ]
  },
  {
   "cell_type": "code",
   "execution_count": 5,
   "id": "2fb24b0e-e36b-481e-ba63-01f3b4823d71",
   "metadata": {},
   "outputs": [],
   "source": [
    "clyinder = hoomd.wall.Cylinder(radius=10, axis=(1, 0, 0), inside=False)"
   ]
  },
  {
   "cell_type": "markdown",
   "id": "5142abc3-5e96-4237-8d8d-00e63ddf4fbf",
   "metadata": {
    "editable": true,
    "slideshow": {
     "slide_type": ""
    },
    "tags": []
   },
   "source": [
    "### Plane wall geometry\n",
    "\n",
    "The `Plane` wall geometry defines an infinite plane. The normal vector points _toward_ the region where the particles are expected:"
   ]
  },
  {
   "cell_type": "code",
   "execution_count": 6,
   "id": "60126bd1-d735-4723-bfe6-daacf4d5d102",
   "metadata": {},
   "outputs": [],
   "source": [
    "plane = hoomd.wall.Plane(origin=(0, 0, 0), normal=(0, 1, 0))"
   ]
  },
  {
   "cell_type": "markdown",
   "id": "a6f3ade8-01d2-48a5-9016-a064819784c7",
   "metadata": {
    "editable": true,
    "slideshow": {
     "slide_type": ""
    },
    "tags": []
   },
   "source": [
    "## Box size scaling\n",
    "\n",
    "**Wall geometries** are surfaces defined by the given parameters. They are not part of the system state and are not defined in proportion to the simulation box. No operations in HOOMD-blue scale or move **wall geometries**. For example, `BoxReisize` will scale the **periodic box** and the **particle** positions, but leave all **wall geometries** fixed with the parameters you defined. When needed, you should provide code that changes the parameters of your **wall geometries**."
   ]
  },
  {
   "cell_type": "markdown",
   "id": "eeff6d2c-999a-43a2-900d-163d629b7fc0",
   "metadata": {
    "editable": true,
    "slideshow": {
     "slide_type": ""
    },
    "tags": []
   },
   "source": [
    "## Conclusion\n",
    "\n",
    "This tutorial gave examples of several **wall geometries**. The next two sections will demonstrate using these to confine particles in **MD** and **HPMC** simulations."
   ]
  }
 ],
 "metadata": {
  "language_info": {
   "codemirror_mode": {
    "name": "ipython",
    "version": 3
   },
   "file_extension": ".py",
   "mimetype": "text/x-python",
   "name": "python",
   "nbconvert_exporter": "python",
   "pygments_lexer": "ipython3",
   "version": "3.11.6"
  }
 },
 "nbformat": 4,
 "nbformat_minor": 5
}
