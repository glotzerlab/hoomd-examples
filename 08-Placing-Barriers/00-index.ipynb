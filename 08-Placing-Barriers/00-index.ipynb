{
 "cells": [
  {
   "cell_type": "markdown",
   "metadata": {},
   "source": [
    "# Placing barriers\n",
    "\n",
    "This tutorial explains various methods to place barriers in the simulation box.\n",
    "\n",
    "**Prerequisites:**\n",
    "\n",
    "This tutorial assumes you are familiar with the concepts introduced in [Introducing HOOMD-blue](../00-Introducing-HOOMD-blue/00-index.ipynb) and [Introducing Molecular Dynamics](../01-Introducing-Molecular-Dynamics/00-index.ipynb)."
   ]
  },
  {
   "cell_type": "markdown",
   "metadata": {
    "editable": true,
    "nbsphinx-toctree": {
     "maxdepth": 1
    },
    "slideshow": {
     "slide_type": ""
    },
    "tags": []
   },
   "source": [
    "## Outline\n",
    "\n",
    "1. [Barriers](01-Barriers.ipynb)\n",
    "1. [Fixed particles](02-Fixed-particles.ipynb)\n",
    "1. [Wall geometries](03-Wall-geometries.ipynb)\n",
    "1. [Wall potential (MD)](04-Wall-potential-MD.ipynb)\n",
    "1. [Wall potential (HPMC)](05-Wall-potential-HPMC.ipynb)"
   ]
  },
  {
   "cell_type": "markdown",
   "metadata": {},
   "source": [
    "This tutorial is written with [jupyter](https://jupyter.org/). You can download the source from the [hoomd-examples](https://github.com/glotzerlab/hoomd-examples) repository."
   ]
  }
 ],
 "metadata": {
  "language_info": {
   "codemirror_mode": {
    "name": "ipython",
    "version": 3
   },
   "file_extension": ".py",
   "mimetype": "text/x-python",
   "name": "python",
   "nbconvert_exporter": "python",
   "pygments_lexer": "ipython3",
   "version": "3.11.6"
  },
  "record_timing": false
 },
 "nbformat": 4,
 "nbformat_minor": 4
}
