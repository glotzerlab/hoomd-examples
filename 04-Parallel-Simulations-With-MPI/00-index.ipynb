{
 "cells": [
  {
   "cell_type": "markdown",
   "metadata": {},
   "source": [
    "# Parallel Simulation With MPI\n",
    "\n",
    "This tutorial explains how to run simulations in parallel using MPI.\n",
    "\n",
    "**Prerequisites:**\n",
    "\n",
    "* This tutorial assumes you are familiar with terms relating to high performance computing clusters, specifically *job* and *scheduler*.\n",
    "* While parallel execution is a general topic and supported by all operations in HOOMD-blue, this tutorial uses molecular dynamics simulations to demonstrate.\n",
    "The tutorial [Introducing Molecular Dynamics](../01-Introducing-Molecular-Dynamics/00-index.ipynb) teaches these concepts.\n",
    "* To execute these notebooks locally, you need an MPI enabled version of HOOMD-blue. You can check this by checking that `hoomd.version.mpi_enabled` is `True`:\n"
   ]
  },
  {
   "cell_type": "code",
   "execution_count": 1,
   "metadata": {},
   "outputs": [
    {
     "data": {
      "text/plain": [
       "True"
      ]
     },
     "execution_count": 1,
     "metadata": {},
     "output_type": "execute_result"
    }
   ],
   "source": [
    "import hoomd\n",
    "\n",
    "hoomd.version.mpi_enabled"
   ]
  },
  {
   "cell_type": "markdown",
   "metadata": {},
   "source": [
    "<div class=\"alert alert-info\">\n",
    "    The HOOMD-blue binaries on <b>conda-forge</b> do not enable MPI due to technical limitations.\n",
    "</div>"
   ]
  },
  {
   "cell_type": "markdown",
   "metadata": {},
   "source": [
    "The system used in *Introducing Molecular Dynamics* is small. \n",
    "Replicate the state of that system, as **MPI** parallel simulations require a minimum system size (this requirement is explained in more details in the next section)."
   ]
  },
  {
   "cell_type": "code",
   "execution_count": 2,
   "metadata": {},
   "outputs": [],
   "source": [
    "import hoomd\n",
    "\n",
    "sim = hoomd.Simulation(device=hoomd.device.CPU())\n",
    "sim.create_state_from_gsd(\n",
    "    filename='../01-Introducing-Molecular-Dynamics/random.gsd')\n",
    "sim.state.replicate(3, 3, 3)\n",
    "hoomd.write.GSD.write(filename=\"random.gsd\", state=sim.state, mode='wb')"
   ]
  },
  {
   "cell_type": "markdown",
   "metadata": {
    "nbsphinx-toctree": {
     "maxdepth": 1
    }
   },
   "source": [
    "## Outline\n",
    "\n",
    "1. [Introduction to MPI](01-Introduction-to-MPI.ipynb) - What is MPI? Why should I run my simulations in parallel? How can I execute scripts in parallel?\n",
    "2. [Domain Decomposition](02-Domain-Decomposition.ipynb) - What is a MPI rank? How should I structure my scripts? How does HOOMD-blue divide the simulation among the ranks? What limitations prevent parallel execution?\n",
    "3. [Using Snapshots With MPI](03-Using-Snapshots-With-MPI.ipynb) - How can I access the state of the simulation in parallel simulations? What is the difference between a local and global snapshot?\n",
    "4. [Running-Multiple-Simulations-With-Partitions](04-Running-Multiple-Simulations-With-Partitions.ipynb) - How can I partition a MPI communicator to run many independent simulations? When are partitions useful?"
   ]
  },
  {
   "cell_type": "markdown",
   "metadata": {},
   "source": [
    "This tutorial is written with [jupyter](https://jupyter.org/). You can download the source from the [hoomd-examples](https://github.com/glotzerlab/hoomd-examples) repository."
   ]
  }
 ],
 "metadata": {
  "kernelspec": {
   "display_name": "Python 3",
   "language": "python",
   "name": "python3"
  },
  "language_info": {
   "codemirror_mode": {
    "name": "ipython",
    "version": 3
   },
   "file_extension": ".py",
   "mimetype": "text/x-python",
   "name": "python",
   "nbconvert_exporter": "python",
   "pygments_lexer": "ipython3",
   "version": "3.9.6"
  },
  "record_timing": false
 },
 "nbformat": 4,
 "nbformat_minor": 4
}
