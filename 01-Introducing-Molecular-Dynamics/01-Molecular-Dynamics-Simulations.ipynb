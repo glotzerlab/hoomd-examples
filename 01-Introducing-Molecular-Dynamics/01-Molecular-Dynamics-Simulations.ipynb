{
 "cells": [
  {
   "cell_type": "markdown",
   "metadata": {},
   "source": [
    "# Molecular Dynamics Simulations\n",
    "\n",
    "## Overview\n",
    "\n",
    "### Questions\n",
    "\n",
    "* What is molecular dynamics?\n",
    "* How do I set up a molecular dynamics simulation in HOOMD-blue?\n",
    "\n",
    "### Objectives\n",
    "\n",
    "* Describe the **equations of motion** of the system and HOOMD-blue solves them with **time steps**.\n",
    "* Define **forces**, **potential energy** and explain how HOOMD-blue evaluates **pair potentials** within a cutoff.\n",
    "* Explain how the MD **Integrator** and **integration methods** solve the equations of motion and allow for different **thermodynamic ensembles**.\n",
    "\n",
    "## Boilerplate code"
   ]
  },
  {
   "cell_type": "code",
   "execution_count": 1,
   "metadata": {},
   "outputs": [],
   "source": [
    "import hoomd\n",
    "import matplotlib\n",
    "import numpy\n",
    "\n",
    "%matplotlib inline\n",
    "matplotlib.style.use('ggplot')"
   ]
  },
  {
   "cell_type": "markdown",
   "metadata": {},
   "source": [
    "## Equations of motion\n",
    "\n",
    "**Molecular dynamics** simulations model the movement of particles over time by solving the **equations of motion** numerically, advancing the state of the system forward by time `dt` on each time step.\n",
    "You can use **molecular dynamics** to model dynamic, time dependent processes (like fluid flow) or thermodynamic equilibrium states (like crystals).\n",
    "This tutorial models a system of Lennard-Jones particles crystallizing.\n",
    "\n",
    "The **Integrator** class in the **md** package implements molecular dynamics integration in HOOMD-blue:"
   ]
  },
  {
   "cell_type": "code",
   "execution_count": 2,
   "metadata": {},
   "outputs": [],
   "source": [
    "integrator = hoomd.md.Integrator(dt=0.005)"
   ]
  },
  {
   "cell_type": "markdown",
   "metadata": {},
   "source": [
    "The `dt` property sets the step size $\\Delta t$:"
   ]
  },
  {
   "cell_type": "code",
   "execution_count": 3,
   "metadata": {},
   "outputs": [
    {
     "data": {
      "text/plain": [
       "0.005"
      ]
     },
     "execution_count": 3,
     "metadata": {},
     "output_type": "execute_result"
    }
   ],
   "source": [
    "integrator.dt"
   ]
  },
  {
   "cell_type": "markdown",
   "metadata": {},
   "source": [
    "## Forces"
   ]
  },
  {
   "cell_type": "markdown",
   "metadata": {},
   "source": [
    "The force term in the equations of motion determines how particles interact.\n",
    "The `forces` **Integrator** property is the list of forces applied to the system. The default is no forces:"
   ]
  },
  {
   "cell_type": "code",
   "execution_count": 4,
   "metadata": {},
   "outputs": [
    {
     "data": {
      "text/plain": [
       "[]"
      ]
     },
     "execution_count": 4,
     "metadata": {},
     "output_type": "execute_result"
    }
   ],
   "source": [
    "integrator.forces[:]"
   ]
  },
  {
   "cell_type": "markdown",
   "metadata": {},
   "source": [
    "You can add any number of **Force** objects to this list. Each will compute forces on all particles in the system state.\n",
    "**Integrator** will add all of the forces together into the net force used in the **equations of motion**.\n",
    "\n",
    "HOOMD-blue provides a number of forces that are derived from **potential energy.** **Pair potentials** define the functional form of the potential energy between a single pair of particles given their separation distance *r*.\n",
    "The Lennard-Jones potential is: $$V_{\\mathrm{LJ}}(r) = 4 \\varepsilon \\left[ \\left(\\frac{\\sigma}{r}\\right)^{12} - \\left(\\frac{\\sigma}{r}\\right)^6 \\right]$$"
   ]
  },
  {
   "cell_type": "code",
   "execution_count": 5,
   "metadata": {},
   "outputs": [
    {
     "data": {
      "image/png": "[encoded data removed]",
      "text/plain": [
       "<Figure size 720x444.96 with 1 Axes>"
      ]
     },
     "execution_count": 5,
     "metadata": {},
     "output_type": "execute_result"
    }
   ],
   "source": [
    "sigma = 1\n",
    "epsilon = 1\n",
    "r = numpy.linspace(0.95, 3, 500)\n",
    "V_lj = 4 * epsilon * ((sigma / r)**12 - (sigma / r)**6)\n",
    "\n",
    "fig = matplotlib.figure.Figure(figsize=(10, 6.18))\n",
    "ax = fig.add_subplot()\n",
    "ax.plot(r, V_lj)\n",
    "ax.set_xlabel('r')\n",
    "ax.set_ylabel('V')\n",
    "fig"
   ]
  },
  {
   "cell_type": "markdown",
   "metadata": {},
   "source": [
    "While **pair potentials** are nominally defined between *all pairs of particles*, **Molecular dynamics** simulations evaluate short ranged pair potentials only for $r \\lt r_{\\mathrm{cut}}$ to make the computation fast through the use of a **neighbor list**.\n",
    "By default, HOOMD-blue introduces a discontinuity in *V* at $r=r_{\\mathrm{cut}}$, though there are options to shift or smooth the potential at the cutoff.\n",
    "\n",
    "HOOMD-blue provides several neighbor list options to choose from.\n",
    "**Cell** performs well in most situations:"
   ]
  },
  {
   "cell_type": "code",
   "execution_count": 6,
   "metadata": {},
   "outputs": [],
   "source": [
    "cell = hoomd.md.nlist.Cell()"
   ]
  },
  {
   "cell_type": "markdown",
   "metadata": {},
   "source": [
    "Construct the **LJ** pair force object to compute the Lennard-Jones interactions:"
   ]
  },
  {
   "cell_type": "code",
   "execution_count": 7,
   "metadata": {},
   "outputs": [],
   "source": [
    "lj = hoomd.md.pair.LJ(nlist=cell)"
   ]
  },
  {
   "cell_type": "markdown",
   "metadata": {},
   "source": [
    "Pair potentials accept parameters for every pair of **particle types** in the simulation.\n",
    "Define a single A-A interaction for this tutorial:"
   ]
  },
  {
   "cell_type": "code",
   "execution_count": 8,
   "metadata": {},
   "outputs": [],
   "source": [
    "lj.params[('A', 'A')] = dict(epsilon=1, sigma=1)\n",
    "lj.r_cut[('A', 'A')] = 2.5"
   ]
  },
  {
   "cell_type": "markdown",
   "metadata": {},
   "source": [
    "Add the force to the **Integrator**:"
   ]
  },
  {
   "cell_type": "code",
   "execution_count": 9,
   "metadata": {},
   "outputs": [],
   "source": [
    "integrator.forces.append(lj)"
   ]
  },
  {
   "cell_type": "markdown",
   "metadata": {},
   "source": [
    "Now, the **Integrator** will compute the net force term using the Lennard-Jones pair force."
   ]
  },
  {
   "cell_type": "markdown",
   "metadata": {},
   "source": [
    "## Integration methods\n",
    "\n",
    "HOOMD-blue provides a number of **integration methods**, which define the **equations of motion** that apply to a subset of the particles in the system.\n",
    "These methods are named after the **thermodynamic ensemble** they implement.\n",
    "For example, **NVE** implements Newton's laws while **NVT** adds a thermostat degree of freedom so the system will sample the canonical ensemble.\n",
    "\n",
    "Lennard-Jones particles crystallize readily at constant temperature and volume.\n",
    "One of the points in the solid area of the phase diagram is $kT=1.5$ at a number density $\\rho=1.2$\n",
    "Apply the **NVT** method all particles to set the constant temperature (later sections in this tutorial will set the density):"
   ]
  },
  {
   "cell_type": "code",
   "execution_count": 10,
   "metadata": {},
   "outputs": [],
   "source": [
    "nvt = hoomd.md.methods.NVT(kT=1.5, filter=hoomd.filter.All(), tau=1.0)"
   ]
  },
  {
   "cell_type": "markdown",
   "metadata": {},
   "source": [
    "`kT` is the temperature multiplied by Boltzmann's constant and has units of energy. \n",
    "`tau` is a time constant that controls the amount of coupling between the thermostat and particle's degrees of freedom.\n",
    "`filter` is a particle filter object that selects which particles this **integration method** applies to.\n",
    "You can apply multiple integration methods to different sets of particles or leave some particles fixed.\n",
    "\n",
    "Add the method to the **Integrator**:"
   ]
  },
  {
   "cell_type": "code",
   "execution_count": 11,
   "metadata": {},
   "outputs": [],
   "source": [
    "integrator.methods.append(nvt)"
   ]
  },
  {
   "cell_type": "markdown",
   "metadata": {},
   "source": [
    "Now, you have defined a molecular dynamics integrator with a step size `dt` that will use the **NVT** integration method on all particles interacting via the Lennard-Jones potential."
   ]
  },
  {
   "cell_type": "markdown",
   "metadata": {},
   "source": [
    "The remaining sections in this tutorial will show you how to initialize a random low density state, compress the system to a target density, and run the simulation long enough to self-assemble an ordered state."
   ]
  },
  {
   "cell_type": "markdown",
   "metadata": {
    "nbsphinx": "hidden"
   },
   "source": [
    "[Index](00-index.ipynb) / [Next section](02-Initializing-a-Random-System.ipynb)."
   ]
  }
 ],
 "metadata": {
  "kernelspec": {
   "display_name": "Python 3",
   "language": "python",
   "name": "python3"
  },
  "language_info": {
   "codemirror_mode": {
    "name": "ipython",
    "version": 3
   },
   "file_extension": ".py",
   "mimetype": "text/x-python",
   "name": "python",
   "nbconvert_exporter": "python",
   "pygments_lexer": "ipython3",
   "version": "3.9.6"
  },
  "record_timing": false
 },
 "nbformat": 4,
 "nbformat_minor": 4
}
