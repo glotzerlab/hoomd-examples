{
 "cells": [
  {
   "cell_type": "markdown",
   "metadata": {},
   "source": [
    "# Introducing Molecular Dynamics\n",
    "\n",
    "This tutorial introduces the molecular dynamics simulation in HOOMD-blue using the Lennard-Jones system as an example.\n",
    "\n",
    "**Prerequisites:**\n",
    "\n",
    "This tutorial assumes you are familiar with the concepts taught in the tutorial [Introducing HOOMD-blue](../00-Introducing-HOOMD-blue/00-index.ipynb) and have some background knowledge on statistical mechanics."
   ]
  },
  {
   "cell_type": "markdown",
   "metadata": {
    "nbsphinx-toctree": {
     "maxdepth": 1
    }
   },
   "source": [
    "## Outline\n",
    "\n",
    "1. [Molecular Dynamics Simulations](01-Molecular-Dynamics-Simulations.ipynb) - What is molecular dynamics? How do I set up a molecular dynamics simulation in HOOMD-blue?\n",
    "2. [Initializing a Random System](02-Initializing-a-Random-System.ipynb) - How can I generate a random initial condition? What units does HOOMD-blue use?\n",
    "3. [Compressing the System](03-Compressing-the-System.ipynb) - How do I compress the system to a target density?"
   ]
  },
  {
   "cell_type": "markdown",
   "metadata": {},
   "source": [
    "This tutorial is written with [jupyter](https://jupyter.org/). You can download the source from the [hoomd-examples](https://github.com/glotzerlab/hoomd-examples) repository."
   ]
  },
  {
   "cell_type": "markdown",
   "metadata": {
    "nbsphinx": "hidden"
   },
   "source": [
    "[Next section](01-Molecular-Dynamics-Simulations.ipynb)."
   ]
  }
 ],
 "metadata": {
  "kernelspec": {
   "display_name": "Python 3",
   "language": "python",
   "name": "python3"
  },
  "language_info": {
   "codemirror_mode": {
    "name": "ipython",
    "version": 3
   },
   "file_extension": ".py",
   "mimetype": "text/x-python",
   "name": "python",
   "nbconvert_exporter": "python",
   "pygments_lexer": "ipython3",
   "version": "3.8.6"
  }
 },
 "nbformat": 4,
 "nbformat_minor": 4
}
