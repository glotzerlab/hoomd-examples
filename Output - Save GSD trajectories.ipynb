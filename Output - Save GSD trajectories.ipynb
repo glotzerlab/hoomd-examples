{
 "cells": [
  {
   "cell_type": "code",
   "execution_count": 1,
   "metadata": {},
   "outputs": [],
   "source": [
    "import hoomd\n",
    "import hoomd.md"
   ]
  },
  {
   "cell_type": "markdown",
   "metadata": {},
   "source": [
    "# Save GSD trajectory\n",
    "\n",
    "## Dumping data\n",
    "\n",
    "HOOMD can write system configuration data to files as the simulation progresses. You can then used the saved data to visualize the system's evolution, perform off-line analysis, or as input to a follow-up simulation.\n",
    "\n",
    "## The GSD file format\n",
    "\n",
    "[GSD](https://github.com/glotzerlab/gsd) is a binary file format designed specifically for HOOMD. It supports all of HOOMD's particle properties, is easy to configure, and fast to read and write. It is trivial to use in python analysis tools, and easy to integrate with any language that can link C/C++ (only 1k lines of vanilla C code).\n",
    "\n",
    "## Write GSD files from HOOMD\n",
    "\n",
    "Start with the Lennard-Jones tutorial script."
   ]
  },
  {
   "cell_type": "code",
   "execution_count": 2,
   "metadata": {},
   "outputs": [
    {
     "name": "stdout",
     "output_type": "stream",
     "text": [
      "HOOMD-blue v2.1.5 CUDA (7.5) DOUBLE HPMC_MIXED MPI SSE SSE2 SSE3 SSE4_1 SSE4_2 AVX \n",
      "Compiled: 03/12/2017\n",
      "Copyright 2009-2016 The Regents of the University of Michigan.\n",
      "-----\n",
      "You are using HOOMD-blue. Please cite the following:\n",
      "* J A Anderson, C D Lorenz, and A Travesset. \"General purpose molecular dynamics\n",
      "  simulations fully implemented on graphics processing units\", Journal of\n",
      "  Computational Physics 227 (2008) 5342--5359\n",
      "* J Glaser, T D Nguyen, J A Anderson, P Liu, F Spiga, J A Millan, D C Morse, and\n",
      "  S C Glotzer. \"Strong scaling of general-purpose molecular dynamics simulations\n",
      "  on GPUs\", Computer Physics Communications 192 (2015) 97--107\n",
      "-----\n",
      "HOOMD-blue is running on the CPU\n",
      "notice(2): Group \"all\" created containing 125 particles\n",
      "notice(2): integrate.langevin/bd is using specified gamma values\n"
     ]
    }
   ],
   "source": [
    "hoomd.context.initialize('--mode=cpu');\n",
    "system = hoomd.init.create_lattice(unitcell=hoomd.lattice.sc(a=2.0), n=5);\n",
    "nl = hoomd.md.nlist.cell();\n",
    "lj = hoomd.md.pair.lj(r_cut=3.0, nlist=nl);\n",
    "lj.pair_coeff.set('A', 'A', epsilon=1.0, sigma=1.0);\n",
    "all = hoomd.group.all();\n",
    "hoomd.md.integrate.mode_standard(dt=0.001);\n",
    "hoomd.md.integrate.langevin(group=all, kT=1.0, seed=987);"
   ]
  },
  {
   "cell_type": "markdown",
   "metadata": {},
   "source": [
    "One additional command activates GSD file writes every period steps."
   ]
  },
  {
   "cell_type": "code",
   "execution_count": 3,
   "metadata": {},
   "outputs": [],
   "source": [
    "d = hoomd.dump.gsd(\"trajectory.gsd\", period=2e3, group=all, overwrite=True);"
   ]
  },
  {
   "cell_type": "markdown",
   "metadata": {},
   "source": [
    "Like all HOOMD commands, they take effect in subsequent runs:"
   ]
  },
  {
   "cell_type": "code",
   "execution_count": 4,
   "metadata": {},
   "outputs": [
    {
     "name": "stdout",
     "output_type": "stream",
     "text": [
      "notice(2): -- Neighborlist exclusion statistics -- :\n",
      "notice(2): Particles with 0 exclusions             : 125\n",
      "notice(2): Neighbors included by diameter          : no\n",
      "notice(2): Neighbors excluded when in the same body: no\n"
     ]
    }
   ],
   "source": [
    "hoomd.run(10000, quiet=True);"
   ]
  },
  {
   "cell_type": "markdown",
   "metadata": {},
   "source": [
    "This run produced the file `trajectory.gsd`:"
   ]
  },
  {
   "cell_type": "code",
   "execution_count": 5,
   "metadata": {},
   "outputs": [
    {
     "name": "stdout",
     "output_type": "stream",
     "text": [
      "-rw-rw---- 1 joaander glotzer 20227 Apr  3 20:08 trajectory.gsd\r\n"
     ]
    }
   ],
   "source": [
    "!ls -l trajectory.gsd"
   ]
  },
  {
   "cell_type": "markdown",
   "metadata": {},
   "source": [
    "## Read a GSD file\n",
    "[Full GSD tutorials are are available in the gsd docs](http://gsd.readthedocs.io/en/latest/). Here, let's just open the gsd file and verify that it has the expected number of frames and particles. We will do this with the `gsd` python module."
   ]
  },
  {
   "cell_type": "code",
   "execution_count": 6,
   "metadata": {},
   "outputs": [],
   "source": [
    "import gsd\n",
    "import gsd.hoomd\n",
    "t = gsd.hoomd.open('trajectory.gsd', 'rb');"
   ]
  },
  {
   "cell_type": "code",
   "execution_count": 7,
   "metadata": {},
   "outputs": [
    {
     "data": {
      "text/plain": [
       "5"
      ]
     },
     "execution_count": 7,
     "metadata": {},
     "output_type": "execute_result"
    }
   ],
   "source": [
    "len(t)"
   ]
  },
  {
   "cell_type": "code",
   "execution_count": 8,
   "metadata": {},
   "outputs": [
    {
     "data": {
      "text/plain": [
       "125"
      ]
     },
     "execution_count": 8,
     "metadata": {},
     "output_type": "execute_result"
    }
   ],
   "source": [
    "t[4].particles.N"
   ]
  },
  {
   "cell_type": "code",
   "execution_count": 9,
   "metadata": {},
   "outputs": [
    {
     "data": {
      "text/plain": [
       "8000"
      ]
     },
     "execution_count": 9,
     "metadata": {},
     "output_type": "execute_result"
    }
   ],
   "source": [
    "t[4].configuration.step"
   ]
  },
  {
   "cell_type": "code",
   "execution_count": 10,
   "metadata": {},
   "outputs": [
    {
     "data": {
      "text/plain": [
       "array([ 10.,  10.,  10.,   0.,   0.,   0.], dtype=float32)"
      ]
     },
     "execution_count": 10,
     "metadata": {},
     "output_type": "execute_result"
    }
   ],
   "source": [
    "t[4].configuration.box"
   ]
  },
  {
   "cell_type": "code",
   "execution_count": 11,
   "metadata": {},
   "outputs": [
    {
     "data": {
      "text/plain": [
       "array([[-4.1890111 , -4.70345211, -4.24545097],\n",
       "       [ 1.86741066, -1.08757377,  3.26612329],\n",
       "       [-3.51762629, -1.60742259,  3.95701289],\n",
       "       [-1.64273536, -2.36805105,  2.59754443],\n",
       "       [-3.61880612, -0.73975867,  1.48055911],\n",
       "       [ 0.46584004, -4.2979784 ,  3.792485  ],\n",
       "       [ 3.52424145, -1.26199448,  0.15489779],\n",
       "       [ 2.24465728,  1.71063185,  3.88267493],\n",
       "       [-2.30389953,  0.98935747,  0.08371102],\n",
       "       [-0.42742264, -0.23506528,  1.48408175]], dtype=float32)"
      ]
     },
     "execution_count": 11,
     "metadata": {},
     "output_type": "execute_result"
    }
   ],
   "source": [
    "t[4].particles.position[0:10,:]"
   ]
  },
  {
   "cell_type": "markdown",
   "metadata": {},
   "source": [
    "And here is the velocity of particle 0 at every frame in the file:"
   ]
  },
  {
   "cell_type": "code",
   "execution_count": 12,
   "metadata": {},
   "outputs": [
    {
     "name": "stdout",
     "output_type": "stream",
     "text": [
      "[ 0.  0.  0.]\n",
      "[ 0.  0.  0.]\n",
      "[ 0.  0.  0.]\n",
      "[ 0.  0.  0.]\n",
      "[ 0.  0.  0.]\n"
     ]
    }
   ],
   "source": [
    "for f in t:\n",
    "    print(f.particles.velocity[0,:])"
   ]
  },
  {
   "cell_type": "markdown",
   "metadata": {},
   "source": [
    "## Static and dynamic quantities\n",
    "\n",
    "To save on file size, GSD does not store all particle quantities on every time step by default. By default, only particle position and orientation are written every step - and orientation is only written if it changes. This is why the previous example recorded a velocity of 0 in every frame.\n",
    "\n",
    "Take `momentum` out of the static properties list in `dump.gsd` to store velocity in every frame output."
   ]
  },
  {
   "cell_type": "code",
   "execution_count": 13,
   "metadata": {
    "collapsed": true
   },
   "outputs": [],
   "source": [
    "d = hoomd.dump.gsd(\"trajectory2.gsd\", static=['attribute', 'topology'], period=2e3, group=all, overwrite=True);\n",
    "hoomd.run(10000, quiet=True);"
   ]
  },
  {
   "cell_type": "markdown",
   "metadata": {},
   "source": [
    "Now the velocities are saved in the file."
   ]
  },
  {
   "cell_type": "code",
   "execution_count": 14,
   "metadata": {},
   "outputs": [
    {
     "name": "stdout",
     "output_type": "stream",
     "text": [
      "[-1.67411315 -0.57448936 -0.79786533]\n",
      "[ 0.13245943  0.33422855  0.79139143]\n",
      "[-0.3298862   0.22901018 -1.15823472]\n",
      "[-0.00869042 -0.97660118 -2.23960042]\n",
      "[-0.79439515  1.21248317  0.30553663]\n"
     ]
    }
   ],
   "source": [
    "t = gsd.hoomd.open('trajectory2.gsd', 'rb');\n",
    "for f in t:\n",
    "    print(f.particles.velocity[0,:])"
   ]
  },
  {
   "cell_type": "markdown",
   "metadata": {},
   "source": [
    "For a full list of all the property groups you can specify in `static`, see the dump.gsd documentation - even the particle types, masses, charges, bond connectivity, and the number of particles/bonds/etc... can change from frame to frame.\n",
    "\n",
    "The more properties you save on every frame, the larger the file size will be."
   ]
  },
  {
   "cell_type": "markdown",
   "metadata": {},
   "source": [
    "## Write a subset of the system\n",
    "\n",
    "`dump.gsd` allows you to write a file that only contains a subset of the entire system.\n",
    "\n",
    "Here is a group that contains the first 10 particles in the simulation passed to the `group` argument of `dump.gsd` file as an example."
   ]
  },
  {
   "cell_type": "code",
   "execution_count": 15,
   "metadata": {},
   "outputs": [
    {
     "name": "stdout",
     "output_type": "stream",
     "text": [
      "notice(2): Group \"first10\" created containing 10 particles\n"
     ]
    }
   ],
   "source": [
    "first10 = hoomd.group.tag_list(name='first10', tags=[0,1,2,3,4,5,6,7,8,9]);"
   ]
  },
  {
   "cell_type": "code",
   "execution_count": 16,
   "metadata": {},
   "outputs": [],
   "source": [
    "d = hoomd.dump.gsd(\"trajectory3.gsd\", static=['attribute', 'topology'], period=2e3, group=first10, overwrite=True);\n",
    "hoomd.run(10000, quiet=True);"
   ]
  },
  {
   "cell_type": "code",
   "execution_count": 17,
   "metadata": {
    "collapsed": true
   },
   "outputs": [],
   "source": [
    "t = gsd.hoomd.open('trajectory3.gsd', 'rb');"
   ]
  },
  {
   "cell_type": "markdown",
   "metadata": {},
   "source": [
    "As requested, this GSD file contains only 10 particles."
   ]
  },
  {
   "cell_type": "code",
   "execution_count": 18,
   "metadata": {},
   "outputs": [
    {
     "data": {
      "text/plain": [
       "10"
      ]
     },
     "execution_count": 18,
     "metadata": {},
     "output_type": "execute_result"
    }
   ],
   "source": [
    "t[4].particles.N"
   ]
  },
  {
   "cell_type": "markdown",
   "metadata": {
    "collapsed": true
   },
   "source": [
    "## Write a single frame GSD file\n",
    "\n",
    "You can write a single frame GSD file with a single line. For example, use this to write the final system state at the end of a run."
   ]
  },
  {
   "cell_type": "code",
   "execution_count": 19,
   "metadata": {},
   "outputs": [],
   "source": [
    "hoomd.dump.gsd(\"final-frame.gsd\", group=hoomd.group.all(), overwrite=True, period=None);"
   ]
  }
 ],
 "metadata": {
  "kernelspec": {
   "display_name": "Python 3",
   "language": "python",
   "name": "python3"
  },
  "language_info": {
   "codemirror_mode": {
    "name": "ipython",
    "version": 3
   },
   "file_extension": ".py",
   "mimetype": "text/x-python",
   "name": "python",
   "nbconvert_exporter": "python",
   "pygments_lexer": "ipython3",
   "version": "3.6.1"
  }
 },
 "nbformat": 4,
 "nbformat_minor": 1
}
