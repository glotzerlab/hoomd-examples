{
 "cells": [
  {
   "cell_type": "markdown",
   "metadata": {},
   "source": [
    "# Improving Performance\n",
    "\n",
    "## Overview\n",
    "\n",
    "### Questions\n",
    "\n",
    "- How can I write custom actions to be as efficient as possible?\n",
    "\n",
    "### Objectives\n",
    "\n",
    "- Mention high performance libraries that can help speed up computation\n",
    "- Demonstrate using the local snapshot API for increased performance.\n",
    "\n",
    "## Boilerplate Code"
   ]
  },
  {
   "cell_type": "code",
   "execution_count": 1,
   "metadata": {},
   "outputs": [],
   "source": [
    "from numbers import Number\n",
    "\n",
    "import numpy as np\n",
    "\n",
    "import hoomd\n",
    "import hoomd.md as md\n",
    "\n",
    "\n",
    "cpu = hoomd.device.CPU()\n",
    "sim = hoomd.Simulation(cpu)\n",
    "\n",
    "# Create a simple cubic configuration of particles\n",
    "N = 15  # particles per box direction\n",
    "box_L = 50  # box dimension\n",
    "\n",
    "snap = hoomd.Snapshot(cpu.communicator)\n",
    "snap.configuration.box = [box_L] * 3 + [0, 0, 0]\n",
    "snap.particles.N = N ** 3\n",
    "x, y, z = np.meshgrid(\n",
    "    *(np.linspace(-box_L / 2, box_L / 2, N, endpoint=False),) * 3)\n",
    "positions = np.array((x.ravel(), y.ravel(), z.ravel())).T\n",
    "snap.particles.position[:] = positions\n",
    "snap.particles.types = ['A']\n",
    "snap.particles.typeid[:] = 0\n",
    "\n",
    "sim.create_state_from_snapshot(snap)\n",
    "\n",
    "sim.state.thermalize_particle_momenta(hoomd.filter.All(), 1., seed=109)\n",
    "\n",
    "lj = md.pair.LJ(nlist=md.nlist.Cell())\n",
    "lj.params[('A', 'A')] = {'epsilon': 1.,\n",
    "                         'sigma': 1.}\n",
    "lj.r_cut[('A', 'A')] = 2.5\n",
    "integrator = md.Integrator(methods=[md.methods.NVE(hoomd.filter.All())],\n",
    "                           forces=[lj],\n",
    "                           dt=0.005)\n",
    "\n",
    "sim.operations += integrator\n",
    "\n",
    "class GaussianVariant(hoomd.variant.Variant):\n",
    "    def __init__(self, mean, std):\n",
    "        hoomd.variant.Variant.__init__(self)\n",
    "        self.mean = mean\n",
    "        self.std = std\n",
    "    \n",
    "    def __call__(self, timestep):\n",
    "        return np.random.normal(self.mean, self.std)\n",
    "    \n",
    "energy = GaussianVariant(0.1, 0.001)\n",
    "sim.run(0)\n",
    "rng = np.random.default_rng(1245)"
   ]
  },
  {
   "cell_type": "markdown",
   "metadata": {},
   "source": [
    "This decorator should not be used for actual profiling.\n",
    "This code is purely to showcase the _rough_ gain in\n",
    "performance from switching to the `cpu_local_snapshot`."
   ]
  },
  {
   "cell_type": "code",
   "execution_count": 2,
   "metadata": {
    "jupyter": {
     "source_hidden": true
    }
   },
   "outputs": [],
   "source": [
    "from functools import wraps\n",
    "import timeit\n",
    "\n",
    "\n",
    "def time_function(func):\n",
    "    @wraps(func)\n",
    "    def wrapped_func(*args, **kwargs):\n",
    "        wrapped_func.n_calls += 1\n",
    "        start_time = timeit.default_timer()\n",
    "        return_value = func(*args, **kwargs)\n",
    "        wrapped_func.elapsed_time += timeit.default_timer() - start_time\n",
    "        wrapped_func.time_per_call = (\n",
    "            wrapped_func.elapsed_time / wrapped_func.n_calls)\n",
    "        return return_value\n",
    "    \n",
    "    wrapped_func.n_calls = 0.0\n",
    "    wrapped_func.elapsed_time = 0.0\n",
    "\n",
    "    return wrapped_func"
   ]
  },
  {
   "cell_type": "markdown",
   "metadata": {},
   "source": [
    "## General Guidelines\n",
    "\n",
    "When trying to create custom actions that are as performant as possible\n",
    "when necessary (and it often isn't), there are multiple considerations\n",
    "to be had. However, the first step of optimization is to profile.\n",
    "Profiling is  necessary to find the true bottlenecks of a given program\n",
    "or function. That being said below are some general tips on improving\n",
    "performance.\n",
    "\n",
    "When accessing state information consider using\n",
    "local snapshots (i.e. `hoomd.State.cpu_local_snapshot` and \n",
    "`gpu_local_snapshot`). Local snaphsots provide faster access to the\n",
    "simulation's state information by not copying data or gathering data\n",
    "across MPI ranks. They also support in-place modification which enables\n",
    "faster setting as well. A full explanation of the use of local snapshots\n",
    "will go in a future tutorial.\n",
    "\n",
    "Further, when accessing object properties like \n",
    "`hoomd.md.pair.LJ.energies`, if the data is needed in multiple locations \n",
    "store in a variable such as `energies = lj.energies`. This prevents\n",
    "having to recalculate the quantity multiple times or gather the information\n",
    "across MPI ranks.\n",
    "\n",
    "Beyond this one of the easiest and most obvious ways to improve\n",
    "efficiently is to use NumPy, SciPy, and other core scientific\n",
    "Python libraries. Efficient use of these packages is beyond the\n",
    "scope of the tutorial, but using NumPy broadcasting (instead of\n",
    "Python for loops) and built in SciPy functions can make a big\n",
    "difference.\n",
    "\n",
    "When this fails or is insufficient, Cython or numba can be used to\n",
    "compile the slow parts of the code while having immediate compatibility\n",
    "in Python. Cython is its own language which is similar to Python with\n",
    "some C like constructs. Numba uses just in time compilation on standard\n",
    "Python functions that use a given subset of available Python features.\n",
    "Compiled backends in other languages can be used as well as long as\n",
    "they link to Python.\n",
    "\n",
    "## Improve InsertEnergyUpdater\n",
    "\n",
    "As an example, we will improve the performance of the \n",
    "`InsertEnergyUpdater`. Specifically we will change to use\n",
    "the `cpu_local_snapshot` to update particle velocity. We \n",
    "will use a custom decorator to profile the `act` method\n",
    "before and after the changes. This should not be used for\n",
    "actual profiling. Many existing tools in Python such as the\n",
    "profilers packaged with CPython should be preferred,\n",
    "but using the custom decorator allows for us to see in the\n",
    "notebook the improvement to the runtime of the custom action."
   ]
  },
  {
   "cell_type": "code",
   "execution_count": 3,
   "metadata": {},
   "outputs": [],
   "source": [
    "class InsertEnergyUpdater(hoomd.custom.Action):\n",
    "    def __init__(self, energy):\n",
    "        self._energy = energy\n",
    "        \n",
    "    @property\n",
    "    def energy(self):\n",
    "        return self._energy\n",
    "    \n",
    "    @energy.setter\n",
    "    def energy(self, new_energy):\n",
    "        if isinstance(new_energy, Number):\n",
    "            self._energy = hoomd.variant.Constant(new_energy)\n",
    "        elif isinstance(new_energy, hoomd.variant.Variant):\n",
    "            self._energy = new_energy\n",
    "        else:\n",
    "            raise ValueError(\n",
    "                \"energy must be a variant or real number.\")\n",
    "    \n",
    "    @time_function\n",
    "    def act(self, timestep):\n",
    "        snap = self._state.snapshot\n",
    "        if snap.exists:\n",
    "            particle_i = rng.integers(snap.particles.N)\n",
    "            mass = snap.particles.mass[particle_i]\n",
    "            direction = self._get_direction()\n",
    "            magnitude = np.sqrt(2 * self.energy(timestep) / mass)\n",
    "            velocity = direction * magnitude\n",
    "            old_velocity = snap.particles.velocity[particle_i]\n",
    "            new_velocity = old_velocity + velocity\n",
    "            snap.particles.velocity[particle_i] = velocity\n",
    "        self._state.snapshot = snap\n",
    "            \n",
    "    @staticmethod\n",
    "    def _get_direction():\n",
    "        theta, z = rng.random(2)\n",
    "        theta *= 2 * np.pi\n",
    "        z = 2 * (z - 0.5)\n",
    "        return np.array([\n",
    "            np.sqrt(1 - (z * z)) * np.cos(theta),\n",
    "            np.sqrt(1 - (z * z)) * np.sin(theta),\n",
    "            z\n",
    "        ])\n",
    "\n",
    "\n",
    "class GaussianVariant(hoomd.variant.Variant):\n",
    "    def __init__(self, mean, std):\n",
    "        hoomd.variant.Variant.__init__(self)\n",
    "        self.mean = mean\n",
    "        self.std = std\n",
    "    \n",
    "    def __call__(self, timestep):\n",
    "        return np.random.normal(self.mean, self.std)"
   ]
  },
  {
   "cell_type": "code",
   "execution_count": 4,
   "metadata": {},
   "outputs": [],
   "source": [
    "energy_action = InsertEnergyUpdater(energy)\n",
    "energy_operation = hoomd.update.CustomUpdater(\n",
    "    energy_action)\n",
    "sim.operations.updaters.append(energy_operation)"
   ]
  },
  {
   "cell_type": "code",
   "execution_count": 5,
   "metadata": {},
   "outputs": [
    {
     "data": {
      "text/plain": [
       "'ms per call: 1.1473324317630613'"
      ]
     },
     "execution_count": 5,
     "metadata": {},
     "output_type": "execute_result"
    }
   ],
   "source": [
    "sim.run(1000)\n",
    "f\"ms per call: {1000 * energy_operation.action.act.time_per_call}\""
   ]
  },
  {
   "cell_type": "markdown",
   "metadata": {},
   "source": [
    "We now show the profile for the optimized code which\n",
    "uses the `cpu_local_snapshot` for updating energies."
   ]
  },
  {
   "cell_type": "code",
   "execution_count": 6,
   "metadata": {},
   "outputs": [],
   "source": [
    "class InsertEnergyUpdater(hoomd.custom.Action):\n",
    "    def __init__(self, energy):\n",
    "        self._energy = energy\n",
    "        \n",
    "    @property\n",
    "    def energy(self):\n",
    "        return self._energy\n",
    "    \n",
    "    @energy.setter\n",
    "    def energy(self, new_energy):\n",
    "        if isinstance(new_energy, Number):\n",
    "            self._energy = hoomd.variant.Constant(new_energy)\n",
    "        elif isinstance(new_energy, hoomd.variant.Variant):\n",
    "            self._energy = new_energy\n",
    "        else:\n",
    "            raise ValueError(\n",
    "                \"energy must be a variant or real number.\")\n",
    "\n",
    "    def attach(self, simulation):\n",
    "        self._state = simulation.state\n",
    "        self._comm = simulation.device.communicator\n",
    "\n",
    "    def detach(self):\n",
    "        del self._state\n",
    "        del self._comm\n",
    "    \n",
    "    @time_function\n",
    "    def act(self, timestep):\n",
    "        part_tag = rng.integers(self._state.N_particles)\n",
    "        direction = self._get_direction()\n",
    "        energy = self.energy(timestep)\n",
    "        with self._state.cpu_local_snapshot as snap:\n",
    "            # We restrict the computation to the MPI\n",
    "            # rank containing the particle if applicable.\n",
    "            # By checking if multiple MPI ranks exist first\n",
    "            # we can avoid for checking inclusion of a tag id\n",
    "            # in an array.\n",
    "            if (self._comm.num_ranks <= 1\n",
    "                    or part_tag in snap.particles.tag):\n",
    "                i = snap.particles.rtag[part_tag]\n",
    "                mass = snap.particles.mass[i]\n",
    "                magnitude = np.sqrt(2 * energy / mass)\n",
    "                velocity = direction * magnitude\n",
    "                old_velocity = snap.particles.velocity[i]\n",
    "                new_velocity = old_velocity + velocity\n",
    "                snap.particles.velocity[i] = new_velocity\n",
    "            \n",
    "    @staticmethod\n",
    "    def _get_direction():\n",
    "        theta, z = rng.random(2)\n",
    "        theta *= 2 * np.pi\n",
    "        z = 2 * (z - 0.5)\n",
    "        return np.array([\n",
    "            np.sqrt(1 - (z * z)) * np.cos(theta),\n",
    "            np.sqrt(1 - (z * z)) * np.sin(theta),\n",
    "            z\n",
    "        ])"
   ]
  },
  {
   "cell_type": "code",
   "execution_count": 7,
   "metadata": {},
   "outputs": [],
   "source": [
    "# Create and add our modified custom updater\n",
    "sim.operations -= energy_operation\n",
    "energy_action = InsertEnergyUpdater(energy)\n",
    "energy_operation = hoomd.update.CustomUpdater(\n",
    "    energy_action)\n",
    "sim.operations.updaters.append(energy_operation)"
   ]
  },
  {
   "cell_type": "code",
   "execution_count": 8,
   "metadata": {},
   "outputs": [
    {
     "data": {
      "text/plain": [
       "'ms per call: 0.2196627056982834'"
      ]
     },
     "execution_count": 8,
     "metadata": {},
     "output_type": "execute_result"
    }
   ],
   "source": [
    "sim.run(1000)\n",
    "f\"ms per call: {1000 * energy_operation.action.act.time_per_call}\""
   ]
  },
  {
   "cell_type": "markdown",
   "metadata": {},
   "source": [
    "As can be seen the new updater is much faster ~4-5x\n",
    "with a system size of $15^3 = 3375$,\n",
    "by virtue of the local snapshot modification having\n",
    "$O(1)$ time complexity. At larger system sizes this\n",
    "change will grow to be even more substantial.\n",
    "\n",
    "This concludes the tutorial on custom actions in Python. For\n",
    "more information see the API documentation."
   ]
  },
  {
   "cell_type": "code",
   "execution_count": null,
   "metadata": {},
   "outputs": [],
   "source": []
  }
 ],
 "metadata": {
  "kernelspec": {
   "display_name": "Python 3",
   "language": "python",
   "name": "python3"
  },
  "language_info": {
   "codemirror_mode": {
    "name": "ipython",
    "version": 3
   },
   "file_extension": ".py",
   "mimetype": "text/x-python",
   "name": "python",
   "nbconvert_exporter": "python",
   "pygments_lexer": "ipython3",
   "version": "3.8.5"
  }
 },
 "nbformat": 4,
 "nbformat_minor": 4
}
