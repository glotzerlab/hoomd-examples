{
 "cells": [
  {
   "cell_type": "markdown",
   "metadata": {},
   "source": [
    "# Custom Writer\n",
    "\n",
    "## Overview\n",
    "\n",
    "### Questions\n",
    "\n",
    "- How could I write a custom trajectory writer?\n",
    "\n",
    "### Objectives\n",
    "\n",
    "- Show an example custom writer\n",
    "\n",
    "## Boilerplate Code"
   ]
  },
  {
   "cell_type": "code",
   "execution_count": 1,
   "metadata": {},
   "outputs": [],
   "source": [
    "import numpy as np\n",
    "import h5py\n",
    "\n",
    "import hoomd\n",
    "import hoomd.hpmc as hpmc\n",
    "\n",
    "\n",
    "cpu = hoomd.device.CPU()\n",
    "sim = hoomd.Simulation(cpu)\n",
    "\n",
    "# Create a simple cubic configuration of particles\n",
    "N = 5  # particles per box direction\n",
    "box_L = 20  # box dimension\n",
    "\n",
    "snap = hoomd.Snapshot(cpu.communicator)\n",
    "snap.configuration.box = [box_L] * 3 + [0, 0, 0]\n",
    "snap.particles.N = N ** 3\n",
    "x, y, z = np.meshgrid(\n",
    "    *(np.linspace(-box_L / 2, box_L / 2, N, endpoint=False),) * 3)\n",
    "positions = np.array((x.ravel(), y.ravel(), z.ravel())).T\n",
    "snap.particles.position[:] = positions\n",
    "snap.particles.types = ['A']\n",
    "snap.particles.typeid[:] = 0\n",
    "\n",
    "sim.create_state_from_snapshot(snap)"
   ]
  },
  {
   "cell_type": "markdown",
   "metadata": {},
   "source": [
    "## Problem\n",
    "\n",
    "For this section, we will demonstrate writing a custom trajectory writer using `h5py`.\n",
    "We will start by implementing the ability to store positions, timesteps, and box dimensions\n",
    "in an HDF5 file."
   ]
  },
  {
   "cell_type": "code",
   "execution_count": 2,
   "metadata": {},
   "outputs": [],
   "source": [
    "class HDF5Writer(hoomd.custom.Action):\n",
    "    def __init__(self, filename, mode):\n",
    "        self.filename = filename\n",
    "        if mode not in {'w', 'w-', 'x', 'a', 'r+'}:\n",
    "            raise ValueError(\"mode must be writtable\")\n",
    "        self.file = h5py.File(filename, mode)\n",
    "        self.write_metadata()\n",
    "        frames = list(self.file.keys())\n",
    "        if frames:\n",
    "            self._cur_frame = max(map(int, frames)) + 1\n",
    "        else:\n",
    "            self._cur_frame = 1\n",
    "        \n",
    "    def write_metadata(self):\n",
    "        \"\"\"Write the file metadata that defines the type of hdf5 file\"\"\"\n",
    "        if 'app' in self.file.attrs:\n",
    "            if self.file.attrs.app != 'hoomd-v3':\n",
    "                raise RuntimeError(\n",
    "                    'HDF5 file metadata \"app\" is not \"hoomd-v3\".')\n",
    "        else:\n",
    "            self.file.attrs.app = 'hoomd-v3'\n",
    "            \n",
    "        if 'version' not in self.file.attrs:\n",
    "            self.file.attrs.version = '1.0'\n",
    "        \n",
    "    \n",
    "    def act(self, timestep):\n",
    "        \"\"\"Write out a new frame to the trajectory.\"\"\"\n",
    "        new_frame = self.file.create_group(str(self._cur_frame))\n",
    "        self._cur_frame += 1\n",
    "        positions = new_frame.create_dataset(\n",
    "            'positions',\n",
    "            (self._state.N_particles, 3),\n",
    "            dtype='f8')\n",
    "        positions[:] = self._state.snapshot.particles.position\n",
    "        new_frame.attrs['timestep'] = timestep\n",
    "        box_array = np.concatenate(\n",
    "            (self._state.box.L, self._state.box.tilts))\n",
    "        new_frame.attrs['box'] = box_array\n",
    "    \n",
    "    def __del__(self):\n",
    "        self.file.close()"
   ]
  },
  {
   "cell_type": "markdown",
   "metadata": {},
   "source": [
    "Define a function that creates a `HDF5Writer` wrapped in a custom writer."
   ]
  },
  {
   "cell_type": "markdown",
   "metadata": {},
   "source": [
    "This function will make creating our custom writer easier. We will now add an HPMC sphere\n",
    "integrator and our custom writer to our simulation and run for 1000 steps.\n",
    "\n",
    "(Note that the 'w' mode will truncate any existing file.)"
   ]
  },
  {
   "cell_type": "code",
   "execution_count": 3,
   "metadata": {},
   "outputs": [],
   "source": [
    "h5_writer = hoomd.write.CustomWriter(\n",
    "    action=HDF5Writer('traj.h5', 'w'),\n",
    "    trigger=100)\n",
    "integrator = hpmc.integrate.Sphere(seed=42)\n",
    "integrator.shape['A'] = {'diameter': 1.}\n",
    "\n",
    "sim.operations += integrator\n",
    "sim.operations += h5_writer\n",
    "\n",
    "sim.run(1000)"
   ]
  },
  {
   "cell_type": "markdown",
   "metadata": {},
   "source": [
    "We have run the simulation, and our HDF5 file has been written. Lets check the\n",
    "groups our file contains now."
   ]
  },
  {
   "cell_type": "code",
   "execution_count": 4,
   "metadata": {},
   "outputs": [
    {
     "data": {
      "text/plain": [
       "['1', '10', '2', '3', '4', '5', '6', '7', '8', '9']"
      ]
     },
     "execution_count": 4,
     "metadata": {},
     "output_type": "execute_result"
    }
   ],
   "source": [
    "list(h5_writer.file.keys())"
   ]
  },
  {
   "cell_type": "markdown",
   "metadata": {},
   "source": [
    "Ten frames have been written as expected. Let's check the properties from the last\n",
    "frame and compare them to the simulation currently. We will open the file again in\n",
    "read only mode to check these properties. First we flush the open HDF5 file to ensure\n",
    "the data has been written to the OS buffer at least."
   ]
  },
  {
   "cell_type": "code",
   "execution_count": 5,
   "metadata": {},
   "outputs": [],
   "source": [
    "h5_writer.file.flush()\n",
    "\n",
    "with h5py.File('traj.h5', 'r') as traj:\n",
    "    assert traj['10'].attrs['timestep'] == sim.timestep\n",
    "    box_array = np.concatenate(\n",
    "        (sim.state.box.L, sim.state.box.tilts))\n",
    "    assert np.allclose(traj['10'].attrs['box'], box_array)\n",
    "    assert np.allclose(sim.state.snapshot.particles.position,\n",
    "                       traj['10']['positions'][:])"
   ]
  },
  {
   "cell_type": "markdown",
   "metadata": {},
   "source": [
    "## Expanding on HDF5Writer\n",
    "\n",
    "Our `HDF5Writer` class is already sufficient for storing the trajectory.\n",
    "However, there are plenty of other features we could add. Examples include\n",
    "utilizing the HOOMD-blue logging subsystem to allow logging data to the\n",
    "HDF5 file, and adding support for MPI. Also, we could also add support \n",
    "for other system properties such as images, velocities, and others.\n",
    "We will focus on adding this feature.\n",
    "\n",
    "We need to decide on a method of specifying properties to write. We will\n",
    "use a tuple system where we signify the property we want to store using\n",
    "a tuple that nests into a snapshot object. For example to write images\n",
    "we will use the tuple `('particles', 'image')` to signify we want to \n",
    "store images. We will let an user pass in a list of tuples of any length \n",
    "to specify what they want to store. (Positions will always be stored, and \n",
    "we will move them to the _particles_ group)."
   ]
  },
  {
   "cell_type": "code",
   "execution_count": 6,
   "metadata": {},
   "outputs": [],
   "source": [
    "class HDF5Writer(hoomd.custom.Action):\n",
    "    def __init__(self, filename, mode, properties):\n",
    "        self.filename = filename\n",
    "        self.properties = set(properties) | {('particles', 'position')}\n",
    "        if mode not in {'w', 'w-', 'x', 'a', 'r+'}:\n",
    "            raise ValueError(\"mode must be writtable\")\n",
    "        self.file = h5py.File(filename, mode)\n",
    "        self.write_metadata()\n",
    "        frames = list(self.file.keys())\n",
    "        if frames:\n",
    "            self._cur_frame = max(map(int, frames)) + 1\n",
    "        else:\n",
    "            self._cur_frame = 1\n",
    "        \n",
    "    def write_metadata(self):\n",
    "        \"\"\"Write the file metadata that defines the type of hdf5 file\"\"\"\n",
    "        if 'app' in self.file.attrs:\n",
    "            if self.file.attrs.app != 'hoomd-v3':\n",
    "                raise RuntimeError(\n",
    "                    'HDF5 file metadata \"app\" is not \"hoomd-v3\".')\n",
    "        else:\n",
    "            self.file.attrs.app = 'hoomd-v3'\n",
    "            \n",
    "        if 'version' not in self.file.attrs:\n",
    "            self.file.attrs.version = '1.0'\n",
    "    \n",
    "    def _set_property(self, base_group, prop):\n",
    "        # Get data array\n",
    "        data = self._state.snapshot\n",
    "        for name in prop:\n",
    "            data = getattr(data, name)\n",
    "        # Get dataset\n",
    "        use_group = base_group\n",
    "        for name in prop[:-1]:\n",
    "            if name not in use_group:\n",
    "                use_group = base_group.create_group(name)\n",
    "            else:\n",
    "                use_group = base_group[name]\n",
    "        dataset = use_group.create_dataset(\n",
    "            prop[-1],\n",
    "            data.shape,\n",
    "            dtype=str(data.dtype)\n",
    "        )\n",
    "        dataset[:] = data\n",
    "    \n",
    "    def act(self, timestep):\n",
    "        \"\"\"Write out a new frame to the trajectory.\"\"\"\n",
    "        new_frame = self.file.create_group(str(self._cur_frame))\n",
    "        self._cur_frame += 1\n",
    "        for prop in self.properties:\n",
    "            self._set_property(new_frame, prop)\n",
    "        new_frame.attrs['timestep'] = timestep\n",
    "        box_array = np.concatenate(\n",
    "            (self._state.box.L, self._state.box.tilts))\n",
    "        new_frame.attrs['box'] = box_array\n",
    "    \n",
    "    def __del__(self):\n",
    "        self.file.close()"
   ]
  },
  {
   "cell_type": "markdown",
   "metadata": {},
   "source": [
    "We will now use our extended trajectory writer to write out particle\n",
    "images as well. "
   ]
  },
  {
   "cell_type": "code",
   "execution_count": 7,
   "metadata": {},
   "outputs": [],
   "source": [
    "h5_writer.file.close()\n",
    "sim.operations -= h5_writer\n",
    "h5_writer = hoomd.write.CustomWriter(\n",
    "    action=HDF5Writer('traj.h5', 'w', [('particles', 'image')]),\n",
    "    trigger=100\n",
    ")\n",
    "sim.operations.writers.append(h5_writer)\n",
    "sim.run(1000)"
   ]
  },
  {
   "cell_type": "markdown",
   "metadata": {},
   "source": [
    "To see that this worked we will check the first frame for particle images."
   ]
  },
  {
   "cell_type": "code",
   "execution_count": 8,
   "metadata": {},
   "outputs": [
    {
     "data": {
      "text/plain": [
       "array([[ 0, -1,  0],\n",
       "       [ 0, -1,  0],\n",
       "       [ 0, -1,  0],\n",
       "       [-1, -1,  0],\n",
       "       [ 0, -1,  0],\n",
       "       [ 0, -1,  0],\n",
       "       [-1,  0, -1],\n",
       "       [ 0,  0,  0],\n",
       "       [ 0, -1,  0],\n",
       "       [ 0, -1,  0]], dtype=int32)"
      ]
     },
     "metadata": {},
     "output_type": "display_data"
    },
    {
     "data": {
      "text/plain": [
       "array([[-7.69317482,  6.60078856, -9.90322022],\n",
       "       [-7.07825098,  8.39106906, -6.83093324],\n",
       "       [-8.53330986,  9.63480374, -3.24570464],\n",
       "       [ 6.873152  ,  5.46708935,  6.22637547],\n",
       "       [-4.1432454 ,  8.01139981,  4.0550603 ],\n",
       "       [-4.95330514,  9.21417627, -9.66953371],\n",
       "       [ 8.97725948, -9.48624117,  7.73660952],\n",
       "       [-6.58659106, -9.15770325, -5.61691327],\n",
       "       [-4.92942844,  8.85572198, -4.01685258],\n",
       "       [-9.95365025,  8.19025782,  4.39844215]])"
      ]
     },
     "metadata": {},
     "output_type": "display_data"
    }
   ],
   "source": [
    "h5_writer.file.flush()\n",
    "\n",
    "with h5py.File('traj.h5', 'r') as traj:\n",
    "    display(traj['1']['particles']['image'][:10])\n",
    "    display(traj['1']['particles']['position'][:10])"
   ]
  },
  {
   "cell_type": "markdown",
   "metadata": {},
   "source": [
    "We could continue add more features such as argument validation\n",
    "in the\n",
    "constructor, support for the logging subsystem of HOOMD-blue,\n",
    "a classmethod, or a number of other things. However, these\n",
    "are left as exercises. This section has shown a non-trivial\n",
    "application of the custom action feature in HOOMD-blue for\n",
    "custom writers."
   ]
  },
  {
   "cell_type": "code",
   "execution_count": null,
   "metadata": {},
   "outputs": [],
   "source": []
  }
 ],
 "metadata": {
  "kernelspec": {
   "display_name": "Python 3",
   "language": "python",
   "name": "python3"
  },
  "language_info": {
   "codemirror_mode": {
    "name": "ipython",
    "version": 3
   },
   "file_extension": ".py",
   "mimetype": "text/x-python",
   "name": "python",
   "nbconvert_exporter": "python",
   "pygments_lexer": "ipython3",
   "version": "3.8.5"
  }
 },
 "nbformat": 4,
 "nbformat_minor": 4
}
