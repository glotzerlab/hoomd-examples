{
 "cells": [
  {
   "cell_type": "markdown",
   "metadata": {},
   "source": [
    "# Custom Updater\n",
    "\n",
    "## Overview\n",
    "\n",
    "### Questions\n",
    "\n",
    "- How can I model the bombardment of radiation into my system?\n",
    "\n",
    "### Objectives\n",
    "\n",
    "- Show an example of a non-trival custom updater.\n",
    "\n",
    "## Boilerplate Code"
   ]
  },
  {
   "cell_type": "code",
   "execution_count": 1,
   "metadata": {},
   "outputs": [],
   "source": [
    "from numbers import Number\n",
    "\n",
    "import numpy as np\n",
    "\n",
    "import hoomd\n",
    "import hoomd.md as md\n",
    "\n",
    "\n",
    "cpu = hoomd.device.CPU()\n",
    "sim = hoomd.Simulation(cpu)\n",
    "\n",
    "# Create a simple cubic configuration of particles\n",
    "N = 5  # particles per box direction\n",
    "box_L = 20  # box dimension\n",
    "\n",
    "snap = hoomd.Snapshot(cpu.communicator)\n",
    "snap.configuration.box = [box_L] * 3 + [0, 0, 0]\n",
    "snap.particles.N = N ** 3\n",
    "x, y, z = np.meshgrid(\n",
    "    *(np.linspace(-box_L / 2, box_L / 2, N, endpoint=False),) * 3)\n",
    "positions = np.array((x.ravel(), y.ravel(), z.ravel())).T\n",
    "snap.particles.position[:] = positions\n",
    "snap.particles.types = ['A']\n",
    "snap.particles.typeid[:] = 0\n",
    "\n",
    "sim.create_state_from_snapshot(snap)"
   ]
  },
  {
   "cell_type": "markdown",
   "metadata": {},
   "source": [
    "## Problem\n",
    "\n",
    "In this section, we will create a custom updater that adds a\n",
    "prescribed amount of energy to a single particle simulating\n",
    "the bombardment of radioactive material into our system. For\n",
    "this problem, we need to pick a random particle and modify\n",
    "its velocity according to the radiation energy in a random \n",
    "direction."
   ]
  },
  {
   "cell_type": "code",
   "execution_count": 2,
   "metadata": {},
   "outputs": [],
   "source": [
    "class InsertEnergyUpdater(hoomd.custom.Action):\n",
    "    def __init__(self, energy):\n",
    "        self.energy = energy\n",
    "    \n",
    "    def act(self, timestep):\n",
    "        snap = self._state.snapshot\n",
    "        if snap.exists:\n",
    "            particle_i = np.random.randint(snap.particles.N)\n",
    "            mass = snap.particles.mass[particle_i]\n",
    "            direction = self._get_direction()\n",
    "            magnitude = np.sqrt(2 * self.energy / mass)\n",
    "            velocity = direction * magnitude\n",
    "            old_velocity = snap.particles.velocity[particle_i]\n",
    "            new_velocity = old_velocity + velocity\n",
    "            snap.particles.velocity[particle_i] = velocity\n",
    "        self._state.snapshot = snap\n",
    "            \n",
    "    @staticmethod\n",
    "    def _get_direction():\n",
    "        theta, z = np.random.rand(2)\n",
    "        theta *= 2 * np.pi\n",
    "        z = 2 * (z - 0.5)\n",
    "        return np.array([\n",
    "            np.sqrt(1 - (z * z)) * np.cos(theta),\n",
    "            np.sqrt(1 - (z * z)) * np.sin(theta),\n",
    "            z\n",
    "        ])"
   ]
  },
  {
   "cell_type": "markdown",
   "metadata": {},
   "source": [
    "Define a function that creates a `InsertEnergyUpdater` wrapped in a custom updater."
   ]
  },
  {
   "cell_type": "code",
   "execution_count": 3,
   "metadata": {},
   "outputs": [],
   "source": [
    "def create_insert_energy_updater(trigger, *args, **kwargs):\n",
    "    return hoomd.update.CustomUpdater(\n",
    "        action=InsertEnergyUpdater(*args, **kwargs),\n",
    "        trigger=trigger)"
   ]
  },
  {
   "cell_type": "markdown",
   "metadata": {},
   "source": [
    "We will now use our custom updater with an `NVE` integrator.\n",
    "Particles will interact via a Lennerd-Jones potential.\n",
    "Using the `Table` writer and a `hoomd.logging.Logger`, we will\n",
    "monitor the energy which should be increasing as we are\n",
    "inserting energy into the system. We will also thermalize our\n",
    "system to a `kT == 1`."
   ]
  },
  {
   "cell_type": "code",
   "execution_count": 4,
   "metadata": {},
   "outputs": [],
   "source": [
    "sim.state.thermalize_particle_momenta(hoomd.filter.All(), 1., seed=109)\n",
    "\n",
    "lj = md.pair.LJ(nlist=md.nlist.Cell())\n",
    "lj.params[('A', 'A')] = {'epsilon': 1.,\n",
    "                         'sigma': 1.}\n",
    "lj.r_cut[('A', 'A')] = 2.5\n",
    "integrator = md.Integrator(methods=[md.methods.NVE(hoomd.filter.All())],\n",
    "                           forces=[lj],\n",
    "                           dt=0.005)\n",
    "\n",
    "thermo = md.compute.ThermodynamicQuantities(hoomd.filter.All())\n",
    "logger = hoomd.logging.Logger(categories=['scalar'])\n",
    "logger.add(thermo, ['kinetic_energy', 'potential_energy'])\n",
    "logger['total_energy'] = (\n",
    "    lambda: thermo.kinetic_energy + thermo.potential_energy,\n",
    "    'scalar')\n",
    "\n",
    "table = hoomd.write.Table(100, logger, max_header_len=1)\n",
    "\n",
    "sim.operations += integrator\n",
    "sim.operations += thermo\n",
    "sim.operations += table\n",
    "\n",
    "# Create and add our custom updater\n",
    "energy_inserter = create_insert_energy_updater(\n",
    "    trigger=100, energy=10.)\n",
    "\n",
    "sim.operations += energy_inserter"
   ]
  },
  {
   "cell_type": "code",
   "execution_count": 5,
   "metadata": {},
   "outputs": [
    {
     "name": "stdout",
     "output_type": "stream",
     "text": [
      " kinetic_energy  potential_energy   total_energy  \n",
      "   201.47616         -0.04328        201.43288    \n",
      "   210.47491         -3.15911        207.31580    \n",
      "   223.81249         -8.14532        215.66717    \n",
      "   231.07897         -7.54589        223.53309    \n",
      "   242.60525         -9.06074        233.54450    \n",
      "   246.71857        -12.70806        234.01051    \n",
      "   254.02928        -12.37860        241.65069    \n",
      "   258.43691         -9.89064        248.54626    \n",
      "   268.42864        -10.59255        257.83608    \n",
      "   274.10669        -10.87363        263.23305    \n"
     ]
    }
   ],
   "source": [
    "sim.run(1000)"
   ]
  },
  {
   "cell_type": "markdown",
   "metadata": {},
   "source": [
    "As we can see the total energy of the system is indeed increasing.\n",
    "The energy isn't increasing by 10 every time since we are adding\n",
    "the velocity in a random direction which may be against the current\n",
    "velocity.\n",
    "\n",
    "Maybe we want to allow for the energy to be from a distribution.\n",
    "HOOMD-blue has a concept called a variant which allows for quantities\n",
    "that vary over time. Let's change the `InsertEnergyupdater` to use\n",
    "variants and create a custom variant that grabs a random number from\n",
    "a Gaussian distribution. (If you don't understand the variant code,\n",
    "that is fine. We are using this to just showcase how you can iterative\n",
    "improve custom actions)."
   ]
  },
  {
   "cell_type": "code",
   "execution_count": 6,
   "metadata": {},
   "outputs": [],
   "source": [
    "class InsertEnergyUpdater(hoomd.custom.Action):\n",
    "    def __init__(self, energy):\n",
    "        self._energy = energy\n",
    "        \n",
    "    @property\n",
    "    def energy(self):\n",
    "        return self._energy\n",
    "    \n",
    "    @energy.setter\n",
    "    def energy(self, new_energy):\n",
    "        if isinstance(new_energy, Number):\n",
    "            self._energy = hoomd.variant.Constant(new_energy)\n",
    "        elif isinstance(new_energy, hoomd.variant.Variant):\n",
    "            self._energy = new_energy\n",
    "        else:\n",
    "            raise ValueError(\n",
    "                \"energy must be a variant or real number.\")\n",
    "    \n",
    "    def act(self, timestep):\n",
    "        snap = self._state.snapshot\n",
    "        if snap.exists:\n",
    "            particle_i = np.random.randint(snap.particles.N)\n",
    "            mass = snap.particles.mass[particle_i]\n",
    "            direction = self._get_direction()\n",
    "            magnitude = np.sqrt(2 * self.energy(timestep) / mass)\n",
    "            velocity = direction * magnitude\n",
    "            old_velocity = snap.particles.velocity[particle_i]\n",
    "            new_velocity = old_velocity + velocity\n",
    "            snap.particles.velocity[particle_i] = velocity\n",
    "        self._state.snapshot = snap\n",
    "            \n",
    "    @staticmethod\n",
    "    def _get_direction():\n",
    "        theta, z = np.random.rand(2)\n",
    "        theta *= 2 * np.pi\n",
    "        z = 2 * (z - 0.5)\n",
    "        return np.array([\n",
    "            np.sqrt(1 - (z * z)) * np.cos(theta),\n",
    "            np.sqrt(1 - (z * z)) * np.sin(theta),\n",
    "            z\n",
    "        ])\n",
    "\n",
    "\n",
    "class GaussianVariant(hoomd.variant.Variant):\n",
    "    def __init__(self, mean, std):\n",
    "        hoomd.variant.Variant.__init__(self)\n",
    "        self.mean = mean\n",
    "        self.std = std\n",
    "    \n",
    "    def __call__(self, timestep):\n",
    "        return np.random.normal(self.mean, self.std)"
   ]
  },
  {
   "cell_type": "markdown",
   "metadata": {},
   "source": [
    "We will now use this variant and the improved updater in the \n",
    "simulation. We will also show that the Gaussian Variant works."
   ]
  },
  {
   "cell_type": "code",
   "execution_count": 7,
   "metadata": {},
   "outputs": [
    {
     "data": {
      "text/plain": [
       "10.083418012511315"
      ]
     },
     "metadata": {},
     "output_type": "display_data"
    },
    {
     "data": {
      "text/plain": [
       "1.9842429842116385"
      ]
     },
     "metadata": {},
     "output_type": "display_data"
    },
    {
     "data": {
      "text/plain": [
       "array([13.52435343, 11.49635971, 11.00686198, 10.59921007, 11.05856711,\n",
       "       11.17795347, 10.06254476, 10.04700913, 10.67985303, 10.38650408])"
      ]
     },
     "execution_count": 7,
     "metadata": {},
     "output_type": "execute_result"
    }
   ],
   "source": [
    "energy = GaussianVariant(10., 2.)\n",
    "sample_energies = np.array([energy(0) for _ in range(1000)])\n",
    "display(sample_energies.mean(), sample_energies.std())\n",
    "sample_energies[:10]"
   ]
  },
  {
   "cell_type": "code",
   "execution_count": 8,
   "metadata": {},
   "outputs": [
    {
     "name": "stdout",
     "output_type": "stream",
     "text": [
      "   268.92137         -7.47786        261.44351    \n",
      "   276.93600         -9.04181        267.89419    \n",
      "   289.83069         -9.99470        279.83600    \n",
      "   292.48113        -10.84733        281.63379    \n",
      "   301.03107        -11.09542        289.93565    \n",
      "   305.67430        -11.22536        294.44894    \n",
      "   310.70524        -11.03718        299.66806    \n",
      "   315.88697         -8.74890        307.13806    \n",
      "   330.22740        -11.86236        318.36505    \n",
      "   336.27599        -12.10039        324.17560    \n"
     ]
    }
   ],
   "source": [
    "sim.operations.updaters.remove(energy_inserter)\n",
    "energy_inserter = create_insert_energy_updater(\n",
    "    100, energy=energy)\n",
    "sim.operations.updaters.append(energy_inserter)\n",
    "sim.run(1000)"
   ]
  },
  {
   "cell_type": "markdown",
   "metadata": {},
   "source": [
    "We could continue to improve upon this updater and the execution of\n",
    "this operation. However, this suffices to showcase the ability of non-trivial updaters to effect simulation state."
   ]
  }
 ],
 "metadata": {
  "kernelspec": {
   "display_name": "Python 3",
   "language": "python",
   "name": "python3"
  },
  "language_info": {
   "codemirror_mode": {
    "name": "ipython",
    "version": 3
   },
   "file_extension": ".py",
   "mimetype": "text/x-python",
   "name": "python",
   "nbconvert_exporter": "python",
   "pygments_lexer": "ipython3",
   "version": "3.9.1"
  }
 },
 "nbformat": 4,
 "nbformat_minor": 4
}
