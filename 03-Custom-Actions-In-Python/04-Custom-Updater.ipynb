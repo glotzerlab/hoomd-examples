{
 "cells": [
  {
   "cell_type": "markdown",
   "metadata": {},
   "source": [
    "# Custom Updater\n",
    "\n",
    "## Overview\n",
    "\n",
    "### Questions\n",
    "\n",
    "- How can I modify the state of a system in a custom updater?\n",
    "\n",
    "### Objectives\n",
    "\n",
    "- Show an example of a non-trival custom updater.\n",
    "\n",
    "## Boilerplate Code"
   ]
  },
  {
   "cell_type": "code",
   "execution_count": 1,
   "metadata": {},
   "outputs": [],
   "source": [
    "from numbers import Number\n",
    "\n",
    "import numpy as np\n",
    "\n",
    "import hoomd\n",
    "import hoomd.md as md\n",
    "\n",
    "\n",
    "cpu = hoomd.device.CPU()\n",
    "sim = hoomd.Simulation(cpu)\n",
    "\n",
    "# Create a simple cubic configuration of particles\n",
    "N = 5  # particles per box direction\n",
    "box_L = 20  # box dimension\n",
    "\n",
    "snap = hoomd.Snapshot(cpu.communicator)\n",
    "snap.configuration.box = [box_L] * 3 + [0, 0, 0]\n",
    "snap.particles.N = N ** 3\n",
    "x, y, z = np.meshgrid(\n",
    "    *(np.linspace(-box_L / 2, box_L / 2, N, endpoint=False),) * 3)\n",
    "positions = np.array((x.ravel(), y.ravel(), z.ravel())).T\n",
    "snap.particles.position[:] = positions\n",
    "snap.particles.types = ['A']\n",
    "snap.particles.typeid[:] = 0\n",
    "\n",
    "sim.create_state_from_snapshot(snap)"
   ]
  },
  {
   "cell_type": "markdown",
   "metadata": {},
   "source": [
    "## Problem\n",
    "\n",
    "In this section, we will show how to create a custom updater\n",
    "that modifies the system state. To show this, we will create a custom\n",
    "updater that adds a prescribed amount of energy to a single particle\n",
    "simulating the bombardment of radioactive material into our system. For\n",
    "this problem, we pick a random particle and modify its velocity\n",
    "according to the radiation energy in a random direction."
   ]
  },
  {
   "cell_type": "code",
   "execution_count": 2,
   "metadata": {},
   "outputs": [],
   "source": [
    "class InsertEnergyUpdater(hoomd.custom.Action):\n",
    "    def __init__(self, energy):\n",
    "        self.energy = energy\n",
    "    \n",
    "    def act(self, timestep):\n",
    "        snap = self._state.snapshot\n",
    "        if snap.exists:\n",
    "            particle_i = np.random.randint(snap.particles.N)\n",
    "            mass = snap.particles.mass[particle_i]\n",
    "            direction = self._get_direction()\n",
    "            magnitude = np.sqrt(2 * self.energy / mass)\n",
    "            velocity = direction * magnitude\n",
    "            old_velocity = snap.particles.velocity[particle_i]\n",
    "            new_velocity = old_velocity + velocity\n",
    "            snap.particles.velocity[particle_i] = velocity\n",
    "        self._state.snapshot = snap\n",
    "            \n",
    "    @staticmethod\n",
    "    def _get_direction():\n",
    "        theta, z = np.random.rand(2)\n",
    "        theta *= 2 * np.pi\n",
    "        z = 2 * (z - 0.5)\n",
    "        return np.array([\n",
    "            np.sqrt(1 - (z * z)) * np.cos(theta),\n",
    "            np.sqrt(1 - (z * z)) * np.sin(theta),\n",
    "            z\n",
    "        ])"
   ]
  },
  {
   "cell_type": "markdown",
   "metadata": {},
   "source": [
    "We will now use our custom updater with an `NVE` integrator.\n",
    "Particles will interact via a Lennard-Jones potential.\n",
    "Using the `Table` writer and a `hoomd.logging.Logger`, we will\n",
    "monitor the energy, which should be increasing as we are\n",
    "adding energy to the system. We will also thermalize our\n",
    "system to a `kT == 1`."
   ]
  },
  {
   "cell_type": "code",
   "execution_count": 3,
   "metadata": {},
   "outputs": [],
   "source": [
    "sim.state.thermalize_particle_momenta(hoomd.filter.All(), 1., seed=109)\n",
    "\n",
    "lj = md.pair.LJ(nlist=md.nlist.Cell())\n",
    "lj.params[('A', 'A')] = {'epsilon': 1.,\n",
    "                         'sigma': 1.}\n",
    "lj.r_cut[('A', 'A')] = 2.5\n",
    "integrator = md.Integrator(methods=[md.methods.NVE(hoomd.filter.All())],\n",
    "                           forces=[lj],\n",
    "                           dt=0.005)\n",
    "\n",
    "thermo = md.compute.ThermodynamicQuantities(hoomd.filter.All())\n",
    "logger = hoomd.logging.Logger(categories=['scalar'])\n",
    "logger.add(thermo, ['kinetic_energy', 'potential_energy'])\n",
    "logger['total_energy'] = (\n",
    "    lambda: thermo.kinetic_energy + thermo.potential_energy,\n",
    "    'scalar')\n",
    "\n",
    "table = hoomd.write.Table(100, logger, max_header_len=1)\n",
    "\n",
    "sim.operations += integrator\n",
    "sim.operations += thermo\n",
    "sim.operations += table\n",
    "\n",
    "# Create and add our custom updater\n",
    "energy_operation = hoomd.update.CustomUpdater(\n",
    "    action=InsertEnergyUpdater(10.),\n",
    "    trigger=100)\n",
    "\n",
    "sim.operations += energy_operation"
   ]
  },
  {
   "cell_type": "code",
   "execution_count": 4,
   "metadata": {},
   "outputs": [
    {
     "name": "stdout",
     "output_type": "stream",
     "text": [
      " kinetic_energy  potential_energy   total_energy  \n",
      "   201.32604         -0.04328        201.28276    \n",
      "   212.26490         -2.84798        209.41692    \n",
      "   223.72014         -6.52050        217.19964    \n",
      "   232.22070         -6.78381        225.43689    \n",
      "   243.78590         -9.73119        234.05471    \n",
      "   255.19518        -12.25250        242.94268    \n",
      "   260.64066        -11.43365        249.20701    \n",
      "   266.15028        -11.24652        254.90376    \n",
      "   273.43882        -10.55229        262.88653    \n",
      "   283.45222        -11.42727        272.02495    \n"
     ]
    }
   ],
   "source": [
    "sim.run(1000)"
   ]
  },
  {
   "cell_type": "markdown",
   "metadata": {},
   "source": [
    "As we can see the total energy of the system is indeed increasing.\n",
    "The energy isn't increasing by 10 every time since we are adding\n",
    "the velocity in a random direction which may be against the current\n",
    "velocity.\n",
    "\n",
    "## Improving upon our Custom Action\n",
    "\n",
    "Maybe we want to allow for the energy to be from a distribution.\n",
    "HOOMD-blue has a concept called a variant which allows for quantities\n",
    "that vary over time. Let's change the `InsertEnergyupdater` to use\n",
    "variants and create a custom variant that grabs a random number from\n",
    "a Gaussian distribution. (If you don't understand the variant code,\n",
    "that is fine. We are just using this to showcase how you can iteratively\n",
    "improve custom actions).\n",
    "\n",
    "<div class=\"alert alert-warning\" style=\"color: black;\">\n",
    "    <h4>Note:</h4>\n",
    "    <p><code>Variant</code> objects model a parameter as a \n",
    "        function of the timestep, so to get the value for a particular\n",
    "        timestep we have to call the variant. For more\n",
    "        information see the documentation for \n",
    "        <code>hoomd.variant</code>.\n",
    "    </p>\n",
    "</div>"
   ]
  },
  {
   "cell_type": "code",
   "execution_count": 5,
   "metadata": {},
   "outputs": [],
   "source": [
    "class InsertEnergyUpdater(hoomd.custom.Action):\n",
    "    def __init__(self, energy):\n",
    "        self._energy = energy\n",
    "        \n",
    "    @property\n",
    "    def energy(self):\n",
    "        \"\"\"A `hoomd.variant.Variant` object.\"\"\"\n",
    "        return self._energy\n",
    "    \n",
    "    @energy.setter\n",
    "    def energy(self, new_energy):\n",
    "        if isinstance(new_energy, Number):\n",
    "            self._energy = hoomd.variant.Constant(new_energy)\n",
    "        elif isinstance(new_energy, hoomd.variant.Variant):\n",
    "            self._energy = new_energy\n",
    "        else:\n",
    "            raise ValueError(\n",
    "                \"energy must be a variant or real number.\")\n",
    "    \n",
    "    def act(self, timestep):\n",
    "        snap = self._state.snapshot\n",
    "        if snap.exists:\n",
    "            particle_i = np.random.randint(snap.particles.N)\n",
    "            mass = snap.particles.mass[particle_i]\n",
    "            direction = self._get_direction()\n",
    "            magnitude = np.sqrt(2 * self.energy(timestep) / mass)\n",
    "            velocity = direction * magnitude\n",
    "            old_velocity = snap.particles.velocity[particle_i]\n",
    "            new_velocity = old_velocity + velocity\n",
    "            snap.particles.velocity[particle_i] = velocity\n",
    "        self._state.snapshot = snap\n",
    "            \n",
    "    @staticmethod\n",
    "    def _get_direction():\n",
    "        theta, z = np.random.rand(2)\n",
    "        theta *= 2 * np.pi\n",
    "        z = 2 * (z - 0.5)\n",
    "        return np.array([\n",
    "            np.sqrt(1 - (z * z)) * np.cos(theta),\n",
    "            np.sqrt(1 - (z * z)) * np.sin(theta),\n",
    "            z\n",
    "        ])\n",
    "\n",
    "\n",
    "class GaussianVariant(hoomd.variant.Variant):\n",
    "    def __init__(self, mean, std):\n",
    "        hoomd.variant.Variant.__init__(self)\n",
    "        self.mean = mean\n",
    "        self.std = std\n",
    "    \n",
    "    def __call__(self, timestep):\n",
    "        return np.random.normal(self.mean, self.std)"
   ]
  },
  {
   "cell_type": "markdown",
   "metadata": {},
   "source": [
    "We briefly show that the Gaussian Variant works."
   ]
  },
  {
   "cell_type": "code",
   "execution_count": 6,
   "metadata": {},
   "outputs": [
    {
     "data": {
      "text/plain": [
       "'Mean: 10.019122913045909, std. dev. 1.9684698705480934'"
      ]
     },
     "execution_count": 6,
     "metadata": {},
     "output_type": "execute_result"
    }
   ],
   "source": [
    "energy = GaussianVariant(mean=10., std=2.)\n",
    "sample_energies = np.array([energy(0) for _ in range(1000)])\n",
    "f\"Mean: {sample_energies.mean()}, std. dev. {sample_energies.std()}\""
   ]
  },
  {
   "cell_type": "markdown",
   "metadata": {},
   "source": [
    "We now use the updated `InsertEnergyUpdater` in the simulation."
   ]
  },
  {
   "cell_type": "code",
   "execution_count": 7,
   "metadata": {},
   "outputs": [
    {
     "name": "stdout",
     "output_type": "stream",
     "text": [
      "   285.01267        -13.84723        271.16544    \n",
      "   294.76992        -13.20636        281.56357    \n",
      "   303.85842        -15.78200        288.07641    \n",
      "   310.17520         -8.07353        302.10168    \n",
      "   315.48386        -10.38032        305.10353    \n",
      "   323.05551        -13.66565        309.38986    \n",
      "   332.23350        -14.48098        317.75253    \n",
      "   343.09723        -14.47433        328.62290    \n",
      "   350.89125        -12.99288        337.89838    \n",
      "   354.96620        -10.37523        344.59097    \n"
     ]
    }
   ],
   "source": [
    "sim.operations.updaters.remove(energy_operation)\n",
    "# Create and add our custom updater\n",
    "energy_operation = hoomd.update.CustomUpdater(\n",
    "    action=InsertEnergyUpdater(energy),\n",
    "    trigger=100)\n",
    "sim.operations.updaters.append(energy_operation)\n",
    "sim.run(1000)"
   ]
  },
  {
   "cell_type": "markdown",
   "metadata": {},
   "source": [
    "We could continue to improve upon this updater and the execution of\n",
    "this operation. However, this suffices to showcase the ability of non-trivial updaters to affect  the simulation state."
   ]
  }
 ],
 "metadata": {
  "kernelspec": {
   "display_name": "Python 3",
   "language": "python",
   "name": "python3"
  },
  "language_info": {
   "codemirror_mode": {
    "name": "ipython",
    "version": 3
   },
   "file_extension": ".py",
   "mimetype": "text/x-python",
   "name": "python",
   "nbconvert_exporter": "python",
   "pygments_lexer": "ipython3",
   "version": "3.8.5"
  }
 },
 "nbformat": 4,
 "nbformat_minor": 4
}
