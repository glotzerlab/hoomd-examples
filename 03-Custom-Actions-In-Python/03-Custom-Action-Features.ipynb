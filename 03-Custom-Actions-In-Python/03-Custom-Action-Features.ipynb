{
 "cells": [
  {
   "cell_type": "markdown",
   "metadata": {},
   "source": [
    "# Custom Action Features\n",
    "\n",
    "## Overview\n",
    "\n",
    "### Questions\n",
    "\n",
    "- How do I access simulation state information?\n",
    "- How do I create loggable quantities in custom actions?\n",
    "- What are other features provided by the custom action/operation\n",
    "  API?\n",
    "\n",
    "### Objectives\n",
    "\n",
    "- Explain how to access simulation state in a custom action.\n",
    "- Explain how to expose loggable quantities in a custom action.\n",
    "- Demonstrate other miscellaneous features of custom actions.\n",
    "\n",
    "## Boilerplate Code"
   ]
  },
  {
   "cell_type": "code",
   "execution_count": 1,
   "metadata": {},
   "outputs": [],
   "source": [
    "import hoomd\n",
    "\n",
    "def clear_sim(sim):\n",
    "    \"\"\"Remove all operations (besides intergrator) from the sim.\"\"\"\n",
    "    sim.operations.updaters.clear()\n",
    "    sim.operations.writers.clear()\n",
    "    del sim.operations.tuners[1:] # keep the particle sorter\n",
    "\n",
    "cpu = hoomd.device.CPU()\n",
    "sim = hoomd.Simulation(cpu)\n",
    "\n",
    "snap = hoomd.Snapshot()\n",
    "snap.particles.N = 1\n",
    "snap.particles.position[:] = [0, 0, 0]\n",
    "snap.particles.types = ['A']\n",
    "snap.particles.typeid[:] = [0]\n",
    "snap.configuration.box = [10, 10, 10, 0, 0, 0]\n",
    "\n",
    "sim.create_state_from_snapshot(snap)"
   ]
  },
  {
   "cell_type": "markdown",
   "metadata": {},
   "source": [
    "## How do I access simulation state?\n",
    "\n",
    "By the time that a custom action will have its `act` method called\n",
    "it will have an attribute `_state` accessable to it which is the\n",
    "simulation state for the simulation it is associated with. The behavior\n",
    "of this is controlled in the `hoomd.custom.Action.attach` method. The\n",
    "method takes in a simulation object and performs any necessary set-up\n",
    "for the action call `act`. By default, the method stores the simulation\n",
    "state in the `_state` attribute.\n",
    "\n",
    "We will create two custom actions class to show this. In one, we will\n",
    "not modify the `attach` method, and in the other we will make `attach`\n",
    "a no-op. In each class we will make the action test for the existence\n",
    "of the `_state` attribute and print some information about the `_state`\n",
    "if it exists."
   ]
  },
  {
   "cell_type": "code",
   "execution_count": 2,
   "metadata": {},
   "outputs": [],
   "source": [
    "class InspectState(hoomd.custom.Action):\n",
    "    def act(self, timestep):\n",
    "        if hasattr(self, '_state'):\n",
    "            print(\"Has state.\")\n",
    "            print(f\"Type {type(self._state)}, \", end='')\n",
    "            print(f\"Number of particles {self._state.N_particles}.\")\n",
    "        else:\n",
    "            print(\"Uh-oh no '_state' to be found.\")\n",
    "\n",
    "class BrokenInspectState(InspectState):\n",
    "    def attach(self, simulation):\n",
    "        pass"
   ]
  },
  {
   "cell_type": "markdown",
   "metadata": {},
   "source": [
    "Like in the previous section these are both writers. We will go ahead\n",
    "and wrap them and see what happens when we try to run the simulation."
   ]
  },
  {
   "cell_type": "code",
   "execution_count": 3,
   "metadata": {},
   "outputs": [
    {
     "name": "stdout",
     "output_type": "stream",
     "text": [
      "Has state.\n",
      "Type <class 'hoomd.state.State'>, Number of particles 1.\n"
     ]
    }
   ],
   "source": [
    "inspect_state = InspectState()\n",
    "sim.operations.writers.append(\n",
    "    hoomd.write.CustomWriter(inspect_state,\n",
    "                             trigger=hoomd.trigger.Periodic(10))\n",
    ")\n",
    "sim.run(11)"
   ]
  },
  {
   "cell_type": "code",
   "execution_count": 4,
   "metadata": {},
   "outputs": [
    {
     "name": "stdout",
     "output_type": "stream",
     "text": [
      "Uh-oh no '_state' to be found.\n"
     ]
    }
   ],
   "source": [
    "clear_sim(sim)\n",
    "broken_inspect_state = BrokenInspectState()\n",
    "sim.operations.writers.append(\n",
    "    hoomd.write.CustomWriter(broken_inspect_state,\n",
    "                             trigger=hoomd.trigger.Periodic(10))\n",
    ")\n",
    "sim.run(11)"
   ]
  },
  {
   "cell_type": "markdown",
   "metadata": {},
   "source": [
    "## Loggable Quantities in Custom Actions\n",
    "\n",
    "Custom actions can hook into HOOMD-blue's logging subsystem by using\n",
    "the `hoomd.logging.log` decorator to document which methods/properties\n",
    "of a custom action are loggable. See the documentation on `hoomd.logging.log` and `hoomd.logging.TypeFlags` for complete documenation of the decorator and loggable types.\n",
    "\n",
    "In general, `log` as a decorator takes optional arguments setting whether to make a method a property `is_property` default `True`, what\n",
    "type the loggable quantity is `category` default `'scalar'` (see `TypeFlags` for a list of all types), and whether the quantity should be logged\n",
    "by default.\n",
    "\n",
    "Rather than elaborate, we will use an example to explain these attributes."
   ]
  },
  {
   "cell_type": "code",
   "execution_count": 5,
   "metadata": {},
   "outputs": [
    {
     "name": "stdout",
     "output_type": "stream",
     "text": [
      "{'scalar_property_loggable': 'scalar', 'scalar_method_loggable': 'scalar', 'scalar_performance_loggable': 'scalar', 'string_loggable': 'string'}\n",
      "42\n",
      "Opps this is a property now.\n",
      "1.5 3.0\n",
      "I am a string loggable.\n"
     ]
    }
   ],
   "source": [
    "class ActionWithLoggables(hoomd.custom.Action):\n",
    "    @hoomd.logging.log\n",
    "    def scalar_property_loggable(self):\n",
    "        return 42\n",
    "    \n",
    "    @hoomd.logging.log(is_property=False)\n",
    "    def scalar_method_loggable(self, default_arg=3):\n",
    "        return default_arg / 2\n",
    "    \n",
    "    @hoomd.logging.log(default=False)\n",
    "    def scalar_performance_loggable(self):\n",
    "        return 1_000\n",
    "    \n",
    "    @hoomd.logging.log(category='string')\n",
    "    def string_loggable(self):\n",
    "        return \"I am a string loggable.\"\n",
    "    \n",
    "    def act(self, timestep):\n",
    "        pass\n",
    "\n",
    "action = ActionWithLoggables()\n",
    "print(action.loggables)\n",
    "print(action.scalar_property_loggable)\n",
    "try:\n",
    "    action.scalar_property_loggable()\n",
    "except TypeError:\n",
    "    print(\"Opps this is a property now.\")\n",
    "print(action.scalar_method_loggable(),\n",
    "      action.scalar_method_loggable(6))\n",
    "print(action.string_loggable)"
   ]
  },
  {
   "cell_type": "markdown",
   "metadata": {},
   "source": [
    "## Custom Operation Wrapping\n",
    "\n",
    "Another feature of the custom action API is that when an object is\n",
    "wrapped by a custom operation object, the action's attributes are available through the operation object as if the operation were the\n",
    "action. For example, we will wrap `action` from the previous code block\n",
    "in a `CustomWriter` and access its attributes that way.\n",
    "\n",
    "Due to this wrapping the attribute `trigger` should not exist in your\n",
    "custom action."
   ]
  },
  {
   "cell_type": "code",
   "execution_count": 6,
   "metadata": {},
   "outputs": [
    {
     "name": "stdout",
     "output_type": "stream",
     "text": [
      "42\n",
      "1.5 3.0\n",
      "I am a string loggable.\n"
     ]
    }
   ],
   "source": [
    "custom_op = hoomd.write.CustomWriter(action, 100)\n",
    "print(custom_op.scalar_property_loggable)\n",
    "print(custom_op.scalar_method_loggable(),\n",
    "      custom_op.scalar_method_loggable(6))\n",
    "print(custom_op.string_loggable)"
   ]
  },
  {
   "cell_type": "markdown",
   "metadata": {},
   "source": [
    "## Setting Integrator Flags\n",
    "\n",
    "HOOMD-blue does not always calculate certain quantities to save on\n",
    "computation. These include the rotational kinetic energy, the pressure\n",
    "tensor, and external field virials. If you do not know what one of these\n",
    "quantities are then you likely do not need to use it for your custom\n",
    "action. However, if you need one of these quantities to be available\n",
    "for your custom action, they can be set using either a class level or\n",
    "object level attribute `flags`. `flags` is expected to be a list or\n",
    "sequence of the required flags.\n",
    "\n",
    "Below is an example that requests the pressure tensor be available on\n",
    "any timestep it is run. (Keep in mind that HOOMD-blue will still not\n",
    "calculate the pressure tensor for timesteps your action will not run\n",
    "unless another operation needs the quantity)."
   ]
  },
  {
   "cell_type": "code",
   "execution_count": 7,
   "metadata": {},
   "outputs": [],
   "source": [
    "class ActionWithIntegratorFlags(hoomd.custom.Action):\n",
    "    # This is the preferred way of specifying custom action\n",
    "    # integrator flags\n",
    "    flags = [hoomd.custom.Action.Flags.PRESSURE_TENSOR]\n",
    "    \n",
    "    def act(self, timestep):\n",
    "        pass"
   ]
  },
  {
   "cell_type": "markdown",
   "metadata": {},
   "source": [
    "## Summary\n",
    "\n",
    "These surmise most of the unique features of custom actions in Python.\n",
    "They are\n",
    "- Accessing simulation state through `_state`\n",
    "- Exposing loggable quantities\n",
    "- Accessing action attributes through custom operation wrapper\n",
    "- Setting integrator flags\n",
    "\n",
    "With this information, you could write any action that is possible to\n",
    "write in Python for use in HOOMD-blue. The remain tutorial sections will\n",
    "focus on concrete examples and show some tricks to get the best\n",
    "performance."
   ]
  }
 ],
 "metadata": {
  "kernelspec": {
   "display_name": "Python 3",
   "language": "python",
   "name": "python3"
  },
  "language_info": {
   "codemirror_mode": {
    "name": "ipython",
    "version": 3
   },
   "file_extension": ".py",
   "mimetype": "text/x-python",
   "name": "python",
   "nbconvert_exporter": "python",
   "pygments_lexer": "ipython3",
   "version": "3.9.1"
  }
 },
 "nbformat": 4,
 "nbformat_minor": 4
}
