{
 "cells": [
  {
   "cell_type": "markdown",
   "metadata": {},
   "source": [
    "# Custom Action Features\n",
    "\n",
    "## Overview\n",
    "\n",
    "### Questions\n",
    "\n",
    "- How do I access simulation state information?\n",
    "- How do I create loggable quantities in custom actions?\n",
    "- What are other features provided by the custom action/operation\n",
    "  API?\n",
    "\n",
    "### Objectives\n",
    "\n",
    "- Explain how to access simulation state in a custom action.\n",
    "- Explain how to expose loggable quantities in a custom action.\n",
    "- Demonstrate other miscellaneous features fo custom actions.\n",
    "\n",
    "## Boilerplate Code"
   ]
  },
  {
   "cell_type": "code",
   "execution_count": 1,
   "metadata": {},
   "outputs": [],
   "source": [
    "import hoomd\n",
    "\n",
    "def clear_sim(sim):\n",
    "    \"\"\"Remove all operations (besides intergrator from the sim.\"\"\"\n",
    "    sim.operations.updaters.clear()\n",
    "    sim.operations.writers.clear()\n",
    "    del sim.operations.tuners[1:] # keep the particle sorter\n",
    "\n",
    "cpu = hoomd.device.CPU()\n",
    "sim = hoomd.Simulation(cpu)\n",
    "\n",
    "snap = hoomd.Snapshot()\n",
    "snap.particles.N = 1\n",
    "snap.particles.position[:] = [0, 0, 0]\n",
    "snap.particles.types = ['A']\n",
    "snap.particles.typeid[:] = [0]\n",
    "snap.configuration.box = [10, 10, 10, 0, 0, 0]\n",
    "\n",
    "sim.create_state_from_snapshot(snap)"
   ]
  },
  {
   "cell_type": "markdown",
   "metadata": {},
   "source": [
    "## How do I access simulation state?\n",
    "\n",
    "By the time that a custom action will have its `act` method called\n",
    "it will have an attribute `_state` accessable to it which is the\n",
    "simulation state for the simulation it is associated with. The behavior\n",
    "of this is controlled in the `hoomd.custom.Action.attach` method. The\n",
    "method takes in a simulation object and performs any necessary set-up\n",
    "for the action call `act`. By default, the method stores the simulation\n",
    "state in the `_state` attribute.\n",
    "\n",
    "We will create two custom actions class to show this. In one, we will\n",
    "not modify the `attach` method, and in the other we will make `attach`\n",
    "a no-op. In each class we will make the action test for the existance\n",
    "of the `_state` attribute and print some information about the `_state`\n",
    "if it exists."
   ]
  },
  {
   "cell_type": "code",
   "execution_count": 2,
   "metadata": {},
   "outputs": [],
   "source": [
    "class InspectState(hoomd.custom.Action):\n",
    "    def act(self, timestep):\n",
    "        if hasattr(self, '_state'):\n",
    "            print(\"Has state.\")\n",
    "            print(f\"Type {type(self._state)}, \", end='')\n",
    "            print(f\"Number of particles {self._state.N_particles}.\")\n",
    "        else:\n",
    "            print(\"Uh-oh no '_state' to be found.\")\n",
    "\n",
    "class BrokenInspectState(InspectState):\n",
    "    def attach(self, simulation):\n",
    "        pass"
   ]
  },
  {
   "cell_type": "markdown",
   "metadata": {},
   "source": [
    "Like in the previous section these are both writers. We will go ahead\n",
    "and wrap them and see what happens when we try to run the simulation."
   ]
  },
  {
   "cell_type": "code",
   "execution_count": 3,
   "metadata": {},
   "outputs": [
    {
     "name": "stdout",
     "output_type": "stream",
     "text": [
      "Has state.\n",
      "Type <class 'hoomd.state.State'>, Number of particles 1.\n"
     ]
    }
   ],
   "source": [
    "inspect_state = InspectState()\n",
    "sim.operations.writers.append(\n",
    "    hoomd.write.CustomWriter(inspect_state,\n",
    "                             trigger=hoomd.trigger.Periodic(10))\n",
    ")\n",
    "sim.run(11)"
   ]
  },
  {
   "cell_type": "code",
   "execution_count": 4,
   "metadata": {},
   "outputs": [
    {
     "name": "stdout",
     "output_type": "stream",
     "text": [
      "Uh-oh no _state to be found.\n"
     ]
    }
   ],
   "source": [
    "clear_sim(sim)\n",
    "broken_inspect_state = BrokenInspectState()\n",
    "sim.operations.writers.append(\n",
    "    hoomd.write.CustomWriter(broken_inspect_state,\n",
    "                             trigger=hoomd.trigger.Periodic(10))\n",
    ")\n",
    "sim.run(11)"
   ]
  },
  {
   "cell_type": "code",
   "execution_count": null,
   "metadata": {},
   "outputs": [],
   "source": []
  }
 ],
 "metadata": {
  "kernelspec": {
   "display_name": "Python 3",
   "language": "python",
   "name": "python3"
  },
  "language_info": {
   "codemirror_mode": {
    "name": "ipython",
    "version": 3
   },
   "file_extension": ".py",
   "mimetype": "text/x-python",
   "name": "python",
   "nbconvert_exporter": "python",
   "pygments_lexer": "ipython3",
   "version": "3.6.9"
  }
 },
 "nbformat": 4,
 "nbformat_minor": 4
}
