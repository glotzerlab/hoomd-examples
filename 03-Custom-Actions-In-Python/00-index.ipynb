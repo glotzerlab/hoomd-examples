{
 "cells": [
  {
   "cell_type": "markdown",
   "metadata": {},
   "source": [
    "# Custom Actions in Python\n",
    "\n",
    "This tutorial introduces the necessary information to create\n",
    "custom actions in Python. Briefly, custom actions allow users\n",
    "and developers to implement new functionality into HOOMD-blue\n",
    "without having to write C++ code.\n",
    "\n",
    "**Prerequisites:**\n",
    "\n",
    "This tutorial assumes you are familiar with the concepts presented in\n",
    "[Introducting HOOMD-blue](../00-Introducting-HOOMD-blue/00-index.ipynb) and\n",
    "[Introducing Molecular Dyanamics](../01-Introducing-Molecular-Dynamics/00-index.ipynb).\n",
    "Throughout this tutorial we may use other libraries to introduce writing\n",
    "performant actions in Python. Familiarity with these packages may help,\n",
    "but are not necessary to learn from this tutorial.\n",
    "\n",
    "# Outline\n",
    "\n",
    "- [What are Actions?](01-What-are-Actions.ipynb)\n",
    "- [An Initial Custom Action](02-An-Initial-Custom-Action.ipynb)\n",
    "- [Custom Action Features](03-Custom-Action-Features.ipynb)\n",
    "- [Custom Updater](04-Custom-Updater.ipynb)\n",
    "- [Custom Writer](05-Custom-Writer.ipynb)\n",
    "- [Improving Performance](06-Improving-Performance.ipynb)"
   ]
  }
 ],
 "metadata": {
  "kernelspec": {
   "display_name": "Python 3",
   "language": "python",
   "name": "python3"
  },
  "language_info": {
   "codemirror_mode": {
    "name": "ipython",
    "version": 3
   },
   "file_extension": ".py",
   "mimetype": "text/x-python",
   "name": "python",
   "nbconvert_exporter": "python",
   "pygments_lexer": "ipython3",
   "version": "3.9.2"
  }
 },
 "nbformat": 4,
 "nbformat_minor": 4
}
