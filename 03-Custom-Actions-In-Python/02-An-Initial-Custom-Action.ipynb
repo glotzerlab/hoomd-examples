{
 "cells": [
  {
   "cell_type": "markdown",
   "metadata": {},
   "source": [
    "# An Initial Custom Action\n",
    "\n",
    "## Overview\n",
    "\n",
    "### Questions\n",
    "\n",
    "- How do I write a custom action in Python?\n",
    "- How do I wrap a custom action object?\n",
    "- How do I use a custom action in a simulation?\n",
    "\n",
    "### Objectives\n",
    "\n",
    "- Explain the steps in writing a custom action.\n",
    "- Demonstrate using a custom action in a simulation.\n",
    "\n",
    "## Writing a Custom Action\n",
    "\n",
    "First, we import `hoomd`."
   ]
  },
  {
   "cell_type": "code",
   "execution_count": null,
   "metadata": {},
   "outputs": [],
   "source": [
    "import hoomd"
   ]
  },
  {
   "cell_type": "markdown",
   "metadata": {},
   "source": [
    "Creating a custom action is as simple as creating a subclass of\n",
    "`hoomd.custom.Action`. Here we will create an action that prints\n",
    "out the timestep to standard out."
   ]
  },
  {
   "cell_type": "code",
   "execution_count": 2,
   "metadata": {},
   "outputs": [],
   "source": [
    "class PrintTimestep(hoomd.custom.Action):\n",
    "    def act(self, timestep):\n",
    "        print(timestep)"
   ]
  },
  {
   "cell_type": "markdown",
   "metadata": {},
   "source": [
    "And that is it. We now have an action that can print out the simulation\n",
    "timestep. Notice that we have a method named `act` that takes in a\n",
    "timestep. All actions must define this function, and it must take in\n",
    "the simulation timestep. (If you are wondering how to access simulation\n",
    "data, there is a mechanism for that which we will go over further down).\n",
    "\n",
    "Let's go ahead and create a `PrintTimestep` object."
   ]
  },
  {
   "cell_type": "code",
   "execution_count": 3,
   "metadata": {},
   "outputs": [],
   "source": [
    "custom_action = PrintTimestep()"
   ]
  },
  {
   "cell_type": "markdown",
   "metadata": {},
   "source": [
    "## Wrapping Custom Actions\n",
    "\n",
    "`hoomd.Operations` objects cannot take in a custom action directly.\n",
    "That is part of the operation-action distinction mentioned in the last\n",
    "section. To let an `Operations` object know what kind of action our\n",
    "custom action is, we must wrap it in a subclass of\n",
    "`hoomd.custom.CustomOperation`. We have three options as discussed in\n",
    "the previous section: an updater, writer, or tuner. Since our object\n",
    "does not modify simulation state or an object's hyperparameters, but\n",
    "writes the timestep to standard out, our action is a writer.\n",
    "`hoomd.writer.CustomWriter` then is the correct class to wrap our custom\n",
    "action (`hoomd.update.CustomUpdater` and `hoomd.tune.CustomTuner` are\n",
    "for updaters and tuners respectively).\n",
    "\n",
    "We will now put our custom action into a usable form."
   ]
  },
  {
   "cell_type": "code",
   "execution_count": 4,
   "metadata": {},
   "outputs": [],
   "source": [
    "custom_op = hoomd.write.CustomWriter(\n",
    "    custom_action, trigger=hoomd.trigger.Periodic(100))"
   ]
  },
  {
   "cell_type": "markdown",
   "metadata": {},
   "source": [
    "Notice that custom operations take triggers like other operations.\n",
    "\n",
    "## Using Custom Actions\n",
    "\n",
    "Up until now, we have not touched any of the core HOOMD-blue objects.\n",
    "As a sidenote, this is partially by design. Entire Python packages could\n",
    "create custom actions without needing a `hoomd.Simulation` directly.\n",
    "\n",
    "We will now create a simple simulation to illustrate adding a custom\n",
    "action to an existant `hoomd.Simulation`."
   ]
  },
  {
   "cell_type": "code",
   "execution_count": 5,
   "metadata": {},
   "outputs": [],
   "source": [
    "cpu = hoomd.device.CPU()\n",
    "sim = hoomd.Simulation(cpu)"
   ]
  },
  {
   "cell_type": "markdown",
   "metadata": {},
   "source": [
    "We will create a trivial snapshot to use to initialize the simulation\n",
    "state."
   ]
  },
  {
   "cell_type": "code",
   "execution_count": 6,
   "metadata": {},
   "outputs": [],
   "source": [
    "snap = hoomd.Snapshot()\n",
    "snap.particles.N = 1\n",
    "snap.particles.position[:] = [0, 0, 0]\n",
    "snap.particles.types = ['A']\n",
    "snap.particles.typeid[:] = [0]\n",
    "snap.configuration.box = [10, 10, 10, 0, 0, 0]"
   ]
  },
  {
   "cell_type": "markdown",
   "metadata": {},
   "source": [
    "Initialize the state"
   ]
  },
  {
   "cell_type": "code",
   "execution_count": 7,
   "metadata": {},
   "outputs": [],
   "source": [
    "sim.create_state_from_snapshot(snap)"
   ]
  },
  {
   "cell_type": "markdown",
   "metadata": {},
   "source": [
    "We will ignore adding any other operations including an integrator\n",
    "for this example. That means the only thing this simulation will do\n",
    "is print out timesteps.\n",
    "\n",
    "We now add our custom action wrapped by a `CustomWriter`."
   ]
  },
  {
   "cell_type": "code",
   "execution_count": 8,
   "metadata": {},
   "outputs": [],
   "source": [
    "sim.operations.writers.append(custom_op)"
   ]
  },
  {
   "cell_type": "markdown",
   "metadata": {},
   "source": [
    "We can know run our simulation to see our custom action in work!"
   ]
  },
  {
   "cell_type": "code",
   "execution_count": 9,
   "metadata": {},
   "outputs": [
    {
     "name": "stdout",
     "output_type": "stream",
     "text": [
      "100\n",
      "200\n",
      "300\n",
      "400\n",
      "500\n",
      "600\n",
      "700\n",
      "800\n",
      "900\n",
      "1000\n"
     ]
    }
   ],
   "source": [
    "sim.run(1001)"
   ]
  },
  {
   "cell_type": "markdown",
   "metadata": {},
   "source": [
    "In the next section we discuss some of the features of custom actions,\n",
    "before getting into non-trival examples in later sections."
   ]
  },
  {
   "cell_type": "code",
   "execution_count": null,
   "metadata": {},
   "outputs": [],
   "source": []
  }
 ],
 "metadata": {
  "kernelspec": {
   "display_name": "Python 3",
   "language": "python",
   "name": "python3"
  },
  "language_info": {
   "codemirror_mode": {
    "name": "ipython",
    "version": 3
   },
   "file_extension": ".py",
   "mimetype": "text/x-python",
   "name": "python",
   "nbconvert_exporter": "python",
   "pygments_lexer": "ipython3",
   "version": "3.6.9"
  }
 },
 "nbformat": 4,
 "nbformat_minor": 4
}
