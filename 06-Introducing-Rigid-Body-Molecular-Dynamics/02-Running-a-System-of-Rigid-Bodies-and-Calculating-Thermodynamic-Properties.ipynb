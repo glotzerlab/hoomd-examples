{
 "cells": [
  {
   "cell_type": "markdown",
   "id": "6251b2a4-349f-4270-9bf6-8e4dced5acc9",
   "metadata": {
    "tags": []
   },
   "source": [
    "# Rigid Body Molecular Dynamics Simulations\n",
    "\n",
    "## Overview\n",
    "\n",
    "### Questions\n",
    "\n",
    "* How do input rigid bodies into hoomd? \n",
    "* How do I integrate the rigid bodies in my simulation? \n",
    "* In a rigid body molecular dynamics simulation, how are thermodynamic quantities measured?  \n",
    "\n",
    "### Objectives\n",
    "\n",
    "* Describe how to add a rigid body to a hoomd simulation. \n",
    "    * Mass \n",
    "    * Moment of inertia\n",
    "* Explain how filtering of the rigid body works in hoomd.\n",
    "* Explain integration of rotational degrees of freedom.\n",
    "* Show how constituent particles are specified in hoomd.\n",
    "* Run a rigid body MD simulation at constant temperature.\n",
    "* Define how quanties like the energy are defined in a rigid body molecular dynamics simulation. \n",
    "* Show that thermodynamic quantities (the total translational kinetic energy in our example) are defined in reference to rigid bodies not the constituent particles of the rigid body.\n",
    "\n",
    "## Boilerplate code"
   ]
  },
  {
   "cell_type": "code",
   "execution_count": 1,
   "id": "ca8d45e1-53a7-4173-a9ea-4261837ffdcc",
   "metadata": {},
   "outputs": [],
   "source": [
    "import itertools\n",
    "import math\n",
    "\n",
    "import gsd.hoomd\n",
    "import hoomd\n",
    "import numpy\n",
    "import rowan\n",
    "\n",
    "from hoomd.md import constrain"
   ]
  },
  {
   "cell_type": "markdown",
   "id": "e62936fd-bd6c-43f5-865a-e6addfb18072",
   "metadata": {
    "tags": []
   },
   "source": [
    "The `render_rigid_body` and 'render_simulation' are functions in the next (hidden) cell will render the rigid body and render a simulation snapshot (respectively) using **fresnel**.\n",
    "\n",
    "<div class=\"alert alert-info\">\n",
    "    This is not intended as a full tutorial on <b>fresnel</b> - see the <a href=\"https://fresnel.readthedocs.io/\">fresnel user documentation</a> if you would like to learn more.\n",
    "</div>"
   ]
  },
  {
   "cell_type": "code",
   "execution_count": 2,
   "id": "b1cfc963-be37-4a00-87a6-772a24a92288",
   "metadata": {
    "tags": []
   },
   "outputs": [],
   "source": [
    "import fresnel\n",
    "import IPython\n",
    "\n",
    "device = fresnel.Device()\n",
    "tracer = fresnel.tracer.Path(device=device, w=300, h=300)\n",
    "\n",
    "def render_rigid_body(pos_body, radius_constituent):\n",
    "    '''\n",
    "    outputs the sphere positions in the rigid body depending on the radius of the constituent particles\n",
    "    '''\n",
    "    L = 3 * numpy.max(numpy.linalg.norm(pos_body, axis=1))\n",
    "    scene = fresnel.Scene(device)\n",
    "    geometry = fresnel.geometry.Sphere(scene,\n",
    "                                       N=len(pos_body),\n",
    "                                       radius=radius_constituent)\n",
    "    geometry.material = fresnel.material.Material(color=fresnel.color.linear(\n",
    "        [252 / 255, 209 / 255, 1 / 255]),\n",
    "                                                  roughness=0.5)\n",
    "    geometry.position[:] = pos_body\n",
    "    geometry.outline_width = 0.04\n",
    "    box = fresnel.geometry.Box(scene, [L, L, L, 0, 0, 0], box_radius=.02)\n",
    "    \n",
    "    scene.lights = [\n",
    "        fresnel.light.Light(direction=(0, 0, 1),\n",
    "                            color=(0.8, 0.8, 0.8),\n",
    "                            theta=math.pi),\n",
    "        fresnel.light.Light(direction=(1, 1, 1),\n",
    "                            color=(1.1, 1.1, 1.1),\n",
    "                            theta=math.pi / 3)\n",
    "    ]\n",
    "    scene.camera = fresnel.camera.orthographic(position=(L * 2, L, L * 2),\n",
    "                                               look_at=(0, 0, 0),\n",
    "                                               up=(0, 1, 0),\n",
    "                                               height=L * 1.4 + 1)\n",
    "    scene.background_color = (1, 1, 1)\n",
    "    return IPython.display.Image(tracer.sample(scene, samples=500)._repr_png_())\n",
    "\n",
    "def render_simulation(radius_constituent,snapshot):\n",
    "    '''\n",
    "    Outputs sphere positions based on the trajectory of the simulation\n",
    "    '''\n",
    "    wh_sp = numpy.where((snapshot.particles.typeid == 1))\n",
    "    pos_parts = snapshot.particles.position[wh_sp]\n",
    "    L = snapshot.configuration.box[0]\n",
    "    \n",
    "    scene = fresnel.Scene(device)\n",
    "    geometry = fresnel.geometry.Sphere(scene,\n",
    "                                       N=len(pos_parts),\n",
    "                                       radius=radius_constituent)\n",
    "    geometry.position[:] = pos_parts\n",
    "    geometry.material = fresnel.material.Material(color=fresnel.color.linear(\n",
    "        [252 / 255, 209 / 255, 1 / 255]),\n",
    "                                                  roughness=0.5)\n",
    "    geometry.outline_width = 0.04\n",
    "    box = fresnel.geometry.Box(scene, [L, L, L, 0, 0, 0], box_radius=.02)\n",
    "    \n",
    "    scene.lights = [\n",
    "        fresnel.light.Light(direction=(0, 0, 1),\n",
    "                            color=(0.8, 0.8, 0.8),\n",
    "                            theta=math.pi),\n",
    "        fresnel.light.Light(direction=(1, 1, 1),\n",
    "                            color=(1.1, 1.1, 1.1),\n",
    "                            theta=math.pi / 3)\n",
    "    ]\n",
    "    scene.camera = fresnel.camera.Orthographic(position=(L * 2, L, L * 2),\n",
    "                                               look_at=(0, 0, 0),\n",
    "                                               up=(0, 1, 0),\n",
    "                                               height=L * 1.4 + 1)\n",
    "    scene.background_color = (1, 1, 1)\n",
    "    return IPython.display.Image(tracer.sample(scene, samples=500)._repr_png_())"
   ]
  },
  {
   "cell_type": "markdown",
   "id": "6d833ef9-feba-4792-bf13-39c56056473a",
   "metadata": {},
   "source": [
    "The previous section outlined the rigid body physics of a dumbell particle of two spheres fused together.  "
   ]
  },
  {
   "cell_type": "code",
   "execution_count": 3,
   "id": "a5b64fb6-0b21-4af9-bf26-d49c344e3809",
   "metadata": {},
   "outputs": [],
   "source": [
    "mass_rigid_body = 2.\n",
    "inertia_tensor = numpy.array([[0,0,0],[0,2,0],[0,0,2]])\n",
    "local_position = numpy.array([[1,0,0],[-1,0,0]])"
   ]
  },
  {
   "cell_type": "code",
   "execution_count": 4,
   "id": "5f5e2767-d3cd-4f93-85ab-bb4929a73942",
   "metadata": {},
   "outputs": [],
   "source": [
    "m = 2\n",
    "N_particles = 2 * m**3\n",
    "spacing = 10.\n",
    "K = math.ceil(N_particles**(1 / 3))\n",
    "L = K * spacing\n",
    "x = numpy.linspace(-L / 2, L / 2, K, endpoint=False)\n",
    "position = list(itertools.product(x, repeat=3))\n",
    "position = numpy.array(position)\n",
    "position[:,0] = position[:,0]\n",
    "snapshot = gsd.hoomd.Snapshot()\n",
    "snapshot.particles.N = N_particles\n",
    "snapshot.particles.position = position[0:N_particles,:]\n",
    "snapshot.particles.orientation = [(1,0,0,0)] * N_particles\n",
    "snapshot.configuration.box = [L, L, L, 0, 0, 0]"
   ]
  },
  {
   "cell_type": "markdown",
   "id": "28779baf-a851-46ca-a7a6-13025eec9051",
   "metadata": {},
   "source": [
    "### Property Specifications of the Rigid Body:\n",
    "\n",
    "Add the properties of the rigid bodies. \n",
    "\n",
    "The moment of inertia of a rigid body is defined by an inertia tensor, but it is important to note that HOOMD requires that the rigid body is oriented such that the moment of inertia tensor is *diagonalized*. In the case of the dumbell above this is already the case and the xx,yy, and zz components of the inertia tensor matrix are directly inputed into hoomd. Section 3 of this tutorial covers how to add bodies to hoomd that are oriented in a way that the inertia tensor is not diagonalized."
   ]
  },
  {
   "cell_type": "code",
   "execution_count": 5,
   "id": "9132832a-d700-4d5e-a86c-7764e3dd3de7",
   "metadata": {},
   "outputs": [],
   "source": [
    "snapshot.particles.mass = [mass_rigid_body] * N_particles\n",
    "snapshot.particles.moment_inertia = [(inertia_tensor[0,0],inertia_tensor[1,1],inertia_tensor[2,2])] * N_particles"
   ]
  },
  {
   "cell_type": "markdown",
   "id": "66df6ca1-dadb-4931-ad40-9335488b3363",
   "metadata": {},
   "source": [
    "Define both the rigid body and constituent particle types. Note that the typeid for each particle is only the rigid body id. The constituent particles will be added to the simulation later. "
   ]
  },
  {
   "cell_type": "code",
   "execution_count": 6,
   "id": "3e30e638-095a-4ee3-8055-a3eefae5e124",
   "metadata": {},
   "outputs": [],
   "source": [
    "snapshot.particles.types = ['rigid_body','constituent_sphere']\n",
    "snapshot.particles.typeid = [0] * N_particles"
   ]
  },
  {
   "cell_type": "markdown",
   "id": "f4724edf-4022-41ba-b746-5025e9d457e4",
   "metadata": {},
   "source": [
    "Write the snapshot to the file system."
   ]
  },
  {
   "cell_type": "code",
   "execution_count": 7,
   "id": "52e30354-0a77-4aae-bd50-3f5d681384ed",
   "metadata": {},
   "outputs": [],
   "source": [
    "with gsd.hoomd.open(name='lattice_rigid.gsd', mode='wb') as f:\n",
    "    f.append(snapshot)"
   ]
  },
  {
   "cell_type": "markdown",
   "id": "2b87e9e4-c2b7-475a-9dd9-0e2864ecf089",
   "metadata": {},
   "source": [
    "Create a simulation object and device"
   ]
  },
  {
   "cell_type": "code",
   "execution_count": 8,
   "id": "ecbba6de-5a56-4118-8d6d-fc571c1d7355",
   "metadata": {},
   "outputs": [],
   "source": [
    "cpu = hoomd.device.CPU()\n",
    "sim = hoomd.Simulation(device=cpu, seed=1)\n",
    "sim.create_state_from_gsd(filename='lattice_rigid.gsd')"
   ]
  },
  {
   "cell_type": "markdown",
   "id": "131670a2-e9d2-4e3d-802b-31e624a4a2ec",
   "metadata": {},
   "source": [
    "# How to integrate the rigid bodies:\n",
    "\n",
    "The process of integrating rigid bodies requires many steps, the basics are listed below. \n",
    "\n",
    "* Rigid Body Initialization \n",
    "\n",
    "    * Initialize simulation from a snapshot (did this above).\n",
    "    * Create a cell list that filters out the rigid bodies which are composed of constituent particles\n",
    "    * Create a **filter** for the integrator that only integrates the rigid bodies \n",
    "    * Create a force field for the constituent particles\n",
    "    * Create an integrator\n",
    "    * Add a rigid body constraint and define the particles within the rigid body\n",
    "    * Create particles in the rigid body in the simulation. \n",
    "    * Add rigid bodies to the integrator\n",
    "\n",
    "* Final Setup\n",
    "    * Give particles random momenta drawn correctly drawn from the Boltzmann distribution for the current temperature\n",
    "    * Run Simulation at Desired Temperature\n",
    "\n",
    "* Run the simulation"
   ]
  },
  {
   "cell_type": "markdown",
   "id": "f30c2a57-5a12-46e7-b37b-d6f0fed42db3",
   "metadata": {},
   "source": [
    "# Parameters for the Lennard-Jones force field\n",
    "\n",
    "Each sphere that makes up the dumbell interacts with a Lennard Jones potential that has two parameters:\n",
    "* $\\epsilon$ - The prefactor in front of the LJ potential\n",
    "* $\\sigma$ - Dictates the range of the LJ potential\n",
    "\n",
    "Assume the radius of the particle is the half the minimum distance between two LJ spheres at minimum pairwise energy. \n",
    "\n",
    "$r_m = 2^{1/6}\\sigma$\n",
    "\n",
    "Set $r_m$ to 2 and therefore $\\sigma$ equals $2/2^{1/6}$\n",
    "\n",
    "Set $\\epsilon = 1.$"
   ]
  },
  {
   "cell_type": "code",
   "execution_count": 9,
   "id": "50c8167e-e876-4e4a-90e0-0a5539d052c3",
   "metadata": {},
   "outputs": [],
   "source": [
    "epsilon = 1\n",
    "sigma = 2/2**(1/6)"
   ]
  },
  {
   "cell_type": "markdown",
   "id": "95e33fa2-51d4-4038-b4f9-b3388fdc39aa",
   "metadata": {},
   "source": [
    "# Parameters of the Integrator:\n",
    "\n",
    "Set integrate the rotational degrees of freedom to True to update the orientation of rigid bodies \n",
    "\n",
    "Rigid bodies are often anisotropic and their rotational degrees of freedom need to be integrated to evolve their orientation through time. Hoomd requires the user to explicitly set integration of the rotational degrees of freedom.\n",
    "\n",
    "In order to only integrate over the rigid bodies and not the constituent particles that make up the body, hoomd uses a filter that tells the integrator to only integrate over the rigid bodies and any other free bodies in the system. This allows the integration to happen for only the rigid bodies. "
   ]
  },
  {
   "cell_type": "code",
   "execution_count": 10,
   "id": "f0974f8e-62d8-44b8-a356-5a8df1db1443",
   "metadata": {},
   "outputs": [],
   "source": [
    "integrator = hoomd.md.Integrator(dt=0.0001,integrate_rotational_dof=True)"
   ]
  },
  {
   "cell_type": "markdown",
   "id": "a4d1b1ba-8c49-4a72-b2c1-952dc0165c34",
   "metadata": {},
   "source": [
    "Make a cell list that excludes the rigid body centers and add a Lennard-Jones potential with the cell list."
   ]
  },
  {
   "cell_type": "code",
   "execution_count": 11,
   "id": "ba94e64f-dd12-445d-8dbc-b666ff117be0",
   "metadata": {},
   "outputs": [],
   "source": [
    "cell = hoomd.md.nlist.Cell(buffer=0,exclusions = ['body'])\n",
    "lj = hoomd.md.pair.LJ(nlist=cell)"
   ]
  },
  {
   "cell_type": "markdown",
   "id": "a184e8a8-3b26-46b3-940c-aea16bb52dd0",
   "metadata": {},
   "source": [
    "Specify all pairwise interactions in the system. Set cutoff radius and epsilon for all interactions besides the constituent particles to be zero."
   ]
  },
  {
   "cell_type": "code",
   "execution_count": 12,
   "id": "09e12d0c-c73c-4dda-9dea-1608e68f704b",
   "metadata": {},
   "outputs": [],
   "source": [
    "lj.params[('rigid_body', 'rigid_body')] = dict(epsilon=0, sigma=sigma)\n",
    "lj.params[('rigid_body', 'constituent_sphere')] = dict(epsilon=0, sigma=sigma)\n",
    "lj.params[('constituent_sphere', 'constituent_sphere')] = dict(epsilon=epsilon, sigma=sigma)\n",
    "lj.r_cut[('constituent_sphere', 'constituent_sphere')] = 4 * sigma \n",
    "lj.r_cut[('rigid_body', 'rigid_body')] = 0.\n",
    "lj.r_cut[('rigid_body', 'constituent_sphere')] = 0.\n",
    "integrator.forces.append(lj)"
   ]
  },
  {
   "cell_type": "markdown",
   "id": "92568aa8-b342-4044-a3c5-282995191066",
   "metadata": {},
   "source": [
    "## Adding rigid body constraint:\n",
    "\n",
    "This adds the rigid bodies to the simulations and marks them as 'body' type particles. \n",
    "\n",
    "In hoomd, the rigid body constraint is added to the integrator.\n",
    "\n",
    "Requirements of the constraint are:\n",
    "* A list of constituent particle type names\n",
    "* A list of constituent particle positions\n",
    "* A list of constituent particle orientations\n",
    "* A list of constituent particle charges\n",
    "* A list of constituent particle diameters"
   ]
  },
  {
   "cell_type": "code",
   "execution_count": 13,
   "id": "4fd8f444-47ef-4678-b483-4efe99243c0d",
   "metadata": {},
   "outputs": [],
   "source": [
    "rigid = constrain.Rigid()\n",
    "\n",
    "constituent_types = ['constituent_sphere','constituent_sphere']\n",
    "\n",
    "rigid.body['rigid_body'] = {\n",
    "    \"constituent_types\": constituent_types,\n",
    "    \"positions\":local_position,\n",
    "    \"orientations\":[(1,0,0,0)] * len(constituent_types),\n",
    "    \"charges\":[0.] * len(constituent_types),\n",
    "    \"diameters\":[2.] * len(constituent_types)}"
   ]
  },
  {
   "cell_type": "markdown",
   "id": "9287f871-aae5-421f-8316-c482ce7eb128",
   "metadata": {},
   "source": [
    "### Creating the constituent particles in simulation:\n",
    "\n",
    "Create the constituent particles in simulations so that hoomd can sum over the forces of the particles on each rigid body and add the constraint to the integrator. "
   ]
  },
  {
   "cell_type": "code",
   "execution_count": 14,
   "id": "7f96fa2b-238f-47a5-9d96-ae8225a0b9d3",
   "metadata": {},
   "outputs": [],
   "source": [
    "rigid.create_bodies(sim.state)\n",
    "integrator.rigid = rigid"
   ]
  },
  {
   "cell_type": "markdown",
   "id": "c4bab758-8031-41a2-b8f3-0684cab1291c",
   "metadata": {},
   "source": [
    "# Filtering integration in hoomd:\n",
    "\n",
    "Hoomd must filter out the integration of only the rigid bodies and has a built in method to do so.\n",
    "\n",
    "The rigid body filter is applied to the Nose-Hoover NVT integrator, which maintains a constant temperature for the system. \n",
    "\n",
    "*Center* particles are denoted as the rigid body centers defined above. *free* particles are particles that are neither a rigid body center, nor constituent particles of a rigid body.  "
   ]
  },
  {
   "cell_type": "code",
   "execution_count": 15,
   "id": "f7788741-87a8-4311-b156-e737c3e92644",
   "metadata": {},
   "outputs": [],
   "source": [
    "temperature = 1.\n",
    "rigid_centers_and_free_filter = hoomd.filter.Rigid((\"center\", \"free\"))\n",
    "nvt = hoomd.md.methods.NVT(kT = temperature, tau = 1., filter = rigid_centers_and_free_filter)\n",
    "integrator.methods.append(nvt)\n",
    "sim.operations.integrator = integrator"
   ]
  },
  {
   "cell_type": "markdown",
   "id": "5d41c324-cf9d-483d-a85d-aeae5200c5fa",
   "metadata": {},
   "source": [
    "Before running the simulation define a logger."
   ]
  },
  {
   "cell_type": "code",
   "execution_count": 16,
   "id": "f3ff1e01-938b-4dac-bdef-f98ba3dc20d9",
   "metadata": {},
   "outputs": [],
   "source": [
    "# Gsd writer for simulations\n",
    "logger = hoomd.logging.Logger(['particle','constraint'])\n",
    "gsd_oper = hoomd.write.GSD(trigger=hoomd.trigger.Periodic(1000), filename='randomization.gsd',log=logger,mode='wb',dynamic=['momentum','property'])\n",
    "sim.operations += gsd_oper"
   ]
  },
  {
   "cell_type": "markdown",
   "id": "8fdc8106-818d-4a08-bd68-eb9dc14161d7",
   "metadata": {},
   "source": [
    "## Running a Simulation in Hoomd:\n",
    "\n",
    "The simulation has now been set up to run and log a rigid body simulation.\n",
    "\n",
    "## As an example, thermodynamic properties will be computed and saved for the system.\n",
    "\n",
    "The thermdynamic property compared below will show system wide translational kinetic energy calculated by hoomd matches to the translational kinetic energy calculated from the velocities and masses of the rigid bodies. \n",
    "\n",
    "This thereby demonstrates the the thermodynamic quantities of the system are determined by the properties of the rigid bodies (mass, moment of inertia, ect.), and the forces between the constituent particles but the masses of the constituent particles. The constituent particles only define the force field between rigid bodies. \n",
    "\n",
    "## Note:\n",
    "The thermodynamic properties must also be filtered so that they are calculated only over the rigid body centers. This is the same as applying a filter to only integrate the rigid body centers"
   ]
  },
  {
   "cell_type": "code",
   "execution_count": 17,
   "id": "b8806bfd-dae5-4dd5-b010-93156cee4cd9",
   "metadata": {},
   "outputs": [],
   "source": [
    "thermodynamic_properties = hoomd.md.compute.ThermodynamicQuantities(\n",
    "    filter=rigid_centers_and_free_filter)\n",
    "\n",
    "sim.operations.computes.append(thermodynamic_properties)"
   ]
  },
  {
   "cell_type": "markdown",
   "id": "ac4e1707-ae15-45e7-9b2d-2eddd6691754",
   "metadata": {},
   "source": [
    "Once again, filter by particle type to thermalize only the rigid bodies."
   ]
  },
  {
   "cell_type": "code",
   "execution_count": 18,
   "id": "943578ee-8346-4dae-88da-24df9d466cce",
   "metadata": {},
   "outputs": [],
   "source": [
    "sim.state.thermalize_particle_momenta(filter=rigid_centers_and_free_filter, kT=temperature)"
   ]
  },
  {
   "cell_type": "markdown",
   "id": "80d7122e-3c79-4585-954e-1a91eb1e5772",
   "metadata": {},
   "source": [
    "Run the simulation."
   ]
  },
  {
   "cell_type": "code",
   "execution_count": 19,
   "id": "a7d80277-80cd-4f58-9647-f2e8d7a868d6",
   "metadata": {},
   "outputs": [],
   "source": [
    "sim.run(20000)"
   ]
  },
  {
   "cell_type": "code",
   "execution_count": 20,
   "id": "1ceeace6-bd54-402a-80bc-83d3ab3840b9",
   "metadata": {},
   "outputs": [
    {
     "data": {
      "text/plain": [
       "29.72003895265531"
      ]
     },
     "execution_count": 20,
     "metadata": {},
     "output_type": "execute_result"
    }
   ],
   "source": [
    "thermodynamic_properties.translational_kinetic_energy"
   ]
  },
  {
   "cell_type": "code",
   "execution_count": 21,
   "id": "23d9aeb7-d520-4b66-896e-bf53992c05cc",
   "metadata": {},
   "outputs": [
    {
     "data": {
      "image/png": "[encoded data removed]",
      "text/plain": [
       "<IPython.core.display.Image object>"
      ]
     },
     "execution_count": 21,
     "metadata": {},
     "output_type": "execute_result"
    }
   ],
   "source": [
    "snapshot = gsd.hoomd.open('randomization.gsd')[-1]\n",
    "render_simulation(1.,snapshot)"
   ]
  },
  {
   "cell_type": "code",
   "execution_count": 22,
   "id": "e9778d66-8017-43bf-a5b4-6bd2c5d56906",
   "metadata": {},
   "outputs": [
    {
     "name": "stdout",
     "output_type": "stream",
     "text": [
      "translational kinetic energy calculated from velocity and mass of rigid bodies 29.720037\n"
     ]
    }
   ],
   "source": [
    "# Get the mass and velocity of the rigid bodies\n",
    "rigid_body = numpy.where(snapshot.particles.typeid == 0)\n",
    "velocity = snapshot.particles.velocity[rigid_body]\n",
    "mass = snapshot.particles.mass[rigid_body]\n",
    "\n",
    "print('translational kinetic energy calculated from velocity and mass of rigid bodies', numpy.sum(.5 * mass * numpy.linalg.norm(velocity,axis=1) ** 2))"
   ]
  },
  {
   "cell_type": "markdown",
   "id": "3520e3a3-2fd6-4a46-8a2a-4a5ac2c937b8",
   "metadata": {},
   "source": [
    "Note that the translational kinetic energy for the rigid bodies is the same as the tranlational kinetic energy calculated for the simulation. "
   ]
  }
 ],
 "metadata": {
  "kernelspec": {
   "display_name": "Python 3 (ipykernel)",
   "language": "python",
   "name": "python3"
  },
  "language_info": {
   "codemirror_mode": {
    "name": "ipython",
    "version": 3
   },
   "file_extension": ".py",
   "mimetype": "text/x-python",
   "name": "python",
   "nbconvert_exporter": "python",
   "pygments_lexer": "ipython3",
   "version": "3.8.13"
  }
 },
 "nbformat": 4,
 "nbformat_minor": 5
}
