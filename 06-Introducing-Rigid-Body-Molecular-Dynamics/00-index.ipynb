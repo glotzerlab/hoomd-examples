{
 "cells": [
  {
   "cell_type": "markdown",
   "metadata": {},
   "source": [
    "# Modelling rigid bodies\n",
    "\n",
    "This tutorial shows you how to run simulations of rigid bodies.\n",
    "\n",
    "**Prerequisites:**\n",
    "\n",
    "You should be familiar with the concepts taught in the tutorial [Introducing HOOMD-blue](../00-Introducing-HOOMD-blue/00-index.ipynb), [Introducing Molecular Dynamics](../01-Introducing-Molecular-Dynamics/00-index.ipynb), and have some background knowledge on statistical mechanics as well as linear algebra."
   ]
  },
  {
   "cell_type": "markdown",
   "metadata": {
    "nbsphinx-toctree": {
     "maxdepth": 1
    }
   },
   "source": [
    "## Outline\n",
    "\n",
    "1. [Introduction to Rigid Bodies](01-Introduction-to-Rigid-Bodies.ipynb)\n",
    "2. [Running a System of Rigid Bodies and Calculating Thermodynamic Properties](02-Running-a-System-of-Rigid-Bodies-and-Calculating-Thermodynamic-Properties.ipynb) - How do input rigid bodies into HOOMD-blue? How do I integrate the rigid bodies in my simulation? In a rigid body molecular dynamics simulation, how are thermodynamic quantities measured?\n",
    "3. [Generalized form of rigid bodies in hoomd](03-Diagonalization-Moment-of-Inertia.ipynb) - How do I input arbitrary rigid body into HOOMD-blue?"
   ]
  },
  {
   "cell_type": "markdown",
   "metadata": {},
   "source": [
    "This tutorial is written with [jupyter](https://jupyter.org/). You can download the source from the [hoomd-examples](https://github.com/glotzerlab/hoomd-examples) repository."
   ]
  }
 ],
 "metadata": {
  "kernelspec": {
   "display_name": "Python 3.8.9 64-bit",
   "language": "python",
   "name": "python3"
  },
  "language_info": {
   "codemirror_mode": {
    "name": "ipython",
    "version": 3
   },
   "file_extension": ".py",
   "mimetype": "text/x-python",
   "name": "python",
   "nbconvert_exporter": "python",
   "pygments_lexer": "ipython3",
   "version": "3.8.9"
  },
  "record_timing": false,
  "vscode": {
   "interpreter": {
    "hash": "31f2aee4e71d21fbe5cf8b01ff0e069b9275f58929596ceb00d14d90e3e16cd6"
   }
  }
 },
 "nbformat": 4,
 "nbformat_minor": 4
}
