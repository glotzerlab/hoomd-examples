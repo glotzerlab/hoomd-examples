{
 "cells": [
  {
   "cell_type": "markdown",
   "metadata": {},
   "source": [
    "# Executing Simulations\n",
    "\n",
    "## Overview\n",
    "\n",
    "### Questions\n",
    "\n",
    "* How can I execute a series of workflow steps on many simulations?\n",
    "\n",
    "### Objectives\n",
    "\n",
    "* Introduce **workflows**.\n",
    "* Demonstrate how to use **signac-flow** to define **workflow steps** and their associated **pre-conditions** and **post-conditions**.\n",
    "* Execute the **workflow** to randomize and compress all **state points** in the **data space**. \n",
    "\n",
    "## Boilerplate code"
   ]
  },
  {
   "cell_type": "code",
   "execution_count": 1,
   "metadata": {},
   "outputs": [],
   "source": [
    "import math\n",
    "\n",
    "import hoomd\n",
    "import signac"
   ]
  },
  {
   "cell_type": "markdown",
   "metadata": {},
   "source": [
    "## Workflow steps\n",
    "\n",
    "The [Introducing HOOMD-blue](../00-Introducing-HOOMD-blue/00-index.ipynb) tutorial employs distinct **workflow steps** that must be performed in sequence to complete the self-assembly study at a given **state point**.\n",
    "These are *initialization*, *randomization*, *compression*, *equilibration*, and *analysis*.\n",
    "The previous section in this tutorial *initialized* every **state point** in the **data space**.\n",
    "This section will *randomize* and *compress* them and the next section will *equilibrate* them.\n",
    "*Analysis* can also be implemented as a **workflow step**, but this is left as an exercise for the reader.\n",
    "\n",
    "Use **signac-flow** to define these **workflow steps** as Python functions and execute them in the proper sequence on all **state points** in the **data space**."
   ]
  },
  {
   "cell_type": "code",
   "execution_count": 2,
   "metadata": {},
   "outputs": [],
   "source": [
    "import flow"
   ]
  },
  {
   "cell_type": "markdown",
   "metadata": {},
   "source": [
    "Define a function that creates a **Simulation** object based on the **signac job**:"
   ]
  },
  {
   "cell_type": "code",
   "execution_count": 3,
   "metadata": {},
   "outputs": [],
   "source": [
    "def create_simulation(job):\n",
    "    cpu = hoomd.device.CPU()\n",
    "\n",
    "    # Set the simulation seed from the statepoint.\n",
    "    sim = hoomd.Simulation(device=cpu, seed=job.statepoint.seed)\n",
    "    mc = hoomd.hpmc.integrate.ConvexPolyhedron()\n",
    "    mc.shape['octahedron'] = dict(vertices=[\n",
    "        (-0.5, 0, 0),\n",
    "        (0.5, 0, 0),\n",
    "        (0, -0.5, 0),\n",
    "        (0, 0.5, 0),\n",
    "        (0, 0, -0.5),\n",
    "        (0, 0, 0.5),\n",
    "    ])\n",
    "    sim.operations.integrator = mc\n",
    "\n",
    "    return sim"
   ]
  },
  {
   "cell_type": "markdown",
   "metadata": {},
   "source": [
    "This is the code from [Introducing HOOMD-blue](../00-Introducing-HOOMD-blue/00-index.ipynb), adapted to use the seed for the current **signac job** with `job.statepoint.seed`."
   ]
  },
  {
   "cell_type": "markdown",
   "metadata": {},
   "source": [
    "Subclass FlowProject by convention."
   ]
  },
  {
   "cell_type": "code",
   "execution_count": 4,
   "metadata": {},
   "outputs": [],
   "source": [
    "class Project(flow.FlowProject):\n",
    "    pass"
   ]
  },
  {
   "cell_type": "markdown",
   "metadata": {},
   "source": [
    "Define a function that executes the *randomization* step:"
   ]
  },
  {
   "cell_type": "code",
   "execution_count": 5,
   "metadata": {},
   "outputs": [],
   "source": [
    "@Project.pre.true('initialized')  # Pre-condition in job document.\n",
    "@Project.post.true('randomized')  # Post-condition in job document.\n",
    "@Project.operation  # Workflow step.\n",
    "def randomize(job):\n",
    "    sim = create_simulation(job)\n",
    "\n",
    "    # Read `lattice.gsd` from the signac job's directory.\n",
    "    sim.create_state_from_gsd(filename=job.fn('lattice.gsd'))\n",
    "    sim.run(10e3)\n",
    "\n",
    "    # Write `random.gsd` to the signac job's directory.\n",
    "    hoomd.write.GSD.write(state=sim.state,\n",
    "                          mode='xb',\n",
    "                          filename=job.fn('random.gsd'))\n",
    "\n",
    "    # Set the 'randomized' to satisfy the post-condition.\n",
    "    job.document['randomized'] = True"
   ]
  },
  {
   "cell_type": "markdown",
   "metadata": {},
   "source": [
    "In **signac-flow's** terminology, a project operation is a complete **workflow step** that modifies the **signac job's** state.\n",
    "Recall that the similarly named **HOOMD-blue Operation** is a class that acts on the state of the simulation at defined time steps.\n",
    "This tutorial uses the term **workflow step** wherever possible to avoid ambiguity.\n",
    "\n",
    "`@Project.operation` is a decorator that declares the *randomize* function is a **workflow step**.\n",
    "`@Project.pre` and `@Project.post` define **pre-conditions** and **post-conditions** for this step, which return a boolean to indicate whether a **workflow step** is ready to start (**pre-condition**) or complete (**post-condition**).\n",
    "In this block, both conditions are evaluated by `pre.true` and `post.true` which examine the **job document** and check whether the item with the given key evaluates to `True`.\n",
    "Use **pre-** and **post-conditions** to define the sequence in which the **workflow steps** will execute.\n",
    "Here, the **pre-condition** checking `'initialized'` is satisfied for those **signac jobs** that were *initialized* in the previous section which set `job.document['initialize'] = True`.\n",
    "\n",
    "The body of the function creates the **Simulation** object using the `create_simulation` method from above, completes the *randomization* as in the [Introducing HOOMD-blue](../00-Introducing-HOOMD-blue/00-index.ipynb) tutorial, and sets the `'randomized'` item in the **job document** to `True`.\n",
    "The function writes `randomized.gsd` to the **signac job's** assigned **directory** using the `job.fn` method."
   ]
  },
  {
   "cell_type": "markdown",
   "metadata": {},
   "source": [
    "Similarly define a function that executes the *compression* step:"
   ]
  },
  {
   "cell_type": "code",
   "execution_count": 6,
   "metadata": {},
   "outputs": [],
   "source": [
    "@Project.pre.after(randomize)  # Execute after randomize completes.\n",
    "@Project.post.true('compressed_step')\n",
    "@Project.operation\n",
    "def compress(job):\n",
    "    sim = create_simulation(job)\n",
    "\n",
    "    # Read `random.gsd` from the signac job directory.\n",
    "    sim.create_state_from_gsd(filename=job.fn('random.gsd'))\n",
    "\n",
    "    a = math.sqrt(2) / 2\n",
    "    V_particle = 1 / 3 * math.sqrt(2) * a**3\n",
    "\n",
    "    initial_box = sim.state.box\n",
    "    final_box = hoomd.Box.from_box(initial_box)\n",
    "\n",
    "    # Set the final box volume to the volume fraction for this signac job.\n",
    "    final_box.volume = (sim.state.N_particles * V_particle\n",
    "                        / job.statepoint.volume_fraction)\n",
    "    compress = hoomd.hpmc.update.QuickCompress(\n",
    "        trigger=hoomd.trigger.Periodic(10), target_box=final_box)\n",
    "    sim.operations.updaters.append(compress)\n",
    "\n",
    "    periodic = hoomd.trigger.Periodic(10)\n",
    "    tune = hoomd.hpmc.tune.MoveSize.scale_solver(moves=['a', 'd'],\n",
    "                                                 target=0.2,\n",
    "                                                 trigger=periodic,\n",
    "                                                 max_translation_move=0.2,\n",
    "                                                 max_rotation_move=0.2)\n",
    "    sim.operations.tuners.append(tune)\n",
    "\n",
    "    while not compress.complete and sim.timestep < 1e6:\n",
    "        sim.run(1000)\n",
    "\n",
    "    if not compress.complete:\n",
    "        raise RuntimeError(\"Compression failed to complete\")\n",
    "\n",
    "    # Write `compressed.gsd` to the job document.\n",
    "    hoomd.write.GSD.write(state=sim.state,\n",
    "                          mode='xb',\n",
    "                          filename=job.fn('compressed.gsd'))\n",
    "\n",
    "    # Set 'compressed step' in the signac job document.\n",
    "    job.document['compressed_step'] = sim.timestep"
   ]
  },
  {
   "cell_type": "markdown",
   "metadata": {},
   "source": [
    "This **workflow step** executes after the *randomize* step completes using the `pre.after(randomize)` **pre-condition**.\n",
    "The body of the function contains the code from the [Introducing HOOMD-blue](../00-Introducing-HOOMD-blue/00-index.ipynb) tutorial, changed to use the volume fraction for the current signac job with `job.statepoint.volume_fraction` and to read and write files from the **signac job's** directory with `job.fn`.\n",
    "\n",
    "The *compress* operation sets the `compressed_step` item in the **job document** and uses that to evaluate the **post-condition**.\n",
    "The next section of the tutorial will use the value of `compressed_step`."
   ]
  },
  {
   "cell_type": "markdown",
   "metadata": {},
   "source": [
    "## Run the workflow\n",
    "\n",
    "Now that you have defined the **workflow steps**, check the status of the workflow:"
   ]
  },
  {
   "cell_type": "code",
   "execution_count": 7,
   "metadata": {},
   "outputs": [
    {
     "data": {
      "application/json": {
       "ascii": false,
       "bar_format": null,
       "colour": null,
       "elapsed": 0.0117645263671875,
       "initial": 0,
       "n": 0,
       "ncols": null,
       "nrows": 16,
       "postfix": null,
       "prefix": "Fetching status",
       "rate": null,
       "total": 6,
       "unit": "it",
       "unit_divisor": 1000,
       "unit_scale": false
      },
      "application/vnd.jupyter.widget-view+json": {
       "model_id": "c50f83ecded44cec9c13c6d040d7c635",
       "version_major": 2,
       "version_minor": 0
      },
      "text/plain": [
       "Fetching status:   0%|          | 0/6 [00:00<?, ?it/s]"
      ]
     },
     "metadata": {},
     "output_type": "display_data"
    },
    {
     "data": {
      "application/json": {
       "ascii": false,
       "bar_format": null,
       "colour": null,
       "elapsed": 0.008957386016845703,
       "initial": 0,
       "n": 0,
       "ncols": null,
       "nrows": 16,
       "postfix": null,
       "prefix": "Fetching labels",
       "rate": null,
       "total": 3,
       "unit": "it",
       "unit_divisor": 1000,
       "unit_scale": false
      },
      "application/vnd.jupyter.widget-view+json": {
       "model_id": "f5d6204d7c7646a392dbb7dfb42ed25b",
       "version_major": 2,
       "version_minor": 0
      },
      "text/plain": [
       "Fetching labels:   0%|          | 0/3 [00:00<?, ?it/s]"
      ]
     },
     "metadata": {},
     "output_type": "display_data"
    },
    {
     "name": "stdout",
     "output_type": "stream",
     "text": [
      "\n",
      "Detailed View:\n",
      "\n",
      "job id                            operation/group      volume_fraction  labels\n",
      "--------------------------------  -----------------  -----------------  --------\n",
      "59363805e6f46a715bc154b38dffc4e4  randomize [U]                    0.6\n",
      "972b10bd6b308f65f0bc3a06db58cf9d  randomize [U]                    0.4\n",
      "c1a59a95a0e8b4526b28cf12aa0a689e  randomize [U]                    0.5\n",
      "\n",
      "[U]:unknown [R]:registered [I]:inactive [S]:submitted [H]:held [Q]:queued [A]:active [E]:error [GR]:group_registered [GI]:group_inactive [GS]:group_submitted [GH]:group_held [GQ]:group_queued [GA]:group_active [GE]:group_error\n",
      "\n",
      "\n"
     ]
    }
   ],
   "source": [
    "project = Project()\n",
    "project.print_status(overview=False,\n",
    "                     detailed=True,\n",
    "                     parameters=['volume_fraction'])"
   ]
  },
  {
   "cell_type": "markdown",
   "metadata": {},
   "source": [
    "Each **signac job** is ready to execute *randomize*, the first step in the workflow.\n",
    "Run it:"
   ]
  },
  {
   "cell_type": "code",
   "execution_count": 8,
   "metadata": {},
   "outputs": [],
   "source": [
    "project.run(names=['randomize'])"
   ]
  },
  {
   "cell_type": "markdown",
   "metadata": {},
   "source": [
    "Every **signac job directory** in the **data space** now has a `random.gsd` file produced by *randomize*:"
   ]
  },
  {
   "cell_type": "code",
   "execution_count": 9,
   "metadata": {},
   "outputs": [
    {
     "name": "stdout",
     "output_type": "stream",
     "text": [
      "workspace/59363805e6f46a715bc154b38dffc4e4:\n",
      "lattice.gsd  random.gsd  signac_job_document.json  signac_statepoint.json\n",
      "\n",
      "workspace/972b10bd6b308f65f0bc3a06db58cf9d:\n",
      "lattice.gsd  random.gsd  signac_job_document.json  signac_statepoint.json\n",
      "\n",
      "workspace/c1a59a95a0e8b4526b28cf12aa0a689e:\n",
      "lattice.gsd  random.gsd  signac_job_document.json  signac_statepoint.json\n"
     ]
    }
   ],
   "source": [
    "!ls workspace/*"
   ]
  },
  {
   "cell_type": "markdown",
   "metadata": {},
   "source": [
    "Now, the status shows that the *compress* step is ready:"
   ]
  },
  {
   "cell_type": "code",
   "execution_count": 10,
   "metadata": {},
   "outputs": [
    {
     "data": {
      "application/json": {
       "ascii": false,
       "bar_format": null,
       "colour": null,
       "elapsed": 0.013468742370605469,
       "initial": 0,
       "n": 0,
       "ncols": null,
       "nrows": 16,
       "postfix": null,
       "prefix": "Fetching status",
       "rate": null,
       "total": 6,
       "unit": "it",
       "unit_divisor": 1000,
       "unit_scale": false
      },
      "application/vnd.jupyter.widget-view+json": {
       "model_id": "8754ecbe1c5947269a1b2ef774f00437",
       "version_major": 2,
       "version_minor": 0
      },
      "text/plain": [
       "Fetching status:   0%|          | 0/6 [00:00<?, ?it/s]"
      ]
     },
     "metadata": {},
     "output_type": "display_data"
    },
    {
     "data": {
      "application/json": {
       "ascii": false,
       "bar_format": null,
       "colour": null,
       "elapsed": 0.008599281311035156,
       "initial": 0,
       "n": 0,
       "ncols": null,
       "nrows": 16,
       "postfix": null,
       "prefix": "Fetching labels",
       "rate": null,
       "total": 3,
       "unit": "it",
       "unit_divisor": 1000,
       "unit_scale": false
      },
      "application/vnd.jupyter.widget-view+json": {
       "model_id": "f7b1f649c8e44df390885e9d2e8741e9",
       "version_major": 2,
       "version_minor": 0
      },
      "text/plain": [
       "Fetching labels:   0%|          | 0/3 [00:00<?, ?it/s]"
      ]
     },
     "metadata": {},
     "output_type": "display_data"
    },
    {
     "name": "stdout",
     "output_type": "stream",
     "text": [
      "\n",
      "Detailed View:\n",
      "\n",
      "job id                            operation/group      volume_fraction  labels\n",
      "--------------------------------  -----------------  -----------------  --------\n",
      "59363805e6f46a715bc154b38dffc4e4  compress [U]                     0.6\n",
      "972b10bd6b308f65f0bc3a06db58cf9d  compress [U]                     0.4\n",
      "c1a59a95a0e8b4526b28cf12aa0a689e  compress [U]                     0.5\n",
      "\n",
      "[U]:unknown [R]:registered [I]:inactive [S]:submitted [H]:held [Q]:queued [A]:active [E]:error [GR]:group_registered [GI]:group_inactive [GS]:group_submitted [GH]:group_held [GQ]:group_queued [GA]:group_active [GE]:group_error\n",
      "\n",
      "\n"
     ]
    }
   ],
   "source": [
    "project.print_status(overview=False,\n",
    "                     detailed=True,\n",
    "                     parameters=['volume_fraction'])"
   ]
  },
  {
   "cell_type": "markdown",
   "metadata": {},
   "source": [
    "Execute it:"
   ]
  },
  {
   "cell_type": "code",
   "execution_count": 11,
   "metadata": {},
   "outputs": [],
   "source": [
    "project.run(names=['compress'])"
   ]
  },
  {
   "cell_type": "markdown",
   "metadata": {},
   "source": [
    "Every **signac job directory** in the **data space** now has a `compressed.gsd` file produced by *compress*:"
   ]
  },
  {
   "cell_type": "code",
   "execution_count": 12,
   "metadata": {},
   "outputs": [
    {
     "name": "stdout",
     "output_type": "stream",
     "text": [
      "workspace/59363805e6f46a715bc154b38dffc4e4:\n",
      "compressed.gsd\trandom.gsd\t\t  signac_statepoint.json\n",
      "lattice.gsd\tsignac_job_document.json\n",
      "\n",
      "workspace/972b10bd6b308f65f0bc3a06db58cf9d:\n",
      "compressed.gsd\trandom.gsd\t\t  signac_statepoint.json\n",
      "lattice.gsd\tsignac_job_document.json\n",
      "\n",
      "workspace/c1a59a95a0e8b4526b28cf12aa0a689e:\n",
      "compressed.gsd\trandom.gsd\t\t  signac_statepoint.json\n",
      "lattice.gsd\tsignac_job_document.json\n"
     ]
    }
   ],
   "source": [
    "!ls workspace/*"
   ]
  },
  {
   "cell_type": "markdown",
   "metadata": {},
   "source": [
    "## Summary\n",
    "\n",
    "In this section of the tutorial, you defined the **workflow steps** to *randomize* and *compress* the initial configuration using **signac-flow**, along with the **pre-** and **post-conditions** needed to sequence the steps.\n",
    "Then you executed the **workflow steps** on all **state points** in the **dataset**.\n",
    "The **directory** for each simulation now contains `compressed.gsd` and is ready for equilibration at the target volume fraction."
   ]
  },
  {
   "cell_type": "markdown",
   "metadata": {},
   "source": [
    "The next section in this tutorial teaches you how to write a **workflow step** that can continue itself and complete over several submissions."
   ]
  },
  {
   "cell_type": "markdown",
   "metadata": {},
   "source": [
    "This tutorial only teaches the basics of **signac-flow**.\n",
    "Read the [signac-flow documentation](http://signac-flow.readthedocs.io/) to learn more."
   ]
  }
 ],
 "metadata": {
  "kernelspec": {
   "display_name": "Python 3 (ipykernel)",
   "language": "python",
   "name": "python3"
  },
  "language_info": {
   "codemirror_mode": {
    "name": "ipython",
    "version": 3
   },
   "file_extension": ".py",
   "mimetype": "text/x-python",
   "name": "python",
   "nbconvert_exporter": "python",
   "pygments_lexer": "ipython3",
   "version": "3.10.6"
  },
  "record_timing": false
 },
 "nbformat": 4,
 "nbformat_minor": 4
}
