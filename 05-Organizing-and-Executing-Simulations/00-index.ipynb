{
 "cells": [
  {
   "cell_type": "markdown",
   "metadata": {},
   "source": [
    "# Organizing and Executing Simulations\n",
    "\n",
    "This tutorial explains how to organize and execute many simulations.\n",
    "\n",
    "**Prerequisites:**\n",
    "\n",
    "You should be familiar with the concepts taught in [Introducing HOOMD-blue](../00-Introducing-HOOMD-blue/00-index.ipynb).\n",
    "The \"Submitting Cluster Jobs\" section assumes you are familiar with HPC resources and schedulers."
   ]
  },
  {
   "cell_type": "markdown",
   "metadata": {
    "nbsphinx-toctree": {
     "maxdepth": 1
    }
   },
   "source": [
    "## Outline\n",
    "\n",
    "1. [Organizing Data](01-Organizing-Data.ipynb) - How can I organize data from many simulations? How do I relate the parameters of the simulation to the data?\n",
    "2. [Executing Simulations](02-Executing-Simulations.ipynb) - How can I execute a series of workflow steps on many simulations?\n",
    "3. [Continuing Simulations](03-Continuing-Simulations.ipynb) - How do I continue running a simulation?\n",
    "4. [Submitting Cluster Jobs](04-Submitting-Cluster-Jobs.ipynb) - How do I submit workflows on HPC resources? How can I combine many simulations into a single cluster job?"
   ]
  },
  {
   "cell_type": "markdown",
   "metadata": {},
   "source": [
    "This tutorial is written with [jupyter](https://jupyter.org/). You can download the source from the [hoomd-examples](https://github.com/glotzerlab/hoomd-examples) repository."
   ]
  }
 ],
 "metadata": {
  "kernelspec": {
   "display_name": "Python 3 (ipykernel)",
   "language": "python",
   "name": "python3"
  },
  "language_info": {
   "codemirror_mode": {
    "name": "ipython",
    "version": 3
   },
   "file_extension": ".py",
   "mimetype": "text/x-python",
   "name": "python",
   "nbconvert_exporter": "python",
   "pygments_lexer": "ipython3",
   "version": "3.9.7"
  },
  "record_timing": false
 },
 "nbformat": 4,
 "nbformat_minor": 4
}
