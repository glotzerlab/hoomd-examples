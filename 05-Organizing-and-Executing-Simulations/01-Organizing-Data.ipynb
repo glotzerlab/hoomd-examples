{
 "cells": [
  {
   "cell_type": "markdown",
   "metadata": {},
   "source": [
    "# Organizing Data\n",
    "\n",
    "## Overview\n",
    "\n",
    "### Questions\n",
    "\n",
    "* How can I organize data from many simulations?\n",
    "* How do I relate the parameters of the simulation to the data?\n",
    "\n",
    "### Objectives\n",
    "\n",
    "* Define a **data space** that organizes simulation output into **directories** based on **state point** parameters.\n",
    "* Demonstrate how to use **signac** to create a **data space**.\n",
    "* **Initialize** a **data space** with hard particle Monte Carlo simulations at a selected volume fractions.\n",
    "* Show how to store computed results in the **job document**.\n",
    "\n",
    "## Boilerplate code"
   ]
  },
  {
   "cell_type": "code",
   "execution_count": 1,
   "metadata": {},
   "outputs": [],
   "source": [
    "import itertools\n",
    "import math\n",
    "\n",
    "import gsd.hoomd\n",
    "import hoomd\n",
    "import numpy"
   ]
  },
  {
   "cell_type": "code",
   "execution_count": 2,
   "metadata": {
    "jupyter": {
     "source_hidden": true
    },
    "nbsphinx": "hidden",
    "tags": []
   },
   "outputs": [],
   "source": [
    "import os\n",
    "\n",
    "fn = os.path.join(os.getcwd(), 'signac.rc')\n",
    "![ -e \"$fn\" ] && rm \"$fn\"\n",
    "fn = os.path.join(os.getcwd(), 'workspace')\n",
    "![ -e \"$fn\" ] && rm -rf \"$fn\""
   ]
  },
  {
   "cell_type": "markdown",
   "metadata": {},
   "source": [
    "## Research question\n",
    "\n",
    "The [Introducing HOOMD-blue](../00-Introducing-HOOMD-blue/00-index.ipynb) tutorial shows how to execute a *single* simulation of hard octahedra and how they self-assemble into a crystal structure.\n",
    "You might want to answer the question \"At what volume fraction is the phase transition from fluid to crystal?\".\n",
    "One way to find out is to execute simulations at many volume fractions and examine the resulting equilibrium structures.\n",
    "When performing such a study, you may want to explore simulations at different system sizes, repeat the simulation with different random number seeds, or examine the effects of changing other parameters.\n",
    "\n",
    "The unique set of parameters for each simulation is a **state point** which you can represent in a Python dictionary:"
   ]
  },
  {
   "cell_type": "code",
   "execution_count": 3,
   "metadata": {},
   "outputs": [
    {
     "data": {
      "text/plain": [
       "{'N_particles': 128, 'volume_fraction': 0.6, 'seed': 20}"
      ]
     },
     "execution_count": 3,
     "metadata": {},
     "output_type": "execute_result"
    }
   ],
   "source": [
    "statepoint = dict(N_particles=128, volume_fraction=0.6, seed=20)\n",
    "statepoint"
   ]
  },
  {
   "cell_type": "markdown",
   "metadata": {},
   "source": [
    "In your own research, you will execute different types of simulation with different parameters.\n",
    "Follow the example provided in this tutorial and apply the same concepts organize and execute the simulations for your work."
   ]
  },
  {
   "cell_type": "markdown",
   "metadata": {},
   "source": [
    "## Data space"
   ]
  },
  {
   "cell_type": "markdown",
   "metadata": {},
   "source": [
    "Each simulation you execute will generate several output files.\n",
    "Store these in a **directory** uniquely assigned to each **state point**.\n",
    "The collection of **directories** is a **data space**.\n",
    "Use [**signac**](https://docs.signac.io/en/latest/) to automatically name and create the **directories**."
   ]
  },
  {
   "cell_type": "code",
   "execution_count": 4,
   "metadata": {},
   "outputs": [],
   "source": [
    "import signac"
   ]
  },
  {
   "cell_type": "markdown",
   "metadata": {},
   "source": [
    "A **signac** project represents the entire **data space** stored on disk with associated metadata.\n",
    "The method `init_project` creates a **signac** project in the *current working directory* by placing a `signac.rc` file with the project metadata and a `workspace` directory to hold the **directories** of the **data space**. The `name` argument is required with **signac** 1.x, but the value of the name is used only to populate `signac.rc`.\n",
    "\n",
    "Create the project:"
   ]
  },
  {
   "cell_type": "code",
   "execution_count": 5,
   "metadata": {},
   "outputs": [],
   "source": [
    "project = signac.init_project(name=\"octahedra-assembly-project\")"
   ]
  },
  {
   "cell_type": "code",
   "execution_count": 6,
   "metadata": {},
   "outputs": [
    {
     "name": "stdout",
     "output_type": "stream",
     "text": [
      "project = octahedra-assembly-project\n",
      "schema_version = 1\n"
     ]
    }
   ],
   "source": [
    "!cat signac.rc"
   ]
  },
  {
   "cell_type": "markdown",
   "metadata": {},
   "source": [
    "A **signac job** is a container that holds the **state point**, assigned **directory**, and a **job document**."
   ]
  },
  {
   "cell_type": "code",
   "execution_count": 7,
   "metadata": {},
   "outputs": [],
   "source": [
    "job = project.open_job(statepoint)"
   ]
  },
  {
   "cell_type": "code",
   "execution_count": 8,
   "metadata": {},
   "outputs": [
    {
     "data": {
      "text/plain": [
       "{'N_particles': 128, 'volume_fraction': 0.6, 'seed': 20}"
      ]
     },
     "execution_count": 8,
     "metadata": {},
     "output_type": "execute_result"
    }
   ],
   "source": [
    "job.statepoint"
   ]
  },
  {
   "cell_type": "markdown",
   "metadata": {},
   "source": [
    "The **job document** is a persistent dictionary where you can record the job's status."
   ]
  },
  {
   "cell_type": "code",
   "execution_count": 9,
   "metadata": {},
   "outputs": [
    {
     "data": {
      "text/plain": [
       "{}"
      ]
     },
     "execution_count": 9,
     "metadata": {},
     "output_type": "execute_result"
    }
   ],
   "source": [
    "job.document"
   ]
  },
  {
   "cell_type": "markdown",
   "metadata": {},
   "source": [
    "The first file for each simulation is the initial condition.\n",
    "Here is the initialization code from the [Introducing HOOMD-blue](../00-Introducing-HOOMD-blue/00-index.ipynb) tutorial, encapsulated in a function that takes a **signac job** as an argument:"
   ]
  },
  {
   "cell_type": "code",
   "execution_count": 10,
   "metadata": {},
   "outputs": [],
   "source": [
    "def init(job):\n",
    "    # Place a number of particles as indicated by the signac job's state point.\n",
    "    K = math.ceil(job.statepoint.N_particles**(1 / 3))\n",
    "    spacing = 1.2\n",
    "    L = K * spacing\n",
    "    x = numpy.linspace(-L / 2, L / 2, K, endpoint=False)\n",
    "    position = list(itertools.product(x, repeat=3))\n",
    "    position = position[0:job.statepoint.N_particles]\n",
    "    orientation = [(1, 0, 0, 0)] * job.statepoint.N_particles\n",
    "\n",
    "    snapshot = gsd.hoomd.Snapshot()\n",
    "    snapshot.particles.N = job.statepoint.N_particles\n",
    "    snapshot.particles.position = position\n",
    "    snapshot.particles.orientation = orientation\n",
    "    snapshot.particles.typeid = [0] * job.statepoint.N_particles\n",
    "    snapshot.particles.types = ['octahedron']\n",
    "    snapshot.configuration.box = [L, L, L, 0, 0, 0]\n",
    "\n",
    "    # Write `lattice.gsd` to the signac job's directory.\n",
    "    with gsd.hoomd.open(name=job.fn('lattice.gsd'), mode='xb') as f:\n",
    "        f.append(snapshot)\n",
    "\n",
    "    # Set the 'initialized' item in the job document.\n",
    "    job.document['initialized'] = True"
   ]
  },
  {
   "cell_type": "markdown",
   "metadata": {},
   "source": [
    "The `init` function uses `job.statepoint.N_particles` to access the **state point** parameter and `job.fn` to construct a filename in the assigned **directory**. `init` also sets the `'initialized'` item in the **job document** to `True` which will be used in the next section of the tutorial.\n",
    "\n",
    "Call `init` to initialize **signac jobs** at various volume fractions in the **data space**:"
   ]
  },
  {
   "cell_type": "code",
   "execution_count": 11,
   "metadata": {},
   "outputs": [],
   "source": [
    "for volume_fraction in [0.4, 0.5, 0.6]:\n",
    "    statepoint = dict(N_particles=128, volume_fraction=volume_fraction, seed=20)\n",
    "    job = project.open_job(statepoint)\n",
    "    job.init()\n",
    "    init(job)"
   ]
  },
  {
   "cell_type": "markdown",
   "metadata": {},
   "source": [
    "This tutorial **initializes** only three **jobs** in the **data space** to keep the execution time and output short.\n",
    "In your own research, **signac** can help you organize and execute as many jobs as you need."
   ]
  },
  {
   "cell_type": "markdown",
   "metadata": {},
   "source": [
    "**signac** places the **data space** in a directory named `workspace`. Here are the files the loop generated:"
   ]
  },
  {
   "cell_type": "code",
   "execution_count": 12,
   "metadata": {},
   "outputs": [
    {
     "name": "stdout",
     "output_type": "stream",
     "text": [
      "workspace/59363805e6f46a715bc154b38dffc4e4:\n",
      "lattice.gsd              signac_job_document.json signac_statepoint.json\n",
      "\n",
      "workspace/972b10bd6b308f65f0bc3a06db58cf9d:\n",
      "lattice.gsd              signac_job_document.json signac_statepoint.json\n",
      "\n",
      "workspace/c1a59a95a0e8b4526b28cf12aa0a689e:\n",
      "lattice.gsd              signac_job_document.json signac_statepoint.json\n"
     ]
    }
   ],
   "source": [
    "!ls workspace/*"
   ]
  },
  {
   "cell_type": "markdown",
   "metadata": {},
   "source": [
    "Each directory now contains the `lattice.gsd` file created by `init` as well as a `signac_statepoint.json` and `signac_job_document.json` files created by **signac**.\n",
    "The **directory** assigned to each **signac job** is a hash of the **state point** and is generated automatically by **signac**."
   ]
  },
  {
   "cell_type": "markdown",
   "metadata": {},
   "source": [
    "## Summary\n",
    "\n",
    "In this section of the tutorial, you created a **data space** with **directories** to store the simulation results for a number of **state points**.\n",
    "So far, the **directory** for each simulation contains only the initial configuration file **lattice.gsd**."
   ]
  },
  {
   "cell_type": "markdown",
   "metadata": {},
   "source": [
    "The remaining sections in this tutorial show you how to execute a workflow on this **data space** that randomizes, compresses, and equilibrates each simulation."
   ]
  },
  {
   "cell_type": "markdown",
   "metadata": {},
   "source": [
    "This tutorial only teaches the basics of **signac**.\n",
    "Read the [signac documentation](https://docs.signac.io/en/latest/) to learn how to loop through all **signac jobs**, search, filter, and much more."
   ]
  }
 ],
 "metadata": {
  "kernelspec": {
   "display_name": "Python 3 (ipykernel)",
   "language": "python",
   "name": "python3"
  },
  "language_info": {
   "codemirror_mode": {
    "name": "ipython",
    "version": 3
   },
   "file_extension": ".py",
   "mimetype": "text/x-python",
   "name": "python",
   "nbconvert_exporter": "python",
   "pygments_lexer": "ipython3",
   "version": "3.9.7"
  },
  "record_timing": false
 },
 "nbformat": 4,
 "nbformat_minor": 4
}
