{
 "cells": [
  {
   "cell_type": "markdown",
   "id": "3edd4894-08c1-45b8-9c86-62b1eaf97c46",
   "metadata": {},
   "source": [
    "# Molecular Dynamics Simulations\n",
    "\n",
    "## Overview\n",
    "\n",
    "### Questions\n",
    "\n",
    "* How do I set up a rigid body with hoomd blue?\n",
    "\n",
    "### Objectives\n",
    "\n",
    "* Describe how to correctly add a rigid body to hoomd.\n",
    "* Explain how filtering of the rigid body works in hoomd.\n",
    "* Show how hoomd adds constituent particles to a rigid body.\n",
    "\n",
    "## Boilerplate code"
   ]
  },
  {
   "cell_type": "code",
   "execution_count": 1,
   "id": "55ebda04-e6c5-4917-a495-4ac4e904994c",
   "metadata": {},
   "outputs": [],
   "source": [
    "import itertools\n",
    "import math\n",
    "\n",
    "import gsd.hoomd\n",
    "import hoomd\n",
    "import numpy\n",
    "import rowan\n",
    "\n",
    "from hoomd.md import constrain"
   ]
  },
  {
   "cell_type": "markdown",
   "id": "926bc3e6-b15f-447b-aaff-932f1f0754b2",
   "metadata": {
    "tags": []
   },
   "source": [
    "The `render_simulation` function in the next (hidden) cell will render the system state using **fresnel**.\n",
    "\n",
    "<div class=\"alert alert-info\">\n",
    "    This is not intended as a full tutorial on <b>fresnel</b> - see the <a href=\"https://fresnel.readthedocs.io/\">fresnel user documentation</a> if you would like to learn more.\n",
    "</div>"
   ]
  },
  {
   "cell_type": "code",
   "execution_count": 2,
   "id": "2a6ed86e-42dc-4bd0-a1b4-7be239d66b6f",
   "metadata": {
    "tags": []
   },
   "outputs": [],
   "source": [
    "import fresnel\n",
    "import IPython\n",
    "\n",
    "device = fresnel.Device()\n",
    "tracer = fresnel.tracer.Path(device=device, w=300, h=300)\n",
    "\n",
    "def render_simulation(radius_constituent,snapshot):\n",
    "    '''\n",
    "    Outputs sphere positions based on the trajectory of the simulation\n",
    "    '''\n",
    "    wh_sp = numpy.where((snapshot.particles.typeid == 1))\n",
    "    pos_parts = snapshot.particles.position[wh_sp]\n",
    "    L = snapshot.configuration.box[0]\n",
    "    \n",
    "    scene = fresnel.Scene(device)\n",
    "    geometry = fresnel.geometry.Sphere(scene,\n",
    "                                       N=len(pos_parts),\n",
    "                                       radius=radius_constituent)\n",
    "    geometry.position[:] = pos_parts\n",
    "    geometry.material = fresnel.material.Material(color=fresnel.color.linear(\n",
    "        [252 / 255, 209 / 255, 1 / 255]),\n",
    "                                                  roughness=0.5)\n",
    "    geometry.outline_width = 0.04\n",
    "    box = fresnel.geometry.Box(scene, [L, L, L, 0, 0, 0], box_radius=.02)\n",
    "    \n",
    "    scene.lights = [\n",
    "        fresnel.light.Light(direction=(0, 0, 1),\n",
    "                            color=(0.8, 0.8, 0.8),\n",
    "                            theta=math.pi),\n",
    "        fresnel.light.Light(direction=(1, 1, 1),\n",
    "                            color=(1.1, 1.1, 1.1),\n",
    "                            theta=math.pi / 3)\n",
    "    ]\n",
    "    scene.camera = fresnel.camera.orthographic(position=(L * 2, L, L * 2),\n",
    "                                               look_at=(0, 0, 0),\n",
    "                                               up=(0, 1, 0),\n",
    "                                               height=L * 1.4 + 1)\n",
    "    scene.background_color = (1, 1, 1)\n",
    "    return IPython.display.Image(tracer.sample(scene, samples=500)._repr_png_())"
   ]
  },
  {
   "cell_type": "markdown",
   "id": "a74bff0d-af48-43a9-96d7-deb594822971",
   "metadata": {},
   "source": [
    "As in the previous tutorial we take our rigid body, diagonalize the moment of inertia and reorient the rigid body. "
   ]
  },
  {
   "cell_type": "code",
   "execution_count": 3,
   "id": "de1c9a72-6c76-4268-b0d7-2d76a7b4b612",
   "metadata": {},
   "outputs": [],
   "source": [
    "const_sp_pos1 = numpy.array([.5,.5,0]) \n",
    "const_sp_pos2 = numpy.array([-.5,-.5,0]) \n",
    "body_pos = numpy.array([const_sp_pos1,const_sp_pos2])\n",
    "mass = 10\n",
    "radius = 1\n",
    "I_ref = numpy.array([[2/5*mass*radius**2,0,0],[0,2/5*mass*radius**2,0],[0,0,2/5*mass*radius**2]])\n",
    "I_1 = I_ref + mass*(numpy.dot(const_sp_pos1,const_sp_pos1)*numpy.identity(3) + numpy.outer(const_sp_pos1,const_sp_pos1))\n",
    "I_2 = I_ref + mass*(numpy.dot(const_sp_pos2,const_sp_pos2)*numpy.identity(3) + numpy.outer(const_sp_pos2,const_sp_pos2))\n",
    "I_tot = I_1 + I_2\n",
    "I_prin, E_vec = numpy.linalg.eig(I_tot)\n",
    "R = numpy.transpose(E_vec)\n",
    "\n",
    "# Now we rotate the points to coincide with the diagonalized tensor using the rotation matrix\n",
    "const_sp_pos1_new =numpy.dot(R,numpy.transpose(numpy.array([const_sp_pos1])))[:,0]\n",
    "const_sp_pos2_new =numpy.dot(R,numpy.transpose(numpy.array([const_sp_pos2])))[:,0]\n",
    "\n",
    "I_1_new = I_ref + mass*(numpy.dot(const_sp_pos1_new,const_sp_pos1_new)*numpy.identity(3) + numpy.outer(const_sp_pos1_new,const_sp_pos1_new))\n",
    "I_2_new = I_ref + mass*(numpy.dot(const_sp_pos2_new,const_sp_pos2_new)*numpy.identity(3) + numpy.outer(const_sp_pos2_new,const_sp_pos2_new))\n",
    "\n",
    "I_tot_new = I_1_new + I_2_new\n",
    "\n",
    "# Redefine the moments of inertia and particle positions as the rotated ones\n",
    "I_tot = I_tot_new\n",
    "const_sp_pos1 = const_sp_pos1_new \n",
    "const_sp_pos2 = const_sp_pos2_new "
   ]
  },
  {
   "cell_type": "markdown",
   "id": "20f98b5d-9072-4687-85b4-5218f9173261",
   "metadata": {
    "tags": []
   },
   "source": [
    "# Setting up a simulation\n",
    "\n",
    "To initialize the simulation we need: \n",
    "* The positions of the center of mass of the rigid bodies\n",
    "* The positions of the constituent particles of the rigid bodies\n",
    "* The diagonalized moments of inertia of the rigid bodies\n",
    "\n",
    "Technical Issues with Rigid Bodies: \n",
    "* We want the integrator for the rigid body to not integrate the constituent particles but rather integrate the sum of forces on the rigid body from the interaction between the constituent particles. \n",
    "* To do this, we must **filter** interactions so the integrator only integrates over **free** particles and **center** particles (particles representing the center of mass) but not the **constituent** particles that make up the rigid body.\n",
    "\n",
    "Steps to Initializing the Simulation: \n",
    "\n",
    "* Rigid Body Initialization \n",
    "\n",
    "    * Initialize simulation from a snapshot containing only the positions and properties of the rigid bodies, not the constituent particles. \n",
    "    * Create a cell list the filters out the rigid bodies which are composed of constituent particles\n",
    "    * Create a **filter** for the integrator that only integrates the rigid bodies \n",
    "    * Create a force field for the constituent particles\n",
    "    * Create an integrator\n",
    "    * Add a rigid body constraint and define the particles within the rigid body\n",
    "    * Create particles in the rigid body in the simulation. \n",
    "    * Add rigid bodies to the integrator\n",
    "\n",
    "* Final Setup\n",
    "    * Give particles random momenta drawn correctly drawn from the Boltzmann distribution for the current temperature\n",
    "    * Run Simulation at Desired Temperature"
   ]
  },
  {
   "cell_type": "code",
   "execution_count": 4,
   "id": "76ac970c-63d8-4971-8f07-a6d7fcb75f07",
   "metadata": {},
   "outputs": [],
   "source": [
    "m = 2\n",
    "N_particles = 2 * m**3\n",
    "spacing = 10.\n",
    "K = math.ceil(N_particles**(1 / 3))\n",
    "L = K * spacing\n",
    "x = numpy.linspace(-L / 2, L / 2, K, endpoint=False)\n",
    "position = list(itertools.product(x, repeat=3))\n",
    "position = numpy.array(position)\n",
    "position[:,0] = position[:,0]\n",
    "snapshot = gsd.hoomd.Snapshot()\n",
    "snapshot.particles.N = N_particles\n",
    "snapshot.particles.position = position[0:N_particles,:]\n",
    "snapshot.particles.orientation = [(1,0,0,0)] * N_particles\n",
    "snapshot.particles.typeid = [0] * N_particles\n",
    "snapshot.configuration.box = [L, L, L, 0, 0, 0]\n",
    "snapshot.particles.mass = [mass] * N_particles\n",
    "snapshot.particles.types = ['rigid_body','constituent_sphere']\n",
    "snapshot.particles.moment_inertia = [(I_prin[0],I_prin[1],I_prin[2])] * N_particles\n",
    "snapshot.particles.angmom = [(1,1,1,1)] * N_particles\n",
    "with gsd.hoomd.open(name='lattice_rigid.gsd', mode='wb') as f:\n",
    "    f.append(snapshot)"
   ]
  },
  {
   "cell_type": "markdown",
   "id": "d49bf62a-7d58-43e9-8842-55f9aa30684f",
   "metadata": {
    "tags": []
   },
   "source": [
    "As with other tutorials we are creating a device to do the simulation with."
   ]
  },
  {
   "cell_type": "code",
   "execution_count": 5,
   "id": "70440328-590c-4604-b109-e2563d6f7387",
   "metadata": {},
   "outputs": [],
   "source": [
    "cpu = hoomd.device.CPU()\n",
    "sim = hoomd.Simulation(device=cpu, seed=1)\n",
    "sim.create_state_from_gsd(filename='lattice_rigid.gsd')"
   ]
  },
  {
   "cell_type": "markdown",
   "id": "51edb0ab-41fd-42a0-9ebf-0818ae2e5c02",
   "metadata": {},
   "source": [
    "We now create the force field the particles will interact. \n",
    "\n",
    "## Note:\n",
    "We must choose to integrate our rotational degrees of freedom."
   ]
  },
  {
   "cell_type": "code",
   "execution_count": 6,
   "id": "47c82b9d-3c0d-4c72-aaa3-0507c3fbeb11",
   "metadata": {},
   "outputs": [],
   "source": [
    "epsilon = 1\n",
    "sigma = radius\n",
    "integrator = hoomd.md.Integrator(dt=0.0001,integrate_rotational_dof=True)\n",
    "cell = hoomd.md.nlist.Cell(exclusions = ['body'])\n",
    "lj = hoomd.md.pair.LJ(nlist=cell)\n",
    "lj.params[('rigid_body', 'rigid_body')] = dict(epsilon=0, sigma=sigma)\n",
    "lj.params[('rigid_body', 'constituent_sphere')] = dict(epsilon=0, sigma=sigma)\n",
    "lj.params[('constituent_sphere', 'constituent_sphere')] = dict(epsilon=epsilon, sigma=sigma)\n",
    "lj.r_cut[('constituent_sphere', 'constituent_sphere')] = 2.5\n",
    "lj.r_cut[('rigid_body', 'rigid_body')] = 2.5\n",
    "lj.r_cut[('rigid_body', 'constituent_sphere')] = 2.5\n",
    "integrator.forces.append(lj)"
   ]
  },
  {
   "cell_type": "markdown",
   "id": "ea93ff4e-efae-487a-8e70-c3ac472f9e73",
   "metadata": {},
   "source": [
    "We now 'filter' our integration so just the rigid bodies are integrated over by choosing 'center' and 'free bodies.  "
   ]
  },
  {
   "cell_type": "code",
   "execution_count": 7,
   "id": "8be905c6-d58a-4707-adb5-90a5d75f2e4c",
   "metadata": {},
   "outputs": [],
   "source": [
    "rigid_centers_and_free_filter = hoomd.filter.Rigid((\"center\", \"free\"))\n",
    "nvt = hoomd.md.methods.NVT(kT = 10, tau = 1, filter = rigid_centers_and_free_filter)\n",
    "integrator.methods.append(nvt)"
   ]
  },
  {
   "cell_type": "markdown",
   "id": "38a34525-bd07-4e1b-9b30-f1f1c351678f",
   "metadata": {},
   "source": [
    "We now must create a list of particles within the rigid body."
   ]
  },
  {
   "cell_type": "code",
   "execution_count": 8,
   "id": "c46ea905-f6af-4f17-9152-419902ed20f8",
   "metadata": {},
   "outputs": [],
   "source": [
    "rigid = constrain.Rigid()\n",
    "\n",
    "constituent_types = ['constituent_sphere','constituent_sphere']\n",
    "\n",
    "rigid.body['rigid_body'] = {\n",
    "    \"constituent_types\": constituent_types,\n",
    "    \"positions\":[const_sp_pos1,const_sp_pos2],\n",
    "    \"orientations\":[(1,0,0,0)] * len(constituent_types),\n",
    "    \"charges\":[0.] * len(constituent_types),\n",
    "    \"diameters\":[2 * sigma] * len(constituent_types)}"
   ]
  },
  {
   "cell_type": "markdown",
   "id": "34d6268a-c2e8-44ba-b21f-a7dfa23fc665",
   "metadata": {},
   "source": [
    "We now explicitly create the rigid bodies in the simulation and add a gsd logger."
   ]
  },
  {
   "cell_type": "code",
   "execution_count": 9,
   "id": "2179e940-87df-4bf6-a826-2c9e0a4866aa",
   "metadata": {},
   "outputs": [],
   "source": [
    "rigid.create_bodies(sim.state)\n",
    "integrator.rigid = rigid\n",
    "sim.operations.integrator = integrator\n",
    "\n",
    "# Gsd writer for simulations\n",
    "logger = hoomd.logging.Logger(['state','constraint'])\n",
    "gsd_oper = hoomd.write.GSD(trigger=hoomd.trigger.Periodic(100), filename='randomization.gsd',log=logger,mode='wb',dynamic=['momentum','property'])\n",
    "sim.operations += gsd_oper"
   ]
  },
  {
   "cell_type": "markdown",
   "id": "78786ea1-56dc-4dd3-9787-c12af4f0f2e2",
   "metadata": {},
   "source": [
    "## Randomize the System\n",
    "\n",
    "We now want to give the particles randomized thermal momenta sampled from Boltzman distribution at the temperature of the system. "
   ]
  },
  {
   "cell_type": "code",
   "execution_count": 10,
   "id": "ececec52-4593-4b58-b07e-50a9868b75c4",
   "metadata": {},
   "outputs": [],
   "source": [
    "sim.state.thermalize_particle_momenta(filter=rigid_centers_and_free_filter, kT=1.5)"
   ]
  },
  {
   "cell_type": "markdown",
   "id": "147140fc-bc47-41d1-8745-3423a5584715",
   "metadata": {},
   "source": [
    "We now run the system for a desired number of timesteps and then render the last frame."
   ]
  },
  {
   "cell_type": "code",
   "execution_count": 11,
   "id": "553f7033-9ca5-44f8-87da-f70fa2f7ac60",
   "metadata": {},
   "outputs": [],
   "source": [
    "sim.run(100000)"
   ]
  },
  {
   "cell_type": "code",
   "execution_count": 12,
   "id": "2e511550-8b38-495e-a775-615d55f851da",
   "metadata": {},
   "outputs": [
    {
     "data": {
      "image/png": "[encoded data removed]",
      "text/plain": [
       "<IPython.core.display.Image object>"
      ]
     },
     "execution_count": 12,
     "metadata": {},
     "output_type": "execute_result"
    }
   ],
   "source": [
    "snapshot = gsd.hoomd.open('randomization.gsd')[-1]\n",
    "render_simulation(radius,snapshot)"
   ]
  }
 ],
 "metadata": {
  "kernelspec": {
   "display_name": "Python 3 (ipykernel)",
   "language": "python",
   "name": "python3"
  },
  "language_info": {
   "codemirror_mode": {
    "name": "ipython",
    "version": 3
   },
   "file_extension": ".py",
   "mimetype": "text/x-python",
   "name": "python",
   "nbconvert_exporter": "python",
   "pygments_lexer": "ipython3",
   "version": "3.8.6"
  }
 },
 "nbformat": 4,
 "nbformat_minor": 5
}
