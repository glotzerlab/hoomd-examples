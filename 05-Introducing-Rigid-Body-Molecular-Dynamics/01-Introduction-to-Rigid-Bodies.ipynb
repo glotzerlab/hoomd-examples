{
 "cells": [
  {
   "cell_type": "markdown",
   "id": "b8a31a77-6b34-40c7-ac8b-cbdc0b6c8ab4",
   "metadata": {},
   "source": [
    "## Overview\n",
    "\n",
    "### Questions\n",
    "\n",
    "* What is a rigid body? \n",
    "* What properties do I need to input to simulate correct dynamics?\n",
    "\n",
    "### Objectives\n",
    "\n",
    "* Define a rigid body\n",
    "    * Define local coordinates\n",
    "    * Define rigid body position and orientation\n",
    "    * Note other parameters to describe the rigid body\n",
    "       * Moment of inertia tensor\n",
    "       * Mass\n",
    "       * Angular Velocity\n",
    "       * Velocity"
   ]
  },
  {
   "cell_type": "markdown",
   "id": "550d592a-37eb-4385-924b-30e9fe6db5b8",
   "metadata": {},
   "source": [
    "# What is a rigid body? \n",
    "\n",
    "A **rigid body** is an assumed incompressible body composed of **constituent** bodies that do not interact with each other. \n",
    "\n",
    "# What coordinates are rigid bodies defined in?\n",
    "\n",
    "A rigid body is defined by **local** and **global** coordinates.\n",
    "\n",
    "**Local coordinates:** Coordinates in the frame of reference of the rigid body. This coordinate system is used to define the positions and orientations of the reference particle. \n",
    "\n",
    "\n",
    "**Global coordinates:** Coordinates in the frame of reference of the system. These coordinates are used to define the position and orientation of the rigid body."
   ]
  },
  {
   "cell_type": "markdown",
   "id": "b9ace04c-9c77-45b6-a311-6e6398619fd8",
   "metadata": {},
   "source": [
    "# What physical quantities do I need to define a rigid body?\n",
    "\n",
    "Under the assumption of a uniform density distribution, a rigid body is defined by 8 things:\n",
    "* Mass of the rigid body\n",
    "* Moment of inertia tensor of the rigid body\n",
    "* Velocity of the rigid body\n",
    "* Position of the rigid body (normally given in global coordinates)\n",
    "* Orientation of the rigid body (normally given in global coordinates)\n",
    "* Position of the constituent particles (normally given in local coordinates)\n",
    "* Orientation of the constituent particles (normally given in local coordinates)\n",
    "* Force field between constituent particles in the system and"
   ]
  },
  {
   "cell_type": "code",
   "execution_count": null,
   "id": "85c2f8d0-bd59-49a0-9a66-8f19f38319c3",
   "metadata": {},
   "outputs": [],
   "source": []
  }
 ],
 "metadata": {
  "kernelspec": {
   "display_name": "Python 3 (ipykernel)",
   "language": "python",
   "name": "python3"
  },
  "language_info": {
   "codemirror_mode": {
    "name": "ipython",
    "version": 3
   },
   "file_extension": ".py",
   "mimetype": "text/x-python",
   "name": "python",
   "nbconvert_exporter": "python",
   "pygments_lexer": "ipython3",
   "version": "3.8.6"
  }
 },
 "nbformat": 4,
 "nbformat_minor": 5
}
