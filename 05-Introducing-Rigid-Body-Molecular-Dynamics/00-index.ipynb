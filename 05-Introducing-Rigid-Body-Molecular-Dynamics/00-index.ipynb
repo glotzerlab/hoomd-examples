{
 "cells": [
  {
   "cell_type": "markdown",
   "metadata": {},
   "source": [
    "# Introducing Molecular Dynamics\n",
    "\n",
    "This tutorial introduces the rigid body molecular dynamics simulation in HOOMD-blue using a dimer Lennard-Jones system as an example.\n",
    "\n",
    "**Prerequisites:**\n",
    "\n",
    "This tutorial assumes you are familiar with the concepts taught in the tutorial [Introducing HOOMD-blue](../00-Introducing-HOOMD-blue/00-index.ipynb), [Introducing Molecular Dynamics](../01-Introducing-Molecular-Dynamics/00-index.ipynb), and have some background knowledge on statistical mechanics as well as linear algebra."
   ]
  },
  {
   "cell_type": "markdown",
   "metadata": {
    "nbsphinx-toctree": {
     "maxdepth": 1
    }
   },
   "source": [
    "## Outline\n",
    "\n",
    "1. [Physics of Rigid Bodies](01-Introduction-to-Rigid-Bodies.ipynb) - What is a rigid body and how is it defined? \n",
    "\n",
    "2. [Initializing a Rigid Body in Hoomd](02-Initializing-a-Random-System.ipynb) - How do I initialize a rigid body in hoomd?\n",
    "\n",
    "3. [Thermodynamic Quantities of rigid bodies](03-Thermodynamic-Quantities-of-Rigid-Bodies.ipynb) - How do I get thermodynamic quantities of rigid bodies? \n",
    "\n",
    "3. [Generalized form of rigid bodies in hoomd](03-Diagonalization-Moment-of-Inertia.ipynb) - If I have a rigid body whose inertia tensor is not diagonalized, how do I input the object into hoomd? "
   ]
  },
  {
   "cell_type": "markdown",
   "metadata": {},
   "source": [
    "This tutorial is written with [jupyter](https://jupyter.org/). You can download the source from the [hoomd-examples](https://github.com/glotzerlab/hoomd-examples) repository."
   ]
  },
  {
   "cell_type": "markdown",
   "metadata": {
    "nbsphinx": "hidden"
   },
   "source": [
    "[Next section](01-Molecular-Dynamics-Simulations.ipynb)."
   ]
  }
 ],
 "metadata": {
  "kernelspec": {
   "display_name": "Python 3 (ipykernel)",
   "language": "python",
   "name": "python3"
  },
  "language_info": {
   "codemirror_mode": {
    "name": "ipython",
    "version": 3
   },
   "file_extension": ".py",
   "mimetype": "text/x-python",
   "name": "python",
   "nbconvert_exporter": "python",
   "pygments_lexer": "ipython3",
   "version": "3.8.6"
  },
  "record_timing": false
 },
 "nbformat": 4,
 "nbformat_minor": 4
}
