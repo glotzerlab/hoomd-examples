{
 "cells": [
  {
   "cell_type": "markdown",
   "id": "650fa61b-d04b-4168-8399-ca0d7a99d616",
   "metadata": {},
   "source": [
    "# Molecular Dynamics Simulations\n",
    "\n",
    "## Overview\n",
    "\n",
    "### Questions\n",
    "\n",
    "* In a rigid body molecular dynamics simulation, how are thermodynamic quantities measured?  \n",
    "\n",
    "### Objectives\n",
    "\n",
    "* Define how quanties like the energy are defined in a rigid body molecular dynamics simulation. \n",
    "* Run a rigid body MD simulation at constant temperature.\n",
    "* Show that thermodynamic quantities (the total translational kinetic energy in our example) are defined in reference to the mass of the rigid bodies not the constituent particles of the rigid body."
   ]
  },
  {
   "cell_type": "code",
   "execution_count": 1,
   "id": "647d76b0-1196-4a41-8938-2c4663ec15b3",
   "metadata": {
    "tags": []
   },
   "outputs": [],
   "source": [
    "import itertools\n",
    "import math\n",
    "import gsd.hoomd\n",
    "import hoomd\n",
    "import numpy\n",
    "import rowan\n",
    "from hoomd.md import constrain"
   ]
  },
  {
   "cell_type": "markdown",
   "id": "2dea7f48-007e-4c67-8a59-d0aeeae7ec93",
   "metadata": {},
   "source": [
    "## Thermodynamic Quantities in MD Simulations\n",
    "\n",
    "The thermodynamic quantities in simulations of rigid bodies are conducted under the assumption that the center of mass of the rigid bodies and free particles is the only information in the simuation that the computation of the thermodynamic quantities is taken from.\n",
    "\n",
    "This means that the constituent particles contribute only to the forces between rigid body and free particles but not to the calculation of temperature or energy in the simulation.\n",
    "\n",
    "We will demonstrate this below by showing that the translational kinetic energy of the system is equal to the translational kinetic energy of the rigid bodies.\n",
    "\n",
    "First we initialize a simulation like the one we conducted in initializing a rigid body simulation."
   ]
  },
  {
   "cell_type": "markdown",
   "id": "4a44731a-a3a3-47e8-9488-e15262d19b12",
   "metadata": {},
   "source": [
    "The `render_simulation` function in the next (hidden) cell will render the system state using **fresnel**.\n",
    "\n",
    "<div class=\"alert alert-info\">\n",
    "    This is not intended as a full tutorial on <b>fresnel</b> - see the <a href=\"https://fresnel.readthedocs.io/\">fresnel user documentation</a> if you would like to learn more.\n",
    "</div>"
   ]
  },
  {
   "cell_type": "code",
   "execution_count": 2,
   "id": "e743fb6e-dd77-4b65-bfdd-90c15f9c77b4",
   "metadata": {
    "jupyter": {
     "source_hidden": true
    },
    "tags": []
   },
   "outputs": [],
   "source": [
    "import fresnel\n",
    "import IPython\n",
    "\n",
    "device = fresnel.Device()\n",
    "tracer = fresnel.tracer.Path(device=device, w=300, h=300)\n",
    "\n",
    "def render_simulation(radius_constituent,snapshot):\n",
    "    '''\n",
    "    Outputs sphere positions based on the trajectory of the simulation\n",
    "    '''\n",
    "    wh_sp = numpy.where((snapshot.particles.typeid == 1))\n",
    "    pos_parts = snapshot.particles.position[wh_sp]\n",
    "    L = snapshot.configuration.box[0]\n",
    "    \n",
    "    scene = fresnel.Scene(device)\n",
    "    geometry = fresnel.geometry.Sphere(scene,\n",
    "                                       N=len(pos_parts),\n",
    "                                       radius=radius_constituent)\n",
    "    geometry.position[:] = pos_parts\n",
    "    geometry.material = fresnel.material.Material(color=fresnel.color.linear(\n",
    "        [252 / 255, 209 / 255, 1 / 255]),\n",
    "                                                  roughness=0.5)\n",
    "    geometry.outline_width = 0.04\n",
    "    box = fresnel.geometry.Box(scene, [L, L, L, 0, 0, 0], box_radius=.02)\n",
    "    \n",
    "    scene.lights = [\n",
    "        fresnel.light.Light(direction=(0, 0, 1),\n",
    "                            color=(0.8, 0.8, 0.8),\n",
    "                            theta=math.pi),\n",
    "        fresnel.light.Light(direction=(1, 1, 1),\n",
    "                            color=(1.1, 1.1, 1.1),\n",
    "                            theta=math.pi / 3)\n",
    "    ]\n",
    "    scene.camera = fresnel.camera.Orthographic(position=(L * 2, L, L * 2),\n",
    "                                               look_at=(0, 0, 0),\n",
    "                                               up=(0, 1, 0),\n",
    "                                               height=L * 1.4 + 1)\n",
    "    scene.background_color = (1, 1, 1)\n",
    "    return IPython.display.Image(tracer.sample(scene, samples=500)._repr_png_())"
   ]
  },
  {
   "cell_type": "code",
   "execution_count": 3,
   "id": "fd94fcf2-55ca-4243-a202-c0547406436c",
   "metadata": {},
   "outputs": [],
   "source": [
    "Mass_Rigid_body = 2.\n",
    "Inertia_Tensor = numpy.array([[24/5,0,0],[0,14/5,0],[0,0,14/5]])\n",
    "local_position = [[1,0,0],[-1,0,0]]\n",
    "\n",
    "m = 2\n",
    "N_particles = 2 * m**3\n",
    "spacing = 10.\n",
    "K = math.ceil(N_particles**(1 / 3))\n",
    "L = K * spacing\n",
    "x = numpy.linspace(-L / 2, L / 2, K, endpoint=False)\n",
    "position = list(itertools.product(x, repeat=3))\n",
    "position = numpy.array(position)\n",
    "position[:,0] = position[:,0]\n",
    "snapshot = gsd.hoomd.Snapshot()\n",
    "snapshot.particles.N = N_particles\n",
    "snapshot.particles.position = position[0:N_particles,:]\n",
    "snapshot.particles.orientation = [(1,0,0,0)] * N_particles\n",
    "snapshot.particles.typeid = [0] * N_particles\n",
    "snapshot.configuration.box = [L, L, L, 0, 0, 0]\n",
    "snapshot.particles.mass = [Mass_Rigid_body] * N_particles\n",
    "snapshot.particles.types = ['rigid_body','constituent_sphere']\n",
    "snapshot.particles.moment_inertia = [(Inertia_Tensor[0,0],Inertia_Tensor[1,1],Inertia_Tensor[2,2])] * N_particles\n",
    "snapshot.particles.angmom = [(1,1,1,1)] * N_particles\n",
    "with gsd.hoomd.open(name='lattice_rigid.gsd', mode='wb') as f:\n",
    "    f.append(snapshot)\n",
    "\n",
    "temperature = 1.\n",
    "\n",
    "cpu = hoomd.device.CPU()\n",
    "sim = hoomd.Simulation(device=cpu, seed=1)\n",
    "sim.create_state_from_gsd(filename='lattice_rigid.gsd')\n",
    "\n",
    "epsilon = 1\n",
    "sigma = 2/2**(1/6)\n",
    "integrator = hoomd.md.Integrator(dt=0.0001,integrate_rotational_dof=True)\n",
    "cell = hoomd.md.nlist.Cell(buffer=0,exclusions = ['body'])\n",
    "lj = hoomd.md.pair.LJ(nlist=cell)\n",
    "lj.params[('rigid_body', 'rigid_body')] = dict(epsilon=0, sigma=sigma)\n",
    "lj.params[('rigid_body', 'constituent_sphere')] = dict(epsilon=0, sigma=sigma)\n",
    "lj.params[('constituent_sphere', 'constituent_sphere')] = dict(epsilon=epsilon, sigma=sigma)\n",
    "lj.r_cut[('constituent_sphere', 'constituent_sphere')] = 4 * sigma \n",
    "lj.r_cut[('rigid_body', 'rigid_body')] = 0.\n",
    "lj.r_cut[('rigid_body', 'constituent_sphere')] = 0.\n",
    "integrator.forces.append(lj)\n",
    "\n",
    "rigid_centers_and_free_filter = hoomd.filter.Rigid((\"center\", \"free\"))\n",
    "nvt = hoomd.md.methods.NVT(kT = temperature, tau = 1., filter = rigid_centers_and_free_filter)\n",
    "integrator.methods.append(nvt)\n",
    "\n",
    "rigid = constrain.Rigid()\n",
    "constituent_types = ['constituent_sphere','constituent_sphere']\n",
    "rigid.body['rigid_body'] = {\n",
    "    \"constituent_types\": constituent_types,\n",
    "    \"positions\":local_position,\n",
    "    \"orientations\":[(1,0,0,0)] * len(constituent_types),\n",
    "    \"charges\":[0.] * len(constituent_types),\n",
    "    \"diameters\":[2.] * len(constituent_types)}"
   ]
  },
  {
   "cell_type": "code",
   "execution_count": 4,
   "id": "fc46a9ba-34ee-4750-9a5c-be492178c155",
   "metadata": {},
   "outputs": [],
   "source": [
    "rigid.create_bodies(sim.state)\n",
    "integrator.rigid = rigid\n",
    "sim.operations.integrator = integrator"
   ]
  },
  {
   "cell_type": "code",
   "execution_count": 5,
   "id": "7aa6ec08-36c3-4ea5-b268-4fc710b51e9a",
   "metadata": {},
   "outputs": [],
   "source": [
    "# Gsd writer for simulations\n",
    "logger = hoomd.logging.Logger(['particle','constraint'])\n",
    "gsd_oper = hoomd.write.GSD(trigger=hoomd.trigger.Periodic(1000), filename='randomization.gsd',log=logger,mode='wb',dynamic=['momentum','property'])\n",
    "sim.operations += gsd_oper"
   ]
  },
  {
   "cell_type": "markdown",
   "id": "fdbd2d72-edf3-4e75-a796-6f3e77abdbf2",
   "metadata": {},
   "source": [
    "## We now want to compute the thermodynamic properties:\n",
    "\n",
    "For this example we want to compare the system wide translational kinetic energy calculated by hoomd matches to the translational kinetic energy calculated from the velocities and masses of the rigid bodies. \n",
    "\n",
    "We will thereby demonstrate the the thermodynamic quantities of the system are determined by the properties of the rigid bodies (mass, moment of inertia, ect.), and the forces between the constituent particles but the masses of the constituent particles. The constituent particles only define the force field between rigid bodies. "
   ]
  },
  {
   "cell_type": "code",
   "execution_count": 6,
   "id": "a59847ce-0581-4f7a-8eb8-61a9d29a4bfe",
   "metadata": {},
   "outputs": [],
   "source": [
    "thermodynamic_properties = hoomd.md.compute.ThermodynamicQuantities(\n",
    "    filter=rigid_centers_and_free_filter)\n",
    "\n",
    "sim.operations.computes.append(thermodynamic_properties)\n",
    "sim.state.thermalize_particle_momenta(filter=rigid_centers_and_free_filter, kT=temperature)"
   ]
  },
  {
   "cell_type": "markdown",
   "id": "735cbd6c-bc0f-4890-8622-4b78bb631eaf",
   "metadata": {},
   "source": [
    "## We now run the simulation"
   ]
  },
  {
   "cell_type": "code",
   "execution_count": 7,
   "id": "31bc5789-33de-436e-9924-49b754dccfb4",
   "metadata": {},
   "outputs": [],
   "source": [
    "sim.run(20000)"
   ]
  },
  {
   "cell_type": "code",
   "execution_count": 8,
   "id": "fc92e06b-04a3-45d0-8e84-885dc6b15431",
   "metadata": {},
   "outputs": [
    {
     "data": {
      "text/plain": [
       "29.72147704174968"
      ]
     },
     "execution_count": 8,
     "metadata": {},
     "output_type": "execute_result"
    }
   ],
   "source": [
    "thermodynamic_properties.translational_kinetic_energy"
   ]
  },
  {
   "cell_type": "code",
   "execution_count": 9,
   "id": "00a2686b-cf4f-4eec-a779-f49ec76f2137",
   "metadata": {},
   "outputs": [
    {
     "data": {
      "image/png": "[encoded data removed]",
      "text/plain": [
       "<IPython.core.display.Image object>"
      ]
     },
     "execution_count": 9,
     "metadata": {},
     "output_type": "execute_result"
    }
   ],
   "source": [
    "snapshot = gsd.hoomd.open('randomization.gsd')[-1]\n",
    "render_simulation(1.,snapshot)"
   ]
  },
  {
   "cell_type": "code",
   "execution_count": 10,
   "id": "2efacda8-5c7e-4852-9d0b-216419ac915f",
   "metadata": {},
   "outputs": [
    {
     "name": "stdout",
     "output_type": "stream",
     "text": [
      "translational kinetic energy calculated from velocity and mass of rigid bodies 29.721481\n"
     ]
    }
   ],
   "source": [
    "# Get the mass and velocity of the rigid bodies\n",
    "rigid_body = numpy.where(snapshot.particles.typeid == 0)\n",
    "velocity = snapshot.particles.velocity[rigid_body]\n",
    "mass = snapshot.particles.mass[rigid_body]\n",
    "\n",
    "print('translational kinetic energy calculated from velocity and mass of rigid bodies', numpy.sum(.5 * mass * numpy.linalg.norm(velocity,axis=1) * numpy.linalg.norm(velocity,axis=1)))"
   ]
  },
  {
   "cell_type": "markdown",
   "id": "67474d20-ea31-48fd-bb52-08d8328c7ee1",
   "metadata": {},
   "source": [
    "Note that the translational kinetic energy for the rigid bodies is the same as the tranlational kinetic energy calculated for the simulation. "
   ]
  }
 ],
 "metadata": {
  "kernelspec": {
   "display_name": "Python 3 (ipykernel)",
   "language": "python",
   "name": "python3"
  },
  "language_info": {
   "codemirror_mode": {
    "name": "ipython",
    "version": 3
   },
   "file_extension": ".py",
   "mimetype": "text/x-python",
   "name": "python",
   "nbconvert_exporter": "python",
   "pygments_lexer": "ipython3",
   "version": "3.8.13"
  }
 },
 "nbformat": 4,
 "nbformat_minor": 5
}
