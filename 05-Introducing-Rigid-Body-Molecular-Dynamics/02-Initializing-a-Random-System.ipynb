{
 "cells": [
  {
   "cell_type": "markdown",
   "id": "6251b2a4-349f-4270-9bf6-8e4dced5acc9",
   "metadata": {
    "tags": []
   },
   "source": [
    "# Rigid Body Molecular Dynamics Simulations\n",
    "\n",
    "## Overview\n",
    "\n",
    "### Questions\n",
    "\n",
    "* How do input rigid bodies into hoomd? \n",
    "* How do I correctly integrate the rigid bodies in my simulation? \n",
    "\n",
    "### Objectives\n",
    "\n",
    "* Describe how to correctly add a rigid body to a hoomd simulation with the correct physical properties. \n",
    "    * Mass \n",
    "    * Moment of inertia\n",
    "* Explain how filtering of the rigid body works in hoomd.\n",
    "* Explain integration of rotational degrees of freedom.\n",
    "* Show how hoomd adds constituent particles to a rigid body.\n",
    "\n",
    "## Boilerplate code"
   ]
  },
  {
   "cell_type": "code",
   "execution_count": 1,
   "id": "ca8d45e1-53a7-4173-a9ea-4261837ffdcc",
   "metadata": {},
   "outputs": [],
   "source": [
    "import itertools\n",
    "import math\n",
    "\n",
    "import gsd.hoomd\n",
    "import hoomd\n",
    "import numpy\n",
    "import rowan\n",
    "\n",
    "from hoomd.md import constrain"
   ]
  },
  {
   "cell_type": "markdown",
   "id": "e62936fd-bd6c-43f5-865a-e6addfb18072",
   "metadata": {
    "tags": []
   },
   "source": [
    "The `render_rigid_body` function in the next (hidden) cell will render the rigid body using **fresnel**.\n",
    "\n",
    "<div class=\"alert alert-info\">\n",
    "    This is not intended as a full tutorial on <b>fresnel</b> - see the <a href=\"https://fresnel.readthedocs.io/\">fresnel user documentation</a> if you would like to learn more.\n",
    "</div>"
   ]
  },
  {
   "cell_type": "code",
   "execution_count": 2,
   "id": "b1cfc963-be37-4a00-87a6-772a24a92288",
   "metadata": {
    "jupyter": {
     "source_hidden": true
    },
    "tags": []
   },
   "outputs": [],
   "source": [
    "import fresnel\n",
    "import IPython\n",
    "\n",
    "device = fresnel.Device()\n",
    "tracer = fresnel.tracer.Path(device=device, w=300, h=300)\n",
    "\n",
    "def render_rigid_body(pos_body, radius_constituent):\n",
    "    '''\n",
    "    outputs the sphere positions in the rigid body depending on the radius of the constituent particles\n",
    "    '''\n",
    "    L = 3 * numpy.max(numpy.linalg.norm(pos_body, axis=1))\n",
    "    scene = fresnel.Scene(device)\n",
    "    geometry = fresnel.geometry.Sphere(scene,\n",
    "                                       N=len(pos_body),\n",
    "                                       radius=radius_constituent)\n",
    "    geometry.material = fresnel.material.Material(color=fresnel.color.linear(\n",
    "        [252 / 255, 209 / 255, 1 / 255]),\n",
    "                                                  roughness=0.5)\n",
    "    geometry.position[:] = pos_body\n",
    "    geometry.outline_width = 0.04\n",
    "    box = fresnel.geometry.Box(scene, [L, L, L, 0, 0, 0], box_radius=.02)\n",
    "    \n",
    "    scene.lights = [\n",
    "        fresnel.light.Light(direction=(0, 0, 1),\n",
    "                            color=(0.8, 0.8, 0.8),\n",
    "                            theta=math.pi),\n",
    "        fresnel.light.Light(direction=(1, 1, 1),\n",
    "                            color=(1.1, 1.1, 1.1),\n",
    "                            theta=math.pi / 3)\n",
    "    ]\n",
    "    scene.camera = fresnel.camera.orthographic(position=(L * 2, L, L * 2),\n",
    "                                               look_at=(0, 0, 0),\n",
    "                                               up=(0, 1, 0),\n",
    "                                               height=L * 1.4 + 1)\n",
    "    scene.background_color = (1, 1, 1)\n",
    "    return IPython.display.Image(tracer.sample(scene, samples=500)._repr_png_())"
   ]
  },
  {
   "cell_type": "markdown",
   "id": "6d833ef9-feba-4792-bf13-39c56056473a",
   "metadata": {},
   "source": [
    "In the previous section we outlined the rigid body physics of a dumbell particle, in this case two spheres fused together. Below we briefly define the properties of a dumbell where each sphere has a mass of 1 and radius of 1, with a more detailed description in previous section. \n",
    "\n",
    "The mass of the rigid body is therefore 2. \n",
    "\n",
    "If the spheres have positions $[−1,0,0]$ and $[1,0,0]$ then the moment of inertia tensor is:\n",
    "\n",
    "\\begin{bmatrix}\n",
    "24/5&0&0\\\\\n",
    "0& 14/5& 0\\\\\n",
    "0&0&14/5\n",
    "\\end{bmatrix}"
   ]
  },
  {
   "cell_type": "code",
   "execution_count": 3,
   "id": "a5b64fb6-0b21-4af9-bf26-d49c344e3809",
   "metadata": {},
   "outputs": [],
   "source": [
    "Mass_Rigid_body = 2.\n",
    "Inertia_Tensor = numpy.array([[24/5,0,0],[0,14/5,0],[0,0,14/5]])\n",
    "local_position = numpy.array([[1,0,0],[-1,0,0]])"
   ]
  },
  {
   "cell_type": "markdown",
   "id": "1fbbdf90-2ce2-4f8d-a054-bff9000a4b55",
   "metadata": {},
   "source": [
    "# Hoomd's Definition of rigid bodies:\n",
    "\n",
    "Hoomd defines rigid bodies as a body with a position and orientation in global coordinates. The rigid body is composed of force fields given in the local coordinates of the rigid body, known as *constituent particles*. To integrate the rigid bodies, hoomd sums over the forces of the *constituent particles*.\n",
    "\n",
    "For this tutorial we will assume the force field for each constituent particle is a Lennard-Jones force field, as each free sphere is in the introduction to molecular dynamics. \n",
    "\n",
    "The moment of inertia of a rigid body is defined by an inertia tensor, but it is important to note that in hoomd we assume that the rigid body is oriented such that the moment of inertia tensor is *diagonalized*. In the case of the dumbell above this is already the case and we can put the xx,yy, and zz components of the inertia tensor matrix into hoomd. Section 4 covers how to add bodies to hoomd that are oriented in a way that the inertia tensor is not diagonalized.\n",
    "\n",
    "\n",
    "# How to integrate the rigid bodies:\n",
    "\n",
    "Rigid bodies are often anisotropic and their rotational degrees of freedom need to be integrated to evolve their orientation through time. Hoomd requires the user to explicitly set that you want to integrate the rotational degrees of freedom.\n",
    "\n",
    "In order to only integrate over the rigid bodies and not the constituent particles that make up the body, hoomd uses a filter that tells the integrator to only integrate over the rigid bodies and any other free bodies in the system. This allows the integration to happen for only the rigid bodies. \n",
    "\n",
    "We will go through this whole process below, but first, we give a checklist of how to initialize a rigid body.\n",
    "\n",
    "# Steps to Initializing a rigid body simulation: \n",
    "\n",
    "* Rigid Body Initialization \n",
    "\n",
    "    * Initialize simulation from a snapshot containing only the positions and properties of the rigid bodies, not the constituent particles. \n",
    "    * Create a cell list the filters out the rigid bodies which are composed of constituent particles\n",
    "    * Create a **filter** for the integrator that only integrates the rigid bodies \n",
    "    * Create a force field for the constituent particles\n",
    "    * Create an integrator\n",
    "    * Add a rigid body constraint and define the particles within the rigid body\n",
    "    * Create particles in the rigid body in the simulation. \n",
    "    * Add rigid bodies to the integrator\n",
    "\n",
    "* Final Setup\n",
    "    * Give particles random momenta drawn correctly drawn from the Boltzmann distribution for the current temperature\n",
    "    * Run Simulation at Desired Temperature\n",
    "\n",
    "\n",
    "We will first show how to initialise a snapshot of rigid dumbells below. "
   ]
  },
  {
   "cell_type": "code",
   "execution_count": 4,
   "id": "5f5e2767-d3cd-4f93-85ab-bb4929a73942",
   "metadata": {},
   "outputs": [],
   "source": [
    "m = 2\n",
    "N_particles = 2 * m**3\n",
    "spacing = 10.\n",
    "K = math.ceil(N_particles**(1 / 3))\n",
    "L = K * spacing\n",
    "x = numpy.linspace(-L / 2, L / 2, K, endpoint=False)\n",
    "position = list(itertools.product(x, repeat=3))\n",
    "position = numpy.array(position)\n",
    "position[:,0] = position[:,0]\n",
    "snapshot = gsd.hoomd.Snapshot()\n",
    "snapshot.particles.N = N_particles\n",
    "snapshot.particles.position = position[0:N_particles,:]\n",
    "snapshot.particles.orientation = [(1,0,0,0)] * N_particles\n",
    "snapshot.particles.typeid = [0] * N_particles\n",
    "snapshot.configuration.box = [L, L, L, 0, 0, 0]\n",
    "snapshot.particles.mass = [Mass_Rigid_body] * N_particles\n",
    "snapshot.particles.types = ['rigid_body','constituent_sphere']\n",
    "snapshot.particles.moment_inertia = [(Inertia_Tensor[0,0],Inertia_Tensor[1,1],Inertia_Tensor[2,2])] * N_particles\n",
    "snapshot.particles.angmom = [(1,1,1,1)] * N_particles\n",
    "with gsd.hoomd.open(name='lattice_rigid.gsd', mode='wb') as f:\n",
    "    f.append(snapshot)"
   ]
  },
  {
   "cell_type": "markdown",
   "id": "7e519478-fe78-46b8-b9e2-b8aa917f6963",
   "metadata": {},
   "source": [
    "# Simulation Parameters:\n",
    "\n",
    "Like our previous md simulations, we will choose a temperature (1 kT for our system) as and run the system at constant volume. In order to maintain a constant temperature we will use a Nose-Hoover thermostat. \n",
    "\n",
    "Notice how we have not yet defined the local coordinates of constituent particles of the rigid body. This is because in hoomd we start with a snapshot of the central coordinates of the rigid body and then add a constraint. In this case we use a rigid body constraint that integrates only over the rigid bodies in the system. "
   ]
  },
  {
   "cell_type": "code",
   "execution_count": 5,
   "id": "5026cef1-ff7b-48df-9fe6-513845146bf3",
   "metadata": {},
   "outputs": [],
   "source": [
    "temperature = 1."
   ]
  },
  {
   "cell_type": "markdown",
   "id": "2b87e9e4-c2b7-475a-9dd9-0e2864ecf089",
   "metadata": {},
   "source": [
    "Create a simulation object and device"
   ]
  },
  {
   "cell_type": "code",
   "execution_count": 6,
   "id": "ecbba6de-5a56-4118-8d6d-fc571c1d7355",
   "metadata": {},
   "outputs": [],
   "source": [
    "cpu = hoomd.device.CPU()\n",
    "sim = hoomd.Simulation(device=cpu, seed=1)\n",
    "sim.create_state_from_gsd(filename='lattice_rigid.gsd')"
   ]
  },
  {
   "cell_type": "markdown",
   "id": "f30c2a57-5a12-46e7-b37b-d6f0fed42db3",
   "metadata": {},
   "source": [
    "# Parameters for the Lennard-Jones force field\n",
    "\n",
    "Each sphere that makes up the dumbell interacts with a Lennard Jones potential that has two parameters:\n",
    "* $\\epsilon$ - The prefactor in front of the LJ potential\n",
    "* $\\sigma$ - Dictates the range of the LJ potential\n",
    "\n",
    "We assume the radius of the particle is the half the minimum distance between two LJ spheres at minimum pairwise energy. \n",
    "\n",
    "$r_m = 2^{1/6}\\sigma$\n",
    "\n",
    "We therefore set $r_m$ to 2 and therefore $\\sigma$ equals $2/2^{1/6}$\n",
    "\n",
    "We also assume $\\epsilon = 1.$\n",
    "\n",
    "# Parameters of the Integrator:\n",
    "\n",
    "An important thing to note is that we must tell hoomd to integrate the rotational degrees of freedom, otherwise our rigid body will not change from the initial orientation. "
   ]
  },
  {
   "cell_type": "code",
   "execution_count": 7,
   "id": "f0974f8e-62d8-44b8-a356-5a8df1db1443",
   "metadata": {},
   "outputs": [],
   "source": [
    "epsilon = 1\n",
    "sigma = 2/2**(1/6)\n",
    "integrator = hoomd.md.Integrator(dt=0.0001,integrate_rotational_dof=True)\n",
    "cell = hoomd.md.nlist.Cell(buffer=0,exclusions = ['body'])\n",
    "lj = hoomd.md.pair.LJ(nlist=cell)\n",
    "lj.params[('rigid_body', 'rigid_body')] = dict(epsilon=0, sigma=sigma)\n",
    "lj.params[('rigid_body', 'constituent_sphere')] = dict(epsilon=0, sigma=sigma)\n",
    "lj.params[('constituent_sphere', 'constituent_sphere')] = dict(epsilon=epsilon, sigma=sigma)\n",
    "lj.r_cut[('constituent_sphere', 'constituent_sphere')] = 4 * sigma \n",
    "lj.r_cut[('rigid_body', 'rigid_body')] = 0.\n",
    "lj.r_cut[('rigid_body', 'constituent_sphere')] = 0.\n",
    "integrator.forces.append(lj)"
   ]
  },
  {
   "cell_type": "markdown",
   "id": "92568aa8-b342-4044-a3c5-282995191066",
   "metadata": {},
   "source": [
    "## Adding rigid body constraint:\n",
    "\n",
    "This adds the rigid bodies to the simulations and marks them as 'body' type particles. "
   ]
  },
  {
   "cell_type": "code",
   "execution_count": 8,
   "id": "4fd8f444-47ef-4678-b483-4efe99243c0d",
   "metadata": {},
   "outputs": [],
   "source": [
    "rigid = constrain.Rigid()\n",
    "\n",
    "constituent_types = ['constituent_sphere','constituent_sphere']\n",
    "\n",
    "rigid.body['rigid_body'] = {\n",
    "    \"constituent_types\": constituent_types,\n",
    "    \"positions\":local_position,\n",
    "    \"orientations\":[(1,0,0,0)] * len(constituent_types),\n",
    "    \"charges\":[0.] * len(constituent_types),\n",
    "    \"diameters\":[2.] * len(constituent_types)}"
   ]
  },
  {
   "cell_type": "markdown",
   "id": "c4bab758-8031-41a2-b8f3-0684cab1291c",
   "metadata": {},
   "source": [
    "# Filtering integration in hoomd:\n",
    "\n",
    "Hoomd must filter out the integration of only the rigid bodies and has a built in method to do so.\n",
    "\n",
    "We must apply this method in our Nose-Hoover NVT integrator. \n",
    "\n",
    "*Center* particles are denoted as the rigid body centers defined above. *free* particles are particles that are neither a rigid body center, nor constituent particles of a rigid body.  "
   ]
  },
  {
   "cell_type": "code",
   "execution_count": 9,
   "id": "f7788741-87a8-4311-b156-e737c3e92644",
   "metadata": {},
   "outputs": [],
   "source": [
    "rigid_centers_and_free_filter = hoomd.filter.Rigid((\"center\", \"free\"))\n",
    "nvt = hoomd.md.methods.NVT(kT = temperature, tau = 1., filter = rigid_centers_and_free_filter)\n",
    "integrator.methods.append(nvt)"
   ]
  },
  {
   "cell_type": "markdown",
   "id": "8fdc8106-818d-4a08-bd68-eb9dc14161d7",
   "metadata": {},
   "source": [
    "## Running a Simulation in Hoomd:\n",
    "\n",
    "You now have everything you need to run a rigid body simulation, which is what the next tutorial is dedicated, as well has demonstrating how system quantities in a rigid body system are defined. "
   ]
  }
 ],
 "metadata": {
  "kernelspec": {
   "display_name": "Python 3 (ipykernel)",
   "language": "python",
   "name": "python3"
  },
  "language_info": {
   "codemirror_mode": {
    "name": "ipython",
    "version": 3
   },
   "file_extension": ".py",
   "mimetype": "text/x-python",
   "name": "python",
   "nbconvert_exporter": "python",
   "pygments_lexer": "ipython3",
   "version": "3.8.13"
  }
 },
 "nbformat": 4,
 "nbformat_minor": 5
}
