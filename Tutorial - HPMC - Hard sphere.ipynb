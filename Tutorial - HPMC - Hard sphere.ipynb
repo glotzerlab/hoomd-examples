{
 "cells": [
  {
   "cell_type": "markdown",
   "metadata": {},
   "source": [
    "# Hard sphere\n",
    "\n",
    "The hard sphere system is one of the simplest example of a hard particle Monte Carlo simulation.\n",
    "\n",
    "## Initialize\n",
    "\n",
    "Initialize the simulation with desired execution mode. For a small simulation, run it on the CPU by seeting device as CPU."
   ]
  },
  {
   "cell_type": "code",
   "execution_count": 1,
   "metadata": {},
   "outputs": [
    {
     "name": "stdout",
     "output_type": "stream",
     "text": [
      "HOOMD-blue v2.8.0-632-ge7c1f1636 DOUBLE HPMC_MIXED SSE SSE2 SSE3 SSE4_1 \n",
      "Compiled: 12/06/2019\n",
      "Copyright (c) 2009-2019 The Regents of the University of Michigan.\n",
      "HOOMD-blue is running on the CPU\n"
     ]
    }
   ],
   "source": [
    "from hoomd.simulation import Simulation\n",
    "import hoomd.device as device\n",
    "\n",
    "device = device.CPU()\n",
    "sim = Simulation(device)"
   ]
  },
  {
   "cell_type": "markdown",
   "metadata": {},
   "source": [
    "Initialize the system via reading a given GSD file."
   ]
  },
  {
   "cell_type": "code",
   "execution_count": 2,
   "metadata": {},
   "outputs": [],
   "source": [
    "sim.create_state_from_gsd('init.gsd')"
   ]
  },
  {
   "cell_type": "markdown",
   "metadata": {},
   "source": [
    "## Create the integrator\n",
    "\n",
    "The `hoomd.hpmc.integrate` performs as a integrator for kinds of shapes. Here we show an example using the `Sphere` integrator for a hard sphere Monte Carlo simulation."
   ]
  },
  {
   "cell_type": "code",
   "execution_count": 3,
   "metadata": {},
   "outputs": [],
   "source": [
    "from hoomd.hpmc.integrate import Sphere\n",
    "\n",
    "sphere_integrtor = Sphere(42)"
   ]
  },
  {
   "cell_type": "markdown",
   "metadata": {},
   "source": [
    "Set up parameters for the particles in the system, e.g, displacement, orientation movement and the diameter of the spheres."
   ]
  },
  {
   "cell_type": "code",
   "execution_count": 4,
   "metadata": {},
   "outputs": [],
   "source": [
    "sphere_integrtor.d['A'] = 0.2\n",
    "sphere_integrtor.a['A'] = 0.1\n",
    "sphere_integrtor.shape['A'] = dict(diameter = 1.0)"
   ]
  },
  {
   "cell_type": "markdown",
   "metadata": {},
   "source": [
    "## Write output"
   ]
  },
  {
   "cell_type": "markdown",
   "metadata": {},
   "source": [
    "Periodically write the particle configurations to a gsd file."
   ]
  },
  {
   "cell_type": "code",
   "execution_count": 5,
   "metadata": {},
   "outputs": [],
   "source": [
    "from hoomd.hpmc.update import Clusters\n",
    "cluster = Clusters(123, swap_types = [], trigger = 1)\n",
    "\n",
    "from hoomd.dump import GSD\n",
    "from hoomd.filters import All\n",
    "from hoomd.triggers import PeriodicTrigger\n",
    "\n",
    "gsd = GSD(\"trajectory.gsd\",\\\n",
    "          filter = All(),\\\n",
    "          trigger = PeriodicTrigger(period = 5, phase = 0),\\\n",
    "          overwrite = True)"
   ]
  },
  {
   "cell_type": "markdown",
   "metadata": {},
   "source": [
    "Add all operations needed to run in the simulation, and schedule the to-run operations."
   ]
  },
  {
   "cell_type": "code",
   "execution_count": 6,
   "metadata": {},
   "outputs": [],
   "source": [
    "sim.operations.add(sphere_integrtor)\n",
    "sim.operations.add(cluster)\n",
    "sim.operations.add(gsd)\n",
    "sim.operations.schedule()"
   ]
  },
  {
   "cell_type": "markdown",
   "metadata": {},
   "source": [
    "## Runing the system\n",
    "\n",
    "Run the system with `sim.run()` with given steps. "
   ]
  },
  {
   "cell_type": "code",
   "execution_count": 7,
   "metadata": {},
   "outputs": [
    {
     "name": "stdout",
     "output_type": "stream",
     "text": [
      "Time 00:00:07 | Step 523010 / 523010 | TPS 394.058 | ETA 00:00:00\n",
      "Average TPS: 373.315\n",
      "---------\n",
      "notice(2): -- HPMC stats:\n",
      "notice(2): Average translate acceptance: 0.45544\n",
      "notice(2): Trial moves per second:        306318\n",
      "notice(2): Overlap checks per second:     1.26458e+07\n",
      "notice(2): Overlap checks per trial move: 41.2832\n",
      "notice(2): Number of overlap errors:      0\n",
      "notice(2): -- HPMC cluster move stats:\n",
      "notice(2): Average pivot acceptance:      1\n",
      "notice(2): Average reflection acceptance: 0\n",
      "notice(2): Total particles in clusters:   2160\n",
      "notice(2): Total particles moved:         1294\n",
      "notice(2): Average cluster size:          135\n"
     ]
    }
   ],
   "source": [
    "sim.verbose_run = True\n",
    "sim.run(10)"
   ]
  },
  {
   "cell_type": "code",
   "execution_count": null,
   "metadata": {},
   "outputs": [],
   "source": []
  }
 ],
 "metadata": {
  "kernelspec": {
   "display_name": "Python 3",
   "language": "python",
   "name": "python3"
  },
  "language_info": {
   "codemirror_mode": {
    "name": "ipython",
    "version": 3
   },
   "file_extension": ".py",
   "mimetype": "text/x-python",
   "name": "python",
   "nbconvert_exporter": "python",
   "pygments_lexer": "ipython3",
   "version": "3.6.7"
  }
 },
 "nbformat": 4,
 "nbformat_minor": 2
}
