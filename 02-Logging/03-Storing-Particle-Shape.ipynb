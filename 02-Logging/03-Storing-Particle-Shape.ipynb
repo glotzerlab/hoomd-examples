{
 "cells": [
  {
   "cell_type": "markdown",
   "metadata": {},
   "source": [
    "# Storing Particle Shape\n",
    "\n",
    "## Overview\n",
    "\n",
    "### Questions\n",
    "\n",
    "* How can I store particle shape for use with visualization tools?\n",
    "\n",
    "### Objectives\n",
    "\n",
    "* Demonstrate logging **type_shapes** to a **GSD** file.\n",
    "* Explain that OVITO can read this information.\n",
    "\n",
    "## Boilerplate code"
   ]
  },
  {
   "cell_type": "code",
   "execution_count": 1,
   "metadata": {
    "execution": {
     "iopub.execute_input": "2021-02-10T15:51:54.376828Z",
     "iopub.status.busy": "2021-02-10T15:51:54.376088Z",
     "iopub.status.idle": "2021-02-10T15:51:54.497824Z",
     "shell.execute_reply": "2021-02-10T15:51:54.498409Z"
    }
   },
   "outputs": [],
   "source": [
    "import hoomd\n",
    "import gsd.hoomd"
   ]
  },
  {
   "cell_type": "code",
   "execution_count": 2,
   "metadata": {
    "execution": {
     "iopub.execute_input": "2021-02-10T15:51:54.502496Z",
     "iopub.status.busy": "2021-02-10T15:51:54.501785Z",
     "iopub.status.idle": "2021-02-10T15:51:54.616314Z",
     "shell.execute_reply": "2021-02-10T15:51:54.617071Z"
    },
    "nbsphinx": "hidden"
   },
   "outputs": [],
   "source": [
    "import os\n",
    "fn = os.path.join(os.getcwd(), 'trajectory.gsd')\n",
    "![ -e \"$fn\" ] && rm \"$fn\""
   ]
  },
  {
   "cell_type": "markdown",
   "metadata": {},
   "source": [
    "## Particle Shape\n",
    "\n",
    "HPMC integrators and some anisotropic MD pair potentials model particles that have a well defined shape.\n",
    "You can save this shape definition to a **GSD** file for use in analysis and visualization workflows.\n",
    "In particular, [OVITO](https://www.ovito.org/) will read this shape information and render particles appropriately."
   ]
  },
  {
   "cell_type": "markdown",
   "metadata": {},
   "source": [
    "## Define the Simulation\n",
    "\n",
    "This section executes the hard particle simulation from a previous tutorial. \n",
    "See [*Introducing HOOMD-blue*](../00-Introducing-HOOMD-blue/00-index.ipynb) for a complete description of this code."
   ]
  },
  {
   "cell_type": "code",
   "execution_count": 3,
   "metadata": {
    "execution": {
     "iopub.execute_input": "2021-02-10T15:51:54.677934Z",
     "iopub.status.busy": "2021-02-10T15:51:54.676727Z",
     "iopub.status.idle": "2021-02-10T15:51:54.679200Z",
     "shell.execute_reply": "2021-02-10T15:51:54.680161Z"
    }
   },
   "outputs": [],
   "source": [
    "cpu = hoomd.device.CPU()\n",
    "sim = hoomd.Simulation(device=cpu)\n",
    "mc = hoomd.hpmc.integrate.ConvexPolyhedron(seed=2)\n",
    "mc.shape['octahedron'] = dict(vertices=[(-0.5, 0, 0),\n",
    "                                         (0.5, 0, 0),\n",
    "                                         (0, -0.5, 0),\n",
    "                                         (0, 0.5, 0),\n",
    "                                         (0, 0, -0.5),\n",
    "                                         (0, 0, 0.5)])\n",
    "sim.operations.integrator = mc\n",
    "sim.create_state_from_gsd(filename='../00-Introducing-HOOMD-blue/compressed.gsd')\n",
    "sim.run(0)"
   ]
  },
  {
   "cell_type": "markdown",
   "metadata": {},
   "source": [
    "## Logging particle shape to a GSD file\n",
    "\n",
    "The **type_shapes** loggable quantity is a representation of the particle shape for each type following the [**type_shapes** specification](https://gsd.readthedocs.io/en/stable/shapes.html) for the **GSD** file format.\n",
    "In HPMC simulations, the integrator provides **type_shapes**:"
   ]
  },
  {
   "cell_type": "code",
   "execution_count": 4,
   "metadata": {
    "execution": {
     "iopub.execute_input": "2021-02-10T15:51:54.690246Z",
     "iopub.status.busy": "2021-02-10T15:51:54.689295Z",
     "iopub.status.idle": "2021-02-10T15:51:54.692723Z",
     "shell.execute_reply": "2021-02-10T15:51:54.693533Z"
    }
   },
   "outputs": [
    {
     "data": {
      "text/plain": [
       "{'state': 'state',\n",
       " 'map_overlaps': 'sequence',\n",
       " 'overlaps': 'scalar',\n",
       " 'translate_moves': 'sequence',\n",
       " 'rotate_moves': 'sequence',\n",
       " 'mps': 'scalar',\n",
       " 'type_shapes': 'object'}"
      ]
     },
     "execution_count": 1,
     "metadata": {},
     "output_type": "execute_result"
    }
   ],
   "source": [
    "mc.loggables"
   ]
  },
  {
   "cell_type": "code",
   "execution_count": 5,
   "metadata": {
    "execution": {
     "iopub.execute_input": "2021-02-10T15:51:54.698214Z",
     "iopub.status.busy": "2021-02-10T15:51:54.697459Z",
     "iopub.status.idle": "2021-02-10T15:51:54.699995Z",
     "shell.execute_reply": "2021-02-10T15:51:54.700629Z"
    }
   },
   "outputs": [
    {
     "data": {
      "text/plain": [
       "[{'type': 'ConvexPolyhedron',\n",
       "  'rounding_radius': 0,\n",
       "  'vertices': [[-0.5, 0, 0],\n",
       "   [0.5, 0, 0],\n",
       "   [0, -0.5, 0],\n",
       "   [0, 0.5, 0],\n",
       "   [0, 0, -0.5],\n",
       "   [0, 0, 0.5]]}]"
      ]
     },
     "execution_count": 1,
     "metadata": {},
     "output_type": "execute_result"
    }
   ],
   "source": [
    "mc.type_shapes"
   ]
  },
  {
   "cell_type": "markdown",
   "metadata": {},
   "source": [
    "Add the **type_shapes** quantity to a **Logger**."
   ]
  },
  {
   "cell_type": "code",
   "execution_count": 6,
   "metadata": {
    "execution": {
     "iopub.execute_input": "2021-02-10T15:51:54.704736Z",
     "iopub.status.busy": "2021-02-10T15:51:54.704121Z",
     "iopub.status.idle": "2021-02-10T15:51:54.706009Z",
     "shell.execute_reply": "2021-02-10T15:51:54.706493Z"
    }
   },
   "outputs": [],
   "source": [
    "logger = hoomd.logging.Logger()\n",
    "logger.add(mc, quantities=['type_shapes'])"
   ]
  },
  {
   "cell_type": "markdown",
   "metadata": {},
   "source": [
    "Write the simulation trajectory to a **GSD** file along with the logged quantities:"
   ]
  },
  {
   "cell_type": "code",
   "execution_count": 7,
   "metadata": {
    "execution": {
     "iopub.execute_input": "2021-02-10T15:51:54.711324Z",
     "iopub.status.busy": "2021-02-10T15:51:54.710688Z",
     "iopub.status.idle": "2021-02-10T15:51:54.712790Z",
     "shell.execute_reply": "2021-02-10T15:51:54.713273Z"
    }
   },
   "outputs": [],
   "source": [
    "gsd_writer = hoomd.write.GSD(filename='trajectory.gsd',\n",
    "                             trigger=hoomd.trigger.Periodic(10000),\n",
    "                             mode='xb',\n",
    "                             filter=hoomd.filter.All(),\n",
    "                             log=logger)\n",
    "sim.operations.writers.append(gsd_writer)"
   ]
  },
  {
   "cell_type": "markdown",
   "metadata": {},
   "source": [
    "Run the simulation:"
   ]
  },
  {
   "cell_type": "code",
   "execution_count": 8,
   "metadata": {
    "execution": {
     "iopub.execute_input": "2021-02-10T15:52:33.544320Z",
     "iopub.status.busy": "2021-02-10T15:52:33.543104Z",
     "iopub.status.idle": "2021-02-10T15:52:33.545602Z",
     "shell.execute_reply": "2021-02-10T15:52:33.546584Z"
    }
   },
   "outputs": [],
   "source": [
    "sim.run(20000)"
   ]
  },
  {
   "cell_type": "markdown",
   "metadata": {},
   "source": [
    "As discussed in a previous section, delete the simulation so it is safe to open the GSD file for reading in the same process."
   ]
  },
  {
   "cell_type": "code",
   "execution_count": 9,
   "metadata": {
    "execution": {
     "iopub.execute_input": "2021-02-10T15:52:33.551565Z",
     "iopub.status.busy": "2021-02-10T15:52:33.550397Z",
     "iopub.status.idle": "2021-02-10T15:52:33.552826Z",
     "shell.execute_reply": "2021-02-10T15:52:33.553674Z"
    }
   },
   "outputs": [],
   "source": [
    "del sim, gsd_writer, logger, mc, cpu"
   ]
  },
  {
   "cell_type": "markdown",
   "metadata": {},
   "source": [
    "## Reading logged shapes from a GSD file\n",
    "\n",
    "You can access the shape from scripts using the `gsd` package:"
   ]
  },
  {
   "cell_type": "code",
   "execution_count": 10,
   "metadata": {
    "execution": {
     "iopub.execute_input": "2021-02-10T15:52:33.558839Z",
     "iopub.status.busy": "2021-02-10T15:52:33.557938Z",
     "iopub.status.idle": "2021-02-10T15:52:33.561291Z",
     "shell.execute_reply": "2021-02-10T15:52:33.561786Z"
    }
   },
   "outputs": [],
   "source": [
    "traj = gsd.hoomd.open('trajectory.gsd', 'rb')"
   ]
  },
  {
   "cell_type": "markdown",
   "metadata": {},
   "source": [
    "**type_shapes** is a special quantity available via `particles.type_shapes` rather than the `log` dictionary:"
   ]
  },
  {
   "cell_type": "code",
   "execution_count": 11,
   "metadata": {
    "execution": {
     "iopub.execute_input": "2021-02-10T15:52:33.566104Z",
     "iopub.status.busy": "2021-02-10T15:52:33.565639Z",
     "iopub.status.idle": "2021-02-10T15:52:33.570057Z",
     "shell.execute_reply": "2021-02-10T15:52:33.570598Z"
    }
   },
   "outputs": [
    {
     "data": {
      "text/plain": [
       "[{'type': 'ConvexPolyhedron',\n",
       "  'rounding_radius': 0,\n",
       "  'vertices': [[-0.5, 0, 0],\n",
       "   [0.5, 0, 0],\n",
       "   [0, -0.5, 0],\n",
       "   [0, 0.5, 0],\n",
       "   [0, 0, -0.5],\n",
       "   [0, 0, 0.5]]}]"
      ]
     },
     "execution_count": 1,
     "metadata": {},
     "output_type": "execute_result"
    }
   ],
   "source": [
    "traj[0].particles.type_shapes"
   ]
  },
  {
   "cell_type": "markdown",
   "metadata": {},
   "source": [
    "Open the file in OVITO and it will read the shape definition and render particles appropriately."
   ]
  },
  {
   "cell_type": "markdown",
   "metadata": {},
   "source": [
    "In this section, you have logged particle shape to a GSD file during a simulation so that visualization and analysis tools can access it.\n",
    "The next section shows how to write formatted output."
   ]
  },
  {
   "cell_type": "markdown",
   "metadata": {
    "nbsphinx": "hidden"
   },
   "source": [
    "[Previous section](02-Saving-Array-Quantities.ipynb) / [Next Section](04-Writing-Formatted-Output.ipynb)"
   ]
  }
 ],
 "metadata": {
  "kernelspec": {
   "display_name": "Python 3",
   "language": "python",
   "name": "python3"
  },
  "language_info": {
   "codemirror_mode": {
    "name": "ipython",
    "version": 3
   },
   "file_extension": ".py",
   "mimetype": "text/x-python",
   "name": "python",
   "nbconvert_exporter": "python",
   "pygments_lexer": "ipython3",
   "version": "3.9.1"
  }
 },
 "nbformat": 4,
 "nbformat_minor": 4
}
