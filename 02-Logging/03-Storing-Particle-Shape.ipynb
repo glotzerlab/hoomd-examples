{
 "cells": [
  {
   "cell_type": "markdown",
   "metadata": {},
   "source": [
    "# Storing Particle Shape\n",
    "\n",
    "## Overview\n",
    "\n",
    "### Questions\n",
    "\n",
    "* How can I store particle shape for use with visualization tools?\n",
    "\n",
    "### Objectives\n",
    "\n",
    "* Demonstrate logging **type_shapes** to a **GSD** file.\n",
    "* Explain that OVITO can read this information.\n",
    "\n",
    "## Boilerplate code"
   ]
  },
  {
   "cell_type": "code",
   "execution_count": 1,
   "metadata": {
    "execution": {
     "iopub.execute_input": "2021-02-16T16:24:33.618374Z",
     "iopub.status.busy": "2021-02-16T16:24:33.617100Z",
     "iopub.status.idle": "2021-02-16T16:24:33.738672Z",
     "shell.execute_reply": "2021-02-16T16:24:33.739215Z"
    }
   },
   "outputs": [],
   "source": [
    "import hoomd\n",
    "import gsd.hoomd"
   ]
  },
  {
   "cell_type": "code",
   "execution_count": 2,
   "metadata": {
    "execution": {
     "iopub.execute_input": "2021-02-16T16:24:33.743115Z",
     "iopub.status.busy": "2021-02-16T16:24:33.742462Z",
     "iopub.status.idle": "2021-02-16T16:24:33.859642Z",
     "shell.execute_reply": "2021-02-16T16:24:33.860617Z"
    },
    "nbsphinx": "hidden"
   },
   "outputs": [],
   "source": [
    "import os\n",
    "fn = os.path.join(os.getcwd(), 'trajectory.gsd')\n",
    "![ -e \"$fn\" ] && rm \"$fn\""
   ]
  },
  {
   "cell_type": "markdown",
   "metadata": {},
   "source": [
    "## Particle Shape\n",
    "\n",
    "HPMC integrators and some anisotropic MD pair potentials model particles that have a well defined shape.\n",
    "You can save this shape definition to a **GSD** file for use in analysis and visualization workflows.\n",
    "In particular, [OVITO](https://www.ovito.org/) will read this shape information and render particles appropriately."
   ]
  },
  {
   "cell_type": "markdown",
   "metadata": {},
   "source": [
    "## Define the Simulation\n",
    "\n",
    "This section executes the hard particle simulation from a previous tutorial. \n",
    "See [*Introducing HOOMD-blue*](../00-Introducing-HOOMD-blue/00-index.ipynb) for a complete description of this code."
   ]
  },
  {
   "cell_type": "code",
   "execution_count": 3,
   "metadata": {
    "execution": {
     "iopub.execute_input": "2021-02-16T16:24:33.907303Z",
     "iopub.status.busy": "2021-02-16T16:24:33.906191Z",
     "iopub.status.idle": "2021-02-16T16:24:33.908501Z",
     "shell.execute_reply": "2021-02-16T16:24:33.909412Z"
    }
   },
   "outputs": [],
   "source": [
    "cpu = hoomd.device.CPU()\n",
    "sim = hoomd.Simulation(device=cpu)\n",
    "mc = hoomd.hpmc.integrate.ConvexPolyhedron(seed=2)\n",
    "mc.shape['octahedron'] = dict(vertices=[(-0.5, 0, 0),\n",
    "                                         (0.5, 0, 0),\n",
    "                                         (0, -0.5, 0),\n",
    "                                         (0, 0.5, 0),\n",
    "                                         (0, 0, -0.5),\n",
    "                                         (0, 0, 0.5)])\n",
    "sim.operations.integrator = mc\n",
    "sim.create_state_from_gsd(filename='../00-Introducing-HOOMD-blue/compressed.gsd')\n",
    "sim.run(0)"
   ]
  },
  {
   "cell_type": "markdown",
   "metadata": {},
   "source": [
    "## Logging particle shape to a GSD file\n",
    "\n",
    "The **type_shapes** loggable quantity is a representation of the particle shape for each type following the [**type_shapes** specification](https://gsd.readthedocs.io/en/stable/shapes.html) for the **GSD** file format.\n",
    "In HPMC simulations, the integrator provides **type_shapes**:"
   ]
  },
  {
   "cell_type": "code",
   "execution_count": 4,
   "metadata": {
    "execution": {
     "iopub.execute_input": "2021-02-16T16:24:33.919514Z",
     "iopub.status.busy": "2021-02-16T16:24:33.918422Z",
     "iopub.status.idle": "2021-02-16T16:24:33.923240Z",
     "shell.execute_reply": "2021-02-16T16:24:33.922316Z"
    }
   },
   "outputs": [
    {
     "data": {
      "text/plain": [
       "{'state': 'state',\n",
       " 'map_overlaps': 'sequence',\n",
       " 'overlaps': 'scalar',\n",
       " 'translate_moves': 'sequence',\n",
       " 'rotate_moves': 'sequence',\n",
       " 'mps': 'scalar',\n",
       " 'type_shapes': 'object'}"
      ]
     },
     "execution_count": 1,
     "metadata": {},
     "output_type": "execute_result"
    }
   ],
   "source": [
    "mc.loggables"
   ]
  },
  {
   "cell_type": "code",
   "execution_count": 5,
   "metadata": {
    "execution": {
     "iopub.execute_input": "2021-02-16T16:24:33.927832Z",
     "iopub.status.busy": "2021-02-16T16:24:33.927210Z",
     "iopub.status.idle": "2021-02-16T16:24:33.929822Z",
     "shell.execute_reply": "2021-02-16T16:24:33.930324Z"
    }
   },
   "outputs": [
    {
     "data": {
      "text/plain": [
       "[{'type': 'ConvexPolyhedron',\n",
       "  'rounding_radius': 0,\n",
       "  'vertices': [[-0.5, 0, 0],\n",
       "   [0.5, 0, 0],\n",
       "   [0, -0.5, 0],\n",
       "   [0, 0.5, 0],\n",
       "   [0, 0, -0.5],\n",
       "   [0, 0, 0.5]]}]"
      ]
     },
     "execution_count": 1,
     "metadata": {},
     "output_type": "execute_result"
    }
   ],
   "source": [
    "mc.type_shapes"
   ]
  },
  {
   "cell_type": "markdown",
   "metadata": {},
   "source": [
    "Add the **type_shapes** quantity to a **Logger**."
   ]
  },
  {
   "cell_type": "code",
   "execution_count": 6,
   "metadata": {
    "execution": {
     "iopub.execute_input": "2021-02-16T16:24:33.934661Z",
     "iopub.status.busy": "2021-02-16T16:24:33.933952Z",
     "iopub.status.idle": "2021-02-16T16:24:33.936329Z",
     "shell.execute_reply": "2021-02-16T16:24:33.936886Z"
    }
   },
   "outputs": [],
   "source": [
    "logger = hoomd.logging.Logger()\n",
    "logger.add(mc, quantities=['type_shapes'])"
   ]
  },
  {
   "cell_type": "markdown",
   "metadata": {},
   "source": [
    "Write the simulation trajectory to a **GSD** file along with the logged quantities:"
   ]
  },
  {
   "cell_type": "code",
   "execution_count": 7,
   "metadata": {
    "execution": {
     "iopub.execute_input": "2021-02-16T16:24:33.942257Z",
     "iopub.status.busy": "2021-02-16T16:24:33.941559Z",
     "iopub.status.idle": "2021-02-16T16:24:33.943944Z",
     "shell.execute_reply": "2021-02-16T16:24:33.944497Z"
    }
   },
   "outputs": [],
   "source": [
    "gsd_writer = hoomd.write.GSD(filename='trajectory.gsd',\n",
    "                             trigger=hoomd.trigger.Periodic(10000),\n",
    "                             mode='xb',\n",
    "                             filter=hoomd.filter.All(),\n",
    "                             log=logger)\n",
    "sim.operations.writers.append(gsd_writer)"
   ]
  },
  {
   "cell_type": "markdown",
   "metadata": {},
   "source": [
    "Run the simulation:"
   ]
  },
  {
   "cell_type": "code",
   "execution_count": 8,
   "metadata": {
    "execution": {
     "iopub.execute_input": "2021-02-16T16:24:52.613411Z",
     "iopub.status.busy": "2021-02-16T16:24:52.612232Z",
     "iopub.status.idle": "2021-02-16T16:24:52.613995Z",
     "shell.execute_reply": "2021-02-16T16:24:52.614339Z"
    }
   },
   "outputs": [],
   "source": [
    "sim.run(20000)"
   ]
  },
  {
   "cell_type": "markdown",
   "metadata": {},
   "source": [
    "As discussed in a previous section, delete the simulation so it is safe to open the GSD file for reading in the same process."
   ]
  },
  {
   "cell_type": "code",
   "execution_count": 9,
   "metadata": {
    "execution": {
     "iopub.execute_input": "2021-02-16T16:24:52.619207Z",
     "iopub.status.busy": "2021-02-16T16:24:52.618770Z",
     "iopub.status.idle": "2021-02-16T16:24:52.622008Z",
     "shell.execute_reply": "2021-02-16T16:24:52.621619Z"
    }
   },
   "outputs": [],
   "source": [
    "del sim, gsd_writer, logger, mc, cpu"
   ]
  },
  {
   "cell_type": "markdown",
   "metadata": {},
   "source": [
    "## Reading logged shapes from a GSD file\n",
    "\n",
    "You can access the shape from scripts using the `gsd` package:"
   ]
  },
  {
   "cell_type": "code",
   "execution_count": 10,
   "metadata": {
    "execution": {
     "iopub.execute_input": "2021-02-16T16:24:52.627350Z",
     "iopub.status.busy": "2021-02-16T16:24:52.626184Z",
     "iopub.status.idle": "2021-02-16T16:24:52.628603Z",
     "shell.execute_reply": "2021-02-16T16:24:52.629567Z"
    }
   },
   "outputs": [],
   "source": [
    "traj = gsd.hoomd.open('trajectory.gsd', 'rb')"
   ]
  },
  {
   "cell_type": "markdown",
   "metadata": {},
   "source": [
    "**type_shapes** is a special quantity available via `particles.type_shapes` rather than the `log` dictionary:"
   ]
  },
  {
   "cell_type": "code",
   "execution_count": 11,
   "metadata": {
    "execution": {
     "iopub.execute_input": "2021-02-16T16:24:52.634512Z",
     "iopub.status.busy": "2021-02-16T16:24:52.633328Z",
     "iopub.status.idle": "2021-02-16T16:24:52.637284Z",
     "shell.execute_reply": "2021-02-16T16:24:52.638260Z"
    }
   },
   "outputs": [
    {
     "data": {
      "text/plain": [
       "[{'type': 'ConvexPolyhedron',\n",
       "  'rounding_radius': 0,\n",
       "  'vertices': [[-0.5, 0, 0],\n",
       "   [0.5, 0, 0],\n",
       "   [0, -0.5, 0],\n",
       "   [0, 0.5, 0],\n",
       "   [0, 0, -0.5],\n",
       "   [0, 0, 0.5]]}]"
      ]
     },
     "execution_count": 1,
     "metadata": {},
     "output_type": "execute_result"
    }
   ],
   "source": [
    "traj[0].particles.type_shapes"
   ]
  },
  {
   "cell_type": "markdown",
   "metadata": {},
   "source": [
    "Open the file in OVITO and it will read the shape definition and render particles appropriately."
   ]
  },
  {
   "cell_type": "markdown",
   "metadata": {},
   "source": [
    "In this section, you have logged particle shape to a GSD file during a simulation so that visualization and analysis tools can access it.\n",
    "The next section shows how to write formatted output."
   ]
  },
  {
   "cell_type": "markdown",
   "metadata": {
    "nbsphinx": "hidden"
   },
   "source": [
    "[Previous section](02-Saving-Array-Quantities.ipynb) / [Next Section](04-Writing-Formatted-Output.ipynb)"
   ]
  }
 ],
 "metadata": {
  "kernelspec": {
   "display_name": "Python 3",
   "language": "python",
   "name": "python3"
  },
  "language_info": {
   "codemirror_mode": {
    "name": "ipython",
    "version": 3
   },
   "file_extension": ".py",
   "mimetype": "text/x-python",
   "name": "python",
   "nbconvert_exporter": "python",
   "pygments_lexer": "ipython3",
   "version": "3.9.1"
  }
 },
 "nbformat": 4,
 "nbformat_minor": 4
}
