{
 "cells": [
  {
   "cell_type": "markdown",
   "metadata": {},
   "source": [
    "# Saving Array Quantities\n",
    "\n",
    "## Overview\n",
    "\n",
    "### Questions\n",
    "\n",
    "* How can I save per-particle quantities for later analysis?\n",
    "* How can I access that data?\n",
    "\n",
    "### Objectives\n",
    "\n",
    "* Show how to log **per-particle properties** to a **GSD** file.\n",
    "* Explain how to read logged quantities from a **GSD** file.\n",
    "* Mention that OVITO reads these quantities.\n",
    "\n",
    "## Boilerplate code"
   ]
  },
  {
   "cell_type": "code",
   "execution_count": 1,
   "metadata": {},
   "outputs": [],
   "source": [
    "import hoomd\n",
    "import numpy\n",
    "import gsd.hoomd\n",
    "import matplotlib\n",
    "%matplotlib inline\n",
    "matplotlib.style.use('ggplot')"
   ]
  },
  {
   "cell_type": "markdown",
   "metadata": {},
   "source": [
    "## Array quantities\n",
    "\n",
    "You saw an example of logging a small 6-element array quantity in the previous section, the pressure tensor.\n",
    "You can log larger arrays and per-particle quantities (e.g. energy and force) in a **GSD** file along with the trajectory and use [OVITO](https://www.ovito.org/) to color particles by energy, display force vectors, or utilize the data in your analysis and visualization workflow. \n",
    "When using OVITO, open the GSD file and all logged quantities will be available in the inspector and for use in the pipeline."
   ]
  },
  {
   "cell_type": "markdown",
   "metadata": {},
   "source": [
    "## Define the Simulation\n",
    "\n",
    "This tutorial executes the Lennard-Jones particle simulation from the previous tutorial. \n",
    "See *Introduction to Molecular Dyamics* for a complete description of this code."
   ]
  },
  {
   "cell_type": "code",
   "execution_count": 2,
   "metadata": {},
   "outputs": [],
   "source": [
    "gpu = hoomd.device.GPU()\n",
    "sim = hoomd.Simulation(device=gpu)\n",
    "sim.create_state_from_gsd(filename='../01-Introducing-Molecular-Dynamics/random.gsd')\n",
    "\n",
    "integrator = hoomd.md.Integrator(dt=0.005)\n",
    "cell = hoomd.md.nlist.Cell()\n",
    "lj = hoomd.md.pair.LJ(nlist=cell)\n",
    "lj.params[('A', 'A')] = dict(epsilon=1, sigma=1)\n",
    "lj.r_cut[('A', 'A')] = 2.5\n",
    "integrator.forces.append(lj)\n",
    "nvt = hoomd.md.methods.NVT(kT=1.5, filter=hoomd.filter.All(), tau=1.0)\n",
    "integrator.methods.append(nvt)\n",
    "sim.operations.integrator = integrator\n",
    "sim.run(0)"
   ]
  },
  {
   "cell_type": "markdown",
   "metadata": {},
   "source": [
    "## Logging per-particle quantities\n",
    "\n",
    "MD forces provide a number of loggable quantities including their contribution to the system energy, but also per-particle energy contributions (in `energies`) and per-particle forces, torques, and virials."
   ]
  },
  {
   "cell_type": "code",
   "execution_count": 3,
   "metadata": {},
   "outputs": [
    {
     "data": {
      "text/plain": [
       "{'state': 'state',\n",
       " 'energy': 'scalar',\n",
       " 'energies': 'particle',\n",
       " 'forces': 'particle',\n",
       " 'torques': 'particle',\n",
       " 'virials': 'particle'}"
      ]
     },
     "execution_count": 3,
     "metadata": {},
     "output_type": "execute_result"
    }
   ],
   "source": [
    "lj.loggables"
   ]
  },
  {
   "cell_type": "markdown",
   "metadata": {},
   "source": [
    "By default, **Logger** will filter out loggable quantities that may be large or not needed in typical situations.\n",
    "Pass `only_default=False` to allow **Logger** to include these quantities and add only the quantities you need:"
   ]
  },
  {
   "cell_type": "code",
   "execution_count": 4,
   "metadata": {},
   "outputs": [
    {
     "data": {
      "text/plain": [
       "[('md', 'pair', 'LJ', 'energies'), ('md', 'pair', 'LJ', 'forces')]"
      ]
     },
     "execution_count": 4,
     "metadata": {},
     "output_type": "execute_result"
    }
   ],
   "source": [
    "logger = hoomd.logging.Logger(only_default=False)\n",
    "logger.add(lj, quantities=['energies', 'forces'])"
   ]
  },
  {
   "cell_type": "markdown",
   "metadata": {},
   "source": [
    "## Writing per-particle quantities to a GSD file\n",
    "\n",
    "In the previous section, you used a `Null` filter to produce GSD file with *only* logged data.\n",
    "In this section, include all particles so that you can connect logged per-particle quantities with the particle properties.\n"
   ]
  },
  {
   "cell_type": "code",
   "execution_count": 5,
   "metadata": {},
   "outputs": [],
   "source": [
    "gsd_writer = hoomd.write.GSD(filename='trajectory.gsd',\n",
    "                             trigger=hoomd.trigger.Periodic(10000),\n",
    "                             mode='wb',\n",
    "                             filter=hoomd.filter.All(),\n",
    "                             log=logger)\n",
    "sim.operations.writers.append(gsd_writer)"
   ]
  },
  {
   "cell_type": "markdown",
   "metadata": {},
   "source": [
    "Run the simulation:"
   ]
  },
  {
   "cell_type": "code",
   "execution_count": 6,
   "metadata": {},
   "outputs": [],
   "source": [
    "sim.run(100000)"
   ]
  },
  {
   "cell_type": "markdown",
   "metadata": {},
   "source": [
    "## Reading logged data from a GSD file\n",
    "\n",
    "Use the `gsd` package to open the file:"
   ]
  },
  {
   "cell_type": "code",
   "execution_count": 7,
   "metadata": {},
   "outputs": [],
   "source": [
    "traj = gsd.hoomd.open('trajectory.gsd', 'rb')"
   ]
  },
  {
   "cell_type": "markdown",
   "metadata": {},
   "source": [
    "GSD prepends `particles/` to the logged name of per-particle quantities:"
   ]
  },
  {
   "cell_type": "code",
   "execution_count": 8,
   "metadata": {},
   "outputs": [
    {
     "data": {
      "text/plain": [
       "dict_keys(['particles/md/pair/LJ/energies', 'particles/md/pair/LJ/forces'])"
      ]
     },
     "execution_count": 8,
     "metadata": {},
     "output_type": "execute_result"
    }
   ],
   "source": [
    "traj[0].log.keys()"
   ]
  },
  {
   "cell_type": "markdown",
   "metadata": {},
   "source": [
    "The quantities are `N_particles` length numpy arrays.\n",
    "Here are a few slices:"
   ]
  },
  {
   "cell_type": "code",
   "execution_count": 9,
   "metadata": {},
   "outputs": [
    {
     "data": {
      "text/plain": [
       "array([-4.63552128, -3.96603518, -4.67048387, -2.95538439, -4.45060362,\n",
       "       -4.32331039, -4.50254148, -4.90351856, -4.94546736, -4.60738018])"
      ]
     },
     "execution_count": 9,
     "metadata": {},
     "output_type": "execute_result"
    }
   ],
   "source": [
    "traj[-1].log['particles/md/pair/LJ/energies'][0:10]"
   ]
  },
  {
   "cell_type": "code",
   "execution_count": 10,
   "metadata": {},
   "outputs": [
    {
     "data": {
      "text/plain": [
       "array([[-14.05428842,  -0.31160828,  22.58204757],\n",
       "       [ 26.22275188,  -8.07926344,  22.10161124],\n",
       "       [ -5.10376762,   3.00793308,   8.63631979],\n",
       "       [ 16.00333309, -31.11316374, -23.24277621],\n",
       "       [ -2.67330089,   9.94561725,  -2.11290612],\n",
       "       [ 32.9781836 ,  19.13548704, -23.57811789],\n",
       "       [  0.46049737,  -3.42021108,   1.39666458],\n",
       "       [ -1.22240789,  -3.91480287, -11.89616757],\n",
       "       [  1.05155117, -14.31397314, -18.00645954],\n",
       "       [-19.7087635 ,   8.71556194,   7.90163559]])"
      ]
     },
     "execution_count": 10,
     "metadata": {},
     "output_type": "execute_result"
    }
   ],
   "source": [
    "traj[-1].log['particles/md/pair/LJ/forces'][0:10]"
   ]
  },
  {
   "cell_type": "markdown",
   "metadata": {},
   "source": [
    "You can use these arrays as inputs to any computation or plotting tools:"
   ]
  },
  {
   "cell_type": "code",
   "execution_count": 11,
   "metadata": {},
   "outputs": [
    {
     "data": {
      "text/plain": [
       "array([-1.77635684e-18,  6.33271213e-16, -7.10542736e-17])"
      ]
     },
     "execution_count": 11,
     "metadata": {},
     "output_type": "execute_result"
    }
   ],
   "source": [
    "numpy.mean(traj[-1].log['particles/md/pair/LJ/forces'], axis=0)"
   ]
  },
  {
   "cell_type": "code",
   "execution_count": 12,
   "metadata": {},
   "outputs": [
    {
     "data": {
      "image/png": "[encoded data removed]",
      "text/plain": [
       "<Figure size 720x444.96 with 1 Axes>"
      ]
     },
     "execution_count": 12,
     "metadata": {},
     "output_type": "execute_result"
    }
   ],
   "source": [
    "fig = matplotlib.figure.Figure(figsize=(10, 6.18))\n",
    "ax = fig.add_subplot()\n",
    "ax.hist(traj[-1].log['particles/md/pair/LJ/energies'], 100)\n",
    "ax.set_xlabel('potential energy')\n",
    "ax.set_ylabel('count')\n",
    "fig"
   ]
  },
  {
   "cell_type": "markdown",
   "metadata": {},
   "source": [
    "As with scalar quantities, the array quantities are stored separately in each frame.\n",
    "Use a loop to access a range of frames and compute time-series data or averages."
   ]
  },
  {
   "cell_type": "markdown",
   "metadata": {},
   "source": [
    "In this section, you have logged per-particle quantities to a GSD file during a simulation run and accessed that data with a script.\n",
    "The next section of this tutorial will demonstrate how to log particle shape information that OVITO can use."
   ]
  },
  {
   "cell_type": "markdown",
   "metadata": {
    "nbsphinx": "hidden"
   },
   "source": [
    "[Previous section](02-Writing-to-a-File.ipynb) / [Next section](04-Storing-Particle-Shape.ipynb)"
   ]
  }
 ],
 "metadata": {
  "kernelspec": {
   "display_name": "Python 3",
   "language": "python",
   "name": "python3"
  },
  "language_info": {
   "codemirror_mode": {
    "name": "ipython",
    "version": 3
   },
   "file_extension": ".py",
   "mimetype": "text/x-python",
   "name": "python",
   "nbconvert_exporter": "python",
   "pygments_lexer": "ipython3",
   "version": "3.8.6"
  }
 },
 "nbformat": 4,
 "nbformat_minor": 4
}
