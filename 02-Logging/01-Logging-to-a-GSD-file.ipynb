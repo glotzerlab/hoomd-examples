{
 "cells": [
  {
   "cell_type": "markdown",
   "metadata": {},
   "source": [
    "# Logging to a GSD file\n",
    "\n",
    "## Overview\n",
    "\n",
    "### Questions\n",
    "\n",
    "* What is a Logger?\n",
    "* How can I write thermodynamic and other quantities to a file?\n",
    "* How can I access that data?\n",
    "\n",
    "### Objectives\n",
    "\n",
    "* Describe and give examples of **loggable quantities**.\n",
    "* Show how to add quantities to a **Logger**.\n",
    "* Demonstrate **GSD** as a log writer.\n",
    "* Explain how to read logged quantities from **GSD** files.\n",
    "* Describe how **namespaces** appear in the names of the logged quantities.\n",
    "\n",
    "## Boilerplate code"
   ]
  },
  {
   "cell_type": "code",
   "execution_count": 1,
   "metadata": {
    "execution": {
     "iopub.execute_input": "2021-02-12T18:58:48.348526Z",
     "iopub.status.busy": "2021-02-12T18:58:48.348030Z",
     "iopub.status.idle": "2021-02-12T18:58:48.599430Z",
     "shell.execute_reply": "2021-02-12T18:58:48.598358Z"
    }
   },
   "outputs": [],
   "source": [
    "import hoomd\n",
    "import gsd.hoomd\n",
    "import matplotlib\n",
    "%matplotlib inline\n",
    "matplotlib.style.use('ggplot')"
   ]
  },
  {
   "cell_type": "code",
   "execution_count": 2,
   "metadata": {
    "execution": {
     "iopub.execute_input": "2021-02-12T18:58:48.606076Z",
     "iopub.status.busy": "2021-02-12T18:58:48.602876Z",
     "iopub.status.idle": "2021-02-12T18:58:48.722833Z",
     "shell.execute_reply": "2021-02-12T18:58:48.723847Z"
    },
    "nbsphinx": "hidden"
   },
   "outputs": [],
   "source": [
    "import os\n",
    "fn = os.path.join(os.getcwd(), 'log.gsd')\n",
    "![ -e \"$fn\" ] && rm \"$fn\""
   ]
  },
  {
   "cell_type": "markdown",
   "metadata": {},
   "source": [
    "## Introduction\n",
    "\n",
    "HOOMD separates logging into three parts: **Loggable quantities**, the **Logger** class, and \n",
    "**Writers**.\n",
    "\n",
    "* **Loggable quantities** are values computed during a simulation.\n",
    "* The **Logger** class provides a way to collect and name quantities of interest.\n",
    "* **Writers** write these values out in a format you can use.\n",
    "\n",
    "In this section, you will use the **GSD Writer** to capture the values of quantities during a simulation run for later analysis."
   ]
  },
  {
   "cell_type": "markdown",
   "metadata": {},
   "source": [
    "## Define the Simulation\n",
    "\n",
    "This tutorial executes the Lennard-Jones particle simulation from a previous tutorial. \n",
    "See [*Introducing Molecular Dyamics*](../01-Introducing-Molecular-Dynamics/00-index.ipynb) for a complete description of this code."
   ]
  },
  {
   "cell_type": "code",
   "execution_count": 3,
   "metadata": {
    "execution": {
     "iopub.execute_input": "2021-02-12T18:58:49.126038Z",
     "iopub.status.busy": "2021-02-12T18:58:49.124846Z",
     "iopub.status.idle": "2021-02-12T18:58:49.127296Z",
     "shell.execute_reply": "2021-02-12T18:58:49.128254Z"
    }
   },
   "outputs": [],
   "source": [
    "cpu = hoomd.device.CPU()\n",
    "sim = hoomd.Simulation(device=cpu)\n",
    "sim.create_state_from_gsd(filename='../01-Introducing-Molecular-Dynamics/random.gsd')\n",
    "\n",
    "integrator = hoomd.md.Integrator(dt=0.005)\n",
    "cell = hoomd.md.nlist.Cell()\n",
    "lj = hoomd.md.pair.LJ(nlist=cell)\n",
    "lj.params[('A', 'A')] = dict(epsilon=1, sigma=1)\n",
    "lj.r_cut[('A', 'A')] = 2.5\n",
    "integrator.forces.append(lj)\n",
    "nvt = hoomd.md.methods.NVT(kT=1.5, filter=hoomd.filter.All(), tau=1.0)\n",
    "integrator.methods.append(nvt)\n",
    "sim.operations.integrator = integrator\n",
    "sim.run(0)"
   ]
  },
  {
   "cell_type": "markdown",
   "metadata": {},
   "source": [
    "## Loggable quantities\n",
    "\n",
    "Many classes in HOOMD-blue provide special *properties* called **loggable quantities**.\n",
    "For example, the **Simulation** class provides `timestep`, `tps`, and others.\n",
    "The reference documentation labels each of these as _Loggable_.\n",
    "You can also examine the ``loggables`` property to determine the **loggable quantities**:"
   ]
  },
  {
   "cell_type": "code",
   "execution_count": 4,
   "metadata": {
    "execution": {
     "iopub.execute_input": "2021-02-12T18:58:49.134159Z",
     "iopub.status.busy": "2021-02-12T18:58:49.133692Z",
     "iopub.status.idle": "2021-02-12T18:58:49.136093Z",
     "shell.execute_reply": "2021-02-12T18:58:49.136522Z"
    }
   },
   "outputs": [
    {
     "data": {
      "text/plain": [
       "{'timestep': 'scalar',\n",
       " 'tps': 'scalar',\n",
       " 'walltime': 'scalar',\n",
       " 'final_timestep': 'scalar'}"
      ]
     },
     "execution_count": 1,
     "metadata": {},
     "output_type": "execute_result"
    }
   ],
   "source": [
    "sim.loggables"
   ]
  },
  {
   "cell_type": "markdown",
   "metadata": {},
   "source": [
    "The **ThermodynamicQuantities** class computes a variety of **thermodynamic properties** in MD simulations.\n",
    "These are all loggable."
   ]
  },
  {
   "cell_type": "code",
   "execution_count": 5,
   "metadata": {
    "execution": {
     "iopub.execute_input": "2021-02-12T18:58:49.143401Z",
     "iopub.status.busy": "2021-02-12T18:58:49.142890Z",
     "iopub.status.idle": "2021-02-12T18:58:49.145857Z",
     "shell.execute_reply": "2021-02-12T18:58:49.145398Z"
    }
   },
   "outputs": [
    {
     "data": {
      "text/plain": [
       "{'state': 'state',\n",
       " 'kinetic_temperature': 'scalar',\n",
       " 'pressure': 'scalar',\n",
       " 'pressure_tensor': 'sequence',\n",
       " 'kinetic_energy': 'scalar',\n",
       " 'translational_kinetic_energy': 'scalar',\n",
       " 'rotational_kinetic_energy': 'scalar',\n",
       " 'potential_energy': 'scalar',\n",
       " 'degrees_of_freedom': 'scalar',\n",
       " 'translational_degrees_of_freedom': 'scalar',\n",
       " 'rotational_degrees_of_freedom': 'scalar',\n",
       " 'num_particles': 'scalar'}"
      ]
     },
     "execution_count": 1,
     "metadata": {},
     "output_type": "execute_result"
    }
   ],
   "source": [
    "thermodynamic_properties = hoomd.md.compute.ThermodynamicQuantities(\n",
    "    filter=hoomd.filter.All())\n",
    "sim.operations.computes.append(thermodynamic_properties)\n",
    "thermodynamic_properties.loggables"
   ]
  },
  {
   "cell_type": "markdown",
   "metadata": {},
   "source": [
    "**Loggable quantities** are class properties or methods.\n",
    "You can directly access them in your code."
   ]
  },
  {
   "cell_type": "code",
   "execution_count": 6,
   "metadata": {
    "execution": {
     "iopub.execute_input": "2021-02-12T18:58:49.149230Z",
     "iopub.status.busy": "2021-02-12T18:58:49.148640Z",
     "iopub.status.idle": "2021-02-12T18:58:49.151388Z",
     "shell.execute_reply": "2021-02-12T18:58:49.150876Z"
    }
   },
   "outputs": [
    {
     "data": {
      "text/plain": [
       "10000"
      ]
     },
     "execution_count": 1,
     "metadata": {},
     "output_type": "execute_result"
    }
   ],
   "source": [
    "sim.timestep"
   ]
  },
  {
   "cell_type": "code",
   "execution_count": 7,
   "metadata": {
    "execution": {
     "iopub.execute_input": "2021-02-12T18:58:49.155193Z",
     "iopub.status.busy": "2021-02-12T18:58:49.154607Z",
     "iopub.status.idle": "2021-02-12T18:58:49.158893Z",
     "shell.execute_reply": "2021-02-12T18:58:49.158469Z"
    }
   },
   "outputs": [
    {
     "data": {
      "text/plain": [
       "1.4478498214049977"
      ]
     },
     "execution_count": 1,
     "metadata": {},
     "output_type": "execute_result"
    }
   ],
   "source": [
    "thermodynamic_properties.kinetic_temperature"
   ]
  },
  {
   "cell_type": "markdown",
   "metadata": {},
   "source": [
    "Each **loggable quantity** has a **category**, which is listed both in the reference documentation and in ``loggables``.\n",
    "The **category** is a string that identifies the quantity's type or category.\n",
    "Example categories include:\n",
    "* `scalar` - numbers\n",
    "* `sequence` - arrays of numbers\n",
    "* `string` - strings of characters\n",
    "* `particle` - arrays of per-particle values"
   ]
  },
  {
   "cell_type": "markdown",
   "metadata": {},
   "source": [
    "## Add quantities to a Logger"
   ]
  },
  {
   "cell_type": "markdown",
   "metadata": {},
   "source": [
    "Add each of the quantities you would like to store to a **Logger**.\n",
    "The **Logger** will maintain these quantities in a list and provide them to the **Writer** when needed."
   ]
  },
  {
   "cell_type": "code",
   "execution_count": 8,
   "metadata": {
    "execution": {
     "iopub.execute_input": "2021-02-12T18:58:49.162139Z",
     "iopub.status.busy": "2021-02-12T18:58:49.161669Z",
     "iopub.status.idle": "2021-02-12T18:58:49.163510Z",
     "shell.execute_reply": "2021-02-12T18:58:49.163909Z"
    }
   },
   "outputs": [],
   "source": [
    "logger = hoomd.logging.Logger()"
   ]
  },
  {
   "cell_type": "markdown",
   "metadata": {},
   "source": [
    "You can add **loggable quantities** from any number of objects to a **Logger**.\n",
    "**Logger** uses the namespace of the class to assign a unique name for each quantity.\n",
    "Call `add` to add all quantities provided by `thermodynamic_properties`:"
   ]
  },
  {
   "cell_type": "code",
   "execution_count": 9,
   "metadata": {
    "execution": {
     "iopub.execute_input": "2021-02-12T18:58:49.167610Z",
     "iopub.status.busy": "2021-02-12T18:58:49.167137Z",
     "iopub.status.idle": "2021-02-12T18:58:49.169597Z",
     "shell.execute_reply": "2021-02-12T18:58:49.170033Z"
    }
   },
   "outputs": [],
   "source": [
    "logger.add(thermodynamic_properties)"
   ]
  },
  {
   "cell_type": "markdown",
   "metadata": {},
   "source": [
    "You can also select specific quantities to add with the `quantities` argument.\n",
    "Add only the `timestep` and `walltime` quantities from **Simulation**:"
   ]
  },
  {
   "cell_type": "code",
   "execution_count": 10,
   "metadata": {
    "execution": {
     "iopub.execute_input": "2021-02-12T18:58:49.173969Z",
     "iopub.status.busy": "2021-02-12T18:58:49.173411Z",
     "iopub.status.idle": "2021-02-12T18:58:49.175174Z",
     "shell.execute_reply": "2021-02-12T18:58:49.175605Z"
    }
   },
   "outputs": [],
   "source": [
    "logger.add(sim, quantities=['timestep', 'walltime'])"
   ]
  },
  {
   "cell_type": "markdown",
   "metadata": {},
   "source": [
    "## Writing log quantities to a GSD file\n",
    "\n",
    "**GSD** files always store trajectories of particle properties.\n",
    "Set the `log` attribute and **GSD** will also store the selected quantities.\n",
    "\n",
    "You can store _only_ the logged quantities by using the **Null** filter to select no particles for the trajectory.\n",
    "This way, you can log thermodynamic properties at a high rate and keep the file size small.\n"
   ]
  },
  {
   "cell_type": "code",
   "execution_count": 11,
   "metadata": {
    "execution": {
     "iopub.execute_input": "2021-02-12T18:58:49.181032Z",
     "iopub.status.busy": "2021-02-12T18:58:49.180481Z",
     "iopub.status.idle": "2021-02-12T18:58:49.182170Z",
     "shell.execute_reply": "2021-02-12T18:58:49.182659Z"
    }
   },
   "outputs": [],
   "source": [
    "gsd_writer = hoomd.write.GSD(filename='log.gsd',\n",
    "                             trigger=hoomd.trigger.Periodic(1000),\n",
    "                             mode='xb',\n",
    "                             filter=hoomd.filter.Null())\n",
    "sim.operations.writers.append(gsd_writer)"
   ]
  },
  {
   "cell_type": "markdown",
   "metadata": {},
   "source": [
    "Assign the logger to include the logged quanties in the GSD file:"
   ]
  },
  {
   "cell_type": "code",
   "execution_count": 12,
   "metadata": {
    "execution": {
     "iopub.execute_input": "2021-02-12T18:58:49.186396Z",
     "iopub.status.busy": "2021-02-12T18:58:49.185781Z",
     "iopub.status.idle": "2021-02-12T18:58:49.188090Z",
     "shell.execute_reply": "2021-02-12T18:58:49.187546Z"
    }
   },
   "outputs": [],
   "source": [
    "gsd_writer.log = logger"
   ]
  },
  {
   "cell_type": "markdown",
   "metadata": {},
   "source": [
    "The writer triggers and writes to the log file when the simulation runs:"
   ]
  },
  {
   "cell_type": "code",
   "execution_count": 13,
   "metadata": {
    "execution": {
     "iopub.execute_input": "2021-02-12T18:58:50.579254Z",
     "iopub.status.busy": "2021-02-12T18:58:50.107640Z",
     "iopub.status.idle": "2021-02-12T18:59:00.803757Z",
     "shell.execute_reply": "2021-02-12T18:59:00.802611Z"
    }
   },
   "outputs": [],
   "source": [
    "sim.run(200000)"
   ]
  },
  {
   "cell_type": "markdown",
   "metadata": {},
   "source": [
    "## Reading logged data from a GSD file"
   ]
  },
  {
   "cell_type": "markdown",
   "metadata": {},
   "source": [
    "You need to close the **GSD** file that `gsd_writer` has open before you can read it.\n",
    "The following code block deletes the simulation and operations manually so that it is safe to open the file for reading later in this notebook.\n",
    "\n",
    "In typical workflows, you will run separate simulation and analysis scripts and the **GSD** file will be closed when your simulation script exits."
   ]
  },
  {
   "cell_type": "code",
   "execution_count": 14,
   "metadata": {
    "execution": {
     "iopub.execute_input": "2021-02-12T18:59:00.808447Z",
     "iopub.status.busy": "2021-02-12T18:59:00.807600Z",
     "iopub.status.idle": "2021-02-12T18:59:00.809364Z",
     "shell.execute_reply": "2021-02-12T18:59:00.810066Z"
    }
   },
   "outputs": [],
   "source": [
    "del sim, gsd_writer, thermodynamic_properties, logger, integrator, nvt, lj, cell, cpu"
   ]
  },
  {
   "cell_type": "markdown",
   "metadata": {},
   "source": [
    "Use the `gsd` package to open the file:"
   ]
  },
  {
   "cell_type": "code",
   "execution_count": 15,
   "metadata": {
    "execution": {
     "iopub.execute_input": "2021-02-12T18:59:00.813970Z",
     "iopub.status.busy": "2021-02-12T18:59:00.813118Z",
     "iopub.status.idle": "2021-02-12T18:59:00.814928Z",
     "shell.execute_reply": "2021-02-12T18:59:00.815588Z"
    }
   },
   "outputs": [],
   "source": [
    "traj = gsd.hoomd.open('log.gsd', 'rb')"
   ]
  },
  {
   "cell_type": "markdown",
   "metadata": {},
   "source": [
    "Each frame in the trajectory has a `log` dictionary that maps quantity names to values.\n",
    "Inspect this dictionary in the first frame:"
   ]
  },
  {
   "cell_type": "code",
   "execution_count": 16,
   "metadata": {
    "execution": {
     "iopub.execute_input": "2021-02-12T18:59:00.818953Z",
     "iopub.status.busy": "2021-02-12T18:59:00.818498Z",
     "iopub.status.idle": "2021-02-12T18:59:00.823941Z",
     "shell.execute_reply": "2021-02-12T18:59:00.823446Z"
    }
   },
   "outputs": [
    {
     "data": {
      "text/plain": [
       "{'md/compute/ThermodynamicQuantities/kinetic_temperature': array([1.38385882]),\n",
       " 'md/compute/ThermodynamicQuantities/pressure': array([0.58781403]),\n",
       " 'md/compute/ThermodynamicQuantities/pressure_tensor': array([ 0.50488588, -0.06269134,  0.06560358,  0.60227029,  0.09543222,\n",
       "         0.65628591]),\n",
       " 'md/compute/ThermodynamicQuantities/kinetic_energy': array([529.32599703]),\n",
       " 'md/compute/ThermodynamicQuantities/translational_kinetic_energy': array([529.32599703]),\n",
       " 'md/compute/ThermodynamicQuantities/rotational_kinetic_energy': array([0.]),\n",
       " 'md/compute/ThermodynamicQuantities/potential_energy': array([-526.26832642]),\n",
       " 'md/compute/ThermodynamicQuantities/degrees_of_freedom': array([765.]),\n",
       " 'md/compute/ThermodynamicQuantities/translational_degrees_of_freedom': array([765.]),\n",
       " 'md/compute/ThermodynamicQuantities/rotational_degrees_of_freedom': array([0.]),\n",
       " 'md/compute/ThermodynamicQuantities/num_particles': array([256]),\n",
       " 'Simulation/timestep': array([11000]),\n",
       " 'Simulation/walltime': array([0.357876])}"
      ]
     },
     "execution_count": 1,
     "metadata": {},
     "output_type": "execute_result"
    }
   ],
   "source": [
    "traj[0].log"
   ]
  },
  {
   "cell_type": "markdown",
   "metadata": {},
   "source": [
    "The dictionary keys are verbose names that include the **namespace** of the class which computed the quantity, where `.` has been replaced with `/`.\n",
    "For example, access the potential energy computed by **ThermodynamicQuantities** with the key `md/compute/ThermodynamicQuantities/potential_energy`."
   ]
  },
  {
   "cell_type": "code",
   "execution_count": 17,
   "metadata": {
    "execution": {
     "iopub.execute_input": "2021-02-12T18:59:00.827788Z",
     "iopub.status.busy": "2021-02-12T18:59:00.827112Z",
     "iopub.status.idle": "2021-02-12T18:59:00.830979Z",
     "shell.execute_reply": "2021-02-12T18:59:00.830383Z"
    }
   },
   "outputs": [
    {
     "data": {
      "text/plain": [
       "array([-526.26832642])"
      ]
     },
     "execution_count": 1,
     "metadata": {},
     "output_type": "execute_result"
    }
   ],
   "source": [
    "traj[0].log['md/compute/ThermodynamicQuantities/potential_energy']"
   ]
  },
  {
   "cell_type": "markdown",
   "metadata": {},
   "source": [
    "**GSD** stores all quantities in arrays.\n",
    "It stores scalar quantities such as the system potential energy in length 1 arrays (above) while it stores vector and other array quantities as appropriately sized arrays:"
   ]
  },
  {
   "cell_type": "code",
   "execution_count": 18,
   "metadata": {
    "execution": {
     "iopub.execute_input": "2021-02-12T18:59:00.834377Z",
     "iopub.status.busy": "2021-02-12T18:59:00.833886Z",
     "iopub.status.idle": "2021-02-12T18:59:00.837551Z",
     "shell.execute_reply": "2021-02-12T18:59:00.837138Z"
    }
   },
   "outputs": [
    {
     "data": {
      "text/plain": [
       "array([ 0.50488588, -0.06269134,  0.06560358,  0.60227029,  0.09543222,\n",
       "        0.65628591])"
      ]
     },
     "execution_count": 1,
     "metadata": {},
     "output_type": "execute_result"
    }
   ],
   "source": [
    "traj[0].log['md/compute/ThermodynamicQuantities/pressure_tensor']"
   ]
  },
  {
   "cell_type": "markdown",
   "metadata": {},
   "source": [
    "**GSD** provides logged quantities individually at each frame in the file.\n",
    "You can convert this to time-series data with a loop and then plot or analyze it:"
   ]
  },
  {
   "cell_type": "code",
   "execution_count": 19,
   "metadata": {
    "execution": {
     "iopub.execute_input": "2021-02-12T18:59:00.841326Z",
     "iopub.status.busy": "2021-02-12T18:59:00.840837Z",
     "iopub.status.idle": "2021-02-12T18:59:00.891362Z",
     "shell.execute_reply": "2021-02-12T18:59:00.890260Z"
    }
   },
   "outputs": [],
   "source": [
    "timestep = []\n",
    "walltime = []\n",
    "potential_energy = []\n",
    "\n",
    "for frame in traj:\n",
    "    timestep.append(frame.configuration.step)\n",
    "    walltime.append(frame.log['Simulation/walltime'][0])\n",
    "    potential_energy.append(frame.log['md/compute/ThermodynamicQuantities/potential_energy'][0])"
   ]
  },
  {
   "cell_type": "code",
   "execution_count": 20,
   "metadata": {
    "execution": {
     "iopub.execute_input": "2021-02-12T18:59:00.906528Z",
     "iopub.status.busy": "2021-02-12T18:59:00.905648Z",
     "iopub.status.idle": "2021-02-12T18:59:01.023681Z",
     "shell.execute_reply": "2021-02-12T18:59:01.024126Z"
    }
   },
   "outputs": [
    {
     "data": {
      "image/png": "[encoded data removed]",
      "text/plain": [
       "<Figure size 720x444.96 with 1 Axes>"
      ]
     },
     "execution_count": 1,
     "metadata": {},
     "output_type": "execute_result"
    }
   ],
   "source": [
    "fig = matplotlib.figure.Figure(figsize=(10, 6.18))\n",
    "ax = fig.add_subplot()\n",
    "ax.plot(timestep, potential_energy)\n",
    "ax.set_xlabel('timestep')\n",
    "ax.set_ylabel('potential energy')\n",
    "fig"
   ]
  },
  {
   "cell_type": "code",
   "execution_count": 21,
   "metadata": {
    "execution": {
     "iopub.execute_input": "2021-02-12T18:59:01.058046Z",
     "iopub.status.busy": "2021-02-12T18:59:01.045013Z",
     "iopub.status.idle": "2021-02-12T18:59:01.141154Z",
     "shell.execute_reply": "2021-02-12T18:59:01.142121Z"
    }
   },
   "outputs": [
    {
     "data": {
      "image/png": "[encoded data removed]",
      "text/plain": [
       "<Figure size 720x444.96 with 1 Axes>"
      ]
     },
     "execution_count": 1,
     "metadata": {},
     "output_type": "execute_result"
    }
   ],
   "source": [
    "fig = matplotlib.figure.Figure(figsize=(10, 6.18))\n",
    "ax = fig.add_subplot()\n",
    "ax.plot(timestep, walltime)\n",
    "ax.set_xlabel('timestep')\n",
    "ax.set_ylabel('walltime')\n",
    "fig"
   ]
  },
  {
   "cell_type": "markdown",
   "metadata": {},
   "source": [
    "In this section, you have logged quantities to a GSD file during a simulation run and analyzed that data as a time series.\n",
    "The next section of this tutorial shows you how to save per-particle quantities associated with specific system configurations."
   ]
  },
  {
   "cell_type": "markdown",
   "metadata": {
    "nbsphinx": "hidden"
   },
   "source": [
    "[Index](00-index.ipynb) / [Next section](02-Saving-Array-Quantities.ipynb)."
   ]
  }
 ],
 "metadata": {
  "kernelspec": {
   "display_name": "Python 3",
   "language": "python",
   "name": "python3"
  },
  "language_info": {
   "codemirror_mode": {
    "name": "ipython",
    "version": 3
   },
   "file_extension": ".py",
   "mimetype": "text/x-python",
   "name": "python",
   "nbconvert_exporter": "python",
   "pygments_lexer": "ipython3",
   "version": "3.9.1"
  }
 },
 "nbformat": 4,
 "nbformat_minor": 4
}
