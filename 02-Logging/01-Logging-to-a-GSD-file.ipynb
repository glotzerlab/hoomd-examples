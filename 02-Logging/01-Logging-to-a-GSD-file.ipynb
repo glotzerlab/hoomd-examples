{
 "cells": [
  {
   "cell_type": "markdown",
   "metadata": {},
   "source": [
    "# Logging to a GSD file\n",
    "\n",
    "## Overview\n",
    "\n",
    "### Questions\n",
    "\n",
    "* What is a Logger?\n",
    "* How can I write thermodynamic and other quantities to a file?\n",
    "* How can I access that data?\n",
    "\n",
    "### Objectives\n",
    "\n",
    "* Describe and give examples of **loggable quantities**.\n",
    "* Show how to add quantities to a **Logger**.\n",
    "* Demonstrate **GSD** as a log writer.\n",
    "* Explain how to read logged quantities from **GSD** files.\n",
    "* Describe how **namespaces** appear in the names of the logged quantities.\n",
    "\n",
    "## Boilerplate code"
   ]
  },
  {
   "cell_type": "code",
   "execution_count": 1,
   "metadata": {
    "tags": []
   },
   "outputs": [],
   "source": [
    "import gsd.hoomd\n",
    "import hoomd\n",
    "import matplotlib\n",
    "\n",
    "%matplotlib inline\n",
    "matplotlib.style.use('ggplot')"
   ]
  },
  {
   "cell_type": "code",
   "execution_count": 2,
   "metadata": {
    "jupyter": {
     "source_hidden": true
    },
    "nbsphinx": "hidden",
    "tags": []
   },
   "outputs": [],
   "source": [
    "import os\n",
    "\n",
    "fn = os.path.join(os.getcwd(), 'log.gsd')\n",
    "![ -e \"$fn\" ] && rm \"$fn\""
   ]
  },
  {
   "cell_type": "markdown",
   "metadata": {},
   "source": [
    "## Introduction\n",
    "\n",
    "HOOMD separates logging into three parts: **Loggable quantities**, the **Logger** class, and \n",
    "**Writers**.\n",
    "\n",
    "* **Loggable quantities** are values computed during a simulation.\n",
    "* The **Logger** class provides a way to collect and name quantities of interest.\n",
    "* **Writers** write these values out in a format you can use.\n",
    "\n",
    "In this section, you will use the **GSD Writer** to capture the values of quantities during a simulation run for later analysis."
   ]
  },
  {
   "cell_type": "markdown",
   "metadata": {},
   "source": [
    "## Define the Simulation\n",
    "\n",
    "This tutorial executes the Lennard-Jones particle simulation from a previous tutorial. \n",
    "See [*Introducing Molecular Dyamics*](../01-Introducing-Molecular-Dynamics/00-index.ipynb) for a complete description of this code."
   ]
  },
  {
   "cell_type": "code",
   "execution_count": 3,
   "metadata": {
    "tags": []
   },
   "outputs": [],
   "source": [
    "cpu = hoomd.device.CPU()\n",
    "sim = hoomd.Simulation(device=cpu, seed=1)\n",
    "sim.create_state_from_gsd(\n",
    "    filename='../01-Introducing-Molecular-Dynamics/random.gsd')\n",
    "\n",
    "integrator = hoomd.md.Integrator(dt=0.005)\n",
    "cell = hoomd.md.nlist.Cell(buffer=0.4)\n",
    "lj = hoomd.md.pair.LJ(nlist=cell)\n",
    "lj.params[('A', 'A')] = dict(epsilon=1, sigma=1)\n",
    "lj.r_cut[('A', 'A')] = 2.5\n",
    "integrator.forces.append(lj)\n",
    "nvt = hoomd.md.methods.ConstantVolume(\n",
    "    filter=hoomd.filter.All(),\n",
    "    thermostat=hoomd.md.methods.thermostats.Bussi(kT=1.5))\n",
    "integrator.methods.append(nvt)\n",
    "sim.operations.integrator = integrator\n",
    "sim.run(0)"
   ]
  },
  {
   "cell_type": "markdown",
   "metadata": {},
   "source": [
    "## Loggable quantities\n",
    "\n",
    "Many classes in HOOMD-blue provide special *properties* called **loggable quantities**.\n",
    "For example, the **Simulation** class provides `timestep`, `tps`, and others.\n",
    "The reference documentation labels each of these as _Loggable_.\n",
    "You can also examine the ``loggables`` property to determine the **loggable quantities**:"
   ]
  },
  {
   "cell_type": "code",
   "execution_count": 4,
   "metadata": {},
   "outputs": [
    {
     "data": {
      "text/plain": [
       "{'timestep': 'scalar',\n",
       " 'seed': 'scalar',\n",
       " 'tps': 'scalar',\n",
       " 'walltime': 'scalar',\n",
       " 'final_timestep': 'scalar',\n",
       " 'initial_timestep': 'scalar'}"
      ]
     },
     "execution_count": 4,
     "metadata": {},
     "output_type": "execute_result"
    }
   ],
   "source": [
    "sim.loggables"
   ]
  },
  {
   "cell_type": "markdown",
   "metadata": {},
   "source": [
    "The **ThermodynamicQuantities** class computes a variety of **thermodynamic properties** in MD simulations.\n",
    "These are all loggable."
   ]
  },
  {
   "cell_type": "code",
   "execution_count": 5,
   "metadata": {},
   "outputs": [
    {
     "data": {
      "text/plain": [
       "{'kinetic_temperature': 'scalar',\n",
       " 'pressure': 'scalar',\n",
       " 'pressure_tensor': 'sequence',\n",
       " 'kinetic_energy': 'scalar',\n",
       " 'translational_kinetic_energy': 'scalar',\n",
       " 'rotational_kinetic_energy': 'scalar',\n",
       " 'potential_energy': 'scalar',\n",
       " 'degrees_of_freedom': 'scalar',\n",
       " 'translational_degrees_of_freedom': 'scalar',\n",
       " 'rotational_degrees_of_freedom': 'scalar',\n",
       " 'num_particles': 'scalar',\n",
       " 'volume': 'scalar'}"
      ]
     },
     "execution_count": 5,
     "metadata": {},
     "output_type": "execute_result"
    }
   ],
   "source": [
    "thermodynamic_properties = hoomd.md.compute.ThermodynamicQuantities(\n",
    "    filter=hoomd.filter.All())\n",
    "sim.operations.computes.append(thermodynamic_properties)\n",
    "thermodynamic_properties.loggables"
   ]
  },
  {
   "cell_type": "markdown",
   "metadata": {},
   "source": [
    "**Loggable quantities** are class properties or methods.\n",
    "You can directly access them in your code."
   ]
  },
  {
   "cell_type": "code",
   "execution_count": 6,
   "metadata": {},
   "outputs": [
    {
     "data": {
      "text/plain": [
       "10000"
      ]
     },
     "execution_count": 6,
     "metadata": {},
     "output_type": "execute_result"
    }
   ],
   "source": [
    "sim.timestep"
   ]
  },
  {
   "cell_type": "code",
   "execution_count": 7,
   "metadata": {},
   "outputs": [
    {
     "data": {
      "text/plain": [
       "1.5839865999366805"
      ]
     },
     "execution_count": 7,
     "metadata": {},
     "output_type": "execute_result"
    }
   ],
   "source": [
    "thermodynamic_properties.kinetic_temperature"
   ]
  },
  {
   "cell_type": "markdown",
   "metadata": {},
   "source": [
    "Each **loggable quantity** has a **category**, which is listed both in the reference documentation and in ``loggables``.\n",
    "The **category** is a string that identifies the quantity's type or category.\n",
    "Example categories include:\n",
    "* `scalar` - numbers\n",
    "* `sequence` - arrays of numbers\n",
    "* `string` - strings of characters\n",
    "* `particle` - arrays of per-particle values"
   ]
  },
  {
   "cell_type": "markdown",
   "metadata": {},
   "source": [
    "## Add quantities to a Logger"
   ]
  },
  {
   "cell_type": "markdown",
   "metadata": {},
   "source": [
    "Add each of the quantities you would like to store to a **Logger**.\n",
    "The **Logger** will maintain these quantities in a list and provide them to the **Writer** when needed."
   ]
  },
  {
   "cell_type": "code",
   "execution_count": 8,
   "metadata": {},
   "outputs": [],
   "source": [
    "logger = hoomd.logging.Logger()"
   ]
  },
  {
   "cell_type": "markdown",
   "metadata": {},
   "source": [
    "You can add **loggable quantities** from any number of objects to a **Logger**.\n",
    "**Logger** uses the namespace of the class to assign a unique name for each quantity.\n",
    "Call `add` to add all quantities provided by `thermodynamic_properties`:"
   ]
  },
  {
   "cell_type": "code",
   "execution_count": 9,
   "metadata": {},
   "outputs": [],
   "source": [
    "logger.add(thermodynamic_properties)"
   ]
  },
  {
   "cell_type": "markdown",
   "metadata": {},
   "source": [
    "You can also select specific quantities to add with the `quantities` argument.\n",
    "Add only the `timestep` and `walltime` quantities from **Simulation**:"
   ]
  },
  {
   "cell_type": "code",
   "execution_count": 10,
   "metadata": {},
   "outputs": [],
   "source": [
    "logger.add(sim, quantities=['timestep', 'walltime'])"
   ]
  },
  {
   "cell_type": "markdown",
   "metadata": {},
   "source": [
    "## Writing log quantities to a GSD file\n",
    "\n",
    "**GSD** files always store trajectories of particle properties.\n",
    "Set the `logger` attribute and **GSD** will also store the selected quantities.\n",
    "\n",
    "You can store _only_ the logged quantities by using the **Null** filter to select no particles for the trajectory.\n",
    "This way, you can log thermodynamic properties at a high rate and keep the file size small.\n"
   ]
  },
  {
   "cell_type": "code",
   "execution_count": 11,
   "metadata": {},
   "outputs": [],
   "source": [
    "gsd_writer = hoomd.write.GSD(filename='log.gsd',\n",
    "                             trigger=hoomd.trigger.Periodic(1000),\n",
    "                             mode='xb',\n",
    "                             filter=hoomd.filter.Null())\n",
    "sim.operations.writers.append(gsd_writer)"
   ]
  },
  {
   "cell_type": "markdown",
   "metadata": {},
   "source": [
    "Assign the logger to include the logged quanties in the GSD file:"
   ]
  },
  {
   "cell_type": "code",
   "execution_count": 12,
   "metadata": {},
   "outputs": [],
   "source": [
    "gsd_writer.logger = logger"
   ]
  },
  {
   "cell_type": "markdown",
   "metadata": {},
   "source": [
    "The writer triggers and writes to the log file when the simulation runs:"
   ]
  },
  {
   "cell_type": "code",
   "execution_count": 13,
   "metadata": {},
   "outputs": [],
   "source": [
    "sim.run(100000)"
   ]
  },
  {
   "cell_type": "markdown",
   "metadata": {},
   "source": [
    "## Reading logged data from a GSD file"
   ]
  },
  {
   "cell_type": "markdown",
   "metadata": {},
   "source": [
    "You need to close the **GSD** file that `gsd_writer` has open before you can read it.\n",
    "The following code block deletes the simulation and operations manually so that it is safe to open the file for reading later in this notebook.\n",
    "\n",
    "In typical workflows, you will run separate simulation and analysis scripts and the **GSD** file will be closed when your simulation script exits."
   ]
  },
  {
   "cell_type": "code",
   "execution_count": 14,
   "metadata": {},
   "outputs": [],
   "source": [
    "del sim, gsd_writer, thermodynamic_properties, logger\n",
    "del integrator, nvt, lj, cell, cpu"
   ]
  },
  {
   "cell_type": "markdown",
   "metadata": {},
   "source": [
    "Use the `gsd` package to open read the logged data from the file as a time series:"
   ]
  },
  {
   "cell_type": "code",
   "execution_count": 15,
   "metadata": {
    "tags": []
   },
   "outputs": [],
   "source": [
    "data = gsd.hoomd.read_log('log.gsd')"
   ]
  },
  {
   "cell_type": "markdown",
   "metadata": {},
   "source": [
    "The data is given as a dictionary of logged quantities:"
   ]
  },
  {
   "cell_type": "code",
   "execution_count": 16,
   "metadata": {},
   "outputs": [
    {
     "data": {
      "text/plain": [
       "['configuration/step',\n",
       " 'log/md/compute/ThermodynamicQuantities/kinetic_temperature',\n",
       " 'log/md/compute/ThermodynamicQuantities/pressure',\n",
       " 'log/md/compute/ThermodynamicQuantities/pressure_tensor',\n",
       " 'log/md/compute/ThermodynamicQuantities/kinetic_energy',\n",
       " 'log/md/compute/ThermodynamicQuantities/translational_kinetic_energy',\n",
       " 'log/md/compute/ThermodynamicQuantities/rotational_kinetic_energy',\n",
       " 'log/md/compute/ThermodynamicQuantities/potential_energy',\n",
       " 'log/md/compute/ThermodynamicQuantities/degrees_of_freedom',\n",
       " 'log/md/compute/ThermodynamicQuantities/translational_degrees_of_freedom',\n",
       " 'log/md/compute/ThermodynamicQuantities/rotational_degrees_of_freedom',\n",
       " 'log/md/compute/ThermodynamicQuantities/num_particles',\n",
       " 'log/md/compute/ThermodynamicQuantities/volume',\n",
       " 'log/Simulation/timestep',\n",
       " 'log/Simulation/walltime']"
      ]
     },
     "execution_count": 16,
     "metadata": {},
     "output_type": "execute_result"
    }
   ],
   "source": [
    "list(data.keys())"
   ]
  },
  {
   "cell_type": "markdown",
   "metadata": {},
   "source": [
    "The dictionary keys are verbose names that include the **namespace** of the class which computed the quantity, where `.` has been replaced with `/`.\n",
    "For example, access the potential energy computed by **ThermodynamicQuantities** with the key `log/md/compute/ThermodynamicQuantities/potential_energy`."
   ]
  },
  {
   "cell_type": "code",
   "execution_count": 17,
   "metadata": {},
   "outputs": [
    {
     "data": {
      "text/plain": [
       "array([-538.51405471, -562.35754268, -538.35455455, -543.14947026,\n",
       "       -554.21884049, -560.25864111, -534.49780411, -564.16769037,\n",
       "       -554.22096319, -551.61335375, -525.6828542 , -528.77313708,\n",
       "       -515.99653811, -536.39365328, -512.83001564, -528.96269675,\n",
       "       -534.58550059, -545.99747155, -545.56468535, -552.05431324,\n",
       "       -530.86928531, -525.39482373, -558.97887118, -560.17838304,\n",
       "       -522.19775873, -546.87089984, -539.18162724, -553.59931614,\n",
       "       -549.81423582, -564.10024498, -539.89852743, -542.65803475,\n",
       "       -544.00102508, -558.92048742, -565.83703917, -547.25902254,\n",
       "       -532.19722541, -537.59938601, -548.94319002, -547.8280715 ,\n",
       "       -547.87371338, -531.94513519, -545.24131908, -542.73846871,\n",
       "       -535.88192385, -534.59872322, -543.85455874, -539.57816767,\n",
       "       -531.59811291, -535.33203827, -533.57355908, -539.47222367,\n",
       "       -529.43787723, -545.08178239, -536.31532126, -559.77514016,\n",
       "       -565.91890009, -559.17220561, -537.72413529, -547.14587569,\n",
       "       -529.85373217, -578.8344256 , -530.21528181, -550.65897215,\n",
       "       -547.67143859, -535.35099124, -549.41737961, -555.13996916,\n",
       "       -550.05498021, -543.37499896, -536.28107709, -518.38175734,\n",
       "       -545.56101966, -541.49687769, -547.10795172, -539.13398504,\n",
       "       -535.98189113, -537.04997056, -504.21204531, -540.34535471,\n",
       "       -547.01413259, -546.63249015, -551.9912383 , -568.25828003,\n",
       "       -549.03180296, -528.25857997, -544.87526796, -537.05772382,\n",
       "       -547.76566611, -542.15837523, -540.04919613, -539.20505939,\n",
       "       -535.39106786, -539.28158465, -547.26027778, -528.30382388,\n",
       "       -557.38700681, -557.84472233, -551.08020608, -552.81390313])"
      ]
     },
     "execution_count": 17,
     "metadata": {},
     "output_type": "execute_result"
    }
   ],
   "source": [
    "data['log/md/compute/ThermodynamicQuantities/potential_energy']"
   ]
  },
  {
   "cell_type": "markdown",
   "metadata": {},
   "source": [
    "**GSD** provides logged quantities as an array with one entry per frame. For example, you can use this to plot the data:"
   ]
  },
  {
   "cell_type": "code",
   "execution_count": 18,
   "metadata": {},
   "outputs": [
    {
     "data": {
      "image/png": "[encoded data removed]",
      "text/plain": [
       "<Figure size 1000x618 with 1 Axes>"
      ]
     },
     "execution_count": 18,
     "metadata": {},
     "output_type": "execute_result"
    }
   ],
   "source": [
    "timestep = data['configuration/step']\n",
    "potential_energy = data[\n",
    "    'log/md/compute/ThermodynamicQuantities/potential_energy']\n",
    "\n",
    "fig = matplotlib.figure.Figure(figsize=(10, 6.18))\n",
    "ax = fig.add_subplot()\n",
    "ax.plot(timestep, potential_energy)\n",
    "ax.set_xlabel('timestep')\n",
    "ax.set_ylabel('potential energy')\n",
    "fig"
   ]
  },
  {
   "cell_type": "markdown",
   "metadata": {},
   "source": [
    "In this section, you have logged quantities to a GSD file during a simulation run and analyzed that data as a time series.\n",
    "The next section of this tutorial shows you how to save per-particle quantities associated with specific system configurations."
   ]
  },
  {
   "cell_type": "markdown",
   "metadata": {
    "nbsphinx": "hidden"
   },
   "source": [
    "[Index](00-index.ipynb) / [Next section](02-Saving-Array-Quantities.ipynb)."
   ]
  }
 ],
 "metadata": {
  "kernelspec": {
   "display_name": "Python 3 (ipykernel)",
   "language": "python",
   "name": "python3"
  },
  "language_info": {
   "codemirror_mode": {
    "name": "ipython",
    "version": 3
   },
   "file_extension": ".py",
   "mimetype": "text/x-python",
   "name": "python",
   "nbconvert_exporter": "python",
   "pygments_lexer": "ipython3",
   "version": "3.11.2"
  },
  "record_timing": false,
  "vscode": {
   "interpreter": {
    "hash": "b698676187e8663f75837a5b59f7225e750401ff06561542669377ae3ea87bc4"
   }
  }
 },
 "nbformat": 4,
 "nbformat_minor": 4
}
