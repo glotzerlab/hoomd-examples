{
 "cells": [
  {
   "cell_type": "markdown",
   "metadata": {},
   "source": [
    "# Logging to a GSD file\n",
    "\n",
    "## Overview\n",
    "\n",
    "### Questions\n",
    "\n",
    "* What is a Logger?\n",
    "* How can I write thermodynamic and other quantities to a file?\n",
    "* How can I access that data?\n",
    "\n",
    "### Objectives\n",
    "\n",
    "* Describe and give examples of **loggable quantities**.\n",
    "* Show how to add quantities to a **Logger**.\n",
    "* Demonstrate **GSD** as a log writer.\n",
    "* Explain how to read logged quantities from **GSD** files.\n",
    "* Describe how **namespaces** appear in the names of the logged quantities.\n",
    "\n",
    "## Boilerplate code"
   ]
  },
  {
   "cell_type": "code",
   "execution_count": 1,
   "metadata": {},
   "outputs": [],
   "source": [
    "import gsd.hoomd\n",
    "import hoomd\n",
    "import matplotlib\n",
    "\n",
    "%matplotlib inline\n",
    "matplotlib.style.use('ggplot')"
   ]
  },
  {
   "cell_type": "code",
   "execution_count": 2,
   "metadata": {
    "jupyter": {
     "source_hidden": true
    },
    "nbsphinx": "hidden"
   },
   "outputs": [],
   "source": [
    "import os\n",
    "\n",
    "fn = os.path.join(os.getcwd(), 'log.gsd')\n",
    "![ -e \"$fn\" ] && rm \"$fn\""
   ]
  },
  {
   "cell_type": "markdown",
   "metadata": {},
   "source": [
    "## Introduction\n",
    "\n",
    "HOOMD separates logging into three parts: **Loggable quantities**, the **Logger** class, and \n",
    "**Writers**.\n",
    "\n",
    "* **Loggable quantities** are values computed during a simulation.\n",
    "* The **Logger** class provides a way to collect and name quantities of interest.\n",
    "* **Writers** write these values out in a format you can use.\n",
    "\n",
    "In this section, you will use the **GSD Writer** to capture the values of quantities during a simulation run for later analysis."
   ]
  },
  {
   "cell_type": "markdown",
   "metadata": {},
   "source": [
    "## Define the Simulation\n",
    "\n",
    "This tutorial executes the Lennard-Jones particle simulation from a previous tutorial. \n",
    "See [*Introducing Molecular Dyamics*](../01-Introducing-Molecular-Dynamics/00-index.ipynb) for a complete description of this code."
   ]
  },
  {
   "cell_type": "code",
   "execution_count": 3,
   "metadata": {},
   "outputs": [],
   "source": [
    "cpu = hoomd.device.CPU()\n",
    "sim = hoomd.Simulation(device=cpu, seed=1)\n",
    "sim.create_state_from_gsd(\n",
    "    filename='../01-Introducing-Molecular-Dynamics/random.gsd')\n",
    "\n",
    "integrator = hoomd.md.Integrator(dt=0.005)\n",
    "cell = hoomd.md.nlist.Cell(buffer=0.4)\n",
    "lj = hoomd.md.pair.LJ(nlist=cell)\n",
    "lj.params[('A', 'A')] = dict(epsilon=1, sigma=1)\n",
    "lj.r_cut[('A', 'A')] = 2.5\n",
    "integrator.forces.append(lj)\n",
    "nvt = hoomd.md.methods.ConstantVolume(\n",
    "    filter=hoomd.filter.All(),\n",
    "    thermostat=hoomd.md.methods.thermostats.Bussi(kT=1.5))\n",
    "integrator.methods.append(nvt)\n",
    "sim.operations.integrator = integrator\n",
    "sim.run(0)"
   ]
  },
  {
   "cell_type": "markdown",
   "metadata": {},
   "source": [
    "## Loggable quantities\n",
    "\n",
    "Many classes in HOOMD-blue provide special *properties* called **loggable quantities**.\n",
    "For example, the **Simulation** class provides `timestep`, `tps`, and others.\n",
    "The reference documentation labels each of these as _Loggable_.\n",
    "You can also examine the ``loggables`` property to determine the **loggable quantities**:"
   ]
  },
  {
   "cell_type": "code",
   "execution_count": 4,
   "metadata": {},
   "outputs": [
    {
     "data": {
      "text/plain": [
       "{'timestep': 'scalar',\n",
       " 'seed': 'scalar',\n",
       " 'tps': 'scalar',\n",
       " 'walltime': 'scalar',\n",
       " 'final_timestep': 'scalar',\n",
       " 'initial_timestep': 'scalar'}"
      ]
     },
     "execution_count": 4,
     "metadata": {},
     "output_type": "execute_result"
    }
   ],
   "source": [
    "sim.loggables"
   ]
  },
  {
   "cell_type": "markdown",
   "metadata": {},
   "source": [
    "The **ThermodynamicQuantities** class computes a variety of **thermodynamic properties** in MD simulations.\n",
    "These are all loggable."
   ]
  },
  {
   "cell_type": "code",
   "execution_count": 5,
   "metadata": {},
   "outputs": [
    {
     "data": {
      "text/plain": [
       "{'kinetic_temperature': 'scalar',\n",
       " 'pressure': 'scalar',\n",
       " 'pressure_tensor': 'sequence',\n",
       " 'kinetic_energy': 'scalar',\n",
       " 'translational_kinetic_energy': 'scalar',\n",
       " 'rotational_kinetic_energy': 'scalar',\n",
       " 'potential_energy': 'scalar',\n",
       " 'degrees_of_freedom': 'scalar',\n",
       " 'translational_degrees_of_freedom': 'scalar',\n",
       " 'rotational_degrees_of_freedom': 'scalar',\n",
       " 'num_particles': 'scalar',\n",
       " 'volume': 'scalar'}"
      ]
     },
     "execution_count": 5,
     "metadata": {},
     "output_type": "execute_result"
    }
   ],
   "source": [
    "thermodynamic_properties = hoomd.md.compute.ThermodynamicQuantities(\n",
    "    filter=hoomd.filter.All())\n",
    "sim.operations.computes.append(thermodynamic_properties)\n",
    "thermodynamic_properties.loggables"
   ]
  },
  {
   "cell_type": "markdown",
   "metadata": {},
   "source": [
    "**Loggable quantities** are class properties or methods.\n",
    "You can directly access them in your code."
   ]
  },
  {
   "cell_type": "code",
   "execution_count": 6,
   "metadata": {},
   "outputs": [
    {
     "data": {
      "text/plain": [
       "10000"
      ]
     },
     "execution_count": 6,
     "metadata": {},
     "output_type": "execute_result"
    }
   ],
   "source": [
    "sim.timestep"
   ]
  },
  {
   "cell_type": "code",
   "execution_count": 7,
   "metadata": {},
   "outputs": [
    {
     "data": {
      "text/plain": [
       "1.590511952800884"
      ]
     },
     "execution_count": 7,
     "metadata": {},
     "output_type": "execute_result"
    }
   ],
   "source": [
    "thermodynamic_properties.kinetic_temperature"
   ]
  },
  {
   "cell_type": "markdown",
   "metadata": {},
   "source": [
    "Each **loggable quantity** has a **category**, which is listed both in the reference documentation and in ``loggables``.\n",
    "The **category** is a string that identifies the quantity's type or category.\n",
    "Example categories include:\n",
    "* `scalar` - numbers\n",
    "* `sequence` - arrays of numbers\n",
    "* `string` - strings of characters\n",
    "* `particle` - arrays of per-particle values"
   ]
  },
  {
   "cell_type": "markdown",
   "metadata": {},
   "source": [
    "## Add quantities to a Logger"
   ]
  },
  {
   "cell_type": "markdown",
   "metadata": {},
   "source": [
    "Add each of the quantities you would like to store to a **Logger**.\n",
    "The **Logger** will maintain these quantities in a list and provide them to the **Writer** when needed."
   ]
  },
  {
   "cell_type": "code",
   "execution_count": 8,
   "metadata": {},
   "outputs": [],
   "source": [
    "logger = hoomd.logging.Logger()"
   ]
  },
  {
   "cell_type": "markdown",
   "metadata": {},
   "source": [
    "You can add **loggable quantities** from any number of objects to a **Logger**.\n",
    "**Logger** uses the namespace of the class to assign a unique name for each quantity.\n",
    "Call `add` to add all quantities provided by `thermodynamic_properties`:"
   ]
  },
  {
   "cell_type": "code",
   "execution_count": 9,
   "metadata": {},
   "outputs": [],
   "source": [
    "logger.add(thermodynamic_properties)"
   ]
  },
  {
   "cell_type": "markdown",
   "metadata": {},
   "source": [
    "You can also select specific quantities to add with the `quantities` argument.\n",
    "Add only the `timestep` and `walltime` quantities from **Simulation**:"
   ]
  },
  {
   "cell_type": "code",
   "execution_count": 10,
   "metadata": {},
   "outputs": [],
   "source": [
    "logger.add(sim, quantities=['timestep', 'walltime'])"
   ]
  },
  {
   "cell_type": "markdown",
   "metadata": {},
   "source": [
    "## Writing log quantities to a GSD file\n",
    "\n",
    "**GSD** files always store trajectories of particle properties.\n",
    "Set the `log` attribute and **GSD** will also store the selected quantities.\n",
    "\n",
    "You can store _only_ the logged quantities by using the **Null** filter to select no particles for the trajectory.\n",
    "This way, you can log thermodynamic properties at a high rate and keep the file size small.\n"
   ]
  },
  {
   "cell_type": "code",
   "execution_count": 11,
   "metadata": {},
   "outputs": [],
   "source": [
    "gsd_writer = hoomd.write.GSD(filename='log.gsd',\n",
    "                             trigger=hoomd.trigger.Periodic(1000),\n",
    "                             mode='xb',\n",
    "                             filter=hoomd.filter.Null())\n",
    "sim.operations.writers.append(gsd_writer)"
   ]
  },
  {
   "cell_type": "markdown",
   "metadata": {},
   "source": [
    "Assign the logger to include the logged quanties in the GSD file:"
   ]
  },
  {
   "cell_type": "code",
   "execution_count": 12,
   "metadata": {},
   "outputs": [],
   "source": [
    "gsd_writer.log = logger"
   ]
  },
  {
   "cell_type": "markdown",
   "metadata": {},
   "source": [
    "The writer triggers and writes to the log file when the simulation runs:"
   ]
  },
  {
   "cell_type": "code",
   "execution_count": 13,
   "metadata": {},
   "outputs": [],
   "source": [
    "sim.run(100000)"
   ]
  },
  {
   "cell_type": "markdown",
   "metadata": {},
   "source": [
    "## Reading logged data from a GSD file"
   ]
  },
  {
   "cell_type": "markdown",
   "metadata": {},
   "source": [
    "You need to close the **GSD** file that `gsd_writer` has open before you can read it.\n",
    "The following code block deletes the simulation and operations manually so that it is safe to open the file for reading later in this notebook.\n",
    "\n",
    "In typical workflows, you will run separate simulation and analysis scripts and the **GSD** file will be closed when your simulation script exits."
   ]
  },
  {
   "cell_type": "code",
   "execution_count": 14,
   "metadata": {},
   "outputs": [],
   "source": [
    "del sim, gsd_writer, thermodynamic_properties, logger\n",
    "del integrator, nvt, lj, cell, cpu"
   ]
  },
  {
   "cell_type": "markdown",
   "metadata": {},
   "source": [
    "Use the `gsd` package to open the file:"
   ]
  },
  {
   "cell_type": "code",
   "execution_count": 15,
   "metadata": {},
   "outputs": [],
   "source": [
    "traj = gsd.hoomd.open('log.gsd', 'rb')"
   ]
  },
  {
   "cell_type": "markdown",
   "metadata": {},
   "source": [
    "Each frame in the trajectory has a `log` dictionary that maps quantity names to values.\n",
    "Inspect this dictionary in the first frame:"
   ]
  },
  {
   "cell_type": "code",
   "execution_count": 16,
   "metadata": {},
   "outputs": [
    {
     "data": {
      "text/plain": [
       "{'md/compute/ThermodynamicQuantities/kinetic_temperature': array([1.4437229]),\n",
       " 'md/compute/ThermodynamicQuantities/pressure': array([0.60790496]),\n",
       " 'md/compute/ThermodynamicQuantities/pressure_tensor': array([ 0.47490514, -0.03718814, -0.00848913,  0.59587336, -0.1024865 ,\n",
       "         0.75293637]),\n",
       " 'md/compute/ThermodynamicQuantities/kinetic_energy': array([552.22400994]),\n",
       " 'md/compute/ThermodynamicQuantities/translational_kinetic_energy': array([552.22400994]),\n",
       " 'md/compute/ThermodynamicQuantities/rotational_kinetic_energy': array([0.]),\n",
       " 'md/compute/ThermodynamicQuantities/potential_energy': array([-541.16848184]),\n",
       " 'md/compute/ThermodynamicQuantities/degrees_of_freedom': array([765.]),\n",
       " 'md/compute/ThermodynamicQuantities/translational_degrees_of_freedom': array([765.]),\n",
       " 'md/compute/ThermodynamicQuantities/rotational_degrees_of_freedom': array([0.]),\n",
       " 'md/compute/ThermodynamicQuantities/num_particles': array([256]),\n",
       " 'md/compute/ThermodynamicQuantities/volume': array([753.57109477]),\n",
       " 'Simulation/timestep': array([11000]),\n",
       " 'Simulation/walltime': array([0.29754])}"
      ]
     },
     "execution_count": 16,
     "metadata": {},
     "output_type": "execute_result"
    }
   ],
   "source": [
    "traj[0].log"
   ]
  },
  {
   "cell_type": "markdown",
   "metadata": {},
   "source": [
    "The dictionary keys are verbose names that include the **namespace** of the class which computed the quantity, where `.` has been replaced with `/`.\n",
    "For example, access the potential energy computed by **ThermodynamicQuantities** with the key `md/compute/ThermodynamicQuantities/potential_energy`."
   ]
  },
  {
   "cell_type": "code",
   "execution_count": 17,
   "metadata": {},
   "outputs": [
    {
     "data": {
      "text/plain": [
       "array([-541.16848184])"
      ]
     },
     "execution_count": 17,
     "metadata": {},
     "output_type": "execute_result"
    }
   ],
   "source": [
    "traj[0].log['md/compute/ThermodynamicQuantities/potential_energy']"
   ]
  },
  {
   "cell_type": "markdown",
   "metadata": {},
   "source": [
    "**GSD** stores all quantities in arrays.\n",
    "It stores scalar quantities such as the system potential energy in length 1 arrays (above) while it stores vector and other array quantities as appropriately sized arrays:"
   ]
  },
  {
   "cell_type": "code",
   "execution_count": 18,
   "metadata": {},
   "outputs": [
    {
     "data": {
      "text/plain": [
       "array([ 0.47490514, -0.03718814, -0.00848913,  0.59587336, -0.1024865 ,\n",
       "        0.75293637])"
      ]
     },
     "execution_count": 18,
     "metadata": {},
     "output_type": "execute_result"
    }
   ],
   "source": [
    "traj[0].log['md/compute/ThermodynamicQuantities/pressure_tensor']"
   ]
  },
  {
   "cell_type": "markdown",
   "metadata": {},
   "source": [
    "**GSD** provides logged quantities individually at each frame in the file.\n",
    "You can convert this to time-series data with a loop and then plot or analyze it:"
   ]
  },
  {
   "cell_type": "code",
   "execution_count": 19,
   "metadata": {},
   "outputs": [],
   "source": [
    "timestep = []\n",
    "walltime = []\n",
    "potential_energy = []\n",
    "\n",
    "for frame in traj:\n",
    "    timestep.append(frame.configuration.step)\n",
    "    walltime.append(frame.log['Simulation/walltime'][0])\n",
    "    potential_energy.append(\n",
    "        frame.log['md/compute/ThermodynamicQuantities/potential_energy'][0])"
   ]
  },
  {
   "cell_type": "code",
   "execution_count": 20,
   "metadata": {},
   "outputs": [
    {
     "data": {
      "image/png": "[encoded data removed]",
      "text/plain": [
       "<Figure size 1000x618 with 1 Axes>"
      ]
     },
     "execution_count": 20,
     "metadata": {},
     "output_type": "execute_result"
    }
   ],
   "source": [
    "fig = matplotlib.figure.Figure(figsize=(10, 6.18))\n",
    "ax = fig.add_subplot()\n",
    "ax.plot(timestep, potential_energy)\n",
    "ax.set_xlabel('timestep')\n",
    "ax.set_ylabel('potential energy')\n",
    "fig"
   ]
  },
  {
   "cell_type": "markdown",
   "metadata": {},
   "source": [
    "In this section, you have logged quantities to a GSD file during a simulation run and analyzed that data as a time series.\n",
    "The next section of this tutorial shows you how to save per-particle quantities associated with specific system configurations."
   ]
  },
  {
   "cell_type": "markdown",
   "metadata": {
    "nbsphinx": "hidden"
   },
   "source": [
    "[Index](00-index.ipynb) / [Next section](02-Saving-Array-Quantities.ipynb)."
   ]
  }
 ],
 "metadata": {
  "kernelspec": {
   "display_name": "Python 3 (ipykernel)",
   "language": "python",
   "name": "python3"
  },
  "language_info": {
   "codemirror_mode": {
    "name": "ipython",
    "version": 3
   },
   "file_extension": ".py",
   "mimetype": "text/x-python",
   "name": "python",
   "nbconvert_exporter": "python",
   "pygments_lexer": "ipython3",
   "version": "3.10.6"
  },
  "record_timing": false
 },
 "nbformat": 4,
 "nbformat_minor": 4
}
