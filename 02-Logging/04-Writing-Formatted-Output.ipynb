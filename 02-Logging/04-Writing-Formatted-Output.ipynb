{
 "cells": [
  {
   "cell_type": "markdown",
   "metadata": {},
   "source": [
    "# Writing Formatted Output\n",
    "\n",
    "## Overview\n",
    "\n",
    "### Questions\n",
    "\n",
    "* How do I display status information during a simulation?\n",
    "* How can I log user-defined quantities?\n",
    "* How can I write formatted output to a text file?\n",
    "\n",
    "### Objectives\n",
    "\n",
    "* Demonstrate **user-defined log quantities**.\n",
    "* Explain the use of **Table** to display status information during a simulation run.\n",
    "* Show that **Table** can write to a file.\n",
    "\n",
    "## Boilerplate code"
   ]
  },
  {
   "cell_type": "code",
   "execution_count": 1,
   "metadata": {
    "execution": {
     "iopub.execute_input": "2021-02-10T15:52:36.457977Z",
     "iopub.status.busy": "2021-02-10T15:52:36.457050Z",
     "iopub.status.idle": "2021-02-10T15:52:36.578356Z",
     "shell.execute_reply": "2021-02-10T15:52:36.578758Z"
    }
   },
   "outputs": [],
   "source": [
    "import hoomd\n",
    "import datetime"
   ]
  },
  {
   "cell_type": "code",
   "execution_count": 2,
   "metadata": {
    "execution": {
     "iopub.execute_input": "2021-02-10T15:52:36.582569Z",
     "iopub.status.busy": "2021-02-10T15:52:36.581911Z",
     "iopub.status.idle": "2021-02-10T15:52:36.695984Z",
     "shell.execute_reply": "2021-02-10T15:52:36.696682Z"
    },
    "nbsphinx": "hidden"
   },
   "outputs": [],
   "source": [
    "import os\n",
    "fn = os.path.join(os.getcwd(), 'log.txt')\n",
    "![ -e \"$fn\" ] && rm \"$fn\""
   ]
  },
  {
   "cell_type": "markdown",
   "metadata": {},
   "source": [
    "## Define the Simulation\n",
    "\n",
    "This tutorial executes the Lennard-Jones particle simulation from a previous tutorial. \n",
    "See [*Introducing Molecular Dyamics*](../01-Introducing-Molecular-Dynamics/00-index.ipynb) for a complete description of this code."
   ]
  },
  {
   "cell_type": "code",
   "execution_count": 3,
   "metadata": {
    "execution": {
     "iopub.execute_input": "2021-02-10T15:52:37.051160Z",
     "iopub.status.busy": "2021-02-10T15:52:37.049944Z",
     "iopub.status.idle": "2021-02-10T15:52:37.052443Z",
     "shell.execute_reply": "2021-02-10T15:52:37.053429Z"
    }
   },
   "outputs": [],
   "source": [
    "gpu = hoomd.device.GPU()\n",
    "sim = hoomd.Simulation(device=gpu)\n",
    "sim.create_state_from_gsd(filename='../01-Introducing-Molecular-Dynamics/random.gsd')\n",
    "\n",
    "integrator = hoomd.md.Integrator(dt=0.005)\n",
    "cell = hoomd.md.nlist.Cell()\n",
    "lj = hoomd.md.pair.LJ(nlist=cell)\n",
    "lj.params[('A', 'A')] = dict(epsilon=1, sigma=1)\n",
    "lj.r_cut[('A', 'A')] = 2.5\n",
    "integrator.forces.append(lj)\n",
    "nvt = hoomd.md.methods.NVT(kT=1.5, filter=hoomd.filter.All(), tau=1.0)\n",
    "integrator.methods.append(nvt)\n",
    "sim.operations.integrator = integrator"
   ]
  },
  {
   "cell_type": "markdown",
   "metadata": {},
   "source": [
    "## Formatted output\n",
    "\n",
    "The **Table** writer formats log quantities in human-readable text and writes them to `stdout` or a file.\n",
    "**Table** only supports `scalar` and `string` quantities due to the limitations of this format.\n",
    "This section shows you how to use **Table** to display status information during a simulation run."
   ]
  },
  {
   "cell_type": "markdown",
   "metadata": {},
   "source": [
    "## Add quantities to a Logger"
   ]
  },
  {
   "cell_type": "markdown",
   "metadata": {},
   "source": [
    "The `categories` argument to **Logger** defines the **categories** that it will accept."
   ]
  },
  {
   "cell_type": "code",
   "execution_count": 4,
   "metadata": {
    "execution": {
     "iopub.execute_input": "2021-02-10T15:52:37.059124Z",
     "iopub.status.busy": "2021-02-10T15:52:37.057944Z",
     "iopub.status.idle": "2021-02-10T15:52:37.060397Z",
     "shell.execute_reply": "2021-02-10T15:52:37.061382Z"
    }
   },
   "outputs": [],
   "source": [
    "logger = hoomd.logging.Logger(categories=['scalar', 'string'])"
   ]
  },
  {
   "cell_type": "markdown",
   "metadata": {},
   "source": [
    "Log the and simulation `timestep` and `tps` quantities:"
   ]
  },
  {
   "cell_type": "code",
   "execution_count": 5,
   "metadata": {
    "execution": {
     "iopub.execute_input": "2021-02-10T15:52:37.065047Z",
     "iopub.status.busy": "2021-02-10T15:52:37.064590Z",
     "iopub.status.idle": "2021-02-10T15:52:37.066159Z",
     "shell.execute_reply": "2021-02-10T15:52:37.066522Z"
    }
   },
   "outputs": [],
   "source": [
    "logger.add(sim, quantities=['timestep', 'tps'])"
   ]
  },
  {
   "cell_type": "markdown",
   "metadata": {},
   "source": [
    "You can also log user-defined quantities using functions, callable class instances, or class properties.\n",
    "For example, this class computes the estimated time remaining:"
   ]
  },
  {
   "cell_type": "code",
   "execution_count": 6,
   "metadata": {
    "execution": {
     "iopub.execute_input": "2021-02-10T15:52:37.070533Z",
     "iopub.status.busy": "2021-02-10T15:52:37.070077Z",
     "iopub.status.idle": "2021-02-10T15:52:37.071954Z",
     "shell.execute_reply": "2021-02-10T15:52:37.072318Z"
    }
   },
   "outputs": [],
   "source": [
    "class Status():\n",
    "    def __init__(self, sim):\n",
    "        self.sim = sim\n",
    "    \n",
    "    @property\n",
    "    def seconds_remaining(self):\n",
    "        try:\n",
    "            return (self.sim.final_timestep - self.sim.timestep) / self.sim.tps\n",
    "        except ZeroDivisionError:\n",
    "            return 0        \n",
    "    \n",
    "    @property\n",
    "    def etr(self):\n",
    "        return str(datetime.timedelta(seconds=self.seconds_remaining))\n"
   ]
  },
  {
   "cell_type": "markdown",
   "metadata": {},
   "source": [
    "Assign the loggable quantity using the tuple `(object, property_name, flag)`,  where `flag` is the string name of the flag for this quantity. (The tuple for callable objects would be `(callable, flag)`)."
   ]
  },
  {
   "cell_type": "code",
   "execution_count": 7,
   "metadata": {
    "execution": {
     "iopub.execute_input": "2021-02-10T15:52:37.075730Z",
     "iopub.status.busy": "2021-02-10T15:52:37.075268Z",
     "iopub.status.idle": "2021-02-10T15:52:37.077768Z",
     "shell.execute_reply": "2021-02-10T15:52:37.077318Z"
    }
   },
   "outputs": [],
   "source": [
    "status = Status(sim)\n",
    "logger[('Status', 'etr')] = (status, 'etr', 'string')"
   ]
  },
  {
   "cell_type": "markdown",
   "metadata": {},
   "source": [
    "Represent the namespace of your user-defined quantity with a tuple of strings - `('Status', 'etr'`) above.\n",
    "You can use any number of arbitrary strings in the tuple to name your quantity."
   ]
  },
  {
   "cell_type": "markdown",
   "metadata": {},
   "source": [
    "## Display quantities with Table"
   ]
  },
  {
   "cell_type": "markdown",
   "metadata": {},
   "source": [
    "**Table** is a **Writer** that formats the quantities in a **Logger** into a human readable table.\n",
    "Create one that triggers periodically:"
   ]
  },
  {
   "cell_type": "code",
   "execution_count": 8,
   "metadata": {
    "execution": {
     "iopub.execute_input": "2021-02-10T15:52:37.081664Z",
     "iopub.status.busy": "2021-02-10T15:52:37.081128Z",
     "iopub.status.idle": "2021-02-10T15:52:37.082967Z",
     "shell.execute_reply": "2021-02-10T15:52:37.083391Z"
    }
   },
   "outputs": [],
   "source": [
    "table = hoomd.write.Table(trigger=hoomd.trigger.Periodic(period=5000),\n",
    "                          logger=logger)"
   ]
  },
  {
   "cell_type": "markdown",
   "metadata": {},
   "source": [
    "Add it to the simulation:"
   ]
  },
  {
   "cell_type": "code",
   "execution_count": 9,
   "metadata": {
    "execution": {
     "iopub.execute_input": "2021-02-10T15:52:37.086948Z",
     "iopub.status.busy": "2021-02-10T15:52:37.086417Z",
     "iopub.status.idle": "2021-02-10T15:52:37.088258Z",
     "shell.execute_reply": "2021-02-10T15:52:37.088713Z"
    }
   },
   "outputs": [],
   "source": [
    "sim.operations.writers.append(table)"
   ]
  },
  {
   "cell_type": "markdown",
   "metadata": {},
   "source": [
    "Run the simulation and see the output:"
   ]
  },
  {
   "cell_type": "code",
   "execution_count": 10,
   "metadata": {
    "execution": {
     "iopub.execute_input": "2021-02-10T15:52:37.998247Z",
     "iopub.status.busy": "2021-02-10T15:52:37.997058Z",
     "iopub.status.idle": "2021-02-10T15:52:44.569236Z",
     "shell.execute_reply": "2021-02-10T15:52:44.570214Z"
    }
   },
   "outputs": [
    {
     "name": "stdout",
     "output_type": "stream",
     "text": [
      "Simulation.timestep  Simulation.tps     Status.etr   \n",
      "       35000           5558.97192     0:00:17.089491 \n",
      "       40000           6731.91895     0:00:13.369145 \n",
      "       45000           8253.00787     0:00:10.299275 \n",
      "       50000           9310.67746     0:00:08.592286 \n",
      "       55000          10076.21957     0:00:07.443268 \n",
      "       60000          10665.96601     0:00:06.562931 \n",
      "       65000          11128.38002     0:00:05.840922 \n",
      "       70000          11497.68575     0:00:05.218441 \n",
      "       75000          11807.49782     0:00:04.658057 \n",
      "       80000          12068.08661     0:00:04.143159 \n",
      "       85000          12287.67352     0:00:03.662207 \n",
      "       90000          12477.07559     0:00:03.205879 \n",
      "       95000          12644.27830     0:00:02.768050 \n",
      "      100000          12789.48032     0:00:02.345678 \n",
      "      105000          12918.62056     0:00:01.935191 \n",
      "      110000          13034.17783     0:00:01.534427 \n",
      "      115000          13133.77994     0:00:01.142093 \n",
      "      120000          13227.18157     0:00:00.756019 \n",
      "      125000          13312.23905     0:00:00.375594 \n",
      "      130000          13388.87272        0:00:00     \n"
     ]
    }
   ],
   "source": [
    "sim.run(100000)"
   ]
  },
  {
   "cell_type": "markdown",
   "metadata": {},
   "source": [
    "Later in this notebook, you are going to create another **Table Writer**.\n",
    "Remove `table` now to avoid confusing the two:"
   ]
  },
  {
   "cell_type": "code",
   "execution_count": 11,
   "metadata": {
    "execution": {
     "iopub.execute_input": "2021-02-10T15:52:44.574639Z",
     "iopub.status.busy": "2021-02-10T15:52:44.573794Z",
     "iopub.status.idle": "2021-02-10T15:52:44.575560Z",
     "shell.execute_reply": "2021-02-10T15:52:44.576269Z"
    }
   },
   "outputs": [],
   "source": [
    "sim.operations.writers.remove(table)"
   ]
  },
  {
   "cell_type": "markdown",
   "metadata": {},
   "source": [
    "## Save Table output to a file\n",
    "\n",
    "**Table** writes to `stdout` by default.\n",
    "It can write to a file (or any Python file-like object with `write` and `flush` methods) instead."
   ]
  },
  {
   "cell_type": "markdown",
   "metadata": {},
   "source": [
    "Open the file to write:"
   ]
  },
  {
   "cell_type": "code",
   "execution_count": 12,
   "metadata": {
    "execution": {
     "iopub.execute_input": "2021-02-10T15:52:44.580093Z",
     "iopub.status.busy": "2021-02-10T15:52:44.579251Z",
     "iopub.status.idle": "2021-02-10T15:52:44.581099Z",
     "shell.execute_reply": "2021-02-10T15:52:44.581807Z"
    }
   },
   "outputs": [],
   "source": [
    "file = open('log.txt', 'x')"
   ]
  },
  {
   "cell_type": "markdown",
   "metadata": {},
   "source": [
    "Create a **Table** **Writer** that outputs to this file and add it to the **Simulation**:"
   ]
  },
  {
   "cell_type": "code",
   "execution_count": 13,
   "metadata": {
    "execution": {
     "iopub.execute_input": "2021-02-10T15:52:44.586003Z",
     "iopub.status.busy": "2021-02-10T15:52:44.585543Z",
     "iopub.status.idle": "2021-02-10T15:52:44.587486Z",
     "shell.execute_reply": "2021-02-10T15:52:44.587850Z"
    }
   },
   "outputs": [],
   "source": [
    "table_file = hoomd.write.Table(output=file,\n",
    "                               trigger=hoomd.trigger.Periodic(period=5000),\n",
    "                               logger=logger)\n",
    "sim.operations.writers.append(table_file)"
   ]
  },
  {
   "cell_type": "markdown",
   "metadata": {},
   "source": [
    "Run the simulation:"
   ]
  },
  {
   "cell_type": "code",
   "execution_count": 14,
   "metadata": {
    "execution": {
     "iopub.execute_input": "2021-02-10T15:52:46.275062Z",
     "iopub.status.busy": "2021-02-10T15:52:45.943654Z",
     "iopub.status.idle": "2021-02-10T15:52:51.250444Z",
     "shell.execute_reply": "2021-02-10T15:52:51.249403Z"
    }
   },
   "outputs": [],
   "source": [
    "sim.run(100000)"
   ]
  },
  {
   "cell_type": "markdown",
   "metadata": {},
   "source": [
    "You can read the file with standard tools:"
   ]
  },
  {
   "cell_type": "code",
   "execution_count": 15,
   "metadata": {
    "execution": {
     "iopub.execute_input": "2021-02-10T15:52:51.258518Z",
     "iopub.status.busy": "2021-02-10T15:52:51.254303Z",
     "iopub.status.idle": "2021-02-10T15:52:51.381066Z",
     "shell.execute_reply": "2021-02-10T15:52:51.382026Z"
    }
   },
   "outputs": [
    {
     "name": "stdout",
     "output_type": "stream",
     "text": [
      "      185000          14967.99512     0:00:03.006415 \r\n",
      "      190000          14978.54787     0:00:02.670486 \r\n",
      "      195000          14987.43342     0:00:02.335290 \r\n",
      "      200000          14995.81611     0:00:02.000558 \r\n",
      "      205000          15000.94307     0:00:01.666562 \r\n",
      "      210000          15006.77752     0:00:01.332731 \r\n",
      "      215000          15013.24449     0:00:00.999118 \r\n",
      "      220000          15017.31850     0:00:00.665898 \r\n",
      "      225000          15020.08681     0:00:00.332888 \r\n",
      "      230000          15023.23592        0:00:00     \r\n"
     ]
    }
   ],
   "source": [
    "!tail log.txt"
   ]
  },
  {
   "cell_type": "markdown",
   "metadata": {},
   "source": [
    "In this section, you have displayed **loggable quantities** during a simulation run and saved them to a text file.\n",
    "This is the last section in the logging tutorial."
   ]
  },
  {
   "cell_type": "markdown",
   "metadata": {
    "nbsphinx": "hidden"
   },
   "source": [
    "[Previous section](03-Storing-Particle-Shape.ipynb) / [Tutorial index](../README.md)"
   ]
  }
 ],
 "metadata": {
  "kernelspec": {
   "display_name": "Python 3",
   "language": "python",
   "name": "python3"
  },
  "language_info": {
   "codemirror_mode": {
    "name": "ipython",
    "version": 3
   },
   "file_extension": ".py",
   "mimetype": "text/x-python",
   "name": "python",
   "nbconvert_exporter": "python",
   "pygments_lexer": "ipython3",
   "version": "3.9.1"
  }
 },
 "nbformat": 4,
 "nbformat_minor": 4
}
