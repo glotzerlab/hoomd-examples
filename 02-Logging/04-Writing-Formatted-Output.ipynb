{
 "cells": [
  {
   "cell_type": "markdown",
   "metadata": {},
   "source": [
    "# Writing Formatted Output\n",
    "\n",
    "## Overview\n",
    "\n",
    "### Questions\n",
    "\n",
    "* How do I display status information during a simulation?\n",
    "* How can I log user-defined quantities?\n",
    "* How can I write formatted output to a text file?\n",
    "\n",
    "### Objectives\n",
    "\n",
    "* Demonstrate **user-defined log quantities**.\n",
    "* Explain the use of **Table** to display status information during a simulation run.\n",
    "* Show that **Table** can write to a file.\n",
    "\n",
    "## Boilerplate code"
   ]
  },
  {
   "cell_type": "code",
   "execution_count": 1,
   "metadata": {},
   "outputs": [],
   "source": [
    "import datetime\n",
    "\n",
    "import hoomd"
   ]
  },
  {
   "cell_type": "code",
   "execution_count": 2,
   "metadata": {
    "nbsphinx": "hidden"
   },
   "outputs": [],
   "source": [
    "import os\n",
    "\n",
    "fn = os.path.join(os.getcwd(), 'log.txt')\n",
    "![ -e \"$fn\" ] && rm \"$fn\""
   ]
  },
  {
   "cell_type": "markdown",
   "metadata": {},
   "source": [
    "## Define the Simulation\n",
    "\n",
    "This tutorial executes the Lennard-Jones particle simulation from a previous tutorial. \n",
    "See [*Introducing Molecular Dyamics*](../01-Introducing-Molecular-Dynamics/00-index.ipynb) for a complete description of this code."
   ]
  },
  {
   "cell_type": "code",
   "execution_count": 3,
   "metadata": {},
   "outputs": [],
   "source": [
    "cpu = hoomd.device.CPU()\n",
    "sim = hoomd.Simulation(device=cpu)\n",
    "sim.create_state_from_gsd(\n",
    "    filename='../01-Introducing-Molecular-Dynamics/random.gsd')\n",
    "\n",
    "integrator = hoomd.md.Integrator(dt=0.005)\n",
    "cell = hoomd.md.nlist.Cell(buffer=0.4)\n",
    "lj = hoomd.md.pair.LJ(nlist=cell)\n",
    "lj.params[('A', 'A')] = dict(epsilon=1, sigma=1)\n",
    "lj.r_cut[('A', 'A')] = 2.5\n",
    "integrator.forces.append(lj)\n",
    "nvt = hoomd.md.methods.NVT(kT=1.5, filter=hoomd.filter.All(), tau=1.0)\n",
    "integrator.methods.append(nvt)\n",
    "sim.operations.integrator = integrator"
   ]
  },
  {
   "cell_type": "markdown",
   "metadata": {},
   "source": [
    "## Formatted output\n",
    "\n",
    "The **Table** writer formats log quantities in human-readable text and writes them to `stdout` or a file.\n",
    "**Table** only supports `scalar` and `string` quantities due to the limitations of this format.\n",
    "This section shows you how to use **Table** to display status information during a simulation run."
   ]
  },
  {
   "cell_type": "markdown",
   "metadata": {},
   "source": [
    "## Add quantities to a Logger"
   ]
  },
  {
   "cell_type": "markdown",
   "metadata": {},
   "source": [
    "The `categories` argument to **Logger** defines the **categories** that it will accept."
   ]
  },
  {
   "cell_type": "code",
   "execution_count": 4,
   "metadata": {},
   "outputs": [],
   "source": [
    "logger = hoomd.logging.Logger(categories=['scalar', 'string'])"
   ]
  },
  {
   "cell_type": "markdown",
   "metadata": {},
   "source": [
    "Log the and simulation `timestep` and `tps` quantities:"
   ]
  },
  {
   "cell_type": "code",
   "execution_count": 5,
   "metadata": {},
   "outputs": [],
   "source": [
    "logger.add(sim, quantities=['timestep', 'tps'])"
   ]
  },
  {
   "cell_type": "markdown",
   "metadata": {},
   "source": [
    "You can also log user-defined quantities using functions, callable class instances, or class properties.\n",
    "For example, this class computes the estimated time remaining:"
   ]
  },
  {
   "cell_type": "code",
   "execution_count": 6,
   "metadata": {},
   "outputs": [],
   "source": [
    "class Status():\n",
    "\n",
    "    def __init__(self, sim):\n",
    "        self.sim = sim\n",
    "\n",
    "    @property\n",
    "    def seconds_remaining(self):\n",
    "        try:\n",
    "            return (self.sim.final_timestep - self.sim.timestep) / self.sim.tps\n",
    "        except ZeroDivisionError:\n",
    "            return 0\n",
    "\n",
    "    @property\n",
    "    def etr(self):\n",
    "        return str(datetime.timedelta(seconds=self.seconds_remaining))"
   ]
  },
  {
   "cell_type": "markdown",
   "metadata": {},
   "source": [
    "Assign the loggable quantity using the tuple `(object, property_name, flag)`,  where `flag` is the string name of the flag for this quantity. (The tuple for callable objects would be `(callable, flag)`)."
   ]
  },
  {
   "cell_type": "code",
   "execution_count": 7,
   "metadata": {},
   "outputs": [],
   "source": [
    "status = Status(sim)\n",
    "logger[('Status', 'etr')] = (status, 'etr', 'string')"
   ]
  },
  {
   "cell_type": "markdown",
   "metadata": {},
   "source": [
    "Represent the namespace of your user-defined quantity with a tuple of strings - `('Status', 'etr'`) above.\n",
    "You can use any number of arbitrary strings in the tuple to name your quantity."
   ]
  },
  {
   "cell_type": "markdown",
   "metadata": {},
   "source": [
    "## Display quantities with Table"
   ]
  },
  {
   "cell_type": "markdown",
   "metadata": {},
   "source": [
    "**Table** is a **Writer** that formats the quantities in a **Logger** into a human readable table.\n",
    "Create one that triggers periodically:"
   ]
  },
  {
   "cell_type": "code",
   "execution_count": 8,
   "metadata": {},
   "outputs": [],
   "source": [
    "table = hoomd.write.Table(trigger=hoomd.trigger.Periodic(period=5000),\n",
    "                          logger=logger)"
   ]
  },
  {
   "cell_type": "markdown",
   "metadata": {},
   "source": [
    "Add it to the simulation:"
   ]
  },
  {
   "cell_type": "code",
   "execution_count": 9,
   "metadata": {},
   "outputs": [],
   "source": [
    "sim.operations.writers.append(table)"
   ]
  },
  {
   "cell_type": "markdown",
   "metadata": {},
   "source": [
    "Run the simulation and see the output:"
   ]
  },
  {
   "cell_type": "code",
   "execution_count": 10,
   "metadata": {},
   "outputs": [
    {
     "name": "stdout",
     "output_type": "stream",
     "text": [
      "Simulation.timestep  Simulation.tps     Status.etr   \n",
      "       15000           7079.19236     0:00:13.419610 \n",
      "       20000           7711.58264     0:00:11.670756 \n",
      "       25000           7873.23870     0:00:10.796065 \n",
      "       30000           7998.88650     0:00:10.001392 \n",
      "       35000           8067.65223     0:00:09.296385 \n",
      "       40000           8130.34130     0:00:08.609725 \n",
      "       45000           8161.39123     0:00:07.964328 \n",
      "       50000           8198.28541     0:00:07.318603 \n",
      "       55000           8220.85883     0:00:06.690299 \n",
      "       60000           8243.20310     0:00:06.065603 \n",
      "       65000           8260.47214     0:00:05.447631 \n",
      "       70000           8281.81727     0:00:04.829858 \n",
      "       75000           8297.38171     0:00:04.218198 \n",
      "       80000           8302.28728     0:00:03.613462 \n",
      "       85000           8311.39834     0:00:03.007917 \n",
      "       90000           8320.74372     0:00:02.403631 \n",
      "       95000           8318.73378     0:00:01.803159 \n",
      "      100000           8328.36479     0:00:01.200716 \n",
      "      105000           8335.28337     0:00:00.599860 \n",
      "      110000           8341.92073        0:00:00     \n"
     ]
    }
   ],
   "source": [
    "sim.run(100000)"
   ]
  },
  {
   "cell_type": "markdown",
   "metadata": {},
   "source": [
    "Later in this notebook, you are going to create another **Table Writer**.\n",
    "Remove `table` now to avoid confusing the two:"
   ]
  },
  {
   "cell_type": "code",
   "execution_count": 11,
   "metadata": {},
   "outputs": [],
   "source": [
    "sim.operations.writers.remove(table)"
   ]
  },
  {
   "cell_type": "markdown",
   "metadata": {},
   "source": [
    "## Save Table output to a file\n",
    "\n",
    "**Table** writes to `stdout` by default.\n",
    "It can write to a file (or any Python file-like object with `write` and `flush` methods) instead."
   ]
  },
  {
   "cell_type": "markdown",
   "metadata": {},
   "source": [
    "Open the file to write:"
   ]
  },
  {
   "cell_type": "code",
   "execution_count": 12,
   "metadata": {},
   "outputs": [],
   "source": [
    "file = open('log.txt', mode='x', newline='\\n')"
   ]
  },
  {
   "cell_type": "markdown",
   "metadata": {},
   "source": [
    "Create a **Table** **Writer** that outputs to this file and add it to the **Simulation**:"
   ]
  },
  {
   "cell_type": "code",
   "execution_count": 13,
   "metadata": {},
   "outputs": [],
   "source": [
    "table_file = hoomd.write.Table(output=file,\n",
    "                               trigger=hoomd.trigger.Periodic(period=5000),\n",
    "                               logger=logger)\n",
    "sim.operations.writers.append(table_file)"
   ]
  },
  {
   "cell_type": "markdown",
   "metadata": {},
   "source": [
    "Run the simulation:"
   ]
  },
  {
   "cell_type": "code",
   "execution_count": 14,
   "metadata": {},
   "outputs": [],
   "source": [
    "sim.run(100000)"
   ]
  },
  {
   "cell_type": "markdown",
   "metadata": {},
   "source": [
    "You can read the file with standard tools:"
   ]
  },
  {
   "cell_type": "code",
   "execution_count": 15,
   "metadata": {},
   "outputs": [
    {
     "name": "stdout",
     "output_type": "stream",
     "text": [
      "      165000           8394.76121     0:00:05.360486 \n",
      "      170000           8398.18003     0:00:04.762937 \n",
      "      175000           8395.87278     0:00:04.168715 \n",
      "      180000           8406.33943     0:00:03.568735 \n",
      "      185000           8416.43930     0:00:02.970377 \n",
      "      190000           8415.16128     0:00:02.376663 \n",
      "      195000           8412.77978     0:00:01.783002 \n",
      "      200000           8404.64913     0:00:01.189818 \n",
      "      205000           8407.71957     0:00:00.594692 \n",
      "      210000           8413.83845        0:00:00     \n"
     ]
    }
   ],
   "source": [
    "!tail log.txt"
   ]
  },
  {
   "cell_type": "markdown",
   "metadata": {},
   "source": [
    "In this section, you have displayed **loggable quantities** during a simulation run and saved them to a text file.\n",
    "This is the last section in the logging tutorial."
   ]
  },
  {
   "cell_type": "markdown",
   "metadata": {
    "nbsphinx": "hidden"
   },
   "source": [
    "[Previous section](03-Storing-Particle-Shape.ipynb) / [Tutorial index](../README.md)"
   ]
  }
 ],
 "metadata": {
  "kernelspec": {
   "display_name": "Python 3 (ipykernel)",
   "language": "python",
   "name": "python3"
  },
  "language_info": {
   "codemirror_mode": {
    "name": "ipython",
    "version": 3
   },
   "file_extension": ".py",
   "mimetype": "text/x-python",
   "name": "python",
   "nbconvert_exporter": "python",
   "pygments_lexer": "ipython3",
   "version": "3.9.7"
  },
  "record_timing": false
 },
 "nbformat": 4,
 "nbformat_minor": 4
}
