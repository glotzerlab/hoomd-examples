{
 "cells": [
  {
   "cell_type": "markdown",
   "metadata": {},
   "source": [
    "# Writing Formatted Output\n",
    "\n",
    "## Overview\n",
    "\n",
    "### Questions\n",
    "\n",
    "* How do I display status information during a simulation?\n",
    "* How can I log user-defined quantities?\n",
    "* How can I write formatted output to a text file?\n",
    "\n",
    "### Objectives\n",
    "\n",
    "* Demonstrate **user-defined log quantities**.\n",
    "* Explain the use of **Table** to display status information during a simulation run.\n",
    "* Show that **Table** can write to a file.\n",
    "\n",
    "## Boilerplate code"
   ]
  },
  {
   "cell_type": "code",
   "execution_count": 1,
   "metadata": {},
   "outputs": [],
   "source": [
    "import hoomd\n",
    "import datetime"
   ]
  },
  {
   "cell_type": "markdown",
   "metadata": {},
   "source": [
    "## Define the Simulation\n",
    "\n",
    "This tutorial executes the Lennard-Jones particle simulation from a previous tutorial. \n",
    "See [*Introducing Molecular Dyamics*](../01-Introducing-Molecular-Dynamics/00-index.ipynb) for a complete description of this code."
   ]
  },
  {
   "cell_type": "code",
   "execution_count": 2,
   "metadata": {},
   "outputs": [],
   "source": [
    "gpu = hoomd.device.GPU()\n",
    "sim = hoomd.Simulation(device=gpu)\n",
    "sim.create_state_from_gsd(filename='../01-Introducing-Molecular-Dynamics/random.gsd')\n",
    "\n",
    "integrator = hoomd.md.Integrator(dt=0.005)\n",
    "cell = hoomd.md.nlist.Cell()\n",
    "lj = hoomd.md.pair.LJ(nlist=cell)\n",
    "lj.params[('A', 'A')] = dict(epsilon=1, sigma=1)\n",
    "lj.r_cut[('A', 'A')] = 2.5\n",
    "integrator.forces.append(lj)\n",
    "nvt = hoomd.md.methods.NVT(kT=1.5, filter=hoomd.filter.All(), tau=1.0)\n",
    "integrator.methods.append(nvt)\n",
    "sim.operations.integrator = integrator"
   ]
  },
  {
   "cell_type": "markdown",
   "metadata": {},
   "source": [
    "## Formatted output\n",
    "\n",
    "The **Table** writer formats log quantities in human-readable text and writes them to `stdout` or a file.\n",
    "**Table** only supports `scalar` and `string` quantities due to the limitations of this format.\n",
    "This section shows you how to use **Table** to display status information during a simulation run."
   ]
  },
  {
   "cell_type": "markdown",
   "metadata": {},
   "source": [
    "## Add quantities to a Logger"
   ]
  },
  {
   "cell_type": "markdown",
   "metadata": {},
   "source": [
    "The `flags` argument to **Logger** defines the **flags** that it will accept."
   ]
  },
  {
   "cell_type": "code",
   "execution_count": 3,
   "metadata": {},
   "outputs": [],
   "source": [
    "logger = hoomd.logging.Logger(flags=['scalar', 'string'])"
   ]
  },
  {
   "cell_type": "markdown",
   "metadata": {},
   "source": [
    "Log the and simulation `timestep` and `tps` quantities:"
   ]
  },
  {
   "cell_type": "code",
   "execution_count": 4,
   "metadata": {},
   "outputs": [
    {
     "data": {
      "text/plain": [
       "[('Simulation', 'timestep'), ('Simulation', 'tps')]"
      ]
     },
     "execution_count": 4,
     "metadata": {},
     "output_type": "execute_result"
    }
   ],
   "source": [
    "logger.add(sim, quantities=['timestep', 'tps'])"
   ]
  },
  {
   "cell_type": "markdown",
   "metadata": {},
   "source": [
    "You can also log user-defined quantities using functions, callable class instances, or class properties.\n",
    "For example, this class computes the estimated time remaining:"
   ]
  },
  {
   "cell_type": "code",
   "execution_count": 5,
   "metadata": {},
   "outputs": [],
   "source": [
    "class Status():\n",
    "    def __init__(self, sim):\n",
    "        self.sim = sim\n",
    "    \n",
    "    @property\n",
    "    def seconds_remaining(self):\n",
    "        try:\n",
    "            return (self.sim.final_timestep - self.sim.timestep) / self.sim.tps\n",
    "        except ZeroDivisionError:\n",
    "            return 0        \n",
    "    \n",
    "    @property\n",
    "    def etr(self):\n",
    "        return str(datetime.timedelta(seconds=self.seconds_remaining))\n"
   ]
  },
  {
   "cell_type": "markdown",
   "metadata": {},
   "source": [
    "Assign the loggable quantity using the tuple `(object, property_name, flag)`,  where `flag` is the string name of the flag for this quantity. (The tuple for callable objects would be `(callable, flag)`)."
   ]
  },
  {
   "cell_type": "code",
   "execution_count": 6,
   "metadata": {},
   "outputs": [],
   "source": [
    "status = Status(sim)\n",
    "logger[('Status', 'etr')] = (status, 'etr', 'string')"
   ]
  },
  {
   "cell_type": "markdown",
   "metadata": {},
   "source": [
    "Represent the namespace of your user-defined quantity with a tuple of strings - `('Status', 'etr'`) above.\n",
    "You can use any number of arbitrary strings in the tuple to name your quantity."
   ]
  },
  {
   "cell_type": "markdown",
   "metadata": {},
   "source": [
    "## Display quantities with Table"
   ]
  },
  {
   "cell_type": "markdown",
   "metadata": {},
   "source": [
    "**Table** is a **Writer** that formats the quantities in a **Logger** into a human readable table.\n",
    "Create one that triggers periodically:"
   ]
  },
  {
   "cell_type": "code",
   "execution_count": 7,
   "metadata": {},
   "outputs": [],
   "source": [
    "table = hoomd.write.Table(trigger=hoomd.trigger.Periodic(period=5000),\n",
    "                          logger=logger)"
   ]
  },
  {
   "cell_type": "markdown",
   "metadata": {},
   "source": [
    "Add it to the simulation:"
   ]
  },
  {
   "cell_type": "code",
   "execution_count": 8,
   "metadata": {},
   "outputs": [],
   "source": [
    "sim.operations.writers.append(table)"
   ]
  },
  {
   "cell_type": "markdown",
   "metadata": {},
   "source": [
    "Run the simulation and see the output:"
   ]
  },
  {
   "cell_type": "code",
   "execution_count": 9,
   "metadata": {},
   "outputs": [
    {
     "name": "stdout",
     "output_type": "stream",
     "text": [
      "Simulation.timestep  Simulation.tps     Status.etr   \n",
      "       35000           5221.16583     0:00:18.195170 \n",
      "       40000           6315.29484     0:00:14.251116 \n",
      "       45000           7798.08071     0:00:10.900118 \n",
      "       50000           8834.55757     0:00:09.055349 \n",
      "       55000           9600.65072     0:00:07.811970 \n",
      "       60000          10193.53756     0:00:06.867096 \n",
      "       65000          10661.33219     0:00:06.096799 \n",
      "       70000          11042.49867     0:00:05.433553 \n",
      "       75000          11356.92530     0:00:04.842860 \n",
      "       80000          11622.47944     0:00:04.302008 \n",
      "       85000          11850.57149     0:00:03.797285 \n",
      "       90000          12046.98080     0:00:03.320334 \n",
      "       95000          12217.95819     0:00:02.864636 \n",
      "      100000          12368.47267     0:00:02.425522 \n",
      "      105000          12501.93157     0:00:01.999691 \n",
      "      110000          12619.83273     0:00:01.584807 \n",
      "      115000          12725.40132     0:00:01.178745 \n",
      "      120000          12821.89000     0:00:00.779916 \n",
      "      125000          12910.00045     0:00:00.387297 \n",
      "      130000          12988.85337        0:00:00     \n"
     ]
    }
   ],
   "source": [
    "sim.run(100000)"
   ]
  },
  {
   "cell_type": "markdown",
   "metadata": {},
   "source": [
    "Later in this notebook, you are going to create another **Table Writer**.\n",
    "Remove `table` now to avoid confusing the two:"
   ]
  },
  {
   "cell_type": "code",
   "execution_count": 10,
   "metadata": {},
   "outputs": [],
   "source": [
    "sim.operations.writers.remove(table)"
   ]
  },
  {
   "cell_type": "markdown",
   "metadata": {},
   "source": [
    "## Save Table output to a file\n",
    "\n",
    "**Table** writes to `stdout` by default.\n",
    "It can write to a file (or any Python file-like object with `write` and `flush` methods) instead."
   ]
  },
  {
   "cell_type": "markdown",
   "metadata": {},
   "source": [
    "Open the file to write:"
   ]
  },
  {
   "cell_type": "code",
   "execution_count": 11,
   "metadata": {},
   "outputs": [],
   "source": [
    "file = open('log.txt', 'w')"
   ]
  },
  {
   "cell_type": "markdown",
   "metadata": {},
   "source": [
    "Create a **Table** **Writer** that outputs to this file and add it to the **Simulation**:"
   ]
  },
  {
   "cell_type": "code",
   "execution_count": 12,
   "metadata": {},
   "outputs": [],
   "source": [
    "table_file = hoomd.write.Table(output=file,\n",
    "                               trigger=hoomd.trigger.Periodic(period=5000),\n",
    "                               logger=logger)\n",
    "sim.operations.writers.append(table_file)"
   ]
  },
  {
   "cell_type": "markdown",
   "metadata": {},
   "source": [
    "Run the simulation:"
   ]
  },
  {
   "cell_type": "code",
   "execution_count": 13,
   "metadata": {},
   "outputs": [],
   "source": [
    "sim.run(100000)"
   ]
  },
  {
   "cell_type": "markdown",
   "metadata": {},
   "source": [
    "You can read the file with standard tools:"
   ]
  },
  {
   "cell_type": "code",
   "execution_count": 16,
   "metadata": {},
   "outputs": [
    {
     "name": "stdout",
     "output_type": "stream",
     "text": [
      "      185000          14662.99818     0:00:03.068949 \n",
      "      190000          14669.91888     0:00:02.726668 \n",
      "      195000          14675.39889     0:00:02.384944 \n",
      "      200000          14683.10779     0:00:02.043164 \n",
      "      205000          14686.60521     0:00:01.702231 \n",
      "      210000          14689.58859     0:00:01.361509 \n",
      "      215000          14694.45207     0:00:01.020793 \n",
      "      220000          14698.11772     0:00:00.680359 \n",
      "      225000          14701.14198     0:00:00.340110 \n",
      "      230000          14703.20980        0:00:00     \n"
     ]
    }
   ],
   "source": [
    "!tail log.txt"
   ]
  },
  {
   "cell_type": "markdown",
   "metadata": {},
   "source": [
    "In this section, you have displayed **loggable quantities** during a simulation run and saved them to a text file.\n",
    "This is the last section in the logging tutorial."
   ]
  },
  {
   "cell_type": "markdown",
   "metadata": {
    "nbsphinx": "hidden"
   },
   "source": [
    "[Previous section](03-Storing-Particle-Shape.ipynb) / [Tutorial index](../README.md)"
   ]
  }
 ],
 "metadata": {
  "kernelspec": {
   "display_name": "Python 3",
   "language": "python",
   "name": "python3"
  },
  "language_info": {
   "codemirror_mode": {
    "name": "ipython",
    "version": 3
   },
   "file_extension": ".py",
   "mimetype": "text/x-python",
   "name": "python",
   "nbconvert_exporter": "python",
   "pygments_lexer": "ipython3",
   "version": "3.8.6"
  }
 },
 "nbformat": 4,
 "nbformat_minor": 4
}
