{
 "cells": [
  {
   "cell_type": "markdown",
   "metadata": {},
   "source": [
    "# Writing Formatted Output\n",
    "\n",
    "## Overview\n",
    "\n",
    "### Questions\n",
    "\n",
    "* How do I display status information during a simulation?\n",
    "* How can I log user-defined quantities?\n",
    "* How can I write formatted output to a text file?\n",
    "\n",
    "### Objectives\n",
    "\n",
    "* Demonstrate **user-defined log quantities**.\n",
    "* Explain the use of **Table** to display status information during a simulation run.\n",
    "* Show that **Table** can write to a file.\n",
    "\n",
    "## Boilerplate code"
   ]
  },
  {
   "cell_type": "code",
   "execution_count": 1,
   "metadata": {
    "execution": {
     "iopub.execute_input": "2021-02-16T16:36:31.717660Z",
     "iopub.status.busy": "2021-02-16T16:36:31.717055Z",
     "iopub.status.idle": "2021-02-16T16:36:31.837896Z",
     "shell.execute_reply": "2021-02-16T16:36:31.838317Z"
    }
   },
   "outputs": [],
   "source": [
    "import hoomd\n",
    "import datetime"
   ]
  },
  {
   "cell_type": "code",
   "execution_count": 2,
   "metadata": {
    "execution": {
     "iopub.execute_input": "2021-02-16T16:36:31.842242Z",
     "iopub.status.busy": "2021-02-16T16:36:31.841562Z",
     "iopub.status.idle": "2021-02-16T16:36:31.956367Z",
     "shell.execute_reply": "2021-02-16T16:36:31.957061Z"
    },
    "nbsphinx": "hidden"
   },
   "outputs": [],
   "source": [
    "import os\n",
    "fn = os.path.join(os.getcwd(), 'log.txt')\n",
    "![ -e \"$fn\" ] && rm \"$fn\""
   ]
  },
  {
   "cell_type": "markdown",
   "metadata": {},
   "source": [
    "## Define the Simulation\n",
    "\n",
    "This tutorial executes the Lennard-Jones particle simulation from a previous tutorial. \n",
    "See [*Introducing Molecular Dyamics*](../01-Introducing-Molecular-Dynamics/00-index.ipynb) for a complete description of this code."
   ]
  },
  {
   "cell_type": "code",
   "execution_count": 3,
   "metadata": {
    "execution": {
     "iopub.execute_input": "2021-02-16T16:36:32.009708Z",
     "iopub.status.busy": "2021-02-16T16:36:32.008495Z",
     "iopub.status.idle": "2021-02-16T16:36:32.011038Z",
     "shell.execute_reply": "2021-02-16T16:36:32.012052Z"
    }
   },
   "outputs": [],
   "source": [
    "cpu = hoomd.device.CPU()\n",
    "sim = hoomd.Simulation(device=cpu)\n",
    "sim.create_state_from_gsd(filename='../01-Introducing-Molecular-Dynamics/random.gsd')\n",
    "\n",
    "integrator = hoomd.md.Integrator(dt=0.005)\n",
    "cell = hoomd.md.nlist.Cell()\n",
    "lj = hoomd.md.pair.LJ(nlist=cell)\n",
    "lj.params[('A', 'A')] = dict(epsilon=1, sigma=1)\n",
    "lj.r_cut[('A', 'A')] = 2.5\n",
    "integrator.forces.append(lj)\n",
    "nvt = hoomd.md.methods.NVT(kT=1.5, filter=hoomd.filter.All(), tau=1.0)\n",
    "integrator.methods.append(nvt)\n",
    "sim.operations.integrator = integrator"
   ]
  },
  {
   "cell_type": "markdown",
   "metadata": {},
   "source": [
    "## Formatted output\n",
    "\n",
    "The **Table** writer formats log quantities in human-readable text and writes them to `stdout` or a file.\n",
    "**Table** only supports `scalar` and `string` quantities due to the limitations of this format.\n",
    "This section shows you how to use **Table** to display status information during a simulation run."
   ]
  },
  {
   "cell_type": "markdown",
   "metadata": {},
   "source": [
    "## Add quantities to a Logger"
   ]
  },
  {
   "cell_type": "markdown",
   "metadata": {},
   "source": [
    "The `categories` argument to **Logger** defines the **categories** that it will accept."
   ]
  },
  {
   "cell_type": "code",
   "execution_count": 4,
   "metadata": {
    "execution": {
     "iopub.execute_input": "2021-02-16T16:36:32.017781Z",
     "iopub.status.busy": "2021-02-16T16:36:32.016568Z",
     "iopub.status.idle": "2021-02-16T16:36:32.019110Z",
     "shell.execute_reply": "2021-02-16T16:36:32.020135Z"
    }
   },
   "outputs": [],
   "source": [
    "logger = hoomd.logging.Logger(categories=['scalar', 'string'])"
   ]
  },
  {
   "cell_type": "markdown",
   "metadata": {},
   "source": [
    "Log the and simulation `timestep` and `tps` quantities:"
   ]
  },
  {
   "cell_type": "code",
   "execution_count": 5,
   "metadata": {
    "execution": {
     "iopub.execute_input": "2021-02-16T16:36:32.024235Z",
     "iopub.status.busy": "2021-02-16T16:36:32.023496Z",
     "iopub.status.idle": "2021-02-16T16:36:32.026895Z",
     "shell.execute_reply": "2021-02-16T16:36:32.026316Z"
    }
   },
   "outputs": [],
   "source": [
    "logger.add(sim, quantities=['timestep', 'tps'])"
   ]
  },
  {
   "cell_type": "markdown",
   "metadata": {},
   "source": [
    "You can also log user-defined quantities using functions, callable class instances, or class properties.\n",
    "For example, this class computes the estimated time remaining:"
   ]
  },
  {
   "cell_type": "code",
   "execution_count": 6,
   "metadata": {
    "execution": {
     "iopub.execute_input": "2021-02-16T16:36:32.032858Z",
     "iopub.status.busy": "2021-02-16T16:36:32.032200Z",
     "iopub.status.idle": "2021-02-16T16:36:32.035080Z",
     "shell.execute_reply": "2021-02-16T16:36:32.035520Z"
    }
   },
   "outputs": [],
   "source": [
    "class Status():\n",
    "    def __init__(self, sim):\n",
    "        self.sim = sim\n",
    "    \n",
    "    @property\n",
    "    def seconds_remaining(self):\n",
    "        try:\n",
    "            return (self.sim.final_timestep - self.sim.timestep) / self.sim.tps\n",
    "        except ZeroDivisionError:\n",
    "            return 0        \n",
    "    \n",
    "    @property\n",
    "    def etr(self):\n",
    "        return str(datetime.timedelta(seconds=self.seconds_remaining))\n"
   ]
  },
  {
   "cell_type": "markdown",
   "metadata": {},
   "source": [
    "Assign the loggable quantity using the tuple `(object, property_name, flag)`,  where `flag` is the string name of the flag for this quantity. (The tuple for callable objects would be `(callable, flag)`)."
   ]
  },
  {
   "cell_type": "code",
   "execution_count": 7,
   "metadata": {
    "execution": {
     "iopub.execute_input": "2021-02-16T16:36:32.040927Z",
     "iopub.status.busy": "2021-02-16T16:36:32.040375Z",
     "iopub.status.idle": "2021-02-16T16:36:32.042567Z",
     "shell.execute_reply": "2021-02-16T16:36:32.043001Z"
    }
   },
   "outputs": [],
   "source": [
    "status = Status(sim)\n",
    "logger[('Status', 'etr')] = (status, 'etr', 'string')"
   ]
  },
  {
   "cell_type": "markdown",
   "metadata": {},
   "source": [
    "Represent the namespace of your user-defined quantity with a tuple of strings - `('Status', 'etr'`) above.\n",
    "You can use any number of arbitrary strings in the tuple to name your quantity."
   ]
  },
  {
   "cell_type": "markdown",
   "metadata": {},
   "source": [
    "## Display quantities with Table"
   ]
  },
  {
   "cell_type": "markdown",
   "metadata": {},
   "source": [
    "**Table** is a **Writer** that formats the quantities in a **Logger** into a human readable table.\n",
    "Create one that triggers periodically:"
   ]
  },
  {
   "cell_type": "code",
   "execution_count": 8,
   "metadata": {
    "execution": {
     "iopub.execute_input": "2021-02-16T16:36:32.047298Z",
     "iopub.status.busy": "2021-02-16T16:36:32.046652Z",
     "iopub.status.idle": "2021-02-16T16:36:32.048566Z",
     "shell.execute_reply": "2021-02-16T16:36:32.049083Z"
    }
   },
   "outputs": [],
   "source": [
    "table = hoomd.write.Table(trigger=hoomd.trigger.Periodic(period=5000),\n",
    "                          logger=logger)"
   ]
  },
  {
   "cell_type": "markdown",
   "metadata": {},
   "source": [
    "Add it to the simulation:"
   ]
  },
  {
   "cell_type": "code",
   "execution_count": 9,
   "metadata": {
    "execution": {
     "iopub.execute_input": "2021-02-16T16:36:32.053076Z",
     "iopub.status.busy": "2021-02-16T16:36:32.052435Z",
     "iopub.status.idle": "2021-02-16T16:36:32.054374Z",
     "shell.execute_reply": "2021-02-16T16:36:32.054917Z"
    }
   },
   "outputs": [],
   "source": [
    "sim.operations.writers.append(table)"
   ]
  },
  {
   "cell_type": "markdown",
   "metadata": {},
   "source": [
    "Run the simulation and see the output:"
   ]
  },
  {
   "cell_type": "code",
   "execution_count": 10,
   "metadata": {
    "execution": {
     "iopub.execute_input": "2021-02-16T16:36:33.027312Z",
     "iopub.status.busy": "2021-02-16T16:36:33.026848Z",
     "iopub.status.idle": "2021-02-16T16:36:47.482088Z",
     "shell.execute_reply": "2021-02-16T16:36:47.481691Z"
    }
   },
   "outputs": [
    {
     "name": "stdout",
     "output_type": "stream",
     "text": [
      "Simulation.timestep  Simulation.tps     Status.etr   \n",
      "       15000           5170.52706     0:00:18.373369 \n",
      "       20000           5773.34136     0:00:15.588893 \n",
      "       25000           6019.07290     0:00:14.121776 \n",
      "       30000           6143.71608     0:00:13.021435 \n",
      "       35000           6224.73900     0:00:12.048698 \n",
      "       40000           6280.78735     0:00:11.145100 \n",
      "       45000           6319.46190     0:00:10.285686 \n",
      "       50000           6348.25258     0:00:09.451420 \n",
      "       55000           6366.52863     0:00:08.638931 \n",
      "       60000           6392.08123     0:00:07.822178 \n",
      "       65000           6409.33907     0:00:07.021005 \n",
      "       70000           6420.92795     0:00:06.229629 \n",
      "       75000           6422.63442     0:00:05.449477 \n",
      "       80000           6438.57830     0:00:04.659414 \n",
      "       85000           6446.48337     0:00:03.878083 \n",
      "       90000           6457.55393     0:00:03.097148 \n",
      "       95000           6464.17342     0:00:02.320482 \n",
      "      100000           6474.20418     0:00:01.544591 \n",
      "      105000           6478.99614     0:00:00.771724 \n",
      "      110000           6487.71215        0:00:00     \n"
     ]
    }
   ],
   "source": [
    "sim.run(100000)"
   ]
  },
  {
   "cell_type": "markdown",
   "metadata": {},
   "source": [
    "Later in this notebook, you are going to create another **Table Writer**.\n",
    "Remove `table` now to avoid confusing the two:"
   ]
  },
  {
   "cell_type": "code",
   "execution_count": 11,
   "metadata": {
    "execution": {
     "iopub.execute_input": "2021-02-16T16:36:47.486468Z",
     "iopub.status.busy": "2021-02-16T16:36:47.485769Z",
     "iopub.status.idle": "2021-02-16T16:36:47.487466Z",
     "shell.execute_reply": "2021-02-16T16:36:47.488045Z"
    }
   },
   "outputs": [],
   "source": [
    "sim.operations.writers.remove(table)"
   ]
  },
  {
   "cell_type": "markdown",
   "metadata": {},
   "source": [
    "## Save Table output to a file\n",
    "\n",
    "**Table** writes to `stdout` by default.\n",
    "It can write to a file (or any Python file-like object with `write` and `flush` methods) instead."
   ]
  },
  {
   "cell_type": "markdown",
   "metadata": {},
   "source": [
    "Open the file to write:"
   ]
  },
  {
   "cell_type": "code",
   "execution_count": 12,
   "metadata": {
    "execution": {
     "iopub.execute_input": "2021-02-16T16:36:47.491817Z",
     "iopub.status.busy": "2021-02-16T16:36:47.491125Z",
     "iopub.status.idle": "2021-02-16T16:36:47.526805Z",
     "shell.execute_reply": "2021-02-16T16:36:47.527297Z"
    }
   },
   "outputs": [],
   "source": [
    "file = open('log.txt', 'x')"
   ]
  },
  {
   "cell_type": "markdown",
   "metadata": {},
   "source": [
    "Create a **Table** **Writer** that outputs to this file and add it to the **Simulation**:"
   ]
  },
  {
   "cell_type": "code",
   "execution_count": 13,
   "metadata": {
    "execution": {
     "iopub.execute_input": "2021-02-16T16:36:47.533542Z",
     "iopub.status.busy": "2021-02-16T16:36:47.532714Z",
     "iopub.status.idle": "2021-02-16T16:36:47.535659Z",
     "shell.execute_reply": "2021-02-16T16:36:47.534948Z"
    }
   },
   "outputs": [],
   "source": [
    "table_file = hoomd.write.Table(output=file,\n",
    "                               trigger=hoomd.trigger.Periodic(period=5000),\n",
    "                               logger=logger)\n",
    "sim.operations.writers.append(table_file)"
   ]
  },
  {
   "cell_type": "markdown",
   "metadata": {},
   "source": [
    "Run the simulation:"
   ]
  },
  {
   "cell_type": "code",
   "execution_count": 14,
   "metadata": {
    "execution": {
     "iopub.execute_input": "2021-02-16T16:36:52.853792Z",
     "iopub.status.busy": "2021-02-16T16:36:50.580362Z",
     "iopub.status.idle": "2021-02-16T16:37:02.739819Z",
     "shell.execute_reply": "2021-02-16T16:37:02.738770Z"
    }
   },
   "outputs": [],
   "source": [
    "sim.run(100000)"
   ]
  },
  {
   "cell_type": "markdown",
   "metadata": {},
   "source": [
    "You can read the file with standard tools:"
   ]
  },
  {
   "cell_type": "code",
   "execution_count": 15,
   "metadata": {
    "execution": {
     "iopub.execute_input": "2021-02-16T16:37:02.747697Z",
     "iopub.status.busy": "2021-02-16T16:37:02.746533Z",
     "iopub.status.idle": "2021-02-16T16:37:02.864304Z",
     "shell.execute_reply": "2021-02-16T16:37:02.865314Z"
    }
   },
   "outputs": [
    {
     "name": "stdout",
     "output_type": "stream",
     "text": [
      "      165000           6560.32387     0:00:06.859417 \r\n",
      "      170000           6562.45389     0:00:06.095281 \r\n",
      "      175000           6564.37132     0:00:05.331813 \r\n",
      "      180000           6568.56161     0:00:04.567210 \r\n",
      "      185000           6567.47430     0:00:03.806638 \r\n",
      "      190000           6568.66318     0:00:03.044760 \r\n",
      "      195000           6572.77133     0:00:02.282142 \r\n",
      "      200000           6572.69315     0:00:01.521446 \r\n",
      "      205000           6575.38597     0:00:00.760412 \r\n",
      "      210000           6579.94130        0:00:00     \r\n"
     ]
    }
   ],
   "source": [
    "!tail log.txt"
   ]
  },
  {
   "cell_type": "markdown",
   "metadata": {},
   "source": [
    "In this section, you have displayed **loggable quantities** during a simulation run and saved them to a text file.\n",
    "This is the last section in the logging tutorial."
   ]
  },
  {
   "cell_type": "markdown",
   "metadata": {
    "nbsphinx": "hidden"
   },
   "source": [
    "[Previous section](03-Storing-Particle-Shape.ipynb) / [Tutorial index](../README.md)"
   ]
  }
 ],
 "metadata": {
  "kernelspec": {
   "display_name": "Python 3",
   "language": "python",
   "name": "python3"
  },
  "language_info": {
   "codemirror_mode": {
    "name": "ipython",
    "version": 3
   },
   "file_extension": ".py",
   "mimetype": "text/x-python",
   "name": "python",
   "nbconvert_exporter": "python",
   "pygments_lexer": "ipython3",
   "version": "3.9.1"
  }
 },
 "nbformat": 4,
 "nbformat_minor": 4
}
