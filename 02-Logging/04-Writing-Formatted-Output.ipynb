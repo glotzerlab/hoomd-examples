{
 "cells": [
  {
   "cell_type": "markdown",
   "metadata": {},
   "source": [
    "# Writing Formatted Output\n",
    "\n",
    "## Overview\n",
    "\n",
    "### Questions\n",
    "\n",
    "* How do I display status information during a simulation?\n",
    "* How can I log user-defined quantities?\n",
    "* How can I write formatted output to a text file?\n",
    "\n",
    "### Objectives\n",
    "\n",
    "* Demonstrate **user-defined log quantities**.\n",
    "* Explain the use of **Table** to display status information during a simulation run.\n",
    "* Show that **Table** can write to a file.\n",
    "\n",
    "## Boilerplate code"
   ]
  },
  {
   "cell_type": "code",
   "execution_count": 1,
   "metadata": {
    "execution": {
     "iopub.execute_input": "2021-02-12T18:59:42.757944Z",
     "iopub.status.busy": "2021-02-12T18:59:42.757305Z",
     "iopub.status.idle": "2021-02-12T18:59:42.899581Z",
     "shell.execute_reply": "2021-02-12T18:59:42.899155Z"
    }
   },
   "outputs": [],
   "source": [
    "import hoomd\n",
    "import datetime"
   ]
  },
  {
   "cell_type": "code",
   "execution_count": 2,
   "metadata": {
    "execution": {
     "iopub.execute_input": "2021-02-12T18:59:42.903385Z",
     "iopub.status.busy": "2021-02-12T18:59:42.902724Z",
     "iopub.status.idle": "2021-02-12T18:59:43.017143Z",
     "shell.execute_reply": "2021-02-12T18:59:43.018075Z"
    },
    "nbsphinx": "hidden"
   },
   "outputs": [],
   "source": [
    "import os\n",
    "fn = os.path.join(os.getcwd(), 'log.txt')\n",
    "![ -e \"$fn\" ] && rm \"$fn\""
   ]
  },
  {
   "cell_type": "markdown",
   "metadata": {},
   "source": [
    "## Define the Simulation\n",
    "\n",
    "This tutorial executes the Lennard-Jones particle simulation from a previous tutorial. \n",
    "See [*Introducing Molecular Dyamics*](../01-Introducing-Molecular-Dynamics/00-index.ipynb) for a complete description of this code."
   ]
  },
  {
   "cell_type": "code",
   "execution_count": 3,
   "metadata": {
    "execution": {
     "iopub.execute_input": "2021-02-12T18:59:43.431832Z",
     "iopub.status.busy": "2021-02-12T18:59:43.431383Z",
     "iopub.status.idle": "2021-02-12T18:59:43.432306Z",
     "shell.execute_reply": "2021-02-12T18:59:43.432670Z"
    }
   },
   "outputs": [],
   "source": [
    "cpu = hoomd.device.CPU()\n",
    "sim = hoomd.Simulation(device=cpu)\n",
    "sim.create_state_from_gsd(filename='../01-Introducing-Molecular-Dynamics/random.gsd')\n",
    "\n",
    "integrator = hoomd.md.Integrator(dt=0.005)\n",
    "cell = hoomd.md.nlist.Cell()\n",
    "lj = hoomd.md.pair.LJ(nlist=cell)\n",
    "lj.params[('A', 'A')] = dict(epsilon=1, sigma=1)\n",
    "lj.r_cut[('A', 'A')] = 2.5\n",
    "integrator.forces.append(lj)\n",
    "nvt = hoomd.md.methods.NVT(kT=1.5, filter=hoomd.filter.All(), tau=1.0)\n",
    "integrator.methods.append(nvt)\n",
    "sim.operations.integrator = integrator"
   ]
  },
  {
   "cell_type": "markdown",
   "metadata": {},
   "source": [
    "## Formatted output\n",
    "\n",
    "The **Table** writer formats log quantities in human-readable text and writes them to `stdout` or a file.\n",
    "**Table** only supports `scalar` and `string` quantities due to the limitations of this format.\n",
    "This section shows you how to use **Table** to display status information during a simulation run."
   ]
  },
  {
   "cell_type": "markdown",
   "metadata": {},
   "source": [
    "## Add quantities to a Logger"
   ]
  },
  {
   "cell_type": "markdown",
   "metadata": {},
   "source": [
    "The `categories` argument to **Logger** defines the **categories** that it will accept."
   ]
  },
  {
   "cell_type": "code",
   "execution_count": 4,
   "metadata": {
    "execution": {
     "iopub.execute_input": "2021-02-12T18:59:43.437661Z",
     "iopub.status.busy": "2021-02-12T18:59:43.436518Z",
     "iopub.status.idle": "2021-02-12T18:59:43.438911Z",
     "shell.execute_reply": "2021-02-12T18:59:43.439868Z"
    }
   },
   "outputs": [],
   "source": [
    "logger = hoomd.logging.Logger(categories=['scalar', 'string'])"
   ]
  },
  {
   "cell_type": "markdown",
   "metadata": {},
   "source": [
    "Log the and simulation `timestep` and `tps` quantities:"
   ]
  },
  {
   "cell_type": "code",
   "execution_count": 5,
   "metadata": {
    "execution": {
     "iopub.execute_input": "2021-02-12T18:59:43.443581Z",
     "iopub.status.busy": "2021-02-12T18:59:43.443011Z",
     "iopub.status.idle": "2021-02-12T18:59:43.444908Z",
     "shell.execute_reply": "2021-02-12T18:59:43.445356Z"
    }
   },
   "outputs": [],
   "source": [
    "logger.add(sim, quantities=['timestep', 'tps'])"
   ]
  },
  {
   "cell_type": "markdown",
   "metadata": {},
   "source": [
    "You can also log user-defined quantities using functions, callable class instances, or class properties.\n",
    "For example, this class computes the estimated time remaining:"
   ]
  },
  {
   "cell_type": "code",
   "execution_count": 6,
   "metadata": {
    "execution": {
     "iopub.execute_input": "2021-02-12T18:59:43.449942Z",
     "iopub.status.busy": "2021-02-12T18:59:43.449373Z",
     "iopub.status.idle": "2021-02-12T18:59:43.451544Z",
     "shell.execute_reply": "2021-02-12T18:59:43.451045Z"
    }
   },
   "outputs": [],
   "source": [
    "class Status():\n",
    "    def __init__(self, sim):\n",
    "        self.sim = sim\n",
    "    \n",
    "    @property\n",
    "    def seconds_remaining(self):\n",
    "        try:\n",
    "            return (self.sim.final_timestep - self.sim.timestep) / self.sim.tps\n",
    "        except ZeroDivisionError:\n",
    "            return 0        \n",
    "    \n",
    "    @property\n",
    "    def etr(self):\n",
    "        return str(datetime.timedelta(seconds=self.seconds_remaining))\n"
   ]
  },
  {
   "cell_type": "markdown",
   "metadata": {},
   "source": [
    "Assign the loggable quantity using the tuple `(object, property_name, flag)`,  where `flag` is the string name of the flag for this quantity. (The tuple for callable objects would be `(callable, flag)`)."
   ]
  },
  {
   "cell_type": "code",
   "execution_count": 7,
   "metadata": {
    "execution": {
     "iopub.execute_input": "2021-02-12T18:59:43.455172Z",
     "iopub.status.busy": "2021-02-12T18:59:43.454592Z",
     "iopub.status.idle": "2021-02-12T18:59:43.457120Z",
     "shell.execute_reply": "2021-02-12T18:59:43.456602Z"
    }
   },
   "outputs": [],
   "source": [
    "status = Status(sim)\n",
    "logger[('Status', 'etr')] = (status, 'etr', 'string')"
   ]
  },
  {
   "cell_type": "markdown",
   "metadata": {},
   "source": [
    "Represent the namespace of your user-defined quantity with a tuple of strings - `('Status', 'etr'`) above.\n",
    "You can use any number of arbitrary strings in the tuple to name your quantity."
   ]
  },
  {
   "cell_type": "markdown",
   "metadata": {},
   "source": [
    "## Display quantities with Table"
   ]
  },
  {
   "cell_type": "markdown",
   "metadata": {},
   "source": [
    "**Table** is a **Writer** that formats the quantities in a **Logger** into a human readable table.\n",
    "Create one that triggers periodically:"
   ]
  },
  {
   "cell_type": "code",
   "execution_count": 8,
   "metadata": {
    "execution": {
     "iopub.execute_input": "2021-02-12T18:59:43.461135Z",
     "iopub.status.busy": "2021-02-12T18:59:43.460554Z",
     "iopub.status.idle": "2021-02-12T18:59:43.462891Z",
     "shell.execute_reply": "2021-02-12T18:59:43.462370Z"
    }
   },
   "outputs": [],
   "source": [
    "table = hoomd.write.Table(trigger=hoomd.trigger.Periodic(period=5000),\n",
    "                          logger=logger)"
   ]
  },
  {
   "cell_type": "markdown",
   "metadata": {},
   "source": [
    "Add it to the simulation:"
   ]
  },
  {
   "cell_type": "code",
   "execution_count": 9,
   "metadata": {
    "execution": {
     "iopub.execute_input": "2021-02-12T18:59:43.466655Z",
     "iopub.status.busy": "2021-02-12T18:59:43.466074Z",
     "iopub.status.idle": "2021-02-12T18:59:43.468792Z",
     "shell.execute_reply": "2021-02-12T18:59:43.469201Z"
    }
   },
   "outputs": [],
   "source": [
    "sim.operations.writers.append(table)"
   ]
  },
  {
   "cell_type": "markdown",
   "metadata": {},
   "source": [
    "Run the simulation and see the output:"
   ]
  },
  {
   "cell_type": "code",
   "execution_count": 10,
   "metadata": {
    "execution": {
     "iopub.execute_input": "2021-02-12T18:59:44.142137Z",
     "iopub.status.busy": "2021-02-12T18:59:44.141682Z",
     "iopub.status.idle": "2021-02-12T18:59:49.509246Z",
     "shell.execute_reply": "2021-02-12T18:59:49.508215Z"
    }
   },
   "outputs": [
    {
     "name": "stdout",
     "output_type": "stream",
     "text": [
      "Simulation.timestep  Simulation.tps     Status.etr   \n",
      "       15000           7541.26652     0:00:12.597353 \n",
      "       20000           9597.93125     0:00:09.377021 \n",
      "       25000          11375.52976     0:00:07.472179 \n",
      "       30000          12542.47408     0:00:06.378327 \n",
      "       35000          13355.34382     0:00:05.615730 \n",
      "       40000          13965.07219     0:00:05.012505 \n",
      "       45000          14433.20821     0:00:04.503503 \n",
      "       50000          14803.43507     0:00:04.053113 \n",
      "       55000          15099.66673     0:00:03.642464 \n",
      "       60000          15355.09050     0:00:03.256249 \n",
      "       65000          15568.67752     0:00:02.890419 \n",
      "       70000          15754.07066     0:00:02.539026 \n",
      "       75000          15907.18480     0:00:02.200264 \n",
      "       80000          16042.17043     0:00:01.870071 \n",
      "       85000          16166.14884     0:00:01.546441 \n",
      "       90000          16271.30958     0:00:01.229157 \n",
      "       95000          16366.43532     0:00:00.916510 \n",
      "      100000          16449.91530     0:00:00.607906 \n",
      "      105000          16529.81863     0:00:00.302484 \n",
      "      110000          16597.56203        0:00:00     \n"
     ]
    }
   ],
   "source": [
    "sim.run(100000)"
   ]
  },
  {
   "cell_type": "markdown",
   "metadata": {},
   "source": [
    "Later in this notebook, you are going to create another **Table Writer**.\n",
    "Remove `table` now to avoid confusing the two:"
   ]
  },
  {
   "cell_type": "code",
   "execution_count": 11,
   "metadata": {
    "execution": {
     "iopub.execute_input": "2021-02-12T18:59:49.513811Z",
     "iopub.status.busy": "2021-02-12T18:59:49.513130Z",
     "iopub.status.idle": "2021-02-12T18:59:49.514306Z",
     "shell.execute_reply": "2021-02-12T18:59:49.514684Z"
    }
   },
   "outputs": [],
   "source": [
    "sim.operations.writers.remove(table)"
   ]
  },
  {
   "cell_type": "markdown",
   "metadata": {},
   "source": [
    "## Save Table output to a file\n",
    "\n",
    "**Table** writes to `stdout` by default.\n",
    "It can write to a file (or any Python file-like object with `write` and `flush` methods) instead."
   ]
  },
  {
   "cell_type": "markdown",
   "metadata": {},
   "source": [
    "Open the file to write:"
   ]
  },
  {
   "cell_type": "code",
   "execution_count": 12,
   "metadata": {
    "execution": {
     "iopub.execute_input": "2021-02-12T18:59:49.517942Z",
     "iopub.status.busy": "2021-02-12T18:59:49.517490Z",
     "iopub.status.idle": "2021-02-12T18:59:49.519499Z",
     "shell.execute_reply": "2021-02-12T18:59:49.519120Z"
    }
   },
   "outputs": [],
   "source": [
    "file = open('log.txt', 'x')"
   ]
  },
  {
   "cell_type": "markdown",
   "metadata": {},
   "source": [
    "Create a **Table** **Writer** that outputs to this file and add it to the **Simulation**:"
   ]
  },
  {
   "cell_type": "code",
   "execution_count": 13,
   "metadata": {
    "execution": {
     "iopub.execute_input": "2021-02-12T18:59:49.523428Z",
     "iopub.status.busy": "2021-02-12T18:59:49.522971Z",
     "iopub.status.idle": "2021-02-12T18:59:49.524730Z",
     "shell.execute_reply": "2021-02-12T18:59:49.525092Z"
    }
   },
   "outputs": [],
   "source": [
    "table_file = hoomd.write.Table(output=file,\n",
    "                               trigger=hoomd.trigger.Periodic(period=5000),\n",
    "                               logger=logger)\n",
    "sim.operations.writers.append(table_file)"
   ]
  },
  {
   "cell_type": "markdown",
   "metadata": {},
   "source": [
    "Run the simulation:"
   ]
  },
  {
   "cell_type": "code",
   "execution_count": 14,
   "metadata": {
    "execution": {
     "iopub.execute_input": "2021-02-12T18:59:51.472309Z",
     "iopub.status.busy": "2021-02-12T18:59:50.643625Z",
     "iopub.status.idle": "2021-02-12T18:59:55.057710Z",
     "shell.execute_reply": "2021-02-12T18:59:55.057144Z"
    }
   },
   "outputs": [],
   "source": [
    "sim.run(100000)"
   ]
  },
  {
   "cell_type": "markdown",
   "metadata": {},
   "source": [
    "You can read the file with standard tools:"
   ]
  },
  {
   "cell_type": "code",
   "execution_count": 15,
   "metadata": {
    "execution": {
     "iopub.execute_input": "2021-02-12T18:59:55.065683Z",
     "iopub.status.busy": "2021-02-12T18:59:55.064847Z",
     "iopub.status.idle": "2021-02-12T18:59:55.185862Z",
     "shell.execute_reply": "2021-02-12T18:59:55.184888Z"
    }
   },
   "outputs": [
    {
     "name": "stdout",
     "output_type": "stream",
     "text": [
      "      165000          18050.84721     0:00:02.492958 \r\n",
      "      170000          18049.81169     0:00:02.216090 \r\n",
      "      175000          18058.62364     0:00:01.938132 \r\n",
      "      180000          18068.19810     0:00:01.660376 \r\n",
      "      185000          18074.87484     0:00:01.383135 \r\n",
      "      190000          18074.76902     0:00:01.106515 \r\n",
      "      195000          18081.95049     0:00:00.829557 \r\n",
      "      200000          18086.99741     0:00:00.552883 \r\n",
      "      205000          18092.71797     0:00:00.276354 \r\n",
      "      210000          18092.99713        0:00:00     \r\n"
     ]
    }
   ],
   "source": [
    "!tail log.txt"
   ]
  },
  {
   "cell_type": "markdown",
   "metadata": {},
   "source": [
    "In this section, you have displayed **loggable quantities** during a simulation run and saved them to a text file.\n",
    "This is the last section in the logging tutorial."
   ]
  },
  {
   "cell_type": "markdown",
   "metadata": {
    "nbsphinx": "hidden"
   },
   "source": [
    "[Previous section](03-Storing-Particle-Shape.ipynb) / [Tutorial index](../README.md)"
   ]
  }
 ],
 "metadata": {
  "kernelspec": {
   "display_name": "Python 3",
   "language": "python",
   "name": "python3"
  },
  "language_info": {
   "codemirror_mode": {
    "name": "ipython",
    "version": 3
   },
   "file_extension": ".py",
   "mimetype": "text/x-python",
   "name": "python",
   "nbconvert_exporter": "python",
   "pygments_lexer": "ipython3",
   "version": "3.9.1"
  }
 },
 "nbformat": 4,
 "nbformat_minor": 4
}
