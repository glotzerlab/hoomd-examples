{
 "cells": [
  {
   "cell_type": "markdown",
   "metadata": {},
   "source": [
    "# Writing Formatted Output\n",
    "\n",
    "## Overview\n",
    "\n",
    "### Questions\n",
    "\n",
    "* How do I display status information during a simulation?\n",
    "* How can I log user-defined quantities?\n",
    "* How can I write formatted output to a text file?\n",
    "\n",
    "### Objectives\n",
    "\n",
    "* Demonstrate **user-defined log quantities**.\n",
    "* Explain the use of **Table** to display status information during a simulation run.\n",
    "* Show that **Table** can write to a file.\n",
    "\n",
    "## Boilerplate code"
   ]
  },
  {
   "cell_type": "code",
   "execution_count": 1,
   "metadata": {
    "execution": {
     "iopub.execute_input": "2021-02-16T17:15:39.139617Z",
     "iopub.status.busy": "2021-02-16T17:15:39.138321Z",
     "iopub.status.idle": "2021-02-16T17:15:39.259863Z",
     "shell.execute_reply": "2021-02-16T17:15:39.260411Z"
    }
   },
   "outputs": [],
   "source": [
    "import hoomd\n",
    "import datetime"
   ]
  },
  {
   "cell_type": "code",
   "execution_count": 2,
   "metadata": {
    "execution": {
     "iopub.execute_input": "2021-02-16T17:15:39.264375Z",
     "iopub.status.busy": "2021-02-16T17:15:39.263697Z",
     "iopub.status.idle": "2021-02-16T17:15:39.379305Z",
     "shell.execute_reply": "2021-02-16T17:15:39.380097Z"
    },
    "nbsphinx": "hidden"
   },
   "outputs": [],
   "source": [
    "import os\n",
    "fn = os.path.join(os.getcwd(), 'log.txt')\n",
    "![ -e \"$fn\" ] && rm \"$fn\""
   ]
  },
  {
   "cell_type": "markdown",
   "metadata": {},
   "source": [
    "## Define the Simulation\n",
    "\n",
    "This tutorial executes the Lennard-Jones particle simulation from a previous tutorial. \n",
    "See [*Introducing Molecular Dyamics*](../01-Introducing-Molecular-Dynamics/00-index.ipynb) for a complete description of this code."
   ]
  },
  {
   "cell_type": "code",
   "execution_count": 3,
   "metadata": {
    "execution": {
     "iopub.execute_input": "2021-02-16T17:15:39.442963Z",
     "iopub.status.busy": "2021-02-16T17:15:39.441693Z",
     "iopub.status.idle": "2021-02-16T17:15:39.444336Z",
     "shell.execute_reply": "2021-02-16T17:15:39.445375Z"
    }
   },
   "outputs": [],
   "source": [
    "cpu = hoomd.device.CPU()\n",
    "sim = hoomd.Simulation(device=cpu)\n",
    "sim.create_state_from_gsd(filename='../01-Introducing-Molecular-Dynamics/random.gsd')\n",
    "\n",
    "integrator = hoomd.md.Integrator(dt=0.005)\n",
    "cell = hoomd.md.nlist.Cell()\n",
    "lj = hoomd.md.pair.LJ(nlist=cell)\n",
    "lj.params[('A', 'A')] = dict(epsilon=1, sigma=1)\n",
    "lj.r_cut[('A', 'A')] = 2.5\n",
    "integrator.forces.append(lj)\n",
    "nvt = hoomd.md.methods.NVT(kT=1.5, filter=hoomd.filter.All(), tau=1.0)\n",
    "integrator.methods.append(nvt)\n",
    "sim.operations.integrator = integrator"
   ]
  },
  {
   "cell_type": "markdown",
   "metadata": {},
   "source": [
    "## Formatted output\n",
    "\n",
    "The **Table** writer formats log quantities in human-readable text and writes them to `stdout` or a file.\n",
    "**Table** only supports `scalar` and `string` quantities due to the limitations of this format.\n",
    "This section shows you how to use **Table** to display status information during a simulation run."
   ]
  },
  {
   "cell_type": "markdown",
   "metadata": {},
   "source": [
    "## Add quantities to a Logger"
   ]
  },
  {
   "cell_type": "markdown",
   "metadata": {},
   "source": [
    "The `categories` argument to **Logger** defines the **categories** that it will accept."
   ]
  },
  {
   "cell_type": "code",
   "execution_count": 4,
   "metadata": {
    "execution": {
     "iopub.execute_input": "2021-02-16T17:15:39.450408Z",
     "iopub.status.busy": "2021-02-16T17:15:39.449717Z",
     "iopub.status.idle": "2021-02-16T17:15:39.451744Z",
     "shell.execute_reply": "2021-02-16T17:15:39.452291Z"
    }
   },
   "outputs": [],
   "source": [
    "logger = hoomd.logging.Logger(categories=['scalar', 'string'])"
   ]
  },
  {
   "cell_type": "markdown",
   "metadata": {},
   "source": [
    "Log the and simulation `timestep` and `tps` quantities:"
   ]
  },
  {
   "cell_type": "code",
   "execution_count": 5,
   "metadata": {
    "execution": {
     "iopub.execute_input": "2021-02-16T17:15:39.456769Z",
     "iopub.status.busy": "2021-02-16T17:15:39.456073Z",
     "iopub.status.idle": "2021-02-16T17:15:39.458584Z",
     "shell.execute_reply": "2021-02-16T17:15:39.459130Z"
    }
   },
   "outputs": [],
   "source": [
    "logger.add(sim, quantities=['timestep', 'tps'])"
   ]
  },
  {
   "cell_type": "markdown",
   "metadata": {},
   "source": [
    "You can also log user-defined quantities using functions, callable class instances, or class properties.\n",
    "For example, this class computes the estimated time remaining:"
   ]
  },
  {
   "cell_type": "code",
   "execution_count": 6,
   "metadata": {
    "execution": {
     "iopub.execute_input": "2021-02-16T17:15:39.464614Z",
     "iopub.status.busy": "2021-02-16T17:15:39.463961Z",
     "iopub.status.idle": "2021-02-16T17:15:39.466230Z",
     "shell.execute_reply": "2021-02-16T17:15:39.466751Z"
    }
   },
   "outputs": [],
   "source": [
    "class Status():\n",
    "    def __init__(self, sim):\n",
    "        self.sim = sim\n",
    "    \n",
    "    @property\n",
    "    def seconds_remaining(self):\n",
    "        try:\n",
    "            return (self.sim.final_timestep - self.sim.timestep) / self.sim.tps\n",
    "        except ZeroDivisionError:\n",
    "            return 0        \n",
    "    \n",
    "    @property\n",
    "    def etr(self):\n",
    "        return str(datetime.timedelta(seconds=self.seconds_remaining))\n"
   ]
  },
  {
   "cell_type": "markdown",
   "metadata": {},
   "source": [
    "Assign the loggable quantity using the tuple `(object, property_name, flag)`,  where `flag` is the string name of the flag for this quantity. (The tuple for callable objects would be `(callable, flag)`)."
   ]
  },
  {
   "cell_type": "code",
   "execution_count": 7,
   "metadata": {
    "execution": {
     "iopub.execute_input": "2021-02-16T17:15:39.470972Z",
     "iopub.status.busy": "2021-02-16T17:15:39.470326Z",
     "iopub.status.idle": "2021-02-16T17:15:39.472536Z",
     "shell.execute_reply": "2021-02-16T17:15:39.473119Z"
    }
   },
   "outputs": [],
   "source": [
    "status = Status(sim)\n",
    "logger[('Status', 'etr')] = (status, 'etr', 'string')"
   ]
  },
  {
   "cell_type": "markdown",
   "metadata": {},
   "source": [
    "Represent the namespace of your user-defined quantity with a tuple of strings - `('Status', 'etr'`) above.\n",
    "You can use any number of arbitrary strings in the tuple to name your quantity."
   ]
  },
  {
   "cell_type": "markdown",
   "metadata": {},
   "source": [
    "## Display quantities with Table"
   ]
  },
  {
   "cell_type": "markdown",
   "metadata": {},
   "source": [
    "**Table** is a **Writer** that formats the quantities in a **Logger** into a human readable table.\n",
    "Create one that triggers periodically:"
   ]
  },
  {
   "cell_type": "code",
   "execution_count": 8,
   "metadata": {
    "execution": {
     "iopub.execute_input": "2021-02-16T17:15:39.478308Z",
     "iopub.status.busy": "2021-02-16T17:15:39.477581Z",
     "iopub.status.idle": "2021-02-16T17:15:39.480140Z",
     "shell.execute_reply": "2021-02-16T17:15:39.480722Z"
    }
   },
   "outputs": [],
   "source": [
    "table = hoomd.write.Table(trigger=hoomd.trigger.Periodic(period=5000),\n",
    "                          logger=logger)"
   ]
  },
  {
   "cell_type": "markdown",
   "metadata": {},
   "source": [
    "Add it to the simulation:"
   ]
  },
  {
   "cell_type": "code",
   "execution_count": 9,
   "metadata": {
    "execution": {
     "iopub.execute_input": "2021-02-16T17:15:39.486262Z",
     "iopub.status.busy": "2021-02-16T17:15:39.485015Z",
     "iopub.status.idle": "2021-02-16T17:15:39.487600Z",
     "shell.execute_reply": "2021-02-16T17:15:39.488641Z"
    }
   },
   "outputs": [],
   "source": [
    "sim.operations.writers.append(table)"
   ]
  },
  {
   "cell_type": "markdown",
   "metadata": {},
   "source": [
    "Run the simulation and see the output:"
   ]
  },
  {
   "cell_type": "code",
   "execution_count": 10,
   "metadata": {
    "execution": {
     "iopub.execute_input": "2021-02-16T17:15:40.474860Z",
     "iopub.status.busy": "2021-02-16T17:15:40.473610Z",
     "iopub.status.idle": "2021-02-16T17:15:54.906870Z",
     "shell.execute_reply": "2021-02-16T17:15:54.907246Z"
    }
   },
   "outputs": [
    {
     "name": "stdout",
     "output_type": "stream",
     "text": [
      "Simulation.timestep  Simulation.tps     Status.etr   \n",
      "       15000           5107.80649     0:00:18.598982 \n",
      "       20000           5757.98828     0:00:15.630459 \n",
      "       25000           6002.90400     0:00:14.159813 \n",
      "       30000           6129.45818     0:00:13.051725 \n",
      "       35000           6207.58806     0:00:12.081987 \n",
      "       40000           6265.82958     0:00:11.171705 \n",
      "       45000           6309.04420     0:00:10.302670 \n",
      "       50000           6338.28260     0:00:09.466287 \n",
      "       55000           6357.98123     0:00:08.650545 \n",
      "       60000           6385.86845     0:00:07.829789 \n",
      "       65000           6403.18069     0:00:07.027757 \n",
      "       70000           6416.54075     0:00:06.233889 \n",
      "       75000           6426.25893     0:00:05.446404 \n",
      "       80000           6439.47447     0:00:04.658765 \n",
      "       85000           6447.26919     0:00:03.877611 \n",
      "       90000           6458.33434     0:00:03.096774 \n",
      "       95000           6464.69062     0:00:02.320297 \n",
      "      100000           6475.19588     0:00:01.544355 \n",
      "      105000           6479.66387     0:00:00.771645 \n",
      "      110000           6489.85318        0:00:00     \n"
     ]
    }
   ],
   "source": [
    "sim.run(100000)"
   ]
  },
  {
   "cell_type": "markdown",
   "metadata": {},
   "source": [
    "Later in this notebook, you are going to create another **Table Writer**.\n",
    "Remove `table` now to avoid confusing the two:"
   ]
  },
  {
   "cell_type": "code",
   "execution_count": 11,
   "metadata": {
    "execution": {
     "iopub.execute_input": "2021-02-16T17:15:54.914793Z",
     "iopub.status.busy": "2021-02-16T17:15:54.914145Z",
     "iopub.status.idle": "2021-02-16T17:15:54.916342Z",
     "shell.execute_reply": "2021-02-16T17:15:54.916893Z"
    }
   },
   "outputs": [],
   "source": [
    "sim.operations.writers.remove(table)"
   ]
  },
  {
   "cell_type": "markdown",
   "metadata": {},
   "source": [
    "## Save Table output to a file\n",
    "\n",
    "**Table** writes to `stdout` by default.\n",
    "It can write to a file (or any Python file-like object with `write` and `flush` methods) instead."
   ]
  },
  {
   "cell_type": "markdown",
   "metadata": {},
   "source": [
    "Open the file to write:"
   ]
  },
  {
   "cell_type": "code",
   "execution_count": 12,
   "metadata": {
    "execution": {
     "iopub.execute_input": "2021-02-16T17:15:54.920275Z",
     "iopub.status.busy": "2021-02-16T17:15:54.919631Z",
     "iopub.status.idle": "2021-02-16T17:15:54.957181Z",
     "shell.execute_reply": "2021-02-16T17:15:54.957701Z"
    }
   },
   "outputs": [],
   "source": [
    "file = open('log.txt', 'x')"
   ]
  },
  {
   "cell_type": "markdown",
   "metadata": {},
   "source": [
    "Create a **Table** **Writer** that outputs to this file and add it to the **Simulation**:"
   ]
  },
  {
   "cell_type": "code",
   "execution_count": 13,
   "metadata": {
    "execution": {
     "iopub.execute_input": "2021-02-16T17:15:54.963711Z",
     "iopub.status.busy": "2021-02-16T17:15:54.962836Z",
     "iopub.status.idle": "2021-02-16T17:15:54.965171Z",
     "shell.execute_reply": "2021-02-16T17:15:54.965851Z"
    }
   },
   "outputs": [],
   "source": [
    "table_file = hoomd.write.Table(output=file,\n",
    "                               trigger=hoomd.trigger.Periodic(period=5000),\n",
    "                               logger=logger)\n",
    "sim.operations.writers.append(table_file)"
   ]
  },
  {
   "cell_type": "markdown",
   "metadata": {},
   "source": [
    "Run the simulation:"
   ]
  },
  {
   "cell_type": "code",
   "execution_count": 14,
   "metadata": {
    "execution": {
     "iopub.execute_input": "2021-02-16T17:15:58.029733Z",
     "iopub.status.busy": "2021-02-16T17:15:57.270690Z",
     "iopub.status.idle": "2021-02-16T17:16:10.152728Z",
     "shell.execute_reply": "2021-02-16T17:16:10.151670Z"
    }
   },
   "outputs": [],
   "source": [
    "sim.run(100000)"
   ]
  },
  {
   "cell_type": "markdown",
   "metadata": {},
   "source": [
    "You can read the file with standard tools:"
   ]
  },
  {
   "cell_type": "code",
   "execution_count": 15,
   "metadata": {
    "execution": {
     "iopub.execute_input": "2021-02-16T17:16:10.160657Z",
     "iopub.status.busy": "2021-02-16T17:16:10.159480Z",
     "iopub.status.idle": "2021-02-16T17:16:10.277766Z",
     "shell.execute_reply": "2021-02-16T17:16:10.278829Z"
    }
   },
   "outputs": [
    {
     "name": "stdout",
     "output_type": "stream",
     "text": [
      "      165000           6579.76985     0:00:06.839145 \r\n",
      "      170000           6578.84926     0:00:06.080091 \r\n",
      "      175000           6580.95965     0:00:05.318373 \r\n",
      "      180000           6581.70999     0:00:04.558086 \r\n",
      "      185000           6578.73154     0:00:03.800125 \r\n",
      "      190000           6580.81394     0:00:03.039138 \r\n",
      "      195000           6583.28617     0:00:02.278497 \r\n",
      "      200000           6580.63825     0:00:01.519609 \r\n",
      "      205000           6582.27364     0:00:00.759616 \r\n",
      "      210000           6587.44309        0:00:00     \r\n"
     ]
    }
   ],
   "source": [
    "!tail log.txt"
   ]
  },
  {
   "cell_type": "markdown",
   "metadata": {},
   "source": [
    "In this section, you have displayed **loggable quantities** during a simulation run and saved them to a text file.\n",
    "This is the last section in the logging tutorial."
   ]
  },
  {
   "cell_type": "markdown",
   "metadata": {
    "nbsphinx": "hidden"
   },
   "source": [
    "[Previous section](03-Storing-Particle-Shape.ipynb) / [Tutorial index](../README.md)"
   ]
  }
 ],
 "metadata": {
  "kernelspec": {
   "display_name": "Python 3",
   "language": "python",
   "name": "python3"
  },
  "language_info": {
   "codemirror_mode": {
    "name": "ipython",
    "version": 3
   },
   "file_extension": ".py",
   "mimetype": "text/x-python",
   "name": "python",
   "nbconvert_exporter": "python",
   "pygments_lexer": "ipython3",
   "version": "3.9.1"
  },
  "record_timing": false
 },
 "nbformat": 4,
 "nbformat_minor": 4
}
