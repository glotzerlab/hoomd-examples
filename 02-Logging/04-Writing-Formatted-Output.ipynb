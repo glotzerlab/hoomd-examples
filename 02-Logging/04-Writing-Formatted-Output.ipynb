{
 "cells": [
  {
   "cell_type": "markdown",
   "metadata": {},
   "source": [
    "# Writing Formatted Output\n",
    "\n",
    "## Overview\n",
    "\n",
    "### Questions\n",
    "\n",
    "* How do I display status information during a simulation?\n",
    "* How can I log user-defined quantities?\n",
    "* How can I write formatted output to a text file?\n",
    "\n",
    "### Objectives\n",
    "\n",
    "* Demonstrate **user-defined log quantities**.\n",
    "* Explain the use of **Table** to display status information during a simulation run.\n",
    "* Show that **Table** can write to a file.\n",
    "\n",
    "## Boilerplate code"
   ]
  },
  {
   "cell_type": "code",
   "execution_count": 1,
   "metadata": {
    "execution": {
     "iopub.execute_input": "2021-02-16T16:24:53.713370Z",
     "iopub.status.busy": "2021-02-16T16:24:53.712095Z",
     "iopub.status.idle": "2021-02-16T16:24:53.839028Z",
     "shell.execute_reply": "2021-02-16T16:24:53.839624Z"
    }
   },
   "outputs": [],
   "source": [
    "import hoomd\n",
    "import datetime"
   ]
  },
  {
   "cell_type": "code",
   "execution_count": 2,
   "metadata": {
    "execution": {
     "iopub.execute_input": "2021-02-16T16:24:53.843209Z",
     "iopub.status.busy": "2021-02-16T16:24:53.842773Z",
     "iopub.status.idle": "2021-02-16T16:24:53.959489Z",
     "shell.execute_reply": "2021-02-16T16:24:53.960517Z"
    },
    "nbsphinx": "hidden"
   },
   "outputs": [],
   "source": [
    "import os\n",
    "fn = os.path.join(os.getcwd(), 'log.txt')\n",
    "![ -e \"$fn\" ] && rm \"$fn\""
   ]
  },
  {
   "cell_type": "markdown",
   "metadata": {},
   "source": [
    "## Define the Simulation\n",
    "\n",
    "This tutorial executes the Lennard-Jones particle simulation from a previous tutorial. \n",
    "See [*Introducing Molecular Dyamics*](../01-Introducing-Molecular-Dynamics/00-index.ipynb) for a complete description of this code."
   ]
  },
  {
   "cell_type": "code",
   "execution_count": 3,
   "metadata": {
    "execution": {
     "iopub.execute_input": "2021-02-16T16:24:54.012557Z",
     "iopub.status.busy": "2021-02-16T16:24:54.010567Z",
     "iopub.status.idle": "2021-02-16T16:24:54.013952Z",
     "shell.execute_reply": "2021-02-16T16:24:54.015007Z"
    }
   },
   "outputs": [],
   "source": [
    "cpu = hoomd.device.CPU()\n",
    "sim = hoomd.Simulation(device=cpu)\n",
    "sim.create_state_from_gsd(filename='../01-Introducing-Molecular-Dynamics/random.gsd')\n",
    "\n",
    "integrator = hoomd.md.Integrator(dt=0.005)\n",
    "cell = hoomd.md.nlist.Cell()\n",
    "lj = hoomd.md.pair.LJ(nlist=cell)\n",
    "lj.params[('A', 'A')] = dict(epsilon=1, sigma=1)\n",
    "lj.r_cut[('A', 'A')] = 2.5\n",
    "integrator.forces.append(lj)\n",
    "nvt = hoomd.md.methods.NVT(kT=1.5, filter=hoomd.filter.All(), tau=1.0)\n",
    "integrator.methods.append(nvt)\n",
    "sim.operations.integrator = integrator"
   ]
  },
  {
   "cell_type": "markdown",
   "metadata": {},
   "source": [
    "## Formatted output\n",
    "\n",
    "The **Table** writer formats log quantities in human-readable text and writes them to `stdout` or a file.\n",
    "**Table** only supports `scalar` and `string` quantities due to the limitations of this format.\n",
    "This section shows you how to use **Table** to display status information during a simulation run."
   ]
  },
  {
   "cell_type": "markdown",
   "metadata": {},
   "source": [
    "## Add quantities to a Logger"
   ]
  },
  {
   "cell_type": "markdown",
   "metadata": {},
   "source": [
    "The `categories` argument to **Logger** defines the **categories** that it will accept."
   ]
  },
  {
   "cell_type": "code",
   "execution_count": 4,
   "metadata": {
    "execution": {
     "iopub.execute_input": "2021-02-16T16:24:54.021745Z",
     "iopub.status.busy": "2021-02-16T16:24:54.021193Z",
     "iopub.status.idle": "2021-02-16T16:24:54.023778Z",
     "shell.execute_reply": "2021-02-16T16:24:54.024200Z"
    }
   },
   "outputs": [],
   "source": [
    "logger = hoomd.logging.Logger(categories=['scalar', 'string'])"
   ]
  },
  {
   "cell_type": "markdown",
   "metadata": {},
   "source": [
    "Log the and simulation `timestep` and `tps` quantities:"
   ]
  },
  {
   "cell_type": "code",
   "execution_count": 5,
   "metadata": {
    "execution": {
     "iopub.execute_input": "2021-02-16T16:24:54.028232Z",
     "iopub.status.busy": "2021-02-16T16:24:54.027680Z",
     "iopub.status.idle": "2021-02-16T16:24:54.030326Z",
     "shell.execute_reply": "2021-02-16T16:24:54.030861Z"
    }
   },
   "outputs": [],
   "source": [
    "logger.add(sim, quantities=['timestep', 'tps'])"
   ]
  },
  {
   "cell_type": "markdown",
   "metadata": {},
   "source": [
    "You can also log user-defined quantities using functions, callable class instances, or class properties.\n",
    "For example, this class computes the estimated time remaining:"
   ]
  },
  {
   "cell_type": "code",
   "execution_count": 6,
   "metadata": {
    "execution": {
     "iopub.execute_input": "2021-02-16T16:24:54.037572Z",
     "iopub.status.busy": "2021-02-16T16:24:54.036321Z",
     "iopub.status.idle": "2021-02-16T16:24:54.038930Z",
     "shell.execute_reply": "2021-02-16T16:24:54.039983Z"
    }
   },
   "outputs": [],
   "source": [
    "class Status():\n",
    "    def __init__(self, sim):\n",
    "        self.sim = sim\n",
    "    \n",
    "    @property\n",
    "    def seconds_remaining(self):\n",
    "        try:\n",
    "            return (self.sim.final_timestep - self.sim.timestep) / self.sim.tps\n",
    "        except ZeroDivisionError:\n",
    "            return 0        \n",
    "    \n",
    "    @property\n",
    "    def etr(self):\n",
    "        return str(datetime.timedelta(seconds=self.seconds_remaining))\n"
   ]
  },
  {
   "cell_type": "markdown",
   "metadata": {},
   "source": [
    "Assign the loggable quantity using the tuple `(object, property_name, flag)`,  where `flag` is the string name of the flag for this quantity. (The tuple for callable objects would be `(callable, flag)`)."
   ]
  },
  {
   "cell_type": "code",
   "execution_count": 7,
   "metadata": {
    "execution": {
     "iopub.execute_input": "2021-02-16T16:24:54.044989Z",
     "iopub.status.busy": "2021-02-16T16:24:54.044234Z",
     "iopub.status.idle": "2021-02-16T16:24:54.047210Z",
     "shell.execute_reply": "2021-02-16T16:24:54.047791Z"
    }
   },
   "outputs": [],
   "source": [
    "status = Status(sim)\n",
    "logger[('Status', 'etr')] = (status, 'etr', 'string')"
   ]
  },
  {
   "cell_type": "markdown",
   "metadata": {},
   "source": [
    "Represent the namespace of your user-defined quantity with a tuple of strings - `('Status', 'etr'`) above.\n",
    "You can use any number of arbitrary strings in the tuple to name your quantity."
   ]
  },
  {
   "cell_type": "markdown",
   "metadata": {},
   "source": [
    "## Display quantities with Table"
   ]
  },
  {
   "cell_type": "markdown",
   "metadata": {},
   "source": [
    "**Table** is a **Writer** that formats the quantities in a **Logger** into a human readable table.\n",
    "Create one that triggers periodically:"
   ]
  },
  {
   "cell_type": "code",
   "execution_count": 8,
   "metadata": {
    "execution": {
     "iopub.execute_input": "2021-02-16T16:24:54.053785Z",
     "iopub.status.busy": "2021-02-16T16:24:54.053031Z",
     "iopub.status.idle": "2021-02-16T16:24:54.056622Z",
     "shell.execute_reply": "2021-02-16T16:24:54.055979Z"
    }
   },
   "outputs": [],
   "source": [
    "table = hoomd.write.Table(trigger=hoomd.trigger.Periodic(period=5000),\n",
    "                          logger=logger)"
   ]
  },
  {
   "cell_type": "markdown",
   "metadata": {},
   "source": [
    "Add it to the simulation:"
   ]
  },
  {
   "cell_type": "code",
   "execution_count": 9,
   "metadata": {
    "execution": {
     "iopub.execute_input": "2021-02-16T16:24:54.061669Z",
     "iopub.status.busy": "2021-02-16T16:24:54.060966Z",
     "iopub.status.idle": "2021-02-16T16:24:54.063025Z",
     "shell.execute_reply": "2021-02-16T16:24:54.063608Z"
    }
   },
   "outputs": [],
   "source": [
    "sim.operations.writers.append(table)"
   ]
  },
  {
   "cell_type": "markdown",
   "metadata": {},
   "source": [
    "Run the simulation and see the output:"
   ]
  },
  {
   "cell_type": "code",
   "execution_count": 10,
   "metadata": {
    "execution": {
     "iopub.execute_input": "2021-02-16T16:24:55.080901Z",
     "iopub.status.busy": "2021-02-16T16:24:55.079723Z",
     "iopub.status.idle": "2021-02-16T16:25:09.509047Z",
     "shell.execute_reply": "2021-02-16T16:25:09.510024Z"
    }
   },
   "outputs": [
    {
     "name": "stdout",
     "output_type": "stream",
     "text": [
      "Simulation.timestep  Simulation.tps     Status.etr   \n",
      "       15000           4945.54851     0:00:19.209194 \n",
      "       20000           5655.50460     0:00:15.913699 \n",
      "       25000           5933.65572     0:00:14.325064 \n",
      "       30000           6075.88122     0:00:13.166814 \n",
      "       35000           6169.98292     0:00:12.155625 \n",
      "       40000           6235.21166     0:00:11.226564 \n",
      "       45000           6281.48685     0:00:10.347869 \n",
      "       50000           6313.95406     0:00:09.502762 \n",
      "       55000           6335.39956     0:00:08.681378 \n",
      "       60000           6365.22319     0:00:07.855184 \n",
      "       65000           6384.06342     0:00:07.048802 \n",
      "       70000           6398.94458     0:00:06.251031 \n",
      "       75000           6410.75714     0:00:05.459574 \n",
      "       80000           6427.81543     0:00:04.667216 \n",
      "       85000           6434.86322     0:00:03.885086 \n",
      "       90000           6446.00585     0:00:03.102697 \n",
      "       95000           6449.97285     0:00:02.325591 \n",
      "      100000           6460.30593     0:00:01.547914 \n",
      "      105000           6467.37458     0:00:00.773111 \n",
      "      110000           6477.63151        0:00:00     \n"
     ]
    }
   ],
   "source": [
    "sim.run(100000)"
   ]
  },
  {
   "cell_type": "markdown",
   "metadata": {},
   "source": [
    "Later in this notebook, you are going to create another **Table Writer**.\n",
    "Remove `table` now to avoid confusing the two:"
   ]
  },
  {
   "cell_type": "code",
   "execution_count": 11,
   "metadata": {
    "execution": {
     "iopub.execute_input": "2021-02-16T16:25:09.514249Z",
     "iopub.status.busy": "2021-02-16T16:25:09.513720Z",
     "iopub.status.idle": "2021-02-16T16:25:09.515827Z",
     "shell.execute_reply": "2021-02-16T16:25:09.516291Z"
    }
   },
   "outputs": [],
   "source": [
    "sim.operations.writers.remove(table)"
   ]
  },
  {
   "cell_type": "markdown",
   "metadata": {},
   "source": [
    "## Save Table output to a file\n",
    "\n",
    "**Table** writes to `stdout` by default.\n",
    "It can write to a file (or any Python file-like object with `write` and `flush` methods) instead."
   ]
  },
  {
   "cell_type": "markdown",
   "metadata": {},
   "source": [
    "Open the file to write:"
   ]
  },
  {
   "cell_type": "code",
   "execution_count": 12,
   "metadata": {
    "execution": {
     "iopub.execute_input": "2021-02-16T16:25:09.520330Z",
     "iopub.status.busy": "2021-02-16T16:25:09.519190Z",
     "iopub.status.idle": "2021-02-16T16:25:09.558440Z",
     "shell.execute_reply": "2021-02-16T16:25:09.557616Z"
    }
   },
   "outputs": [],
   "source": [
    "file = open('log.txt', 'x')"
   ]
  },
  {
   "cell_type": "markdown",
   "metadata": {},
   "source": [
    "Create a **Table** **Writer** that outputs to this file and add it to the **Simulation**:"
   ]
  },
  {
   "cell_type": "code",
   "execution_count": 13,
   "metadata": {
    "execution": {
     "iopub.execute_input": "2021-02-16T16:25:09.566205Z",
     "iopub.status.busy": "2021-02-16T16:25:09.565104Z",
     "iopub.status.idle": "2021-02-16T16:25:09.567382Z",
     "shell.execute_reply": "2021-02-16T16:25:09.568318Z"
    }
   },
   "outputs": [],
   "source": [
    "table_file = hoomd.write.Table(output=file,\n",
    "                               trigger=hoomd.trigger.Periodic(period=5000),\n",
    "                               logger=logger)\n",
    "sim.operations.writers.append(table_file)"
   ]
  },
  {
   "cell_type": "markdown",
   "metadata": {},
   "source": [
    "Run the simulation:"
   ]
  },
  {
   "cell_type": "code",
   "execution_count": 14,
   "metadata": {
    "execution": {
     "iopub.execute_input": "2021-02-16T16:25:12.621496Z",
     "iopub.status.busy": "2021-02-16T16:25:11.107943Z",
     "iopub.status.idle": "2021-02-16T16:25:24.741378Z",
     "shell.execute_reply": "2021-02-16T16:25:24.740391Z"
    }
   },
   "outputs": [],
   "source": [
    "sim.run(100000)"
   ]
  },
  {
   "cell_type": "markdown",
   "metadata": {},
   "source": [
    "You can read the file with standard tools:"
   ]
  },
  {
   "cell_type": "code",
   "execution_count": 15,
   "metadata": {
    "execution": {
     "iopub.execute_input": "2021-02-16T16:25:24.749306Z",
     "iopub.status.busy": "2021-02-16T16:25:24.748150Z",
     "iopub.status.idle": "2021-02-16T16:25:24.864356Z",
     "shell.execute_reply": "2021-02-16T16:25:24.865354Z"
    }
   },
   "outputs": [
    {
     "name": "stdout",
     "output_type": "stream",
     "text": [
      "      165000           6595.41570     0:00:06.822921 \r\n",
      "      170000           6590.93845     0:00:06.068938 \r\n",
      "      175000           6592.79980     0:00:05.308822 \r\n",
      "      180000           6594.85023     0:00:04.549004 \r\n",
      "      185000           6592.97498     0:00:03.791915 \r\n",
      "      190000           6592.48762     0:00:03.033756 \r\n",
      "      195000           6591.21268     0:00:02.275757 \r\n",
      "      200000           6588.72268     0:00:01.517745 \r\n",
      "      205000           6590.25041     0:00:00.758697 \r\n",
      "      210000           6593.59484        0:00:00     \r\n"
     ]
    }
   ],
   "source": [
    "!tail log.txt"
   ]
  },
  {
   "cell_type": "markdown",
   "metadata": {},
   "source": [
    "In this section, you have displayed **loggable quantities** during a simulation run and saved them to a text file.\n",
    "This is the last section in the logging tutorial."
   ]
  },
  {
   "cell_type": "markdown",
   "metadata": {
    "nbsphinx": "hidden"
   },
   "source": [
    "[Previous section](03-Storing-Particle-Shape.ipynb) / [Tutorial index](../README.md)"
   ]
  }
 ],
 "metadata": {
  "kernelspec": {
   "display_name": "Python 3",
   "language": "python",
   "name": "python3"
  },
  "language_info": {
   "codemirror_mode": {
    "name": "ipython",
    "version": 3
   },
   "file_extension": ".py",
   "mimetype": "text/x-python",
   "name": "python",
   "nbconvert_exporter": "python",
   "pygments_lexer": "ipython3",
   "version": "3.9.1"
  }
 },
 "nbformat": 4,
 "nbformat_minor": 4
}
