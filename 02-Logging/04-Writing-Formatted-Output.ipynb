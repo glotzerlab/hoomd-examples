{
 "cells": [
  {
   "cell_type": "markdown",
   "metadata": {},
   "source": [
    "# Writing Formatted Output\n",
    "\n",
    "## Overview\n",
    "\n",
    "### Questions\n",
    "\n",
    "* How do I display status information during a simulation?\n",
    "* How can I log user-defined quantities?\n",
    "* How can I write formatted output to a text file?\n",
    "\n",
    "### Objectives\n",
    "\n",
    "* Demonstrate **user-defined log quantities**.\n",
    "* Explain the use of **Table** to display status information during a simulation run.\n",
    "* Show that **Table** can write to a file.\n",
    "\n",
    "## Boilerplate code"
   ]
  },
  {
   "cell_type": "code",
   "execution_count": null,
   "metadata": {},
   "outputs": [],
   "source": [
    "import hoomd\n",
    "import datetime"
   ]
  },
  {
   "cell_type": "markdown",
   "metadata": {},
   "source": [
    "Remove files that this notebook will generate."
   ]
  },
  {
   "cell_type": "code",
   "execution_count": 2,
   "metadata": {},
   "outputs": [],
   "source": [
    "!rm log.txt"
   ]
  },
  {
   "cell_type": "markdown",
   "metadata": {},
   "source": [
    "## Define the Simulation\n",
    "\n",
    "This tutorial executes the Lennard-Jones particle simulation from a previous tutorial. \n",
    "See [*Introducing Molecular Dyamics*](../01-Introducing-Molecular-Dynamics/00-index.ipynb) for a complete description of this code."
   ]
  },
  {
   "cell_type": "code",
   "execution_count": 3,
   "metadata": {},
   "outputs": [],
   "source": [
    "gpu = hoomd.device.GPU()\n",
    "sim = hoomd.Simulation(device=gpu)\n",
    "sim.create_state_from_gsd(filename='../01-Introducing-Molecular-Dynamics/random.gsd')\n",
    "\n",
    "integrator = hoomd.md.Integrator(dt=0.005)\n",
    "cell = hoomd.md.nlist.Cell()\n",
    "lj = hoomd.md.pair.LJ(nlist=cell)\n",
    "lj.params[('A', 'A')] = dict(epsilon=1, sigma=1)\n",
    "lj.r_cut[('A', 'A')] = 2.5\n",
    "integrator.forces.append(lj)\n",
    "nvt = hoomd.md.methods.NVT(kT=1.5, filter=hoomd.filter.All(), tau=1.0)\n",
    "integrator.methods.append(nvt)\n",
    "sim.operations.integrator = integrator"
   ]
  },
  {
   "cell_type": "markdown",
   "metadata": {},
   "source": [
    "## Formatted output\n",
    "\n",
    "The **Table** writer formats log quantities in human-readable text and writes them to `stdout` or a file.\n",
    "**Table** only supports `scalar` and `string` quantities due to the limitations of this format.\n",
    "This section shows you how to use **Table** to display status information during a simulation run."
   ]
  },
  {
   "cell_type": "markdown",
   "metadata": {},
   "source": [
    "## Add quantities to a Logger"
   ]
  },
  {
   "cell_type": "markdown",
   "metadata": {},
   "source": [
    "The `categories` argument to **Logger** defines the **categories** that it will accept."
   ]
  },
  {
   "cell_type": "code",
   "execution_count": 4,
   "metadata": {},
   "outputs": [],
   "source": [
    "logger = hoomd.logging.Logger(categories=['scalar', 'string'])"
   ]
  },
  {
   "cell_type": "markdown",
   "metadata": {},
   "source": [
    "Log the and simulation `timestep` and `tps` quantities:"
   ]
  },
  {
   "cell_type": "code",
   "execution_count": 5,
   "metadata": {},
   "outputs": [],
   "source": [
    "logger.add(sim, quantities=['timestep', 'tps'])"
   ]
  },
  {
   "cell_type": "markdown",
   "metadata": {},
   "source": [
    "You can also log user-defined quantities using functions, callable class instances, or class properties.\n",
    "For example, this class computes the estimated time remaining:"
   ]
  },
  {
   "cell_type": "code",
   "execution_count": 6,
   "metadata": {},
   "outputs": [],
   "source": [
    "class Status():\n",
    "    def __init__(self, sim):\n",
    "        self.sim = sim\n",
    "    \n",
    "    @property\n",
    "    def seconds_remaining(self):\n",
    "        try:\n",
    "            return (self.sim.final_timestep - self.sim.timestep) / self.sim.tps\n",
    "        except ZeroDivisionError:\n",
    "            return 0        \n",
    "    \n",
    "    @property\n",
    "    def etr(self):\n",
    "        return str(datetime.timedelta(seconds=self.seconds_remaining))\n"
   ]
  },
  {
   "cell_type": "markdown",
   "metadata": {},
   "source": [
    "Assign the loggable quantity using the tuple `(object, property_name, flag)`,  where `flag` is the string name of the flag for this quantity. (The tuple for callable objects would be `(callable, flag)`)."
   ]
  },
  {
   "cell_type": "code",
   "execution_count": 7,
   "metadata": {},
   "outputs": [],
   "source": [
    "status = Status(sim)\n",
    "logger[('Status', 'etr')] = (status, 'etr', 'string')"
   ]
  },
  {
   "cell_type": "markdown",
   "metadata": {},
   "source": [
    "Represent the namespace of your user-defined quantity with a tuple of strings - `('Status', 'etr'`) above.\n",
    "You can use any number of arbitrary strings in the tuple to name your quantity."
   ]
  },
  {
   "cell_type": "markdown",
   "metadata": {},
   "source": [
    "## Display quantities with Table"
   ]
  },
  {
   "cell_type": "markdown",
   "metadata": {},
   "source": [
    "**Table** is a **Writer** that formats the quantities in a **Logger** into a human readable table.\n",
    "Create one that triggers periodically:"
   ]
  },
  {
   "cell_type": "code",
   "execution_count": 8,
   "metadata": {},
   "outputs": [],
   "source": [
    "table = hoomd.write.Table(trigger=hoomd.trigger.Periodic(period=5000),\n",
    "                          logger=logger)"
   ]
  },
  {
   "cell_type": "markdown",
   "metadata": {},
   "source": [
    "Add it to the simulation:"
   ]
  },
  {
   "cell_type": "code",
   "execution_count": 9,
   "metadata": {},
   "outputs": [],
   "source": [
    "sim.operations.writers.append(table)"
   ]
  },
  {
   "cell_type": "markdown",
   "metadata": {},
   "source": [
    "Run the simulation and see the output:"
   ]
  },
  {
   "cell_type": "code",
   "execution_count": 10,
   "metadata": {},
   "outputs": [
    {
     "name": "stdout",
     "output_type": "stream",
     "text": [
      "Simulation.timestep  Simulation.tps     Status.etr   \n",
      "       35000           5265.75804     0:00:18.041087 \n",
      "       40000           6350.73673     0:00:14.171584 \n",
      "       45000           7812.27620     0:00:10.880312 \n",
      "       50000           8838.90728     0:00:09.050893 \n",
      "       55000           9581.52730     0:00:07.827562 \n",
      "       60000          10154.75001     0:00:06.893326 \n",
      "       65000          10618.07132     0:00:06.121639 \n",
      "       70000          10987.62543     0:00:05.460689 \n",
      "       75000          11291.99901     0:00:04.870705 \n",
      "       80000          11558.60503     0:00:04.325782 \n",
      "       85000          11769.42129     0:00:03.823468 \n",
      "       90000          11956.99873     0:00:03.345321 \n",
      "       95000          12126.16781     0:00:02.886320 \n",
      "      100000          12269.06013     0:00:02.445175 \n",
      "      105000          12393.47665     0:00:02.017190 \n",
      "      110000          12511.16049     0:00:01.598573 \n",
      "      115000          12611.78251     0:00:01.189364 \n",
      "      120000          12707.89644     0:00:00.786912 \n",
      "      125000          12795.31563     0:00:00.390768 \n",
      "      130000          12869.90570        0:00:00     \n"
     ]
    }
   ],
   "source": [
    "sim.run(100000)"
   ]
  },
  {
   "cell_type": "markdown",
   "metadata": {},
   "source": [
    "Later in this notebook, you are going to create another **Table Writer**.\n",
    "Remove `table` now to avoid confusing the two:"
   ]
  },
  {
   "cell_type": "code",
   "execution_count": 11,
   "metadata": {},
   "outputs": [],
   "source": [
    "sim.operations.writers.remove(table)"
   ]
  },
  {
   "cell_type": "markdown",
   "metadata": {},
   "source": [
    "## Save Table output to a file\n",
    "\n",
    "**Table** writes to `stdout` by default.\n",
    "It can write to a file (or any Python file-like object with `write` and `flush` methods) instead."
   ]
  },
  {
   "cell_type": "markdown",
   "metadata": {},
   "source": [
    "Open the file to write:"
   ]
  },
  {
   "cell_type": "code",
   "execution_count": 12,
   "metadata": {},
   "outputs": [],
   "source": [
    "file = open('log.txt', 'x')"
   ]
  },
  {
   "cell_type": "markdown",
   "metadata": {},
   "source": [
    "Create a **Table** **Writer** that outputs to this file and add it to the **Simulation**:"
   ]
  },
  {
   "cell_type": "code",
   "execution_count": 13,
   "metadata": {},
   "outputs": [],
   "source": [
    "table_file = hoomd.write.Table(output=file,\n",
    "                               trigger=hoomd.trigger.Periodic(period=5000),\n",
    "                               logger=logger)\n",
    "sim.operations.writers.append(table_file)"
   ]
  },
  {
   "cell_type": "markdown",
   "metadata": {},
   "source": [
    "Run the simulation:"
   ]
  },
  {
   "cell_type": "code",
   "execution_count": 14,
   "metadata": {},
   "outputs": [],
   "source": [
    "sim.run(100000)"
   ]
  },
  {
   "cell_type": "markdown",
   "metadata": {},
   "source": [
    "You can read the file with standard tools:"
   ]
  },
  {
   "cell_type": "code",
   "execution_count": 15,
   "metadata": {},
   "outputs": [
    {
     "name": "stdout",
     "output_type": "stream",
     "text": [
      "      185000          14469.17930     0:00:03.110059 \n",
      "      190000          14473.70326     0:00:02.763633 \n",
      "      195000          14490.79564     0:00:02.415326 \n",
      "      200000          14492.44457     0:00:02.070044 \n",
      "      205000          14493.44820     0:00:01.724917 \n",
      "      210000          14509.96076     0:00:01.378363 \n",
      "      215000          14511.57807     0:00:01.033657 \n",
      "      220000          14513.50513     0:00:00.689013 \n",
      "      225000          14524.01326     0:00:00.344257 \n",
      "      230000          14524.47624        0:00:00     \n"
     ]
    }
   ],
   "source": [
    "!tail log.txt"
   ]
  },
  {
   "cell_type": "markdown",
   "metadata": {},
   "source": [
    "In this section, you have displayed **loggable quantities** during a simulation run and saved them to a text file.\n",
    "This is the last section in the logging tutorial."
   ]
  },
  {
   "cell_type": "markdown",
   "metadata": {
    "nbsphinx": "hidden"
   },
   "source": [
    "[Previous section](03-Storing-Particle-Shape.ipynb) / [Tutorial index](../README.md)"
   ]
  }
 ],
 "metadata": {
  "kernelspec": {
   "display_name": "Python 3",
   "language": "python",
   "name": "python3"
  },
  "language_info": {
   "codemirror_mode": {
    "name": "ipython",
    "version": 3
   },
   "file_extension": ".py",
   "mimetype": "text/x-python",
   "name": "python",
   "nbconvert_exporter": "python",
   "pygments_lexer": "ipython3",
   "version": "3.9.0"
  }
 },
 "nbformat": 4,
 "nbformat_minor": 4
}
