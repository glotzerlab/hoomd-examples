{
 "cells": [
  {
   "cell_type": "markdown",
   "metadata": {},
   "source": [
    "# Displaying Status Information\n",
    "\n",
    "## Overview\n",
    "\n",
    "### Questions\n",
    "\n",
    "* What is a Logger? \n",
    "* How do I display status information during a simulation?\n",
    "\n",
    "### Objectives\n",
    "\n",
    "* Describe and give examples of **loggable quantities**.\n",
    "* Show how to add quantities to a **Logger**.\n",
    "* Demonstrate **user-defined log quantities**.\n",
    "* Explain the use of **Table** to display status information during a simulation run.\n",
    "\n",
    "## Boilerplate code"
   ]
  },
  {
   "cell_type": "code",
   "execution_count": 1,
   "metadata": {},
   "outputs": [],
   "source": [
    "import hoomd\n",
    "import datetime"
   ]
  },
  {
   "cell_type": "markdown",
   "metadata": {},
   "source": [
    "## Components of the Logging system\n",
    "\n",
    "There are three parts to the logging system in HOOMD-blue: **Loggable quantities**, the **Logger** class, and \n",
    "logging backends.\n",
    "**Loggable quantities** are values computed during a simulation.\n",
    "The **Logger** class provides a way to collect and name quantities of interest.\n",
    "Backends write these values out in a format you can use.\n",
    "This section will demonstrate the **Table** backend to display status information during a simulation run."
   ]
  },
  {
   "cell_type": "markdown",
   "metadata": {},
   "source": [
    "## Define the Simulation\n",
    "\n",
    "This tutorial executes the Lennard-Jones particle simulation from a previous tutorial. \n",
    "See *Introduction to Molecular Dyamics* for a complete description of this code."
   ]
  },
  {
   "cell_type": "code",
   "execution_count": 2,
   "metadata": {},
   "outputs": [],
   "source": [
    "gpu = hoomd.device.GPU()\n",
    "sim = hoomd.Simulation(device=gpu)\n",
    "sim.create_state_from_gsd(filename='../01-Introducing-Molecular-Dynamics/random.gsd')\n",
    "\n",
    "integrator = hoomd.md.Integrator(dt=0.005)\n",
    "cell = hoomd.md.nlist.Cell()\n",
    "lj = hoomd.md.pair.LJ(nlist=cell)\n",
    "lj.params[('A', 'A')] = dict(epsilon=1, sigma=1)\n",
    "lj.r_cut[('A', 'A')] = 2.5\n",
    "integrator.forces.append(lj)\n",
    "nvt = hoomd.md.methods.NVT(kT=1.5, filter=hoomd.filter.All(), tau=1.0)\n",
    "integrator.methods.append(nvt)\n",
    "sim.operations.integrator = integrator"
   ]
  },
  {
   "cell_type": "markdown",
   "metadata": {},
   "source": [
    "## Loggable quantities\n",
    "\n",
    "Many classes in HOOMD-blue provide special *properties* called **loggable quantities**.\n",
    "For example, the **Simulation** class provides `timestep`, `tps`, and others.\n",
    "The reference documentation labels each of these as `Loggable`.\n",
    "You can also examine the ``loggables`` property to determine the **loggable quantities**:"
   ]
  },
  {
   "cell_type": "code",
   "execution_count": 3,
   "metadata": {},
   "outputs": [
    {
     "data": {
      "text/plain": [
       "{'timestep': 'scalar',\n",
       " 'tps': 'scalar',\n",
       " 'walltime': 'scalar',\n",
       " 'final_timestep': 'scalar'}"
      ]
     },
     "execution_count": 3,
     "metadata": {},
     "output_type": "execute_result"
    }
   ],
   "source": [
    "sim.loggables"
   ]
  },
  {
   "cell_type": "markdown",
   "metadata": {},
   "source": [
    "**Loggable quantities** are class properties, so you can directly access them in your code."
   ]
  },
  {
   "cell_type": "code",
   "execution_count": 4,
   "metadata": {},
   "outputs": [
    {
     "data": {
      "text/plain": [
       "30000"
      ]
     },
     "execution_count": 4,
     "metadata": {},
     "output_type": "execute_result"
    }
   ],
   "source": [
    "sim.timestep"
   ]
  },
  {
   "cell_type": "markdown",
   "metadata": {},
   "source": [
    "Each **loggable quantity** has a **flag**, which is listed both in the reference documentation and in ``loggables``.\n",
    "The **flag** is a string that indicates the quantity's type.\n",
    "Examples of flags include `scalar`, `string`, and `particle` which describe scalar numbers, strings of characters, and arrays of per-particle numbers or vectors."
   ]
  },
  {
   "cell_type": "markdown",
   "metadata": {},
   "source": [
    "## Create a Logger"
   ]
  },
  {
   "cell_type": "markdown",
   "metadata": {},
   "source": [
    "Add each of the quantities you would like to see to a **Logger**.\n",
    "When constructing the **Logger**, you can define which **flags** it will accept.\n",
    "**Table**, which you will use later in this section, only accepts `scalar` and `string` flags:"
   ]
  },
  {
   "cell_type": "code",
   "execution_count": 5,
   "metadata": {},
   "outputs": [],
   "source": [
    "logger = hoomd.logging.Logger(flags=['scalar', 'string'])"
   ]
  },
  {
   "cell_type": "markdown",
   "metadata": {},
   "source": [
    "Add the `timestep` and `tps` quantities from `sim` to the logger:"
   ]
  },
  {
   "cell_type": "code",
   "execution_count": 6,
   "metadata": {},
   "outputs": [
    {
     "data": {
      "text/plain": [
       "[('Simulation', 'timestep'), ('Simulation', 'tps')]"
      ]
     },
     "execution_count": 6,
     "metadata": {},
     "output_type": "execute_result"
    }
   ],
   "source": [
    "logger.add(sim, quantities=['timestep', 'tps'])"
   ]
  },
  {
   "cell_type": "markdown",
   "metadata": {},
   "source": [
    "You can add **loggable quantities** from any number of objects to a **Logger**.\n",
    "**Logger** uses the namespace of the class to assign a unique name for each quantity.\n",
    "\n",
    "You can also set user-defined quantities using functions or callable class instances.\n",
    "For example, this function computes the time remaining in the run:"
   ]
  },
  {
   "cell_type": "code",
   "execution_count": 7,
   "metadata": {},
   "outputs": [],
   "source": [
    "def eta():\n",
    "    seconds_remaining = (sim.final_timestep - sim.timestep) / sim.tps\n",
    "    return str(datetime.timedelta(seconds=seconds_remaining))\n",
    "\n",
    "logger[('ETA')] = (eta, 'string')"
   ]
  },
  {
   "cell_type": "markdown",
   "metadata": {},
   "source": [
    "## Display quantities with Table"
   ]
  },
  {
   "cell_type": "markdown",
   "metadata": {},
   "source": [
    "**Table** is a **Writer** that formats the quantities in a **Logger** into a human readable table.\n",
    "Create one that triggers periodically:"
   ]
  },
  {
   "cell_type": "code",
   "execution_count": 8,
   "metadata": {},
   "outputs": [],
   "source": [
    "table = hoomd.write.Table(trigger=hoomd.trigger.Periodic(period=5000),\n",
    "                          logger=logger)"
   ]
  },
  {
   "cell_type": "markdown",
   "metadata": {},
   "source": [
    "Add it to the simulation:"
   ]
  },
  {
   "cell_type": "code",
   "execution_count": 9,
   "metadata": {},
   "outputs": [],
   "source": [
    "sim.operations.writers.append(table)"
   ]
  },
  {
   "cell_type": "markdown",
   "metadata": {},
   "source": [
    "Run the simulation and see the output:"
   ]
  },
  {
   "cell_type": "code",
   "execution_count": 10,
   "metadata": {},
   "outputs": [
    {
     "name": "stdout",
     "output_type": "stream",
     "text": [
      "Simulation.timestep  Simulation.tps        ETA       \n",
      "       35000           5189.44754     0:00:18.306380 \n",
      "       40000           6335.27339     0:00:14.206175 \n",
      "       45000           7834.54429     0:00:10.849387 \n",
      "       50000           8890.23830     0:00:08.998634 \n",
      "       55000           9671.93795     0:00:07.754392 \n",
      "       60000          10273.39441     0:00:06.813717 \n",
      "       65000          10750.55451     0:00:06.046200 \n",
      "       70000          11139.75027     0:00:05.386117 \n",
      "       75000          11461.89828     0:00:04.798507 \n",
      "       80000          11733.40605     0:00:04.261337 \n",
      "       85000          11965.57246     0:00:03.760790 \n",
      "       90000          12164.80833     0:00:03.288173 \n",
      "       95000          12341.07067     0:00:02.836059 \n",
      "      100000          12495.90307     0:00:02.400787 \n",
      "      105000          12632.65518     0:00:01.978998 \n",
      "      110000          12754.73517     0:00:01.568045 \n",
      "      115000          12865.27402     0:00:01.165929 \n",
      "      120000          12963.25424     0:00:00.771411 \n",
      "      125000          13054.34664     0:00:00.383014 \n",
      "      130000          13136.35436        0:00:00     \n"
     ]
    }
   ],
   "source": [
    "sim.run(100000)"
   ]
  },
  {
   "cell_type": "markdown",
   "metadata": {},
   "source": [
    "In this section, you have displayed **loggable quantities** during a simulation run. You might find this useful for monitoring the status of long-running jobs. The remaining sections in this tutorial will show you how to save these values to a file, log quantities from other objects, and log per-particle quantities along with a trajectory."
   ]
  },
  {
   "cell_type": "markdown",
   "metadata": {
    "nbsphinx": "hidden"
   },
   "source": [
    "[Index](00-index.ipynb) / [Next section](02-Writing-to-a-File.ipynb)."
   ]
  }
 ],
 "metadata": {
  "kernelspec": {
   "display_name": "Python 3",
   "language": "python",
   "name": "python3"
  },
  "language_info": {
   "codemirror_mode": {
    "name": "ipython",
    "version": 3
   },
   "file_extension": ".py",
   "mimetype": "text/x-python",
   "name": "python",
   "nbconvert_exporter": "python",
   "pygments_lexer": "ipython3",
   "version": "3.8.6"
  }
 },
 "nbformat": 4,
 "nbformat_minor": 4
}
