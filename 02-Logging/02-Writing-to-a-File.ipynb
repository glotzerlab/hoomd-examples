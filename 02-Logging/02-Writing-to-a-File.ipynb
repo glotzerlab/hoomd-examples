{
 "cells": [
  {
   "cell_type": "markdown",
   "metadata": {},
   "source": [
    "# Writing to a File\n",
    "\n",
    "## Overview\n",
    "\n",
    "### Questions\n",
    "\n",
    "* How can I write thermodynamic and other quantities to a file?\n",
    "* How can I access that data?\n",
    "\n",
    "### Objectives\n",
    "\n",
    "* Show how to add all **thermodynamic properties** to a Logger.\n",
    "* Demonstrate **GSD** as a log writer.\n",
    "* Demonstrate **Table** as a log writer.\n",
    "* Explain how to read logged quantities from files.\n",
    "* Describe how **namespaces** appear in the names of the logged quantities.\n",
    "\n",
    "## Boilerplate code"
   ]
  },
  {
   "cell_type": "code",
   "execution_count": 1,
   "metadata": {},
   "outputs": [],
   "source": [
    "import hoomd\n",
    "import gsd.hoomd\n",
    "import matplotlib\n",
    "%matplotlib inline\n",
    "matplotlib.style.use('ggplot')"
   ]
  },
  {
   "cell_type": "markdown",
   "metadata": {},
   "source": [
    "## Define the Simulation\n",
    "\n",
    "This tutorial executes the Lennard-Jones particle simulation from a previous tutorial. \n",
    "See [*Introducing Molecular Dyamics*](../01-Introducing-Molecular-Dynamics/00-index.ipynb) for a complete description of this code."
   ]
  },
  {
   "cell_type": "code",
   "execution_count": 2,
   "metadata": {},
   "outputs": [],
   "source": [
    "gpu = hoomd.device.GPU()\n",
    "sim = hoomd.Simulation(device=gpu)\n",
    "sim.create_state_from_gsd(filename='../01-Introducing-Molecular-Dynamics/random.gsd')\n",
    "\n",
    "integrator = hoomd.md.Integrator(dt=0.005)\n",
    "cell = hoomd.md.nlist.Cell()\n",
    "lj = hoomd.md.pair.LJ(nlist=cell)\n",
    "lj.params[('A', 'A')] = dict(epsilon=1, sigma=1)\n",
    "lj.r_cut[('A', 'A')] = 2.5\n",
    "integrator.forces.append(lj)\n",
    "nvt = hoomd.md.methods.NVT(kT=1.5, filter=hoomd.filter.All(), tau=1.0)\n",
    "integrator.methods.append(nvt)\n",
    "sim.operations.integrator = integrator\n",
    "sim.run(0)"
   ]
  },
  {
   "cell_type": "markdown",
   "metadata": {},
   "source": [
    "## Logging thermodynamic quantities\n",
    "\n",
    "The **ThermodynamicQuantities** class computes a variety of **thermodynamic properties** in MD simulations.\n",
    "These are all loggable."
   ]
  },
  {
   "cell_type": "code",
   "execution_count": 3,
   "metadata": {},
   "outputs": [
    {
     "data": {
      "text/plain": [
       "{'state': 'state',\n",
       " 'kinetic_temperature': 'scalar',\n",
       " 'pressure': 'scalar',\n",
       " 'pressure_tensor': 'sequence',\n",
       " 'kinetic_energy': 'scalar',\n",
       " 'translational_kinetic_energy': 'scalar',\n",
       " 'rotational_kinetic_energy': 'scalar',\n",
       " 'potential_energy': 'scalar',\n",
       " 'degrees_of_freedom': 'scalar',\n",
       " 'translational_degrees_of_freedom': 'scalar',\n",
       " 'rotational_degrees_of_freedom': 'scalar',\n",
       " 'num_particles': 'scalar'}"
      ]
     },
     "execution_count": 3,
     "metadata": {},
     "output_type": "execute_result"
    }
   ],
   "source": [
    "thermodynamic_properties = hoomd.md.compute.ThermodynamicQuantities(\n",
    "    filter=hoomd.filter.All())\n",
    "sim.operations.computes.append(thermodynamic_properties)\n",
    "thermodynamic_properties.loggables"
   ]
  },
  {
   "cell_type": "markdown",
   "metadata": {},
   "source": [
    "Add all of these quantities to the logger."
   ]
  },
  {
   "cell_type": "code",
   "execution_count": 4,
   "metadata": {},
   "outputs": [
    {
     "data": {
      "text/plain": [
       "[('md', 'compute', 'ThermodynamicQuantities', 'state'),\n",
       " ('md', 'compute', 'ThermodynamicQuantities', 'kinetic_temperature'),\n",
       " ('md', 'compute', 'ThermodynamicQuantities', 'pressure'),\n",
       " ('md', 'compute', 'ThermodynamicQuantities', 'pressure_tensor'),\n",
       " ('md', 'compute', 'ThermodynamicQuantities', 'kinetic_energy'),\n",
       " ('md', 'compute', 'ThermodynamicQuantities', 'translational_kinetic_energy'),\n",
       " ('md', 'compute', 'ThermodynamicQuantities', 'rotational_kinetic_energy'),\n",
       " ('md', 'compute', 'ThermodynamicQuantities', 'potential_energy'),\n",
       " ('md', 'compute', 'ThermodynamicQuantities', 'degrees_of_freedom'),\n",
       " ('md',\n",
       "  'compute',\n",
       "  'ThermodynamicQuantities',\n",
       "  'translational_degrees_of_freedom'),\n",
       " ('md', 'compute', 'ThermodynamicQuantities', 'rotational_degrees_of_freedom'),\n",
       " ('md', 'compute', 'ThermodynamicQuantities', 'num_particles')]"
      ]
     },
     "execution_count": 4,
     "metadata": {},
     "output_type": "execute_result"
    }
   ],
   "source": [
    "logger = hoomd.logging.Logger()\n",
    "logger.add(thermodynamic_properties)"
   ]
  },
  {
   "cell_type": "markdown",
   "metadata": {},
   "source": [
    "You can also log quantities from other objects.\n",
    "Add all the quantities that **Simulation** provides."
   ]
  },
  {
   "cell_type": "code",
   "execution_count": 5,
   "metadata": {},
   "outputs": [
    {
     "data": {
      "text/plain": [
       "[('Simulation', 'timestep'),\n",
       " ('Simulation', 'tps'),\n",
       " ('Simulation', 'walltime'),\n",
       " ('Simulation', 'final_timestep')]"
      ]
     },
     "execution_count": 5,
     "metadata": {},
     "output_type": "execute_result"
    }
   ],
   "source": [
    "logger.add(sim)"
   ]
  },
  {
   "cell_type": "markdown",
   "metadata": {},
   "source": [
    "**Table** only supports `scalar` and `string` quantities, so you need a **Logger** configured accordingly:"
   ]
  },
  {
   "cell_type": "code",
   "execution_count": 6,
   "metadata": {},
   "outputs": [
    {
     "data": {
      "text/plain": [
       "[('Simulation', 'timestep'),\n",
       " ('Simulation', 'tps'),\n",
       " ('Simulation', 'walltime'),\n",
       " ('Simulation', 'final_timestep')]"
      ]
     },
     "execution_count": 6,
     "metadata": {},
     "output_type": "execute_result"
    }
   ],
   "source": [
    "logger_txt = hoomd.logging.Logger(flags=['scalar', 'string'])\n",
    "logger_txt.add(thermodynamic_properties)\n",
    "logger_txt.add(sim)"
   ]
  },
  {
   "cell_type": "markdown",
   "metadata": {},
   "source": [
    "## Writing log quantities to a text file with Table"
   ]
  },
  {
   "cell_type": "markdown",
   "metadata": {},
   "source": [
    "Open the file and write to it with **Table**:"
   ]
  },
  {
   "cell_type": "code",
   "execution_count": 7,
   "metadata": {},
   "outputs": [],
   "source": [
    "file = open('log.txt', 'w')\n",
    "table = hoomd.write.Table(output=file,\n",
    "                          trigger=hoomd.trigger.Periodic(period=1000),\n",
    "                          logger=logger_txt)\n",
    "sim.operations.writers.append(table)"
   ]
  },
  {
   "cell_type": "markdown",
   "metadata": {},
   "source": [
    "## Writing log quantities to a GSD file\n",
    "\n",
    "In addition to the trajectory of the simulation state, GSD files also store array data provided by an associated **Logger**.\n",
    "Use the `Null` filter to select no particles so that you can log thermodynamic properties at a high rate and keep the file size small.\n"
   ]
  },
  {
   "cell_type": "code",
   "execution_count": 8,
   "metadata": {},
   "outputs": [],
   "source": [
    "gsd_writer = hoomd.write.GSD(filename='trajectory.gsd',\n",
    "                             trigger=hoomd.trigger.Periodic(1000),\n",
    "                             mode='wb',\n",
    "                             filter=hoomd.filter.Null())\n",
    "sim.operations.writers.append(gsd_writer)"
   ]
  },
  {
   "cell_type": "markdown",
   "metadata": {},
   "source": [
    "Assign the logger to include the logged quanties in the GSD file:"
   ]
  },
  {
   "cell_type": "code",
   "execution_count": 9,
   "metadata": {},
   "outputs": [],
   "source": [
    "gsd_writer.log = logger"
   ]
  },
  {
   "cell_type": "markdown",
   "metadata": {},
   "source": [
    "## Run the simulation\n",
    "\n",
    "The writers trigger and write to the log file when the simulation runs:"
   ]
  },
  {
   "cell_type": "code",
   "execution_count": 10,
   "metadata": {},
   "outputs": [],
   "source": [
    "sim.run(200000)"
   ]
  },
  {
   "cell_type": "markdown",
   "metadata": {},
   "source": [
    "## Reading logged data from a text file\n",
    "\n",
    "You can read text files with a variety of tools, such as `tail`, `awk`, and `pandas` (use `read_csv(file, sep='\\s+'`)."
   ]
  },
  {
   "cell_type": "markdown",
   "metadata": {},
   "source": [
    "## Reading logged data from a GSD file"
   ]
  },
  {
   "cell_type": "markdown",
   "metadata": {},
   "source": [
    "You need to close the **GSD** file that `gsd_writer` has open before you can read it.\n",
    "The following code block deletes the simulation and operations manually so that it is safe to open the file for reading later in the notebook.\n",
    "\n",
    "In typical workflows, you will run simulations and analysis scripts separately and this will happen automatically."
   ]
  },
  {
   "cell_type": "code",
   "execution_count": 11,
   "metadata": {},
   "outputs": [],
   "source": [
    "del sim, gsd_writer, table, logger, integrator, nvt, lj, cell, gpu"
   ]
  },
  {
   "cell_type": "markdown",
   "metadata": {},
   "source": [
    "Use the `gsd` package to open the file:"
   ]
  },
  {
   "cell_type": "code",
   "execution_count": 12,
   "metadata": {},
   "outputs": [],
   "source": [
    "traj = gsd.hoomd.open('trajectory.gsd', 'rb')"
   ]
  },
  {
   "cell_type": "markdown",
   "metadata": {},
   "source": [
    "Each frame in the trajectory has a `log` dictionary that maps quantity names to values.\n",
    "Inspect this dictionary in the first frame:"
   ]
  },
  {
   "cell_type": "code",
   "execution_count": 13,
   "metadata": {},
   "outputs": [
    {
     "data": {
      "text/plain": [
       "{'md/compute/ThermodynamicQuantities/kinetic_temperature': array([1.53168693]),\n",
       " 'md/compute/ThermodynamicQuantities/pressure': array([2.49809301]),\n",
       " 'md/compute/ThermodynamicQuantities/pressure_tensor': array([ 2.41877849,  0.1068534 , -0.11846785,  2.76484544, -0.14534146,\n",
       "         2.31065509]),\n",
       " 'md/compute/ThermodynamicQuantities/kinetic_energy': array([1146.46766633]),\n",
       " 'md/compute/ThermodynamicQuantities/translational_kinetic_energy': array([1146.46766633]),\n",
       " 'md/compute/ThermodynamicQuantities/rotational_kinetic_energy': array([0.]),\n",
       " 'md/compute/ThermodynamicQuantities/potential_energy': array([-2193.30514937]),\n",
       " 'md/compute/ThermodynamicQuantities/degrees_of_freedom': array([1497]),\n",
       " 'md/compute/ThermodynamicQuantities/translational_degrees_of_freedom': array([1497]),\n",
       " 'md/compute/ThermodynamicQuantities/rotational_degrees_of_freedom': array([0]),\n",
       " 'md/compute/ThermodynamicQuantities/num_particles': array([500]),\n",
       " 'Simulation/timestep': array([31000]),\n",
       " 'Simulation/tps': array([1921.93370772]),\n",
       " 'Simulation/walltime': array([0.519789]),\n",
       " 'Simulation/final_timestep': array([230000])}"
      ]
     },
     "execution_count": 13,
     "metadata": {},
     "output_type": "execute_result"
    }
   ],
   "source": [
    "traj[0].log"
   ]
  },
  {
   "cell_type": "markdown",
   "metadata": {},
   "source": [
    "The dictionary keys are verbose names that include the **namespace** of the class which computed the quantity, where `.` has been replaced with `/`.\n",
    "For example, access the potential energy computed by **ThermodynamicQuantities** with the key `md/compute/ThermodynamicQuantities/potential_energy`."
   ]
  },
  {
   "cell_type": "code",
   "execution_count": 14,
   "metadata": {},
   "outputs": [
    {
     "data": {
      "text/plain": [
       "array([-2193.30514937])"
      ]
     },
     "execution_count": 14,
     "metadata": {},
     "output_type": "execute_result"
    }
   ],
   "source": [
    "traj[0].log['md/compute/ThermodynamicQuantities/potential_energy']"
   ]
  },
  {
   "cell_type": "markdown",
   "metadata": {},
   "source": [
    "**GSD** stores all quantities in arrays.\n",
    "It stores scalar quantities such as the system potential energy in length 1 arrays (above) while it stores vector and other array quantities as appropriately sized arrays:"
   ]
  },
  {
   "cell_type": "code",
   "execution_count": 15,
   "metadata": {},
   "outputs": [
    {
     "data": {
      "text/plain": [
       "array([ 2.41877849,  0.1068534 , -0.11846785,  2.76484544, -0.14534146,\n",
       "        2.31065509])"
      ]
     },
     "execution_count": 15,
     "metadata": {},
     "output_type": "execute_result"
    }
   ],
   "source": [
    "traj[0].log['md/compute/ThermodynamicQuantities/pressure_tensor']"
   ]
  },
  {
   "cell_type": "markdown",
   "metadata": {},
   "source": [
    "**GSD** provides logged quantities individually at each frame in the file.\n",
    "You can convert this to time-series data with a loop and then plot or analyze it:"
   ]
  },
  {
   "cell_type": "code",
   "execution_count": 16,
   "metadata": {},
   "outputs": [],
   "source": [
    "timestep = []\n",
    "walltime = []\n",
    "potential_energy = []\n",
    "\n",
    "for frame in traj:\n",
    "    timestep.append(frame.configuration.step)\n",
    "    walltime.append(frame.log['Simulation/walltime'][0])\n",
    "    potential_energy.append(frame.log['md/compute/ThermodynamicQuantities/potential_energy'][0])"
   ]
  },
  {
   "cell_type": "code",
   "execution_count": 17,
   "metadata": {},
   "outputs": [
    {
     "data": {
      "image/png": "[encoded data removed]",
      "text/plain": [
       "<Figure size 720x444.96 with 1 Axes>"
      ]
     },
     "execution_count": 17,
     "metadata": {},
     "output_type": "execute_result"
    }
   ],
   "source": [
    "fig = matplotlib.figure.Figure(figsize=(10, 6.18))\n",
    "ax = fig.add_subplot()\n",
    "ax.plot(timestep, potential_energy)\n",
    "ax.set_xlabel('timestep')\n",
    "ax.set_ylabel('potential energy')\n",
    "fig"
   ]
  },
  {
   "cell_type": "code",
   "execution_count": 18,
   "metadata": {},
   "outputs": [
    {
     "data": {
      "image/png": "[encoded data removed]",
      "text/plain": [
       "<Figure size 720x444.96 with 1 Axes>"
      ]
     },
     "execution_count": 18,
     "metadata": {},
     "output_type": "execute_result"
    }
   ],
   "source": [
    "fig = matplotlib.figure.Figure(figsize=(10, 6.18))\n",
    "ax = fig.add_subplot()\n",
    "ax.plot(timestep, walltime)\n",
    "ax.set_xlabel('timestep')\n",
    "ax.set_ylabel('walltime')\n",
    "fig"
   ]
  },
  {
   "cell_type": "markdown",
   "metadata": {},
   "source": [
    "In this section, you have logged quantities to a file during a simulation run and analyzed that data as a time series.\n",
    "The next section of this tutorial will show you how to save per-particle quantities associated with specific system configurations."
   ]
  },
  {
   "cell_type": "markdown",
   "metadata": {
    "nbsphinx": "hidden"
   },
   "source": [
    "[Previous section](01-Displaying-Status-Information.ipynb) / [Next section](03-Saving-Array-Quantities.ipynb)"
   ]
  }
 ],
 "metadata": {
  "kernelspec": {
   "display_name": "Python 3",
   "language": "python",
   "name": "python3"
  },
  "language_info": {
   "codemirror_mode": {
    "name": "ipython",
    "version": 3
   },
   "file_extension": ".py",
   "mimetype": "text/x-python",
   "name": "python",
   "nbconvert_exporter": "python",
   "pygments_lexer": "ipython3",
   "version": "3.8.6"
  }
 },
 "nbformat": 4,
 "nbformat_minor": 4
}
