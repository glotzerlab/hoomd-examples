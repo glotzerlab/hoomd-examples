{
 "cells": [
  {
   "cell_type": "markdown",
   "metadata": {},
   "source": [
    "# Writing to a File\n",
    "\n",
    "## Overview\n",
    "\n",
    "### Questions\n",
    "\n",
    "* How can I write thermodynamic and other quantities to a file?\n",
    "* How can I access that data?\n",
    "\n",
    "### Objectives\n",
    "\n",
    "* Show how to add all **thermodynamic properties** to a Logger.\n",
    "* Demonstrate **GSD** as a log writer.\n",
    "* Demonstrate **Table** as a log writer.\n",
    "* Explain how to read logged quantities from files.\n",
    "* Describe how **namespaces** appear in the names of the logged quantities.\n",
    "\n",
    "## Boilerplate code"
   ]
  },
  {
   "cell_type": "code",
   "execution_count": 1,
   "metadata": {},
   "outputs": [],
   "source": [
    "import hoomd\n",
    "import gsd.hoomd\n",
    "import matplotlib\n",
    "%matplotlib inline\n",
    "matplotlib.style.use('ggplot')"
   ]
  },
  {
   "cell_type": "markdown",
   "metadata": {},
   "source": [
    "## Define the Simulation\n",
    "\n",
    "This tutorial executes the Lennard-Jones particle simulation from a previous tutorial. \n",
    "See [*Introducing Molecular Dyamics*](../01-Introducing-Molecular-Dynamics/00-index.ipynb) for a complete description of this code."
   ]
  },
  {
   "cell_type": "code",
   "execution_count": 2,
   "metadata": {},
   "outputs": [],
   "source": [
    "gpu = hoomd.device.GPU()\n",
    "sim = hoomd.Simulation(device=gpu)\n",
    "sim.create_state_from_gsd(filename='../01-Introducing-Molecular-Dynamics/random.gsd')\n",
    "\n",
    "integrator = hoomd.md.Integrator(dt=0.005)\n",
    "cell = hoomd.md.nlist.Cell()\n",
    "lj = hoomd.md.pair.LJ(nlist=cell)\n",
    "lj.params[('A', 'A')] = dict(epsilon=1, sigma=1)\n",
    "lj.r_cut[('A', 'A')] = 2.5\n",
    "integrator.forces.append(lj)\n",
    "nvt = hoomd.md.methods.NVT(kT=1.5, filter=hoomd.filter.All(), tau=1.0)\n",
    "integrator.methods.append(nvt)\n",
    "sim.operations.integrator = integrator\n",
    "sim.run(0)"
   ]
  },
  {
   "cell_type": "markdown",
   "metadata": {},
   "source": [
    "## Logging thermodynamic quantities\n",
    "\n",
    "The **ThermodynamicQuantities** class computes a variety of **thermodynamic properties** in MD simulations.\n",
    "These are all loggable."
   ]
  },
  {
   "cell_type": "code",
   "execution_count": 3,
   "metadata": {},
   "outputs": [
    {
     "data": {
      "text/plain": [
       "{'state': 'state',\n",
       " 'kinetic_temperature': 'scalar',\n",
       " 'pressure': 'scalar',\n",
       " 'pressure_tensor': 'sequence',\n",
       " 'kinetic_energy': 'scalar',\n",
       " 'translational_kinetic_energy': 'scalar',\n",
       " 'rotational_kinetic_energy': 'scalar',\n",
       " 'potential_energy': 'scalar',\n",
       " 'degrees_of_freedom': 'scalar',\n",
       " 'translational_degrees_of_freedom': 'scalar',\n",
       " 'rotational_degrees_of_freedom': 'scalar',\n",
       " 'num_particles': 'scalar'}"
      ]
     },
     "execution_count": 3,
     "metadata": {},
     "output_type": "execute_result"
    }
   ],
   "source": [
    "thermodynamic_properties = hoomd.md.compute.ThermodynamicQuantities(\n",
    "    filter=hoomd.filter.All())\n",
    "sim.operations.computes.append(thermodynamic_properties)\n",
    "thermodynamic_properties.loggables"
   ]
  },
  {
   "cell_type": "markdown",
   "metadata": {},
   "source": [
    "Add all of these quantities to the logger."
   ]
  },
  {
   "cell_type": "code",
   "execution_count": 4,
   "metadata": {},
   "outputs": [
    {
     "data": {
      "text/plain": [
       "[('md', 'compute', 'ThermodynamicQuantities', 'state'),\n",
       " ('md', 'compute', 'ThermodynamicQuantities', 'kinetic_temperature'),\n",
       " ('md', 'compute', 'ThermodynamicQuantities', 'pressure'),\n",
       " ('md', 'compute', 'ThermodynamicQuantities', 'pressure_tensor'),\n",
       " ('md', 'compute', 'ThermodynamicQuantities', 'kinetic_energy'),\n",
       " ('md', 'compute', 'ThermodynamicQuantities', 'translational_kinetic_energy'),\n",
       " ('md', 'compute', 'ThermodynamicQuantities', 'rotational_kinetic_energy'),\n",
       " ('md', 'compute', 'ThermodynamicQuantities', 'potential_energy'),\n",
       " ('md', 'compute', 'ThermodynamicQuantities', 'degrees_of_freedom'),\n",
       " ('md',\n",
       "  'compute',\n",
       "  'ThermodynamicQuantities',\n",
       "  'translational_degrees_of_freedom'),\n",
       " ('md', 'compute', 'ThermodynamicQuantities', 'rotational_degrees_of_freedom'),\n",
       " ('md', 'compute', 'ThermodynamicQuantities', 'num_particles')]"
      ]
     },
     "execution_count": 4,
     "metadata": {},
     "output_type": "execute_result"
    }
   ],
   "source": [
    "logger = hoomd.logging.Logger()\n",
    "logger.add(thermodynamic_properties)"
   ]
  },
  {
   "cell_type": "markdown",
   "metadata": {},
   "source": [
    "You can also log quantities from other objects.\n",
    "Add all the quantities that **Simulation** provides."
   ]
  },
  {
   "cell_type": "code",
   "execution_count": 5,
   "metadata": {},
   "outputs": [
    {
     "data": {
      "text/plain": [
       "[('Simulation', 'timestep'),\n",
       " ('Simulation', 'tps'),\n",
       " ('Simulation', 'walltime'),\n",
       " ('Simulation', 'final_timestep')]"
      ]
     },
     "execution_count": 5,
     "metadata": {},
     "output_type": "execute_result"
    }
   ],
   "source": [
    "logger.add(sim)"
   ]
  },
  {
   "cell_type": "markdown",
   "metadata": {},
   "source": [
    "## Writing log quantities to a GSD file\n",
    "\n",
    "In addition to the trajectory of the simulation state, GSD files also store array data provided by an associated **Logger**.\n",
    "Use the `Null` filter to select no particles so that you can log thermodynamic properties at a high rate and keep the file size small.\n"
   ]
  },
  {
   "cell_type": "code",
   "execution_count": 6,
   "metadata": {},
   "outputs": [],
   "source": [
    "gsd_writer = hoomd.write.GSD(filename='trajectory.gsd',\n",
    "                             trigger=hoomd.trigger.Periodic(1000),\n",
    "                             mode='wb',\n",
    "                             filter=hoomd.filter.Null())\n",
    "sim.operations.writers.append(gsd_writer)"
   ]
  },
  {
   "cell_type": "markdown",
   "metadata": {},
   "source": [
    "Assign the logger to include the logged quanties in the GSD file:"
   ]
  },
  {
   "cell_type": "code",
   "execution_count": 7,
   "metadata": {},
   "outputs": [],
   "source": [
    "gsd_writer.log = logger"
   ]
  },
  {
   "cell_type": "markdown",
   "metadata": {},
   "source": [
    "## Writing log quantities to a text file with Table\n",
    "\n",
    "**Table** only supports `scalar` and `string` quantities, so you need a **Logger** configured accordingly:"
   ]
  },
  {
   "cell_type": "code",
   "execution_count": 8,
   "metadata": {},
   "outputs": [
    {
     "data": {
      "text/plain": [
       "[('md', 'compute', 'ThermodynamicQuantities', 'kinetic_temperature'),\n",
       " ('md', 'compute', 'ThermodynamicQuantities', 'pressure'),\n",
       " ('md', 'compute', 'ThermodynamicQuantities', 'kinetic_energy'),\n",
       " ('md', 'compute', 'ThermodynamicQuantities', 'translational_kinetic_energy'),\n",
       " ('md', 'compute', 'ThermodynamicQuantities', 'rotational_kinetic_energy'),\n",
       " ('md', 'compute', 'ThermodynamicQuantities', 'potential_energy'),\n",
       " ('md', 'compute', 'ThermodynamicQuantities', 'degrees_of_freedom'),\n",
       " ('md',\n",
       "  'compute',\n",
       "  'ThermodynamicQuantities',\n",
       "  'translational_degrees_of_freedom'),\n",
       " ('md', 'compute', 'ThermodynamicQuantities', 'rotational_degrees_of_freedom'),\n",
       " ('md', 'compute', 'ThermodynamicQuantities', 'num_particles')]"
      ]
     },
     "execution_count": 8,
     "metadata": {},
     "output_type": "execute_result"
    }
   ],
   "source": [
    "logger_txt = hoomd.logging.Logger(flags=['scalar', 'string'])\n",
    "logger_txt.add(sim)\n",
    "logger_txt.add(thermodynamic_properties)"
   ]
  },
  {
   "cell_type": "markdown",
   "metadata": {},
   "source": [
    "Open the file and write to it with **Table**:"
   ]
  },
  {
   "cell_type": "code",
   "execution_count": 9,
   "metadata": {},
   "outputs": [],
   "source": [
    "file = open('log.txt', 'w')\n",
    "table = hoomd.write.Table(output=file,\n",
    "                          trigger=hoomd.trigger.Periodic(period=1000),\n",
    "                          logger=logger_txt)\n",
    "sim.operations.writers.append(table)"
   ]
  },
  {
   "cell_type": "markdown",
   "metadata": {},
   "source": [
    "Run the simulation:"
   ]
  },
  {
   "cell_type": "code",
   "execution_count": 10,
   "metadata": {},
   "outputs": [],
   "source": [
    "sim.run(200000)"
   ]
  },
  {
   "cell_type": "markdown",
   "metadata": {},
   "source": [
    "## Reading logged data from a GSD file"
   ]
  },
  {
   "cell_type": "markdown",
   "metadata": {},
   "source": [
    "You need to close the **GSD** file that `gsd_writer` has open before you can read it.\n",
    "The following code block deletes the simulation and operations manually so that it is safe to open the file for reading later in the notebook.\n",
    "\n",
    "In typical workflows, you will run simulations and analysis scripts separately and this will happen automatically."
   ]
  },
  {
   "cell_type": "code",
   "execution_count": 11,
   "metadata": {},
   "outputs": [],
   "source": [
    "del sim, gsd_writer, table, logger, integrator, nvt, lj, cell, gpu"
   ]
  },
  {
   "cell_type": "markdown",
   "metadata": {},
   "source": [
    "Use the `gsd` package to open the file:"
   ]
  },
  {
   "cell_type": "code",
   "execution_count": 12,
   "metadata": {},
   "outputs": [],
   "source": [
    "traj = gsd.hoomd.open('trajectory.gsd', 'rb')"
   ]
  },
  {
   "cell_type": "markdown",
   "metadata": {},
   "source": [
    "Each frame in the trajectory has a `log` dictionary that maps quantity names to values.\n",
    "Inspect this dictionary in the first frame:"
   ]
  },
  {
   "cell_type": "code",
   "execution_count": 13,
   "metadata": {},
   "outputs": [
    {
     "data": {
      "text/plain": [
       "{'md/compute/ThermodynamicQuantities/kinetic_temperature': array([1.53168354]),\n",
       " 'md/compute/ThermodynamicQuantities/pressure': array([2.49811521]),\n",
       " 'md/compute/ThermodynamicQuantities/pressure_tensor': array([ 2.41877244,  0.10683312, -0.11849945,  2.76489803, -0.14536742,\n",
       "         2.31067517]),\n",
       " 'md/compute/ThermodynamicQuantities/kinetic_energy': array([1146.46513323]),\n",
       " 'md/compute/ThermodynamicQuantities/translational_kinetic_energy': array([1146.46513323]),\n",
       " 'md/compute/ThermodynamicQuantities/rotational_kinetic_energy': array([0.]),\n",
       " 'md/compute/ThermodynamicQuantities/potential_energy': array([-2193.30235195]),\n",
       " 'md/compute/ThermodynamicQuantities/degrees_of_freedom': array([1497]),\n",
       " 'md/compute/ThermodynamicQuantities/translational_degrees_of_freedom': array([1497]),\n",
       " 'md/compute/ThermodynamicQuantities/rotational_degrees_of_freedom': array([0]),\n",
       " 'md/compute/ThermodynamicQuantities/num_particles': array([500]),\n",
       " 'Simulation/timestep': array([31000]),\n",
       " 'Simulation/tps': array([1978.48031323]),\n",
       " 'Simulation/walltime': array([0.504933]),\n",
       " 'Simulation/final_timestep': array([230000])}"
      ]
     },
     "execution_count": 13,
     "metadata": {},
     "output_type": "execute_result"
    }
   ],
   "source": [
    "traj[0].log"
   ]
  },
  {
   "cell_type": "markdown",
   "metadata": {},
   "source": [
    "The dictionary keys are verbose names that include the **namespace** of the class which computed the quantity, where `.` has been replaced with `/`.\n",
    "For example, access the potential energy computed by **ThermodynamicQuantities** with the key `md/compute/ThermodynamicQuantities/potential_energy`."
   ]
  },
  {
   "cell_type": "code",
   "execution_count": 14,
   "metadata": {},
   "outputs": [
    {
     "data": {
      "text/plain": [
       "array([-2193.30235195])"
      ]
     },
     "execution_count": 14,
     "metadata": {},
     "output_type": "execute_result"
    }
   ],
   "source": [
    "traj[0].log['md/compute/ThermodynamicQuantities/potential_energy']"
   ]
  },
  {
   "cell_type": "markdown",
   "metadata": {},
   "source": [
    "**GSD** stores all quantities in arrays.\n",
    "It stores scalar quantities such as the system potential energy in length 1 arrays (above) while it stores vector and other array quantities as appropriately sized arrays:"
   ]
  },
  {
   "cell_type": "code",
   "execution_count": 15,
   "metadata": {},
   "outputs": [
    {
     "data": {
      "text/plain": [
       "array([ 2.41877244,  0.10683312, -0.11849945,  2.76489803, -0.14536742,\n",
       "        2.31067517])"
      ]
     },
     "execution_count": 15,
     "metadata": {},
     "output_type": "execute_result"
    }
   ],
   "source": [
    "traj[0].log['md/compute/ThermodynamicQuantities/pressure_tensor']"
   ]
  },
  {
   "cell_type": "markdown",
   "metadata": {},
   "source": [
    "**GSD** provides logged quantities individually at each frame in the file.\n",
    "You can convert this to time-series data with a loop and then plot or analyze it:"
   ]
  },
  {
   "cell_type": "code",
   "execution_count": 16,
   "metadata": {},
   "outputs": [],
   "source": [
    "timestep = []\n",
    "walltime = []\n",
    "potential_energy = []\n",
    "\n",
    "for frame in traj:\n",
    "    timestep.append(frame.configuration.step)\n",
    "    walltime.append(frame.log['Simulation/walltime'][0])\n",
    "    potential_energy.append(frame.log['md/compute/ThermodynamicQuantities/potential_energy'][0])"
   ]
  },
  {
   "cell_type": "code",
   "execution_count": 17,
   "metadata": {},
   "outputs": [
    {
     "data": {
      "image/png": "[encoded data removed]",
      "text/plain": [
       "<Figure size 720x444.96 with 1 Axes>"
      ]
     },
     "execution_count": 17,
     "metadata": {},
     "output_type": "execute_result"
    }
   ],
   "source": [
    "fig = matplotlib.figure.Figure(figsize=(10, 6.18))\n",
    "ax = fig.add_subplot()\n",
    "ax.plot(timestep, potential_energy)\n",
    "ax.set_xlabel('timestep')\n",
    "ax.set_ylabel('potential energy')\n",
    "fig"
   ]
  },
  {
   "cell_type": "code",
   "execution_count": 18,
   "metadata": {},
   "outputs": [
    {
     "data": {
      "image/png": "[encoded data removed]",
      "text/plain": [
       "<Figure size 720x444.96 with 1 Axes>"
      ]
     },
     "execution_count": 18,
     "metadata": {},
     "output_type": "execute_result"
    }
   ],
   "source": [
    "fig = matplotlib.figure.Figure(figsize=(10, 6.18))\n",
    "ax = fig.add_subplot()\n",
    "ax.plot(timestep, walltime)\n",
    "ax.set_xlabel('timestep')\n",
    "ax.set_ylabel('walltime')\n",
    "fig"
   ]
  },
  {
   "cell_type": "markdown",
   "metadata": {},
   "source": [
    "## Reading logged data from a text file\n",
    "\n",
    "You can read text files with a variety of tools.\n",
    "`awk` for example:"
   ]
  },
  {
   "cell_type": "code",
   "execution_count": 24,
   "metadata": {},
   "outputs": [
    {
     "name": "stdout",
     "output_type": "stream",
     "text": [
      "md.compute.ThermodynamicQuantities.kinetic_temperature\n",
      "1.53168\n",
      "1.54879\n",
      "1.50149\n",
      "1.52919\n",
      "1.53447\n",
      "1.51896\n",
      "1.47634\n",
      "1.50344\n",
      "1.47980\n"
     ]
    }
   ],
   "source": [
    "!awk -d\\  '{print $5}' log.txt | head"
   ]
  },
  {
   "cell_type": "markdown",
   "metadata": {},
   "source": [
    "Or pandas:"
   ]
  },
  {
   "cell_type": "code",
   "execution_count": 28,
   "metadata": {},
   "outputs": [],
   "source": [
    "import pandas\n",
    "data = pandas.read_csv('log.txt', sep='\\s+')"
   ]
  },
  {
   "cell_type": "code",
   "execution_count": 29,
   "metadata": {},
   "outputs": [
    {
     "data": {
      "text/html": [
       "<div>\n",
       "<style scoped>\n",
       "    .dataframe tbody tr th:only-of-type {\n",
       "        vertical-align: middle;\n",
       "    }\n",
       "\n",
       "    .dataframe tbody tr th {\n",
       "        vertical-align: top;\n",
       "    }\n",
       "\n",
       "    .dataframe thead th {\n",
       "        text-align: right;\n",
       "    }\n",
       "</style>\n",
       "<table border=\"1\" class=\"dataframe\">\n",
       "  <thead>\n",
       "    <tr style=\"text-align: right;\">\n",
       "      <th></th>\n",
       "      <th>Simulation.timestep</th>\n",
       "      <th>Simulation.tps</th>\n",
       "      <th>Simulation.walltime</th>\n",
       "      <th>Simulation.final_timestep</th>\n",
       "      <th>md.compute.ThermodynamicQuantities.kinetic_temperature</th>\n",
       "      <th>md.compute.ThermodynamicQuantities.pressure</th>\n",
       "      <th>md.compute.ThermodynamicQuantities.kinetic_energy</th>\n",
       "      <th>md.compute.ThermodynamicQuantities.translational_kinetic_energy</th>\n",
       "      <th>md.compute.ThermodynamicQuantities.rotational_kinetic_energy</th>\n",
       "      <th>md.compute.ThermodynamicQuantities.potential_energy</th>\n",
       "      <th>md.compute.ThermodynamicQuantities.degrees_of_freedom</th>\n",
       "      <th>md.compute.ThermodynamicQuantities.translational_degrees_of_freedom</th>\n",
       "      <th>md.compute.ThermodynamicQuantities.rotational_degrees_of_freedom</th>\n",
       "      <th>md.compute.ThermodynamicQuantities.num_particles</th>\n",
       "    </tr>\n",
       "  </thead>\n",
       "  <tbody>\n",
       "    <tr>\n",
       "      <th>0</th>\n",
       "      <td>31000</td>\n",
       "      <td>1978.48031</td>\n",
       "      <td>0.50493</td>\n",
       "      <td>230000</td>\n",
       "      <td>1.53168</td>\n",
       "      <td>2.49812</td>\n",
       "      <td>1146.46513</td>\n",
       "      <td>1146.46513</td>\n",
       "      <td>0.0</td>\n",
       "      <td>-2193.30235</td>\n",
       "      <td>1497</td>\n",
       "      <td>1497</td>\n",
       "      <td>0</td>\n",
       "      <td>500</td>\n",
       "    </tr>\n",
       "    <tr>\n",
       "      <th>1</th>\n",
       "      <td>32000</td>\n",
       "      <td>3293.26717</td>\n",
       "      <td>0.60700</td>\n",
       "      <td>230000</td>\n",
       "      <td>1.54879</td>\n",
       "      <td>2.73305</td>\n",
       "      <td>1159.26998</td>\n",
       "      <td>1159.26998</td>\n",
       "      <td>0.0</td>\n",
       "      <td>-2192.03722</td>\n",
       "      <td>1497</td>\n",
       "      <td>1497</td>\n",
       "      <td>0</td>\n",
       "      <td>500</td>\n",
       "    </tr>\n",
       "    <tr>\n",
       "      <th>2</th>\n",
       "      <td>33000</td>\n",
       "      <td>4178.02656</td>\n",
       "      <td>0.71780</td>\n",
       "      <td>230000</td>\n",
       "      <td>1.50149</td>\n",
       "      <td>2.91027</td>\n",
       "      <td>1123.86834</td>\n",
       "      <td>1123.86834</td>\n",
       "      <td>0.0</td>\n",
       "      <td>-2160.01189</td>\n",
       "      <td>1497</td>\n",
       "      <td>1497</td>\n",
       "      <td>0</td>\n",
       "      <td>500</td>\n",
       "    </tr>\n",
       "    <tr>\n",
       "      <th>3</th>\n",
       "      <td>34000</td>\n",
       "      <td>4733.37342</td>\n",
       "      <td>0.84485</td>\n",
       "      <td>230000</td>\n",
       "      <td>1.52919</td>\n",
       "      <td>2.51097</td>\n",
       "      <td>1144.59684</td>\n",
       "      <td>1144.59684</td>\n",
       "      <td>0.0</td>\n",
       "      <td>-2207.44289</td>\n",
       "      <td>1497</td>\n",
       "      <td>1497</td>\n",
       "      <td>0</td>\n",
       "      <td>500</td>\n",
       "    </tr>\n",
       "    <tr>\n",
       "      <th>4</th>\n",
       "      <td>35000</td>\n",
       "      <td>5086.98966</td>\n",
       "      <td>0.98270</td>\n",
       "      <td>230000</td>\n",
       "      <td>1.53447</td>\n",
       "      <td>2.41526</td>\n",
       "      <td>1148.55056</td>\n",
       "      <td>1148.55056</td>\n",
       "      <td>0.0</td>\n",
       "      <td>-2228.64682</td>\n",
       "      <td>1497</td>\n",
       "      <td>1497</td>\n",
       "      <td>0</td>\n",
       "      <td>500</td>\n",
       "    </tr>\n",
       "    <tr>\n",
       "      <th>...</th>\n",
       "      <td>...</td>\n",
       "      <td>...</td>\n",
       "      <td>...</td>\n",
       "      <td>...</td>\n",
       "      <td>...</td>\n",
       "      <td>...</td>\n",
       "      <td>...</td>\n",
       "      <td>...</td>\n",
       "      <td>...</td>\n",
       "      <td>...</td>\n",
       "      <td>...</td>\n",
       "      <td>...</td>\n",
       "      <td>...</td>\n",
       "      <td>...</td>\n",
       "    </tr>\n",
       "    <tr>\n",
       "      <th>195</th>\n",
       "      <td>226000</td>\n",
       "      <td>13810.45115</td>\n",
       "      <td>14.19208</td>\n",
       "      <td>230000</td>\n",
       "      <td>1.51541</td>\n",
       "      <td>2.57286</td>\n",
       "      <td>1134.28413</td>\n",
       "      <td>1134.28413</td>\n",
       "      <td>0.0</td>\n",
       "      <td>-2192.00977</td>\n",
       "      <td>1497</td>\n",
       "      <td>1497</td>\n",
       "      <td>0</td>\n",
       "      <td>500</td>\n",
       "    </tr>\n",
       "    <tr>\n",
       "      <th>196</th>\n",
       "      <td>227000</td>\n",
       "      <td>13815.60174</td>\n",
       "      <td>14.25917</td>\n",
       "      <td>230000</td>\n",
       "      <td>1.47006</td>\n",
       "      <td>2.76671</td>\n",
       "      <td>1100.34324</td>\n",
       "      <td>1100.34324</td>\n",
       "      <td>0.0</td>\n",
       "      <td>-2179.84057</td>\n",
       "      <td>1497</td>\n",
       "      <td>1497</td>\n",
       "      <td>0</td>\n",
       "      <td>500</td>\n",
       "    </tr>\n",
       "    <tr>\n",
       "      <th>197</th>\n",
       "      <td>228000</td>\n",
       "      <td>13820.42046</td>\n",
       "      <td>14.32655</td>\n",
       "      <td>230000</td>\n",
       "      <td>1.46698</td>\n",
       "      <td>2.81798</td>\n",
       "      <td>1098.03145</td>\n",
       "      <td>1098.03145</td>\n",
       "      <td>0.0</td>\n",
       "      <td>-2157.99747</td>\n",
       "      <td>1497</td>\n",
       "      <td>1497</td>\n",
       "      <td>0</td>\n",
       "      <td>500</td>\n",
       "    </tr>\n",
       "    <tr>\n",
       "      <th>198</th>\n",
       "      <td>229000</td>\n",
       "      <td>13825.14028</td>\n",
       "      <td>14.39400</td>\n",
       "      <td>230000</td>\n",
       "      <td>1.52126</td>\n",
       "      <td>2.57772</td>\n",
       "      <td>1138.66430</td>\n",
       "      <td>1138.66430</td>\n",
       "      <td>0.0</td>\n",
       "      <td>-2210.45922</td>\n",
       "      <td>1497</td>\n",
       "      <td>1497</td>\n",
       "      <td>0</td>\n",
       "      <td>500</td>\n",
       "    </tr>\n",
       "    <tr>\n",
       "      <th>199</th>\n",
       "      <td>230000</td>\n",
       "      <td>13829.87058</td>\n",
       "      <td>14.46138</td>\n",
       "      <td>230000</td>\n",
       "      <td>1.47354</td>\n",
       "      <td>2.60805</td>\n",
       "      <td>1102.94746</td>\n",
       "      <td>1102.94746</td>\n",
       "      <td>0.0</td>\n",
       "      <td>-2192.23688</td>\n",
       "      <td>1497</td>\n",
       "      <td>1497</td>\n",
       "      <td>0</td>\n",
       "      <td>500</td>\n",
       "    </tr>\n",
       "  </tbody>\n",
       "</table>\n",
       "<p>200 rows × 14 columns</p>\n",
       "</div>"
      ],
      "text/plain": [
       "     Simulation.timestep  Simulation.tps  Simulation.walltime  \\\n",
       "0                  31000      1978.48031              0.50493   \n",
       "1                  32000      3293.26717              0.60700   \n",
       "2                  33000      4178.02656              0.71780   \n",
       "3                  34000      4733.37342              0.84485   \n",
       "4                  35000      5086.98966              0.98270   \n",
       "..                   ...             ...                  ...   \n",
       "195               226000     13810.45115             14.19208   \n",
       "196               227000     13815.60174             14.25917   \n",
       "197               228000     13820.42046             14.32655   \n",
       "198               229000     13825.14028             14.39400   \n",
       "199               230000     13829.87058             14.46138   \n",
       "\n",
       "     Simulation.final_timestep  \\\n",
       "0                       230000   \n",
       "1                       230000   \n",
       "2                       230000   \n",
       "3                       230000   \n",
       "4                       230000   \n",
       "..                         ...   \n",
       "195                     230000   \n",
       "196                     230000   \n",
       "197                     230000   \n",
       "198                     230000   \n",
       "199                     230000   \n",
       "\n",
       "     md.compute.ThermodynamicQuantities.kinetic_temperature  \\\n",
       "0                                              1.53168        \n",
       "1                                              1.54879        \n",
       "2                                              1.50149        \n",
       "3                                              1.52919        \n",
       "4                                              1.53447        \n",
       "..                                                 ...        \n",
       "195                                            1.51541        \n",
       "196                                            1.47006        \n",
       "197                                            1.46698        \n",
       "198                                            1.52126        \n",
       "199                                            1.47354        \n",
       "\n",
       "     md.compute.ThermodynamicQuantities.pressure  \\\n",
       "0                                        2.49812   \n",
       "1                                        2.73305   \n",
       "2                                        2.91027   \n",
       "3                                        2.51097   \n",
       "4                                        2.41526   \n",
       "..                                           ...   \n",
       "195                                      2.57286   \n",
       "196                                      2.76671   \n",
       "197                                      2.81798   \n",
       "198                                      2.57772   \n",
       "199                                      2.60805   \n",
       "\n",
       "     md.compute.ThermodynamicQuantities.kinetic_energy  \\\n",
       "0                                           1146.46513   \n",
       "1                                           1159.26998   \n",
       "2                                           1123.86834   \n",
       "3                                           1144.59684   \n",
       "4                                           1148.55056   \n",
       "..                                                 ...   \n",
       "195                                         1134.28413   \n",
       "196                                         1100.34324   \n",
       "197                                         1098.03145   \n",
       "198                                         1138.66430   \n",
       "199                                         1102.94746   \n",
       "\n",
       "     md.compute.ThermodynamicQuantities.translational_kinetic_energy  \\\n",
       "0                                           1146.46513                 \n",
       "1                                           1159.26998                 \n",
       "2                                           1123.86834                 \n",
       "3                                           1144.59684                 \n",
       "4                                           1148.55056                 \n",
       "..                                                 ...                 \n",
       "195                                         1134.28413                 \n",
       "196                                         1100.34324                 \n",
       "197                                         1098.03145                 \n",
       "198                                         1138.66430                 \n",
       "199                                         1102.94746                 \n",
       "\n",
       "     md.compute.ThermodynamicQuantities.rotational_kinetic_energy  \\\n",
       "0                                                  0.0              \n",
       "1                                                  0.0              \n",
       "2                                                  0.0              \n",
       "3                                                  0.0              \n",
       "4                                                  0.0              \n",
       "..                                                 ...              \n",
       "195                                                0.0              \n",
       "196                                                0.0              \n",
       "197                                                0.0              \n",
       "198                                                0.0              \n",
       "199                                                0.0              \n",
       "\n",
       "     md.compute.ThermodynamicQuantities.potential_energy  \\\n",
       "0                                          -2193.30235     \n",
       "1                                          -2192.03722     \n",
       "2                                          -2160.01189     \n",
       "3                                          -2207.44289     \n",
       "4                                          -2228.64682     \n",
       "..                                                 ...     \n",
       "195                                        -2192.00977     \n",
       "196                                        -2179.84057     \n",
       "197                                        -2157.99747     \n",
       "198                                        -2210.45922     \n",
       "199                                        -2192.23688     \n",
       "\n",
       "     md.compute.ThermodynamicQuantities.degrees_of_freedom  \\\n",
       "0                                                 1497       \n",
       "1                                                 1497       \n",
       "2                                                 1497       \n",
       "3                                                 1497       \n",
       "4                                                 1497       \n",
       "..                                                 ...       \n",
       "195                                               1497       \n",
       "196                                               1497       \n",
       "197                                               1497       \n",
       "198                                               1497       \n",
       "199                                               1497       \n",
       "\n",
       "     md.compute.ThermodynamicQuantities.translational_degrees_of_freedom  \\\n",
       "0                                                 1497                     \n",
       "1                                                 1497                     \n",
       "2                                                 1497                     \n",
       "3                                                 1497                     \n",
       "4                                                 1497                     \n",
       "..                                                 ...                     \n",
       "195                                               1497                     \n",
       "196                                               1497                     \n",
       "197                                               1497                     \n",
       "198                                               1497                     \n",
       "199                                               1497                     \n",
       "\n",
       "     md.compute.ThermodynamicQuantities.rotational_degrees_of_freedom  \\\n",
       "0                                                    0                  \n",
       "1                                                    0                  \n",
       "2                                                    0                  \n",
       "3                                                    0                  \n",
       "4                                                    0                  \n",
       "..                                                 ...                  \n",
       "195                                                  0                  \n",
       "196                                                  0                  \n",
       "197                                                  0                  \n",
       "198                                                  0                  \n",
       "199                                                  0                  \n",
       "\n",
       "     md.compute.ThermodynamicQuantities.num_particles  \n",
       "0                                                 500  \n",
       "1                                                 500  \n",
       "2                                                 500  \n",
       "3                                                 500  \n",
       "4                                                 500  \n",
       "..                                                ...  \n",
       "195                                               500  \n",
       "196                                               500  \n",
       "197                                               500  \n",
       "198                                               500  \n",
       "199                                               500  \n",
       "\n",
       "[200 rows x 14 columns]"
      ]
     },
     "execution_count": 29,
     "metadata": {},
     "output_type": "execute_result"
    }
   ],
   "source": [
    "data"
   ]
  },
  {
   "cell_type": "markdown",
   "metadata": {},
   "source": [
    "In this section, you have logged quantities to a file during a simulation run and analyzed that data as a time series.\n",
    "The next section of this tutorial will show you how to save per-particle quantities associated with specific system configurations."
   ]
  },
  {
   "cell_type": "markdown",
   "metadata": {
    "nbsphinx": "hidden"
   },
   "source": [
    "[Previous section](01-Displaying-Status-Information.ipynb) / [Next section](03-Saving-Array-Quantities.ipynb)"
   ]
  }
 ],
 "metadata": {
  "kernelspec": {
   "display_name": "Python 3",
   "language": "python",
   "name": "python3"
  },
  "language_info": {
   "codemirror_mode": {
    "name": "ipython",
    "version": 3
   },
   "file_extension": ".py",
   "mimetype": "text/x-python",
   "name": "python",
   "nbconvert_exporter": "python",
   "pygments_lexer": "ipython3",
   "version": "3.8.6"
  }
 },
 "nbformat": 4,
 "nbformat_minor": 4
}
