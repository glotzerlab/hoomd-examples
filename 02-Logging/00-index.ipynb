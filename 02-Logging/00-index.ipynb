{
 "cells": [
  {
   "cell_type": "markdown",
   "metadata": {},
   "source": [
    "# Logging\n",
    "\n",
    "This tutorial explains how to log quantities computed during the simulation.\n",
    "\n",
    "\n",
    "**Prerequisites:**\n",
    "\n",
    "While logging is a general topic, this tutorial uses MD and HPMC simulations to demonstrate.\n",
    "The tutorials [Introducing-HOOMD-blue](../00-Introducing-HOOMD-blue/00-index.ipynb) and [Introducing Molecular Dynamics](../01-Introducing-Molecular-Dynamics/00-index.ipynb) teach these concepts."
   ]
  },
  {
   "cell_type": "markdown",
   "metadata": {
    "nbsphinx-toctree": {
     "maxdepth": 1
    }
   },
   "source": [
    "## Outline\n",
    "\n",
    "1. [Displaying Status Information](01-Displaying-Status-Information.ipynb) - What is a Logger? How do I display status information during a simulation?\n",
    "2. [Writing to a File](02-Writing-to-a-File.ipynb) - How can I write thermodynamic and other quantities to a file? How can I access that data?\n",
    "3. [Saving Array Quantities](03-Saving-Array-Quantities.ipynb) - How can I save per-particle quantities for later analysis? How can I access that data?\n",
    "4. [Storing Particle Shape](04-Storing-Particle-Shape.ipynb) - How can I store particle shape for use with visualization tools like OVITO?"
   ]
  },
  {
   "cell_type": "markdown",
   "metadata": {},
   "source": [
    "This tutorial is written with [jupyter](https://jupyter.org/). You can download the source from the [hoomd-examples](https://github.com/glotzerlab/hoomd-examples) repository."
   ]
  },
  {
   "cell_type": "markdown",
   "metadata": {
    "nbsphinx": "hidden"
   },
   "source": [
    "[Next section](01-Displaying-Status-Information.ipynb)."
   ]
  }
 ],
 "metadata": {
  "kernelspec": {
   "display_name": "Python 3",
   "language": "python",
   "name": "python3"
  },
  "language_info": {
   "codemirror_mode": {
    "name": "ipython",
    "version": 3
   },
   "file_extension": ".py",
   "mimetype": "text/x-python",
   "name": "python",
   "nbconvert_exporter": "python",
   "pygments_lexer": "ipython3",
   "version": "3.8.6"
  }
 },
 "nbformat": 4,
 "nbformat_minor": 4
}
