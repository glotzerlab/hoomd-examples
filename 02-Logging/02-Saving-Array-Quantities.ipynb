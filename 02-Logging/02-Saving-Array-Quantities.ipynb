{
 "cells": [
  {
   "cell_type": "markdown",
   "metadata": {},
   "source": [
    "# Saving Array Quantities\n",
    "\n",
    "## Overview\n",
    "\n",
    "### Questions\n",
    "\n",
    "* How can I save per-particle quantities for later analysis?\n",
    "* How can I access that data?\n",
    "\n",
    "### Objectives\n",
    "\n",
    "* Show how to log **per-particle properties** to a **GSD** file.\n",
    "* Explain how to read logged quantities from a **GSD** file.\n",
    "* Mention that OVITO reads these quantities.\n",
    "\n",
    "## Boilerplate code"
   ]
  },
  {
   "cell_type": "code",
   "execution_count": 1,
   "metadata": {},
   "outputs": [],
   "source": [
    "import hoomd\n",
    "import numpy\n",
    "import gsd.hoomd\n",
    "import matplotlib\n",
    "%matplotlib inline\n",
    "matplotlib.style.use('ggplot')"
   ]
  },
  {
   "cell_type": "code",
   "execution_count": 2,
   "metadata": {},
   "outputs": [],
   "source": [
    "import os\n",
    "fn = os.path.join(os.getcwd(), 'trajectory.gsd')\n",
    "![ -e \"$fn\" ] && rm \"$fn\""
   ]
  },
  {
   "cell_type": "markdown",
   "metadata": {},
   "source": [
    "The `render` function in the next (hidden) cell will render the system state using **fresnel**.\n",
    "\n",
    "<div class=\"alert alert-info\">\n",
    "    This is not intended as a full tutorial on <b>fresnel</b> - see the <a href=\"https://fresnel.readthedocs.io/\">fresnel user documentation</a> if you would like to learn more.\n",
    "</div>"
   ]
  },
  {
   "cell_type": "code",
   "execution_count": 3,
   "metadata": {
    "jupyter": {
     "source_hidden": true
    },
    "nbsphinx": "hidden"
   },
   "outputs": [],
   "source": [
    "import fresnel\n",
    "import math\n",
    "\n",
    "device = fresnel.Device()\n",
    "tracer = fresnel.tracer.Path(device=device, w=430, h=430)\n",
    "\n",
    "def render(snapshot):\n",
    "    L = snapshot.configuration.box[0]\n",
    "    scene = fresnel.Scene(device)\n",
    "    geometry = fresnel.geometry.Sphere(scene, N=len(snapshot.particles.position), radius=0.5)\n",
    "    geometry.material = fresnel.material.Material(color=fresnel.color.linear([0.01, 0.74, 0.26]),\n",
    "                                                  roughness=0.5,\n",
    "                                                  primitive_color_mix=1.0)\n",
    "    geometry.position[:] = snapshot.particles.position[:]\n",
    "    geometry.outline_width = 0.04\n",
    "    energies = snapshot.log['particles/md/pair/LJ/energies']\n",
    "    mapper = matplotlib.cm.ScalarMappable(norm = matplotlib.colors.Normalize(vmin=numpy.min(energies),\n",
    "                                                                             vmax=numpy.max(energies),\n",
    "                                                                             clip=True),\n",
    "                                          cmap = matplotlib.cm.get_cmap(name='viridis'))    \n",
    "    geometry.color[:] = fresnel.color.linear(mapper.to_rgba(energies))\n",
    "    \n",
    "    box = fresnel.geometry.Box(scene, [L, L, L, 0, 0, 0], box_radius=.02)\n",
    "    \n",
    "    scene.lights = [fresnel.light.Light(direction=(0, 0, 1), color=(0.8, 0.8, 0.8), theta=math.pi),\n",
    "                    fresnel.light.Light(direction=(1, 1, 1), color=(1.1, 1.1, 1.1), theta=math.pi / 3)]\n",
    "    scene.camera = fresnel.camera.orthographic(position=(0, 0, L+1),\n",
    "                                               look_at=(0, 0, 0),\n",
    "                                               up=(0, 1, 0),\n",
    "                                               height=L+1)\n",
    "    scene.background_color = (1,1,1)\n",
    "    return tracer.sample(scene, samples=1000)"
   ]
  },
  {
   "cell_type": "markdown",
   "metadata": {},
   "source": [
    "## Array quantities\n",
    "\n",
    "You logged a 6-element array quantity in the previous section, the pressure tensor.\n",
    "You can also log larger arrays and per-particle quantities (e.g. energy and force) in a **GSD** file along with the trajectory.\n",
    "Then you can use utilize the data in your analysis and visualization workflow, such as using [OVITO](https://www.ovito.org/) to color particles by energy or display force vectors.\n",
    "When using OVITO, open the **GSD** file and all logged quantities will be available in the inspector and for use in the pipeline."
   ]
  },
  {
   "cell_type": "markdown",
   "metadata": {},
   "source": [
    "## Define the Simulation\n",
    "\n",
    "This tutorial executes the Lennard-Jones particle simulation from a previous tutorial. \n",
    "See [*Introducing Molecular Dyamics*](../01-Introducing-Molecular-Dynamics/00-index.ipynb) for a complete description of this code."
   ]
  },
  {
   "cell_type": "code",
   "execution_count": 4,
   "metadata": {},
   "outputs": [],
   "source": [
    "gpu = hoomd.device.GPU()\n",
    "sim = hoomd.Simulation(device=gpu)\n",
    "sim.create_state_from_gsd(filename='../01-Introducing-Molecular-Dynamics/random.gsd')\n",
    "\n",
    "integrator = hoomd.md.Integrator(dt=0.005)\n",
    "cell = hoomd.md.nlist.Cell()\n",
    "lj = hoomd.md.pair.LJ(nlist=cell)\n",
    "lj.params[('A', 'A')] = dict(epsilon=1, sigma=1)\n",
    "lj.r_cut[('A', 'A')] = 2.5\n",
    "integrator.forces.append(lj)\n",
    "nvt = hoomd.md.methods.NVT(kT=1.5, filter=hoomd.filter.All(), tau=1.0)\n",
    "integrator.methods.append(nvt)\n",
    "sim.operations.integrator = integrator\n",
    "sim.run(0)"
   ]
  },
  {
   "cell_type": "markdown",
   "metadata": {},
   "source": [
    "## Logging per-particle quantities\n",
    "\n",
    "MD forces provide a number of loggable quantities including their contribution to the system energy, but also per-particle energy contributions (in `energies`) and per-particle forces, torques, and virials."
   ]
  },
  {
   "cell_type": "code",
   "execution_count": 5,
   "metadata": {},
   "outputs": [
    {
     "data": {
      "text/plain": [
       "{'state': 'state',\n",
       " 'energy': 'scalar',\n",
       " 'energies': 'particle',\n",
       " 'forces': 'particle',\n",
       " 'torques': 'particle',\n",
       " 'virials': 'particle'}"
      ]
     },
     "execution_count": 5,
     "metadata": {},
     "output_type": "execute_result"
    }
   ],
   "source": [
    "lj.loggables"
   ]
  },
  {
   "cell_type": "markdown",
   "metadata": {},
   "source": [
    "Add the per-particle LJ energies and forces to a logger:"
   ]
  },
  {
   "cell_type": "code",
   "execution_count": 6,
   "metadata": {},
   "outputs": [],
   "source": [
    "logger = hoomd.logging.Logger()\n",
    "logger.add(lj, quantities=['energies', 'forces'])"
   ]
  },
  {
   "cell_type": "markdown",
   "metadata": {},
   "source": [
    "## Writing per-particle quantities to a GSD file\n",
    "\n",
    "In the previous section, you used the **Null** filter to produce **GSD** file with *only* logged data.\n",
    "In this section, include all particles so that you can associate logged per-particle quantities with the particle properties.\n"
   ]
  },
  {
   "cell_type": "code",
   "execution_count": 7,
   "metadata": {},
   "outputs": [],
   "source": [
    "gsd_writer = hoomd.write.GSD(filename='trajectory.gsd',\n",
    "                             trigger=hoomd.trigger.Periodic(10000),\n",
    "                             mode='xb',\n",
    "                             filter=hoomd.filter.All(),\n",
    "                             log=logger)\n",
    "sim.operations.writers.append(gsd_writer)"
   ]
  },
  {
   "cell_type": "markdown",
   "metadata": {},
   "source": [
    "Run the simulation:"
   ]
  },
  {
   "cell_type": "code",
   "execution_count": 8,
   "metadata": {},
   "outputs": [],
   "source": [
    "sim.run(100000)"
   ]
  },
  {
   "cell_type": "markdown",
   "metadata": {},
   "source": [
    "As discussed in the previous section, delete the simulation so it is safe to open the GSD file for reading in the same process."
   ]
  },
  {
   "cell_type": "code",
   "execution_count": 9,
   "metadata": {},
   "outputs": [],
   "source": [
    "del sim, gsd_writer, logger, integrator, nvt, lj, cell, gpu"
   ]
  },
  {
   "cell_type": "markdown",
   "metadata": {},
   "source": [
    "## Reading logged data from a GSD file\n",
    "\n",
    "Use the `gsd` package to open the file:"
   ]
  },
  {
   "cell_type": "code",
   "execution_count": 10,
   "metadata": {},
   "outputs": [],
   "source": [
    "traj = gsd.hoomd.open('trajectory.gsd', 'rb')"
   ]
  },
  {
   "cell_type": "markdown",
   "metadata": {},
   "source": [
    "GSD prepends `particles/` to the logged name of per-particle quantities:"
   ]
  },
  {
   "cell_type": "code",
   "execution_count": 11,
   "metadata": {},
   "outputs": [
    {
     "data": {
      "text/plain": [
       "dict_keys(['particles/md/pair/pair/LJ/energies', 'particles/md/pair/pair/LJ/forces'])"
      ]
     },
     "execution_count": 11,
     "metadata": {},
     "output_type": "execute_result"
    }
   ],
   "source": [
    "traj[0].log.keys()"
   ]
  },
  {
   "cell_type": "markdown",
   "metadata": {},
   "source": [
    "The quantities are numpy arrays with `N_particles` elements.\n",
    "Here are a few slices:"
   ]
  },
  {
   "cell_type": "code",
   "execution_count": 12,
   "metadata": {},
   "outputs": [
    {
     "ename": "KeyError",
     "evalue": "'particles/md/pair/LJ/energies'",
     "output_type": "error",
     "traceback": [
      "\u001b[0;31m---------------------------------------------------------------------------\u001b[0m",
      "\u001b[0;31mKeyError\u001b[0m                                  Traceback (most recent call last)",
      "\u001b[0;32m<ipython-input-12-cb11efd18511>\u001b[0m in \u001b[0;36m<module>\u001b[0;34m\u001b[0m\n\u001b[0;32m----> 1\u001b[0;31m \u001b[0mtraj\u001b[0m\u001b[0;34m[\u001b[0m\u001b[0;34m-\u001b[0m\u001b[0;36m1\u001b[0m\u001b[0;34m]\u001b[0m\u001b[0;34m.\u001b[0m\u001b[0mlog\u001b[0m\u001b[0;34m[\u001b[0m\u001b[0;34m'particles/md/pair/LJ/energies'\u001b[0m\u001b[0;34m]\u001b[0m\u001b[0;34m[\u001b[0m\u001b[0;36m0\u001b[0m\u001b[0;34m:\u001b[0m\u001b[0;36m10\u001b[0m\u001b[0;34m]\u001b[0m\u001b[0;34m\u001b[0m\u001b[0;34m\u001b[0m\u001b[0m\n\u001b[0m",
      "\u001b[0;31mKeyError\u001b[0m: 'particles/md/pair/LJ/energies'"
     ]
    }
   ],
   "source": [
    "traj[-1].log['particles/md/pair/LJ/energies'][0:10]"
   ]
  },
  {
   "cell_type": "code",
   "execution_count": null,
   "metadata": {},
   "outputs": [],
   "source": [
    "traj[-1].log['particles/md/pair/LJ/forces'][0:10]"
   ]
  },
  {
   "cell_type": "markdown",
   "metadata": {},
   "source": [
    "You can use these arrays as inputs to any computation or plotting tools:"
   ]
  },
  {
   "cell_type": "code",
   "execution_count": null,
   "metadata": {},
   "outputs": [],
   "source": [
    "numpy.mean(traj[-1].log['particles/md/pair/LJ/forces'], axis=0)"
   ]
  },
  {
   "cell_type": "code",
   "execution_count": null,
   "metadata": {},
   "outputs": [],
   "source": [
    "fig = matplotlib.figure.Figure(figsize=(10, 6.18))\n",
    "ax = fig.add_subplot()\n",
    "ax.hist(traj[-1].log['particles/md/pair/LJ/energies'], 100)\n",
    "ax.set_xlabel('potential energy')\n",
    "ax.set_ylabel('count')\n",
    "fig"
   ]
  },
  {
   "cell_type": "markdown",
   "metadata": {},
   "source": [
    "As with scalar quantities, the array quantities are stored separately in each frame.\n",
    "Use a loop to access a range of frames and compute time-series data or averages."
   ]
  },
  {
   "cell_type": "markdown",
   "metadata": {},
   "source": [
    "This is what the system looks like when you color the particles by the values in `particles/md/pair/LJ/energies`:"
   ]
  },
  {
   "cell_type": "code",
   "execution_count": null,
   "metadata": {},
   "outputs": [],
   "source": [
    "render(traj[-1])"
   ]
  },
  {
   "cell_type": "markdown",
   "metadata": {},
   "source": [
    "In this section, you have logged per-particle quantities to a GSD file during a simulation run and accessed that data with a script.\n",
    "The next section of this tutorial demonstrates how to log particle shape information that OVITO can use."
   ]
  },
  {
   "cell_type": "markdown",
   "metadata": {
    "nbsphinx": "hidden"
   },
   "source": [
    "[Previous section](01-Logging-to-a-GSD-file.ipynb) / [Next section](03-Storing-Particle-Shape.ipynb)"
   ]
  }
 ],
 "metadata": {
  "kernelspec": {
   "display_name": "Python 3",
   "language": "python",
   "name": "python3"
  },
  "language_info": {
   "codemirror_mode": {
    "name": "ipython",
    "version": 3
   },
   "file_extension": ".py",
   "mimetype": "text/x-python",
   "name": "python",
   "nbconvert_exporter": "python",
   "pygments_lexer": "ipython3",
   "version": "3.9.1"
  }
 },
 "nbformat": 4,
 "nbformat_minor": 4
}
