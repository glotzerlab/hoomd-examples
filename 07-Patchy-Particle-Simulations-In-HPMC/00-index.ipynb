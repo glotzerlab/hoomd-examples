{
 "cells": [
  {
   "cell_type": "markdown",
   "metadata": {},
   "source": [
    "# Patchy Particle Simulations in HPMC\n",
    "\n",
    "This tutorial introduces the `hpmc.pair.user` module, which enables the addition of user-defined, arbitrary, pairwise energetic interactions to a HPMC simulation.\n",
    "We implement the Kern–Frenkel potential as a model for triblock Janus particles.\n",
    "\n",
    "**Prerequisites:**\n",
    "\n",
    "This tutorial assumes you are familiar with the concepts introduced in the previous tutorials."
   ]
  },
  {
   "cell_type": "markdown",
   "metadata": {
    "nbsphinx-toctree": {
     "maxdepth": 1
    }
   },
   "source": [
    "## Outline\n",
    "\n",
    "1. [Implementing the Kern–Frenkel model](01-Kern-Frenkel.ipynb) - How do I implement pairwise energetic interactions into HPMC simulations?\n",
    "1. [Simulating a system of Janus particles](02-Triblock-Janus-particle-simulation.ipynb) - How can I add arbitrary energetic interactions between pairs of particles in HPMC?\n",
    "<!-- 1. [MD simulations of triblock Janus particles](03-MD-patchy-particle-simulation.ipynb) - How do I simulate a system of patchy particles with molecular dynamics? -->\n",
    "\n",
    "This tutorial is written with [jupyter](https://jupyter.org/). You can download the source from the [hoomd-examples](https://github.com/glotzerlab/hoomd-examples) repository."
   ]
  }
 ],
 "metadata": {
  "kernelspec": {
   "display_name": "Python 3 (ipykernel)",
   "language": "python",
   "name": "python3"
  },
  "language_info": {
   "codemirror_mode": {
    "name": "ipython",
    "version": 3
   },
   "file_extension": ".py",
   "mimetype": "text/x-python",
   "name": "python",
   "nbconvert_exporter": "python",
   "pygments_lexer": "ipython3",
   "version": "3.9.15"
  },
  "record_timing": false
 },
 "nbformat": 4,
 "nbformat_minor": 4
}
