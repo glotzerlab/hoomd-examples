{
 "cells": [
  {
   "cell_type": "markdown",
   "metadata": {},
   "source": [
    "# Patchy Particle Simulations in HPMC\n",
    "\n",
    "This tutorial introduces the `hpmc.pair.user` module, which enables the addition of user-defined, arbitrary, pairwise energetic interactions to a HPMC simulation.\n",
    "We first introduce patchy particles.\n",
    "Next, we briefly digress from patchy particles and introduce the `hpmc.pair.user.CPPPotential` class to show how to add (isotropic) pair potentials to a HPMC simulation.\n",
    "Finally, we implement the Kern–Frenkel potential as a model for triblock Janus particles and simulate their self-assembly into a kagome lattice.\n",
    "\n",
    "**Prerequisites:**\n",
    "\n",
    "This tutorial assumes you are familiar with the concepts introduced in the previous tutorials."
   ]
  },
  {
   "cell_type": "markdown",
   "metadata": {
    "nbsphinx-toctree": {
     "maxdepth": 1
    }
   },
   "source": [
    "## Outline\n",
    "\n",
    "1. [Patchy Particles](01-Patchy-Particles.ipynb) - What are patchy particles? How can I model patchy particles?\n",
    "1. [Adding Energetic Interactions to HPMC Simulations](02-Adding-Energetic-Interactions-to-HPMC-Simulations.ipynb) - How can I add arbitrary energetic interactions between pairs of particles in HPMC?\n",
    "1. [Running a Patchy Particle Simulation](03-Running-a-Patchy-Particle-Simulation.ipynb) - How do I simulate a system of patchy particles?\n",
    "\n",
    "This tutorial is written with [jupyter](https://jupyter.org/). You can download the source from the [hoomd-examples](https://github.com/glotzerlab/hoomd-examples) repository."
   ]
  }
 ],
 "metadata": {
  "kernelspec": {
   "display_name": "Python 3 (ipykernel)",
   "language": "python",
   "name": "python3"
  },
  "language_info": {
   "codemirror_mode": {
    "name": "ipython",
    "version": 3
   },
   "file_extension": ".py",
   "mimetype": "text/x-python",
   "name": "python",
   "nbconvert_exporter": "python",
   "pygments_lexer": "ipython3",
   "version": "3.9.13"
  },
  "record_timing": false
 },
 "nbformat": 4,
 "nbformat_minor": 4
}
