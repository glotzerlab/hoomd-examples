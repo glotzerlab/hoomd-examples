{
 "cells": [
  {
   "cell_type": "markdown",
   "id": "f942d527",
   "metadata": {},
   "source": [
    "# Simulating a system of Kern–Frenkel particles\n",
    "\n",
    "## Overview\n",
    "\n",
    "### Questions\n",
    "* How do I implement pairwise energetic interactions in HPMC?\n",
    "\n",
    "### Objectives\n",
    "* Run a simulation of particles interacting through the Kern–Frenkel pair potential.\n",
    "* Log the potential energy during an HPMC simulation.\n",
    "\n",
    "## Boilerplate code"
   ]
  },
  {
   "cell_type": "code",
   "execution_count": 1,
   "id": "8e546e0c",
   "metadata": {
    "ExecuteTime": {
     "end_time": "2023-03-01T01:07:27.663048Z",
     "start_time": "2023-03-01T01:07:23.930329Z"
    }
   },
   "outputs": [],
   "source": [
    "import gsd.hoomd\n",
    "import hoomd\n",
    "import itertools\n",
    "import math\n",
    "import matplotlib\n",
    "import numpy\n",
    "\n",
    "%matplotlib inline\n",
    "matplotlib.style.use('ggplot')"
   ]
  },
  {
   "cell_type": "markdown",
   "id": "0c6c65b0",
   "metadata": {},
   "source": [
    "In the previous section, you learned about the Kern–Frenkel model and saw a C++ code snippet that implements the model in a way that can be used in an HPMC simulation.\n",
    "In this section, we will initialize a system of particles, add the Kern–Frenkel pair potential to the simulation, and run the simulation while logging the energy.\n",
    "\n",
    "## Constructing the system\n",
    "Construct the system using the same code you used in [Introducing HOOMD-blue tutorial](../00-Introducing-HOOMD-blue/03-Initializing-the-System-State.ipynb) and then initialize a simulation."
   ]
  },
  {
   "cell_type": "code",
   "execution_count": 2,
   "id": "4ff9784b",
   "metadata": {
    "ExecuteTime": {
     "end_time": "2023-03-01T01:07:27.696637Z",
     "start_time": "2023-03-01T01:07:27.667780Z"
    }
   },
   "outputs": [],
   "source": [
    "m = 4\n",
    "N_particles = 2 * m**3\n",
    "spacing = 1.2\n",
    "K = math.ceil(N_particles**(1 / 3))\n",
    "L = K * spacing\n",
    "x = numpy.linspace(-L / 2, L / 2, K, endpoint=False)\n",
    "position = list(itertools.product(x, repeat=3))\n",
    "position = position[0:N_particles]\n",
    "orientation = [(1, 0, 0, 0)] * N_particles\n",
    "\n",
    "# gsd snapshot\n",
    "snapshot = gsd.hoomd.Snapshot()\n",
    "snapshot.particles.N = N_particles\n",
    "snapshot.particles.position = position\n",
    "snapshot.particles.orientation = orientation\n",
    "snapshot.particles.typeid = [0] * N_particles\n",
    "snapshot.particles.types = ['A']\n",
    "snapshot.configuration.box = [L, L, L, 0, 0, 0]\n",
    "with gsd.hoomd.open(name='initial.gsd', mode='xb') as f:\n",
    "    f.append(snapshot)\n",
    "    \n",
    "# build simulation\n",
    "cpu = hoomd.device.CPU()\n",
    "sim = hoomd.Simulation(device=cpu, seed=0)\n",
    "sim.create_state_from_gsd(filename='initial.gsd')"
   ]
  },
  {
   "cell_type": "markdown",
   "id": "309d1299",
   "metadata": {},
   "source": [
    "### Add HPMC integrator\n",
    "Now add an HPMC integrator to the system.\n",
    "Since the cores of the particles are spherical, we add the `Sphere` integrator.\n",
    "Since these particles also have an orientation, we must tell HPMC to perform rotation moves on the particles."
   ]
  },
  {
   "cell_type": "code",
   "execution_count": 3,
   "id": "07dd2718",
   "metadata": {
    "ExecuteTime": {
     "end_time": "2023-03-01T01:07:27.711769Z",
     "start_time": "2023-03-01T01:07:27.699915Z"
    }
   },
   "outputs": [],
   "source": [
    "sigma = 1.0  # hard core diameter\n",
    "kf_lambda = 1.2  # range of patchy interaction\n",
    "kf_epsilon = 2.0  # strength of patchy interaction in kT\n",
    "kf_delta_deg = 45  # half-opening angle of patches\n",
    "mc = hoomd.hpmc.integrate.Sphere()\n",
    "mc.shape['A'] = dict(diameter=sigma, orientable=True)\n",
    "sim.operations.integrator = mc"
   ]
  },
  {
   "cell_type": "markdown",
   "id": "d782b591",
   "metadata": {},
   "source": [
    "### Add the pair potential\n",
    "Now add the pair potential to the integrator.\n",
    "Use the same code as in [the previous section](01-Kern-Frenkel.ipynb) with a slight formatting change.\n",
    "Because we pass the code as a Python string, we must use double curly brackets in place of single curly brackets.\n",
    "Set the "
   ]
  },
  {
   "cell_type": "code",
   "execution_count": 4,
   "id": "21564d70",
   "metadata": {
    "ExecuteTime": {
     "end_time": "2023-03-01T01:07:29.326041Z",
     "start_time": "2023-03-01T01:07:27.732212Z"
    }
   },
   "outputs": [
    {
     "ename": "RuntimeError",
     "evalue": "Error compiling JIT code:\n\n                        #include <stdio.h>\n                        #include \"hoomd/HOOMDMath.h\"\n                        #include \"hoomd/VectorMath.h\"\n\n                        // param_array (singlet class) or param_array_isotropic\n                        // and param_array_constituent (union class) are\n                        // allocated by the library\n                        float *param_array;\n                        \n\n                        using namespace hoomd;\n\n                        extern \"C\"\n                        {\n                        float eval(const vec3<float>& r_ij,\n                            unsigned int type_i,\n                            const quat<float>& q_i,\n                            float d_i,\n                            float charge_i,\n                            unsigned int type_j,\n                            const quat<float>& q_j,\n                            float d_j,\n                            float charge_j)\n                            {\n                        \n// constants\nconst float epsilon = 2.000000;  // = 2 kT\nconst float sigma = 1.000000;  // hard core radius\nconst float lambda = 1.200000;\nconst float delta = 45 * M_PI / 180;  // delta in radians\nconst vec3<float> ehat_particle_reference(1, 0, 0);  // patch director, unit magnitude\n\n// relevant quantities\nehat_i = rotate(q_i, ehat_particle_reference);\nehat_j = rotate(q_j, ehat_particle_reference);\nfloat rsq = dot(r_ij, r_ij);\nvec3<float> r_hat_ij = r_ij / sqrt(rsq);  // unit vector pointing from particle i to particle j\nbool patch_on_i_is_aligned = dot(ehat_i, r_hat_ij) >= cos(delta);\nbool patch_on_j_is_aligned = dot(ehat_j, -r_hat_ij) >= cos(delta);\n\n// check for patch alignment and distance criterion\nif (patch_on_i_is_aligned && patch_on_j_is_aligned && rsq < 2*lambda*sigma * 2*lambda*sigma)\n    {\n    return -epsilon\n    }\nelse\n    {\n    return 0.0;\n    }\n\n                            }\n                        }\n                        \nCompilation arguments:\n-cc1\n-triple\nx86_64-apple-macosx11.0.0\n-Wundef-prefix=TARGET_OS_OSX\n-Werror=undef-prefix\n-Wdeprecated-objc-isa-usage\n-Werror=deprecated-objc-isa-usage\n-emit-llvm\n-disable-free\n-clear-ast-before-backend\n-disable-llvm-verifier\n-discard-value-names\n-main-file-name\n_hoomd_llvm_code.cc\n-mrelocation-model\npic\n-pic-level\n2\n-mframe-pointer=all\n-ffp-contract=on\n-fno-rounding-math\n-funwind-tables=2\n-fcompatibility-qualified-id-block-type-checking\n-fvisibility-inlines-hidden-static-local-var\n-target-cpu\npenryn\n-tune-cpu\ngeneric\n-mllvm\n-treat-scalable-fixed-error-as-warning\n-debugger-tuning=lldb\n-target-linker-version\n609\n-fcoverage-compilation-dir=/Users/tcmoore3/software/hoomd-examples/07-Patchy-Particle-Simulations-In-HPMC\n-resource-dir\n/Users/tcmoore3/anaconda/lib/clang/14.0.6\n-D\nHOOMD_LLVMJIT_BUILD\n-I\n/Users/tcmoore3/anaconda/lib/python3.9/site-packages/hoomd/include\n-stdlib=libc++\n-internal-isystem\n/Users/tcmoore3/anaconda/bin/../include/c++/v1\n-internal-isystem\n/usr/local/include\n-internal-isystem\n/Users/tcmoore3/anaconda/lib/clang/14.0.6/include\n-internal-externc-isystem\n/usr/include\n-O3\n--std=c++14\n-fdeprecated-macro\n-fdebug-compilation-dir=/Users/tcmoore3/software/hoomd-examples/07-Patchy-Particle-Simulations-In-HPMC\n-ferror-limit\n19\n-stack-protector\n1\n-fblocks\n-fencode-extended-block-signature\n-fregister-global-dtors-with-atexit\n-fgnuc-version=4.2.1\n-fcxx-exceptions\n-fexceptions\n-fmax-type-align=16\n-vectorize-loops\n-vectorize-slp\n-D__GCC_HAVE_DWARF2_CFI_ASM=1\n-o\n_hoomd_llvm_code.ll\n-x\nc++\n_hoomd_llvm_code.cc\n\nIn file included from code.cc:2:\n/Users/tcmoore3/anaconda/bin/../include/c++/v1/stdio.h:107:15: fatal error: 'stdio.h' file not found\n#include_next <stdio.h>\n              ^~~~~~~~~\nError generating code.\n1 error generated.\n\n",
     "output_type": "error",
     "traceback": [
      "\u001b[0;31m---------------------------------------------------------------------------\u001b[0m",
      "\u001b[0;31mRuntimeError\u001b[0m                              Traceback (most recent call last)",
      "Cell \u001b[0;32mIn [4], line 29\u001b[0m\n\u001b[1;32m     27\u001b[0m kf_potential \u001b[38;5;241m=\u001b[39m hoomd\u001b[38;5;241m.\u001b[39mhpmc\u001b[38;5;241m.\u001b[39mpair\u001b[38;5;241m.\u001b[39muser\u001b[38;5;241m.\u001b[39mCPPPotential(\u001b[38;5;241m1.5\u001b[39m, patch_code, [])\n\u001b[1;32m     28\u001b[0m mc\u001b[38;5;241m.\u001b[39mpair_potential \u001b[38;5;241m=\u001b[39m kf_potential\n\u001b[0;32m---> 29\u001b[0m \u001b[43msim\u001b[49m\u001b[38;5;241;43m.\u001b[39;49m\u001b[43mrun\u001b[49m\u001b[43m(\u001b[49m\u001b[38;5;241;43m100\u001b[39;49m\u001b[43m)\u001b[49m\n",
      "File \u001b[0;32m~/anaconda/lib/python3.9/site-packages/hoomd/simulation.py:453\u001b[0m, in \u001b[0;36mSimulation.run\u001b[0;34m(self, steps, write_at_start)\u001b[0m\n\u001b[1;32m    450\u001b[0m     \u001b[38;5;28;01mraise\u001b[39;00m \u001b[38;5;167;01mRuntimeError\u001b[39;00m(\n\u001b[1;32m    451\u001b[0m         \u001b[38;5;124m\"\u001b[39m\u001b[38;5;124mCannot call run inside of a local snapshot context manager.\u001b[39m\u001b[38;5;124m\"\u001b[39m)\n\u001b[1;32m    452\u001b[0m \u001b[38;5;28;01mif\u001b[39;00m \u001b[38;5;129;01mnot\u001b[39;00m \u001b[38;5;28mself\u001b[39m\u001b[38;5;241m.\u001b[39moperations\u001b[38;5;241m.\u001b[39m_scheduled:\n\u001b[0;32m--> 453\u001b[0m     \u001b[38;5;28;43mself\u001b[39;49m\u001b[38;5;241;43m.\u001b[39;49m\u001b[43moperations\u001b[49m\u001b[38;5;241;43m.\u001b[39;49m\u001b[43m_schedule\u001b[49m\u001b[43m(\u001b[49m\u001b[43m)\u001b[49m\n\u001b[1;32m    455\u001b[0m steps_int \u001b[38;5;241m=\u001b[39m \u001b[38;5;28mint\u001b[39m(steps)\n\u001b[1;32m    456\u001b[0m \u001b[38;5;28;01mif\u001b[39;00m steps_int \u001b[38;5;241m<\u001b[39m \u001b[38;5;241m0\u001b[39m \u001b[38;5;129;01mor\u001b[39;00m steps_int \u001b[38;5;241m>\u001b[39m TIMESTEP_MAX \u001b[38;5;241m-\u001b[39m \u001b[38;5;241m1\u001b[39m:\n",
      "File \u001b[0;32m~/anaconda/lib/python3.9/site-packages/hoomd/operations.py:184\u001b[0m, in \u001b[0;36mOperations._schedule\u001b[0;34m(self)\u001b[0m\n\u001b[1;32m    182\u001b[0m \u001b[38;5;28;01mif\u001b[39;00m \u001b[38;5;129;01mnot\u001b[39;00m (\u001b[38;5;28mself\u001b[39m\u001b[38;5;241m.\u001b[39mintegrator \u001b[38;5;129;01mis\u001b[39;00m \u001b[38;5;28;01mNone\u001b[39;00m \u001b[38;5;129;01mor\u001b[39;00m \u001b[38;5;28mself\u001b[39m\u001b[38;5;241m.\u001b[39mintegrator\u001b[38;5;241m.\u001b[39m_attached):\n\u001b[1;32m    183\u001b[0m     \u001b[38;5;28mself\u001b[39m\u001b[38;5;241m.\u001b[39m_integrator\u001b[38;5;241m.\u001b[39m_add(\u001b[38;5;28mself\u001b[39m\u001b[38;5;241m.\u001b[39m_simulation)\n\u001b[0;32m--> 184\u001b[0m     \u001b[38;5;28;43mself\u001b[39;49m\u001b[38;5;241;43m.\u001b[39;49m\u001b[43mintegrator\u001b[49m\u001b[38;5;241;43m.\u001b[39;49m\u001b[43m_attach\u001b[49m\u001b[43m(\u001b[49m\u001b[43m)\u001b[49m\n\u001b[1;32m    185\u001b[0m \u001b[38;5;28;01mif\u001b[39;00m \u001b[38;5;129;01mnot\u001b[39;00m \u001b[38;5;28mself\u001b[39m\u001b[38;5;241m.\u001b[39mupdaters\u001b[38;5;241m.\u001b[39m_synced:\n\u001b[1;32m    186\u001b[0m     \u001b[38;5;28mself\u001b[39m\u001b[38;5;241m.\u001b[39mupdaters\u001b[38;5;241m.\u001b[39m_sync(sim, sim\u001b[38;5;241m.\u001b[39m_cpp_sys\u001b[38;5;241m.\u001b[39mupdaters)\n",
      "File \u001b[0;32m~/anaconda/lib/python3.9/site-packages/hoomd/hpmc/integrate.py:432\u001b[0m, in \u001b[0;36mHPMCIntegrator._attach\u001b[0;34m(self)\u001b[0m\n\u001b[1;32m    429\u001b[0m     \u001b[38;5;28mself\u001b[39m\u001b[38;5;241m.\u001b[39m_cpp_obj\u001b[38;5;241m.\u001b[39msetExternalField(\u001b[38;5;28mself\u001b[39m\u001b[38;5;241m.\u001b[39m_external_potential\u001b[38;5;241m.\u001b[39m_cpp_obj)\n\u001b[1;32m    431\u001b[0m \u001b[38;5;28;01mif\u001b[39;00m \u001b[38;5;28mself\u001b[39m\u001b[38;5;241m.\u001b[39m_pair_potential \u001b[38;5;129;01mis\u001b[39;00m \u001b[38;5;129;01mnot\u001b[39;00m \u001b[38;5;28;01mNone\u001b[39;00m:\n\u001b[0;32m--> 432\u001b[0m     \u001b[38;5;28;43mself\u001b[39;49m\u001b[38;5;241;43m.\u001b[39;49m\u001b[43m_pair_potential\u001b[49m\u001b[38;5;241;43m.\u001b[39;49m\u001b[43m_attach\u001b[49m\u001b[43m(\u001b[49m\u001b[43m)\u001b[49m\n\u001b[1;32m    433\u001b[0m     \u001b[38;5;28mself\u001b[39m\u001b[38;5;241m.\u001b[39m_cpp_obj\u001b[38;5;241m.\u001b[39msetPatchEnergy(\u001b[38;5;28mself\u001b[39m\u001b[38;5;241m.\u001b[39m_pair_potential\u001b[38;5;241m.\u001b[39m_cpp_obj)\n",
      "File \u001b[0;32m~/anaconda/lib/python3.9/site-packages/hoomd/hpmc/pair/user.py:294\u001b[0m, in \u001b[0;36mCPPPotential._attach\u001b[0;34m(self)\u001b[0m\n\u001b[1;32m    280\u001b[0m     \u001b[38;5;28mself\u001b[39m\u001b[38;5;241m.\u001b[39m_cpp_obj \u001b[38;5;241m=\u001b[39m _jit\u001b[38;5;241m.\u001b[39mPatchEnergyJITGPU(\n\u001b[1;32m    281\u001b[0m         cpp_sys_def,\n\u001b[1;32m    282\u001b[0m         device\u001b[38;5;241m.\u001b[39m_cpp_exec_conf,\n\u001b[0;32m   (...)\u001b[0m\n\u001b[1;32m    291\u001b[0m         gpu_settings[\u001b[38;5;124m\"\u001b[39m\u001b[38;5;124mmax_arch\u001b[39m\u001b[38;5;124m\"\u001b[39m],\n\u001b[1;32m    292\u001b[0m     )\n\u001b[1;32m    293\u001b[0m \u001b[38;5;28;01melse\u001b[39;00m:  \u001b[38;5;66;03m# running on cpu\u001b[39;00m\n\u001b[0;32m--> 294\u001b[0m     \u001b[38;5;28mself\u001b[39m\u001b[38;5;241m.\u001b[39m_cpp_obj \u001b[38;5;241m=\u001b[39m \u001b[43m_jit\u001b[49m\u001b[38;5;241;43m.\u001b[39;49m\u001b[43mPatchEnergyJIT\u001b[49m\u001b[43m(\u001b[49m\n\u001b[1;32m    295\u001b[0m \u001b[43m        \u001b[49m\u001b[43mcpp_sys_def\u001b[49m\u001b[43m,\u001b[49m\n\u001b[1;32m    296\u001b[0m \u001b[43m        \u001b[49m\u001b[43mdevice\u001b[49m\u001b[38;5;241;43m.\u001b[39;49m\u001b[43m_cpp_exec_conf\u001b[49m\u001b[43m,\u001b[49m\n\u001b[1;32m    297\u001b[0m \u001b[43m        \u001b[49m\u001b[43mcpu_code\u001b[49m\u001b[43m,\u001b[49m\n\u001b[1;32m    298\u001b[0m \u001b[43m        \u001b[49m\u001b[43mcpu_include_options\u001b[49m\u001b[43m,\u001b[49m\n\u001b[1;32m    299\u001b[0m \u001b[43m        \u001b[49m\u001b[38;5;28;43mself\u001b[39;49m\u001b[38;5;241;43m.\u001b[39;49m\u001b[43mr_cut\u001b[49m\u001b[43m,\u001b[49m\n\u001b[1;32m    300\u001b[0m \u001b[43m        \u001b[49m\u001b[38;5;28;43mself\u001b[39;49m\u001b[38;5;241;43m.\u001b[39;49m\u001b[43mparam_array\u001b[49m\u001b[43m,\u001b[49m\n\u001b[1;32m    301\u001b[0m \u001b[43m    \u001b[49m\u001b[43m)\u001b[49m\n\u001b[1;32m    302\u001b[0m \u001b[38;5;66;03m# attach patch object to the integrator\u001b[39;00m\n\u001b[1;32m    303\u001b[0m \u001b[38;5;28msuper\u001b[39m()\u001b[38;5;241m.\u001b[39m_attach()\n",
      "\u001b[0;31mRuntimeError\u001b[0m: Error compiling JIT code:\n\n                        #include <stdio.h>\n                        #include \"hoomd/HOOMDMath.h\"\n                        #include \"hoomd/VectorMath.h\"\n\n                        // param_array (singlet class) or param_array_isotropic\n                        // and param_array_constituent (union class) are\n                        // allocated by the library\n                        float *param_array;\n                        \n\n                        using namespace hoomd;\n\n                        extern \"C\"\n                        {\n                        float eval(const vec3<float>& r_ij,\n                            unsigned int type_i,\n                            const quat<float>& q_i,\n                            float d_i,\n                            float charge_i,\n                            unsigned int type_j,\n                            const quat<float>& q_j,\n                            float d_j,\n                            float charge_j)\n                            {\n                        \n// constants\nconst float epsilon = 2.000000;  // = 2 kT\nconst float sigma = 1.000000;  // hard core radius\nconst float lambda = 1.200000;\nconst float delta = 45 * M_PI / 180;  // delta in radians\nconst vec3<float> ehat_particle_reference(1, 0, 0);  // patch director, unit magnitude\n\n// relevant quantities\nehat_i = rotate(q_i, ehat_particle_reference);\nehat_j = rotate(q_j, ehat_particle_reference);\nfloat rsq = dot(r_ij, r_ij);\nvec3<float> r_hat_ij = r_ij / sqrt(rsq);  // unit vector pointing from particle i to particle j\nbool patch_on_i_is_aligned = dot(ehat_i, r_hat_ij) >= cos(delta);\nbool patch_on_j_is_aligned = dot(ehat_j, -r_hat_ij) >= cos(delta);\n\n// check for patch alignment and distance criterion\nif (patch_on_i_is_aligned && patch_on_j_is_aligned && rsq < 2*lambda*sigma * 2*lambda*sigma)\n    {\n    return -epsilon\n    }\nelse\n    {\n    return 0.0;\n    }\n\n                            }\n                        }\n                        \nCompilation arguments:\n-cc1\n-triple\nx86_64-apple-macosx11.0.0\n-Wundef-prefix=TARGET_OS_OSX\n-Werror=undef-prefix\n-Wdeprecated-objc-isa-usage\n-Werror=deprecated-objc-isa-usage\n-emit-llvm\n-disable-free\n-clear-ast-before-backend\n-disable-llvm-verifier\n-discard-value-names\n-main-file-name\n_hoomd_llvm_code.cc\n-mrelocation-model\npic\n-pic-level\n2\n-mframe-pointer=all\n-ffp-contract=on\n-fno-rounding-math\n-funwind-tables=2\n-fcompatibility-qualified-id-block-type-checking\n-fvisibility-inlines-hidden-static-local-var\n-target-cpu\npenryn\n-tune-cpu\ngeneric\n-mllvm\n-treat-scalable-fixed-error-as-warning\n-debugger-tuning=lldb\n-target-linker-version\n609\n-fcoverage-compilation-dir=/Users/tcmoore3/software/hoomd-examples/07-Patchy-Particle-Simulations-In-HPMC\n-resource-dir\n/Users/tcmoore3/anaconda/lib/clang/14.0.6\n-D\nHOOMD_LLVMJIT_BUILD\n-I\n/Users/tcmoore3/anaconda/lib/python3.9/site-packages/hoomd/include\n-stdlib=libc++\n-internal-isystem\n/Users/tcmoore3/anaconda/bin/../include/c++/v1\n-internal-isystem\n/usr/local/include\n-internal-isystem\n/Users/tcmoore3/anaconda/lib/clang/14.0.6/include\n-internal-externc-isystem\n/usr/include\n-O3\n--std=c++14\n-fdeprecated-macro\n-fdebug-compilation-dir=/Users/tcmoore3/software/hoomd-examples/07-Patchy-Particle-Simulations-In-HPMC\n-ferror-limit\n19\n-stack-protector\n1\n-fblocks\n-fencode-extended-block-signature\n-fregister-global-dtors-with-atexit\n-fgnuc-version=4.2.1\n-fcxx-exceptions\n-fexceptions\n-fmax-type-align=16\n-vectorize-loops\n-vectorize-slp\n-D__GCC_HAVE_DWARF2_CFI_ASM=1\n-o\n_hoomd_llvm_code.ll\n-x\nc++\n_hoomd_llvm_code.cc\n\nIn file included from code.cc:2:\n/Users/tcmoore3/anaconda/bin/../include/c++/v1/stdio.h:107:15: fatal error: 'stdio.h' file not found\n#include_next <stdio.h>\n              ^~~~~~~~~\nError generating code.\n1 error generated.\n\n"
     ]
    }
   ],
   "source": [
    "patch_code = f\"\"\"\n",
    "// constants\n",
    "const float epsilon = {kf_epsilon:f};  // = 2 kT\n",
    "const float sigma = {sigma:f};  // hard core radius\n",
    "const float lambda = {kf_lambda:f};\n",
    "const float delta = {kf_delta_deg} * M_PI / 180;  // delta in radians\n",
    "const vec3<float> ehat_particle_reference(1, 0, 0);  // patch director, unit magnitude\n",
    "\n",
    "// relevant quantities\n",
    "ehat_i = rotate(q_i, ehat_particle_reference);\n",
    "ehat_j = rotate(q_j, ehat_particle_reference);\n",
    "float rsq = dot(r_ij, r_ij);\n",
    "vec3<float> r_hat_ij = r_ij / sqrt(rsq);  // unit vector pointing from particle i to particle j\n",
    "bool patch_on_i_is_aligned = dot(ehat_i, r_hat_ij) >= cos(delta);\n",
    "bool patch_on_j_is_aligned = dot(ehat_j, -r_hat_ij) >= cos(delta);\n",
    "\n",
    "// check for patch alignment and distance criterion\n",
    "if (patch_on_i_is_aligned && patch_on_j_is_aligned && rsq < 2*lambda*sigma * 2*lambda*sigma)\n",
    "    {{\n",
    "    return -epsilon\n",
    "    }}\n",
    "else\n",
    "    {{\n",
    "    return 0.0;\n",
    "    }}\n",
    "\"\"\"\n",
    "kf_potential = hoomd.hpmc.pair.user.CPPPotential(1.5, patch_code, [])\n",
    "mc.pair_potential = kf_potential\n",
    "sim.run(100)"
   ]
  }
 ],
 "metadata": {
  "kernelspec": {
   "display_name": "Python 3 (ipykernel)",
   "language": "python",
   "name": "python3"
  },
  "language_info": {
   "codemirror_mode": {
    "name": "ipython",
    "version": 3
   },
   "file_extension": ".py",
   "mimetype": "text/x-python",
   "name": "python",
   "nbconvert_exporter": "python",
   "pygments_lexer": "ipython3",
   "version": "3.9.13"
  }
 },
 "nbformat": 4,
 "nbformat_minor": 5
}
