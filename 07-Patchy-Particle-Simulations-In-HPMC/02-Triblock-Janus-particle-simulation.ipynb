{
 "cells": [
  {
   "cell_type": "markdown",
   "id": "f942d527",
   "metadata": {},
   "source": [
    "# Simulating a system of Kern–Frenkel particles\n",
    "\n",
    "## Overview\n",
    "\n",
    "### Questions\n",
    "* How do I implement pairwise energetic interactions in HPMC?\n",
    "\n",
    "### Objectives\n",
    "* Run a simulation of particles interacting through the Kern–Frenkel pair potential.\n",
    "* Log the potential energy during an HPMC simulation.\n",
    "\n",
    "## Boilerplate code"
   ]
  },
  {
   "cell_type": "code",
   "execution_count": 2,
   "id": "8e546e0c",
   "metadata": {
    "ExecuteTime": {
     "end_time": "2023-02-28T18:16:38.993511Z",
     "start_time": "2023-02-28T18:16:38.970103Z"
    }
   },
   "outputs": [],
   "source": [
    "import gsd.hoomd\n",
    "import hoomd\n",
    "import itertools\n",
    "import math\n",
    "import matplotlib\n",
    "import numpy\n",
    "\n",
    "%matplotlib inline\n",
    "matplotlib.style.use('ggplot')"
   ]
  },
  {
   "cell_type": "markdown",
   "id": "0c6c65b0",
   "metadata": {},
   "source": [
    "In the previous section, you learned about the Kern–Frenkel model and saw a C++ code snippet that implements the model in a way that can be used in an HPMC simulation.\n",
    "In this section, we will initialize a system of particles, add the Kern–Frenkel pair potential to the simulation, and run the simulation while logging the energy.\n",
    "\n",
    "## Constructing the system\n",
    "Construct the system using the same code you used in [Introducing HOOMD-blue tutorial](../00-Introducing-HOOMD-blue/03-Initializing-the-System-State.ipynb) and then initialize a simulation."
   ]
  },
  {
   "cell_type": "code",
   "execution_count": 5,
   "id": "4ff9784b",
   "metadata": {
    "ExecuteTime": {
     "end_time": "2023-02-28T18:16:50.859070Z",
     "start_time": "2023-02-28T18:16:50.833055Z"
    }
   },
   "outputs": [],
   "source": [
    "m = 4\n",
    "N_particles = 2 * m**3\n",
    "spacing = 1.2\n",
    "K = math.ceil(N_particles**(1 / 3))\n",
    "L = K * spacing\n",
    "x = numpy.linspace(-L / 2, L / 2, K, endpoint=False)\n",
    "position = list(itertools.product(x, repeat=3))\n",
    "position = position[0:N_particles]\n",
    "orientation = [(1, 0, 0, 0)] * N_particles\n",
    "\n",
    "# gsd snapshot\n",
    "snapshot = gsd.hoomd.Snapshot()\n",
    "snapshot.particles.N = N_particles\n",
    "snapshot.particles.position = position\n",
    "snapshot.particles.orientation = orientation\n",
    "snapshot.particles.typeid = [0] * N_particles\n",
    "snapshot.particles.types = ['A']\n",
    "snapshot.configuration.box = [L, L, L, 0, 0, 0]\n",
    "with gsd.hoomd.open(name='initial.gsd', mode='xb') as f:\n",
    "    f.append(snapshot)\n",
    "    \n",
    "# build simulation\n",
    "cpu = hoomd.device.CPU()\n",
    "sim = hoomd.Simulation(device=cpu, seed=0)\n",
    "sim.create_state_from_gsd(filename='initial.gsd')"
   ]
  },
  {
   "cell_type": "markdown",
   "id": "309d1299",
   "metadata": {},
   "source": [
    "### Add HPMC integrator\n",
    "Now add an HPMC integrator to the system.\n",
    "Since the cores of the particles are spherical, we add the `Sphere` integrator.\n",
    "Since these particles also have an orientation, we must tell HPMC to perform rotation moves on the particles."
   ]
  },
  {
   "cell_type": "code",
   "execution_count": 6,
   "id": "07dd2718",
   "metadata": {
    "ExecuteTime": {
     "end_time": "2023-02-28T18:16:52.040352Z",
     "start_time": "2023-02-28T18:16:52.027413Z"
    }
   },
   "outputs": [],
   "source": [
    "sigma = 1.0  # hard core diameter\n",
    "kf_lambda = 1.2  # range of patchy interaction\n",
    "kf_epsilon = 2.0  # strength of patchy interaction in kT\n",
    "kf_delta_deg = 45  # half-opening angle of patches\n",
    "mc = hoomd.hpmc.integrate.Sphere()\n",
    "mc.shape['A'] = dict(diameter=sigma, orientable=True)\n",
    "sim.operations.integrator = mc"
   ]
  },
  {
   "cell_type": "markdown",
   "id": "d782b591",
   "metadata": {},
   "source": [
    "### Add the pair potential\n",
    "Now add the pair potential to the integrator.\n",
    "Use the same code as in [the previous section](01-Kern-Frenkel.ipynb) with a slight formatting change.\n",
    "Because we pass the code as a Python string, we must use double curly brackets in place of single curly brackets.\n",
    "Set the "
   ]
  },
  {
   "cell_type": "code",
   "execution_count": 9,
   "id": "21564d70",
   "metadata": {
    "ExecuteTime": {
     "end_time": "2023-02-28T18:17:13.617800Z",
     "start_time": "2023-02-28T18:17:13.610123Z"
    }
   },
   "outputs": [],
   "source": [
    "patch_code = f\"\"\"\n",
    "// constants\n",
    "const float epsilon = {kf_epsilon:f};  // = 2 kT\n",
    "const float sigma = {sigma:f};  // hard core radius\n",
    "const float lambda = {kf_lambda:f};\n",
    "const float delta = {kf_delta_deg} * M_PI / 180;  // delta in radians\n",
    "const vec3<float> ehat_particle_reference(1, 0, 0);  // patch director, unit magnitude\n",
    "\n",
    "// relevant quantities\n",
    "ehat_i = rotate(q_i, ehat_particle_reference);\n",
    "ehat_j = rotate(q_j, ehat_particle_reference);\n",
    "float rsq = dot(r_ij, r_ij);\n",
    "vec3<float> r_hat_ij = r_ij / sqrt(rsq);  // unit vector pointing from particle i to particle j\n",
    "bool patch_on_i_is_aligned = dot(ehat_i, r_hat_ij) >= cos(delta);\n",
    "bool patch_on_j_is_aligned = dot(ehat_j, -r_hat_ij) >= cos(delta);\n",
    "\n",
    "// check for patch alignment and distance criterion\n",
    "if (patch_on_i_is_aligned && patch_on_j_is_aligned && rsq < 2*lambda*sigma * 2*lambda*sigma)\n",
    "    {{\n",
    "    return -epsilon\n",
    "    }}\n",
    "else\n",
    "    {{\n",
    "    return 0.0;\n",
    "    }}\n",
    "\"\"\"\n",
    "kf_potential = hoomd.hpmc.pair.user.CPPPotential(1.5, patch_code, [])\n",
    "mc.pair_potential = kf_potential"
   ]
  }
 ],
 "metadata": {
  "kernelspec": {
   "display_name": "Python 3 (ipykernel)",
   "language": "python",
   "name": "python3"
  },
  "language_info": {
   "codemirror_mode": {
    "name": "ipython",
    "version": 3
   },
   "file_extension": ".py",
   "mimetype": "text/x-python",
   "name": "python",
   "nbconvert_exporter": "python",
   "pygments_lexer": "ipython3",
   "version": "3.9.13"
  }
 },
 "nbformat": 4,
 "nbformat_minor": 5
}
