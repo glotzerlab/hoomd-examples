{
 "cells": [
  {
   "cell_type": "markdown",
   "id": "f942d527",
   "metadata": {},
   "source": [
    "# Simulating a system of Kern–Frenkel particles\n",
    "\n",
    "## Overview\n",
    "\n",
    "### Questions\n",
    "* How do I implement pairwise energetic interactions in HPMC?\n",
    "\n",
    "### Objectives\n",
    "* Run a simulation of particles interacting through the Kern–Frenkel pair potential.\n",
    "* Log the potential energy during an HPMC simulation.\n",
    "\n",
    "## Boilerplate code"
   ]
  },
  {
   "cell_type": "code",
   "execution_count": 1,
   "id": "8910bf66",
   "metadata": {
    "jupyter": {
     "source_hidden": true
    },
    "nbsphinx": "hidden",
    "tags": []
   },
   "outputs": [],
   "source": [
    "import os\n",
    "\n",
    "for _fn in ['initial.gsd', 'log.gsd']:\n",
    "    fn = os.path.join(os.getcwd(), _fn)\n",
    "    ![ -e \"$fn\" ] && rm \"$fn\""
   ]
  },
  {
   "cell_type": "code",
   "execution_count": 2,
   "id": "8e546e0c",
   "metadata": {},
   "outputs": [],
   "source": [
    "import itertools\n",
    "import math\n",
    "\n",
    "import gsd.hoomd\n",
    "import hoomd\n",
    "import matplotlib\n",
    "import numpy\n",
    "\n",
    "%matplotlib inline\n",
    "matplotlib.style.use('ggplot')"
   ]
  },
  {
   "cell_type": "markdown",
   "id": "0c6c65b0",
   "metadata": {},
   "source": [
    "In the previous section, you learned about patchy particles and the the Kern–Frenkel model.\n",
    "In this section, we will initialize a system of particles, add the Kern–Frenkel pair potential to the simulation, and run the simulation while logging the energy.\n",
    "\n",
    "## Constructing the system\n",
    "Construct the system using the same code you used in [Introducing HOOMD-blue tutorial](../00-Introducing-HOOMD-blue/03-Initializing-the-System-State.ipynb) and then initialize a simulation."
   ]
  },
  {
   "cell_type": "code",
   "execution_count": 3,
   "id": "4ff9784b",
   "metadata": {},
   "outputs": [],
   "source": [
    "m = 4\n",
    "N_particles = 2 * m**3\n",
    "spacing = 1.2\n",
    "K = math.ceil(N_particles**(1 / 3))\n",
    "L = K * spacing\n",
    "x = numpy.linspace(-L / 2, L / 2, K, endpoint=False)\n",
    "position = list(itertools.product(x, repeat=3))\n",
    "position = position[0:N_particles]\n",
    "orientation = [(1, 0, 0, 0)] * N_particles\n",
    "\n",
    "# gsd snapshot\n",
    "snapshot = gsd.hoomd.Frame()\n",
    "snapshot.particles.N = N_particles\n",
    "snapshot.particles.position = position\n",
    "snapshot.particles.orientation = orientation\n",
    "snapshot.particles.typeid = [0] * N_particles\n",
    "snapshot.particles.types = ['A']\n",
    "snapshot.configuration.box = [L, L, L, 0, 0, 0]\n",
    "with gsd.hoomd.open(name='initial.gsd', mode='xb') as f:\n",
    "    f.append(snapshot)\n",
    "\n",
    "# build simulation\n",
    "cpu = hoomd.device.CPU()\n",
    "sim = hoomd.Simulation(device=cpu, seed=0)\n",
    "sim.create_state_from_gsd(filename='initial.gsd')"
   ]
  },
  {
   "cell_type": "markdown",
   "id": "309d1299",
   "metadata": {},
   "source": [
    "### Add HPMC integrator\n",
    "Now add an HPMC integrator to the system.\n",
    "Since the cores of the particles are spherical, we add the `Sphere` integrator.\n",
    "Since these particles also have an orientation, we must tell HPMC to perform rotation moves on the particles via the `orientable` key of the shape dictionary."
   ]
  },
  {
   "cell_type": "code",
   "execution_count": 4,
   "id": "07dd2718",
   "metadata": {},
   "outputs": [],
   "source": [
    "sigma = 1.0  # hard core diameter\n",
    "kf_lambda = 1.2  # range of patchy interaction\n",
    "kf_epsilon = 2.0  # strength of patchy interaction in kT\n",
    "kf_delta_deg = 45  # half-opening angle of patches\n",
    "mc = hoomd.hpmc.integrate.Sphere()\n",
    "mc.shape['A'] = dict(diameter=sigma, orientable=True)\n",
    "sim.operations.integrator = mc"
   ]
  },
  {
   "cell_type": "markdown",
   "id": "d782b591",
   "metadata": {},
   "source": [
    "## Add the pair potential\n",
    "\n",
    "### Write patch code\n",
    "The `hoomd.hpmc.pair.user` classes uses Python f-strings containing C++ code to evaluate pair potentials.\n",
    "The code you pass in is the body of the function with the following signature:\n",
    "```C++\n",
    "float eval(const vec3<float>& r_ij,\n",
    "           unsigned int type_i,\n",
    "           const quat<float>& q_i,\n",
    "           float d_i,\n",
    "           float charge_i,\n",
    "           unsigned int type_j,\n",
    "           const quat<float>& q_j,\n",
    "           float d_j,\n",
    "           float charge_j\n",
    ")\n",
    "```\n",
    "The Kern–Frenkel potential only depends on `r_ij`, `q_i`, and `q_j`, but users have access to the other variables, which can be useful for more complicated systems.\n",
    "Note the type of `r_ij`, `q_i`, and `q_j`: `vec3` and `quat` are classes that represent 3D vectors and quaternions, respectively, and are defined in [the HOOMD vector math library](https://github.com/glotzerlab/hoomd-blue/blob/trunk-patch/hoomd/VectorMath.h).\n",
    "The HOOMD vector math library also contains operations you can use on vectors, e.g., you will use `rotate` to rotate the particles into the global frame of reference to evaluate the pair potential.\n",
    "\n",
    "At the beginning of the body of the function, define some constants:"
   ]
  },
  {
   "cell_type": "code",
   "execution_count": 5,
   "id": "2a2f8961",
   "metadata": {},
   "outputs": [],
   "source": [
    "patch_code = f\"\"\"\n",
    "const float sigma = {sigma:f};  // hard core diameter\n",
    "const float lambda = {kf_lambda:f};\n",
    "const float delta = {kf_delta_deg} * M_PI / 180;  // delta in radians\n",
    "\"\"\""
   ]
  },
  {
   "cell_type": "markdown",
   "id": "9ea4f371",
   "metadata": {},
   "source": [
    "Now set the strength $\\varepsilon$ of the patchy interactions.\n",
    "To do so, first define the temperature $\\beta^{-1} = kT$ of the system.\n",
    "Internally, HOOMD implicitly assumes $\\beta = 1$, so to change the temperature of a system in HPMC, you must change the relative strength of the energetic interactions ($\\varepsilon$ in this case).\n",
    "\n",
    "Use `param_array`, which is an array of `float`s that is declared in the patch kernel that you can use to change the value of variables in the patch code.\n",
    "Later in this section, you will change the temperature of the system by changing the value of `param_array[0]`."
   ]
  },
  {
   "cell_type": "code",
   "execution_count": 6,
   "id": "fa789cdf",
   "metadata": {},
   "outputs": [],
   "source": [
    "patch_code += f\"\"\"\n",
    "const float kT = param_array[0];\n",
    "const float beta_epsilon = 1/kT;\n",
    "\"\"\""
   ]
  },
  {
   "cell_type": "markdown",
   "id": "47c09944",
   "metadata": {},
   "source": [
    "Now define the patch director *in the particle frame of reference* using a `vec3` and use `rotate` to rotate particles $i$ and $j$ into the global frame of reference."
   ]
  },
  {
   "cell_type": "code",
   "execution_count": 7,
   "id": "db7a4cd0",
   "metadata": {},
   "outputs": [],
   "source": [
    "patch_code += f\"\"\"\n",
    "const vec3<float> ehat_particle_reference_frame(1, 0, 0);\n",
    "vec3<float> ehat_i = rotate(q_i, ehat_particle_reference_frame);\n",
    "vec3<float> ehat_j = rotate(q_j, ehat_particle_reference_frame);\n",
    "\"\"\""
   ]
  },
  {
   "cell_type": "markdown",
   "id": "05ca5068",
   "metadata": {},
   "source": [
    "With the particles rotated into the global reference frame, check to see if the patches on each particle are \"facing\" the other particle.\n",
    "In other words, evaluate the orientational masking function $f(\\Omega_i, \\Omega_j)$ defined in [the previous section](01-Kern-Frenkel.ipynb)."
   ]
  },
  {
   "cell_type": "code",
   "execution_count": 8,
   "id": "138815d5",
   "metadata": {},
   "outputs": [],
   "source": [
    "patch_code += f\"\"\"\n",
    "vec3<float> r_hat_ij = r_ij / sqrt(dot(r_ij, r_ij));\n",
    "bool patch_on_i_is_aligned = dot(ehat_i, r_hat_ij) >= cos(delta);\n",
    "bool patch_on_j_is_aligned = dot(ehat_j, -r_hat_ij) >= cos(delta);\n",
    "\"\"\""
   ]
  },
  {
   "cell_type": "markdown",
   "id": "adf0c202",
   "metadata": {},
   "source": [
    "All that's left now is to actually evaluate the pair potential.\n",
    "In HOOMD, the patch kernel is evaluated after any overlap checks, so we do not need to check for the hard sphere overlap.\n",
    "Instead, we only need to check if they are within range of the patchy interaction; this condition simplifies to $|\\vec{r}_{ij}| < \\lambda\\sigma$.\n",
    "For clarity, evaluate the expression as it is written in the previous section, but note that you can avoid the square root calculation by evaluating $|\\vec{r}_{ij}|^2 = \\vec{r}_{ij} \\cdot \\vec{r}_{ij} < (\\lambda\\sigma)^2$.\n",
    "\n",
    "Note the use of double curly brackets `{{..}}` for the `if..else` code block; Python evaluates expressions inside of curly brackets in f-strings, so we must include a second set of curly brackets so that one set of curly brackets remain after evaluation of the f-string."
   ]
  },
  {
   "cell_type": "code",
   "execution_count": 9,
   "id": "2a73ead9",
   "metadata": {},
   "outputs": [],
   "source": [
    "patch_code += f\"\"\"\n",
    "float rsq = dot(r_ij, r_ij);\n",
    "float r_ij_length = sqrt(rsq);\n",
    "if (patch_on_i_is_aligned && patch_on_j_is_aligned && r_ij_length < lambda*sigma)\n",
    "    {{\n",
    "    return -beta_epsilon;\n",
    "    }}\n",
    "else\n",
    "    {{\n",
    "    return 0.0;\n",
    "    }}\n",
    "\"\"\""
   ]
  },
  {
   "cell_type": "markdown",
   "id": "474c47a5",
   "metadata": {},
   "source": [
    "### Set cutoff distance for the patchy interaction\n",
    "\n",
    "Before creating the pair potential object to add to the `Simulation`, calculate `r_cut`.\n",
    "Similar to how HOOMD uses neighborlists in MD to increase performance by only calculating interactions between \"nearby\" particles, the `hoomd.hpmc.pair.user` classes take an `r_cut` parameter, which is the center to center distance cutoff beyond which all pair interactions are 0.\n",
    "Here, that distance is the hard core diameter $\\sigma$ plus the radial extent of the patchy interaction $\\sigma(\\lambda-1)$."
   ]
  },
  {
   "cell_type": "code",
   "execution_count": 10,
   "id": "91bf22b1",
   "metadata": {},
   "outputs": [],
   "source": [
    "r_cut = sigma + sigma * (kf_lambda - 1)"
   ]
  },
  {
   "cell_type": "markdown",
   "id": "b7668de9",
   "metadata": {},
   "source": [
    "### Set variable parameters for patch kernel\n",
    "\n",
    "Create the array to used to control the temperature and initialize to a value of $kT = 3$ to radomize the system on the first call to `Simulation.run()`."
   ]
  },
  {
   "cell_type": "code",
   "execution_count": 11,
   "id": "338a1232",
   "metadata": {},
   "outputs": [],
   "source": [
    "initial_kT = 3.0\n",
    "patch_param_array = [initial_kT]"
   ]
  },
  {
   "cell_type": "markdown",
   "id": "0ce4df5e",
   "metadata": {},
   "source": [
    "### Adding the patchy potential to the simulation\n",
    "\n",
    "Now create a `hoomd.hpmc.pair.user.CPPPotential` object that will evaluate the Kern–Frenkel potential in the simulation."
   ]
  },
  {
   "cell_type": "code",
   "execution_count": 12,
   "id": "50a40906",
   "metadata": {},
   "outputs": [],
   "source": [
    "patch_potential = hoomd.hpmc.pair.user.CPPPotential(r_cut, patch_code,\n",
    "                                                    patch_param_array)"
   ]
  },
  {
   "cell_type": "markdown",
   "id": "30fff4c9",
   "metadata": {},
   "source": [
    "Finally, attach `patch_potential` to the HPMC integrator so that the integrator evaluates the pair potential."
   ]
  },
  {
   "cell_type": "code",
   "execution_count": 13,
   "id": "6d5d0694",
   "metadata": {},
   "outputs": [],
   "source": [
    "mc.pair_potential = patch_potential"
   ]
  },
  {
   "cell_type": "markdown",
   "id": "a3bbc955",
   "metadata": {},
   "source": [
    "You can query the energy associated with the patch potential via the `energy` property of the patch potential object (after running for 0 or more steps).\n",
    "The particles are not interacting in the initial configuration, and hence the initial value of the energy is zero."
   ]
  },
  {
   "cell_type": "code",
   "execution_count": 14,
   "id": "f00dc1a9",
   "metadata": {},
   "outputs": [
    {
     "data": {
      "text/plain": [
       "0.0"
      ]
     },
     "execution_count": 14,
     "metadata": {},
     "output_type": "execute_result"
    }
   ],
   "source": [
    "sim.run(0)\n",
    "patch_potential.energy"
   ]
  },
  {
   "cell_type": "markdown",
   "id": "bc431698",
   "metadata": {},
   "source": [
    "### Log the patch energy\n",
    "\n",
    "Create a logger and add the patchy potential to it, and then create a GSD writer to write the log values to file during the simulation.\n",
    "Also add the temperature to the logger so that later you can compare energies from parts of the simulation at different temperatures."
   ]
  },
  {
   "cell_type": "code",
   "execution_count": 15,
   "id": "31c01e1b",
   "metadata": {},
   "outputs": [],
   "source": [
    "logger = hoomd.logging.Logger()\n",
    "logger.add(patch_potential, quantities=[\n",
    "    'energy',\n",
    "])\n",
    "logger[('kT',)] = (lambda: patch_potential.param_array[0], 'scalar')\n",
    "gsd_writer = hoomd.write.GSD(filename='log.gsd',\n",
    "                             trigger=hoomd.trigger.Periodic(10),\n",
    "                             mode='xb',\n",
    "                             filter=hoomd.filter.Null(),\n",
    "                             logger=logger)\n",
    "sim.operations.writers.append(gsd_writer)"
   ]
  },
  {
   "cell_type": "markdown",
   "id": "f64d4847",
   "metadata": {},
   "source": [
    "## Run the simulation\n",
    "\n",
    "### Randomize the system\n",
    "Run for a bit at the high initial temperature to randomize the system."
   ]
  },
  {
   "cell_type": "code",
   "execution_count": 16,
   "id": "8da1199b",
   "metadata": {},
   "outputs": [],
   "source": [
    "sim.run(500)"
   ]
  },
  {
   "cell_type": "markdown",
   "id": "f931b2c4",
   "metadata": {},
   "source": [
    "### Change the temperature\n",
    "Now run for a bit at a lower temperature so that the patchy interactions cause the particles to cluster.\n",
    "Recall, the `param_array` property of the patch potential is the effective temperature of the system."
   ]
  },
  {
   "cell_type": "code",
   "execution_count": 17,
   "id": "a21d46e5",
   "metadata": {},
   "outputs": [],
   "source": [
    "patch_potential.param_array[0] = 0.5\n",
    "sim.run(2000)"
   ]
  },
  {
   "cell_type": "markdown",
   "id": "97f7e467",
   "metadata": {},
   "source": [
    "Now, increase the temperature again so that the clusters break apart."
   ]
  },
  {
   "cell_type": "code",
   "execution_count": 18,
   "id": "5aaa8278",
   "metadata": {},
   "outputs": [],
   "source": [
    "patch_potential.param_array[0] = 3\n",
    "sim.run(2000)"
   ]
  },
  {
   "cell_type": "markdown",
   "id": "3f91da68",
   "metadata": {},
   "source": [
    "## Analyzing the results\n",
    "\n",
    "You have initialized and randomized a system of patchy particles.\n",
    "Now plot the energy of the system to analyze the results.\n",
    "\n",
    "Use the `gsd` package to read just the `log` values from the GSD file."
   ]
  },
  {
   "cell_type": "code",
   "execution_count": 19,
   "id": "67494be7",
   "metadata": {},
   "outputs": [],
   "source": [
    "data = gsd.hoomd.read_log('log.gsd')\n",
    "step = data['configuration/step']"
   ]
  },
  {
   "cell_type": "markdown",
   "id": "1874de64",
   "metadata": {},
   "source": [
    "Recall, the the value of `patch_potential.energy` is really the energy divided by the thermal energy scale $kT$, so multiply the energy by $kT$ to get the actual energy."
   ]
  },
  {
   "cell_type": "code",
   "execution_count": 20,
   "id": "d8d81c8a",
   "metadata": {},
   "outputs": [],
   "source": [
    "beta_potential_energy = data['log/hpmc/pair/user/CPPPotential/energy']\n",
    "kT = data['log/kT']\n",
    "potential_energy = beta_potential_energy * kT"
   ]
  },
  {
   "cell_type": "code",
   "execution_count": 21,
   "id": "a19e4ed0",
   "metadata": {},
   "outputs": [
    {
     "data": {
      "image/png": "[encoded data removed]",
      "text/plain": [
       "<Figure size 720x444.96 with 2 Axes>"
      ]
     },
     "execution_count": 21,
     "metadata": {},
     "output_type": "execute_result"
    }
   ],
   "source": [
    "fig = matplotlib.figure.Figure(figsize=(10, 6.18))\n",
    "ax = fig.add_subplot()\n",
    "ll, = ax.plot(step, potential_energy)\n",
    "ax.set_xlabel('timestep')\n",
    "ax.set_ylabel('potential energy', c=ll.get_c())\n",
    "\n",
    "ax2 = ax.twinx()\n",
    "ax2.grid(False)\n",
    "ax2._get_lines.get_next_color()\n",
    "ll, = ax2.plot(step, kT)\n",
    "ylabel = ax2.set_ylabel('kT', c=ll.get_c())\n",
    "\n",
    "fig"
   ]
  },
  {
   "cell_type": "markdown",
   "id": "ad033e47",
   "metadata": {},
   "source": [
    "Notice the decrease in energy when the temperature was at the lower setting, indicative of particle clustering. \n",
    "\n",
    "## Summary\n",
    "In this tutorial, you learned about patchy particles and the Kern–Frenkel model of patchy particles, and you implemented the Kern–Frenkel model in HPMC.\n",
    "You observed the change in potential energy upon changing the temperature in a patchy particle simulation.\n",
    "\n",
    "For more information on simulating patchy particles, or more generally HPMC simulations with energetic interactions, see the [HOOMD-blue documentation](https://hoomd-blue.readthedocs.io/en/latest/module-hpmc-pair.html) on pair potentials in HPMC."
   ]
  }
 ],
 "metadata": {
  "kernelspec": {
   "display_name": "Python 3 (ipykernel)",
   "language": "python",
   "name": "python3"
  },
  "language_info": {
   "codemirror_mode": {
    "name": "ipython",
    "version": 3
   },
   "file_extension": ".py",
   "mimetype": "text/x-python",
   "name": "python",
   "nbconvert_exporter": "python",
   "pygments_lexer": "ipython3",
   "version": "3.9.15"
  }
 },
 "nbformat": 4,
 "nbformat_minor": 5
}
