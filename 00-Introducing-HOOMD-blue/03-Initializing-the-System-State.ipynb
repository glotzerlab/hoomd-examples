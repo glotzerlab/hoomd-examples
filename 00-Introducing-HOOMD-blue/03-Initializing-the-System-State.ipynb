{
 "cells": [
  {
   "cell_type": "markdown",
   "metadata": {},
   "source": [
    "# Initializing the System State\n",
    "\n",
    "## Overview\n",
    "\n",
    "### Questions\n",
    "\n",
    "* How do I place particles in the initial condition?\n",
    "* What units does HOOMD-blue use?\n",
    "\n",
    "### Objectives\n",
    "\n",
    "* Describe the basic properties of the **initial condition**, including particle **position**, **orientation**, **type** and the **periodic box**.\n",
    "* Briefly describe HOOMD-blue's system of **units**.\n",
    "* Demonstrate writing a system to a **GSD** file.\n",
    "* Show how to initialize **Simulation state** from a **GSD** file.\n",
    "\n",
    "## Boilerplate code"
   ]
  },
  {
   "cell_type": "code",
   "execution_count": 1,
   "metadata": {},
   "outputs": [],
   "source": [
    "import itertools\n",
    "import math\n",
    "\n",
    "import hoomd\n",
    "import numpy"
   ]
  },
  {
   "cell_type": "code",
   "execution_count": 2,
   "metadata": {
    "jupyter": {
     "source_hidden": true
    },
    "nbsphinx": "hidden"
   },
   "outputs": [],
   "source": [
    "import os\n",
    "\n",
    "fn = os.path.join(os.getcwd(), 'lattice.gsd')\n",
    "![ -e \"$fn\" ] && rm \"$fn\""
   ]
  },
  {
   "cell_type": "markdown",
   "metadata": {},
   "source": [
    "The `render` function in the next (hidden) cell will render the **initial condition** using **fresnel**.\n",
    "\n",
    "<div class=\"alert alert-info\">\n",
    "    This is not intended as a full tutorial on <b>fresnel</b> - see the <a href=\"https://fresnel.readthedocs.io/\">fresnel user documentation</a> if you would like to learn more.\n",
    "</div>"
   ]
  },
  {
   "cell_type": "code",
   "execution_count": 3,
   "metadata": {
    "jupyter": {
     "source_hidden": true
    },
    "nbsphinx": "hidden"
   },
   "outputs": [],
   "source": [
    "import fresnel\n",
    "import IPython\n",
    "\n",
    "device = fresnel.Device()\n",
    "tracer = fresnel.tracer.Path(device=device, w=300, h=300)\n",
    "\n",
    "\n",
    "def render(position, orientation, L):\n",
    "    vertices = [\n",
    "        (-0.5, 0, 0),\n",
    "        (0.5, 0, 0),\n",
    "        (0, -0.5, 0),\n",
    "        (0, 0.5, 0),\n",
    "        (0, 0, -0.5),\n",
    "        (0, 0, 0.5),\n",
    "    ]\n",
    "    poly_info = fresnel.util.convex_polyhedron_from_vertices(vertices)\n",
    "\n",
    "    scene = fresnel.Scene(device)\n",
    "    geometry = fresnel.geometry.ConvexPolyhedron(scene,\n",
    "                                                 poly_info,\n",
    "                                                 N=len(position))\n",
    "    geometry.material = fresnel.material.Material(color=fresnel.color.linear(\n",
    "        [0.01, 0.74, 0.26]),\n",
    "                                                  roughness=0.5)\n",
    "    geometry.position[:] = position[:]\n",
    "    geometry.orientation[:] = orientation[:]\n",
    "    geometry.outline_width = 0.01\n",
    "    box = fresnel.geometry.Box(scene, [L, L, L, 0, 0, 0], box_radius=.02)\n",
    "\n",
    "    scene.lights = [\n",
    "        fresnel.light.Light(direction=(0, 0, 1),\n",
    "                            color=(0.8, 0.8, 0.8),\n",
    "                            theta=math.pi),\n",
    "        fresnel.light.Light(direction=(1, 1, 1),\n",
    "                            color=(1.1, 1.1, 1.1),\n",
    "                            theta=math.pi / 3)\n",
    "    ]\n",
    "    scene.camera = fresnel.camera.orthographic(position=(0, 0, L + 1),\n",
    "                                               look_at=(0, 0, 0),\n",
    "                                               up=(0, 1, 0),\n",
    "                                               height=L + 1)\n",
    "    scene.background_color = (1, 1, 1)\n",
    "    return IPython.display.Image(tracer.sample(scene, samples=500)._repr_png_())"
   ]
  },
  {
   "cell_type": "markdown",
   "metadata": {},
   "source": [
    "## Components of the system state\n",
    "\n",
    "You need to initialize the system **state** before you can run a simulation.\n",
    "The **initial condition** describes the the **position** and **orientation** of every particle in the system and the **periodic box** at the start of the simulation.\n",
    "\n",
    "The hard regular octahedra system [self-assembles the the bcc structure](https://doi.org/10.1038/ncomms14038).\n",
    "Self-assembly is a process where particles will organize themselves into an ordered structure at equilibrium.\n",
    "Most self-assembly studies run simulations of many thousands of particles for tens of hours.\n",
    "To keep this tutorial short, it simulations a small number of particles commensurate with the *bcc* structure (`2 * m**3`, where *m* is an integer)."
   ]
  },
  {
   "cell_type": "code",
   "execution_count": 4,
   "metadata": {},
   "outputs": [],
   "source": [
    "m = 4\n",
    "N_particles = 2 * m**3"
   ]
  },
  {
   "cell_type": "markdown",
   "metadata": {},
   "source": [
    "## Placing particles\n",
    "\n",
    "In hard particle Monte Carlo, valid particle configurations have no overlaps.\n",
    "The octahedron particle in this tutorial sits inside a sphere of diameter 1, so place particles a little bit further than that apart on a *K*x*K*x*K* simple cubic lattice of width *L*.\n",
    "The following sections of this tutorial will demonstrate how to randomize this ordered configuration and compress it to a higher density."
   ]
  },
  {
   "cell_type": "code",
   "execution_count": 5,
   "metadata": {},
   "outputs": [],
   "source": [
    "spacing = 1.2\n",
    "K = math.ceil(N_particles**(1 / 3))\n",
    "L = K * spacing"
   ]
  },
  {
   "cell_type": "markdown",
   "metadata": {},
   "source": [
    "In HOOMD, particle **positions** must be placed inside a **periodic box**.\n",
    "Cubic boxes range from -*L*/2 to *L*/2.\n",
    "Use *itertools* and *numpy* to place the positions on the lattice in this range."
   ]
  },
  {
   "cell_type": "code",
   "execution_count": 6,
   "metadata": {},
   "outputs": [
    {
     "name": "stdout",
     "output_type": "stream",
     "text": [
      "[(-3.5999999999999996, -3.5999999999999996, -3.5999999999999996), (-3.5999999999999996, -3.5999999999999996, -2.3999999999999995), (-3.5999999999999996, -3.5999999999999996, -1.1999999999999997), (-3.5999999999999996, -3.5999999999999996, 0.0)]\n"
     ]
    }
   ],
   "source": [
    "x = numpy.linspace(-L / 2, L / 2, K, endpoint=False)\n",
    "position = list(itertools.product(x, repeat=3))\n",
    "print(position[0:4])"
   ]
  },
  {
   "cell_type": "markdown",
   "metadata": {},
   "source": [
    "Filter this list down to *N* particles because `K*K*K >= N_particles` ."
   ]
  },
  {
   "cell_type": "code",
   "execution_count": 7,
   "metadata": {},
   "outputs": [],
   "source": [
    "position = position[0:N_particles]"
   ]
  },
  {
   "cell_type": "markdown",
   "metadata": {},
   "source": [
    "You also need to set the **orientation** for each particle.\n",
    "HOOMD represents orientations with quaternions.\n",
    "The quaternion (1, 0, 0, 0) represents no rotation. \n",
    "Set that for all particles:"
   ]
  },
  {
   "cell_type": "code",
   "execution_count": 8,
   "metadata": {},
   "outputs": [],
   "source": [
    "orientation = [(1, 0, 0, 0)] * N_particles"
   ]
  },
  {
   "cell_type": "markdown",
   "metadata": {},
   "source": [
    "Here is what the system looks like now:"
   ]
  },
  {
   "cell_type": "code",
   "execution_count": 9,
   "metadata": {},
   "outputs": [
    {
     "data": {
      "image/png": "[encoded data removed]",
      "text/plain": [
       "<IPython.core.display.Image object>"
      ]
     },
     "execution_count": 1,
     "metadata": {},
     "output_type": "execute_result"
    }
   ],
   "source": [
    "render(position, orientation, L)"
   ]
  },
  {
   "cell_type": "markdown",
   "metadata": {},
   "source": [
    "## Units\n",
    "\n",
    "HOOMD-blue does not adopt any particular real system of **units**. \n",
    "Instead, HOOMD-blue uses an *internally self-consistent* system of **units** and is compatible with *many systems of units*.\n",
    "For example: if you select the units of *meter*, *Joule*, and *kilogram* for length, energy and mass then the units of force will be *Newtons* and velocity will be *meters/second*.\n",
    "A popular system of units for nano-scale systems is *nanometers*, *kilojoules/mol*, and *atomic mass units*.\n",
    "\n",
    "In HPMC, the *primary* **unit** is that of *length*.\n",
    "*Mass* exists, but is factored out of the partition function and does not enter into the simulation.\n",
    "The scale of *energy* is irrelevant in athermal HPMC systems where overlapping energies are infinite and valid configurations have zero potential energy.\n",
    "However, *energy* does appear implicitly in **derived units** like $[\\mathrm{pressure}] = \\left(\\frac{\\mathrm{[energy]}}{\\mathrm{[length]}^3}\\right)$.\n",
    "In HPMC, $kT$ is assumed to be 1 *energy*.\n",
    "You can convert a pressure $P$ in HPMC's units to a non-dimensional value with $P^* = \\frac{P\\sigma^3}{kT}$ where $\\sigma$ is a representative length in your system, such as the particle's diameter or edge length."
   ]
  },
  {
   "cell_type": "markdown",
   "metadata": {},
   "source": [
    "## Writing the configuration to the file system\n",
    "\n",
    "[**GSD**](https://gsd.readthedocs.io/) files store the **periodic box**, particle **positions**, **orientations**,  and other properties of the state.\n",
    "Use the **GSD** Python package to write this file."
   ]
  },
  {
   "cell_type": "code",
   "execution_count": 10,
   "metadata": {},
   "outputs": [],
   "source": [
    "import gsd.hoomd"
   ]
  },
  {
   "cell_type": "markdown",
   "metadata": {},
   "source": [
    "The **Snapshot** object stores the state of the system."
   ]
  },
  {
   "cell_type": "code",
   "execution_count": 11,
   "metadata": {},
   "outputs": [],
   "source": [
    "snapshot = gsd.hoomd.Snapshot()\n",
    "snapshot.particles.N = N_particles\n",
    "snapshot.particles.position = position\n",
    "snapshot.particles.orientation = orientation"
   ]
  },
  {
   "cell_type": "markdown",
   "metadata": {},
   "source": [
    "Each particle also has a **type**.\n",
    "In HPMC, each **type** has its own shape parameters.\n",
    "There is a single **type** in this tutorial, so set a **type id** of 0 for all particles (type ids are 0-indexed):"
   ]
  },
  {
   "cell_type": "code",
   "execution_count": 12,
   "metadata": {},
   "outputs": [],
   "source": [
    "snapshot.particles.typeid = [0] * N_particles"
   ]
  },
  {
   "cell_type": "markdown",
   "metadata": {},
   "source": [
    "Every particle **type** needs a **name**.\n",
    "Names can be any string.\n",
    "HOOMD-blue uses the type names to match the parameters you specify in **operations** with the type names present in the **state**.\n",
    "Give the name `'octahedron'` to the type id 0:"
   ]
  },
  {
   "cell_type": "code",
   "execution_count": 13,
   "metadata": {},
   "outputs": [],
   "source": [
    "snapshot.particles.types = ['octahedron']"
   ]
  },
  {
   "cell_type": "markdown",
   "metadata": {},
   "source": [
    "**GSD** represents boxes with a 6-element array. Three box lengths *L_x*, *L_y*, *L_z*, and 3 tilt factors. Set equal box lengths 0 tilt factors to define a cubic box."
   ]
  },
  {
   "cell_type": "code",
   "execution_count": 14,
   "metadata": {},
   "outputs": [],
   "source": [
    "snapshot.configuration.box = [L, L, L, 0, 0, 0]"
   ]
  },
  {
   "cell_type": "markdown",
   "metadata": {},
   "source": [
    "Write this snapshot to `lattice.gsd`:"
   ]
  },
  {
   "cell_type": "code",
   "execution_count": 15,
   "metadata": {},
   "outputs": [],
   "source": [
    "with gsd.hoomd.open(name='lattice.gsd', mode='xb') as f:\n",
    "    f.append(snapshot)"
   ]
  },
  {
   "cell_type": "markdown",
   "metadata": {},
   "source": [
    "## Initializing a Simulation\n",
    "\n",
    "You can use the file to initialize the **Simulation state**.\n",
    "First, create a **Simulation**:"
   ]
  },
  {
   "cell_type": "code",
   "execution_count": 16,
   "metadata": {},
   "outputs": [],
   "source": [
    "cpu = hoomd.device.CPU()\n",
    "sim = hoomd.Simulation(device=cpu)"
   ]
  },
  {
   "cell_type": "markdown",
   "metadata": {},
   "source": [
    "Then use the `create_state_from_gsd` factory function to read in the GSD file and populate the **state** with the particles and box from the file:"
   ]
  },
  {
   "cell_type": "code",
   "execution_count": 17,
   "metadata": {},
   "outputs": [],
   "source": [
    "sim.create_state_from_gsd(filename='lattice.gsd')"
   ]
  },
  {
   "cell_type": "markdown",
   "metadata": {},
   "source": [
    "The next section in this tutorial will show you how to use HPMC to randomize the particle positions and orientations."
   ]
  },
  {
   "cell_type": "markdown",
   "metadata": {
    "nbsphinx": "hidden"
   },
   "source": [
    "[Previous section](02-Performing-Hard-Particle-Monte-Carlo-Simulations.ipynb). [Next section](04-Randomizing-the-System.ipynb)."
   ]
  }
 ],
 "metadata": {
  "kernelspec": {
   "display_name": "Python 3",
   "language": "python",
   "name": "python3"
  },
  "language_info": {
   "codemirror_mode": {
    "name": "ipython",
    "version": 3
   },
   "file_extension": ".py",
   "mimetype": "text/x-python",
   "name": "python",
   "nbconvert_exporter": "python",
   "pygments_lexer": "ipython3",
   "version": "3.9.2"
  },
  "record_timing": false
 },
 "nbformat": 4,
 "nbformat_minor": 4
}
