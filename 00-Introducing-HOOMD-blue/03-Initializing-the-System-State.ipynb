{
 "cells": [
  {
   "cell_type": "markdown",
   "metadata": {},
   "source": [
    "# Initializing the System State\n",
    "\n",
    "## Overview\n",
    "\n",
    "### Questions\n",
    "\n",
    "* How do I place particles in the initial condition?\n",
    "* What units does HOOMD-blue use?\n",
    "\n",
    "### Objectives\n",
    "\n",
    "* Describe the basic properties of the **initial condition**, including particle **position**, **orientation**, **type** and the **periodic box**.\n",
    "* Briefly describe HOOMD-blues system of **units**.\n",
    "* Demonstrate writing a system to a **GSD** file.\n",
    "* Show how to initialize **Simulation state** from a **GSD** file."
   ]
  },
  {
   "cell_type": "code",
   "execution_count": 1,
   "metadata": {},
   "outputs": [],
   "source": [
    "import hoomd\n",
    "import math\n",
    "import itertools\n",
    "import numpy"
   ]
  },
  {
   "cell_type": "markdown",
   "metadata": {},
   "source": [
    "## Components of the system state\n",
    "\n",
    "We need to initialize the system **state** before we can run a simulation.\n",
    "The **initial condition** describes the the **position** and **orientation** of every particle in the system and the **periodic box** at the start of the simulation.\n",
    "\n",
    "The hard regular octahedra system self-assembles the the Minkowski structure (TODO cite), which is similar to bcc.\n",
    "Self-assembly studies usually consist of many thousands of particles, but that is large for a short tutorial so we will use 128 particles, a number commensurate with the *bcc* structure."
   ]
  },
  {
   "cell_type": "code",
   "execution_count": 2,
   "metadata": {},
   "outputs": [],
   "source": [
    "N = 250"
   ]
  },
  {
   "cell_type": "markdown",
   "metadata": {},
   "source": [
    "## Placing particles\n",
    "\n",
    "In hard particle Monte Carlo, valid particle configurations have no overlaps.\n",
    "The octahedron particle we are using in this tutorial sits inside a sphere of diameter 1, so let's place particles a little bit further than that apart on a *K*x*K*x*K* simple cubic lattice of width *L*."
   ]
  },
  {
   "cell_type": "code",
   "execution_count": 3,
   "metadata": {},
   "outputs": [],
   "source": [
    "spacing = 1.1\n",
    "K = math.ceil(N**(1/3))\n",
    "L = K * spacing"
   ]
  },
  {
   "cell_type": "markdown",
   "metadata": {},
   "source": [
    "In HOOMD, particles **positions** must be placed inside a **period box**.\n",
    "Cubic boxes range from -*L*/2 to *L*/2.\n",
    "Use *itertools* and *numpy* to place the positions on the lattice."
   ]
  },
  {
   "cell_type": "code",
   "execution_count": 4,
   "metadata": {},
   "outputs": [
    {
     "name": "stdout",
     "output_type": "stream",
     "text": [
      "[(-3.8500000000000005, -3.8500000000000005, -3.8500000000000005), (-3.8500000000000005, -3.8500000000000005, -2.7500000000000004), (-3.8500000000000005, -3.8500000000000005, -1.6500000000000004), (-3.8500000000000005, -3.8500000000000005, -0.5500000000000003)]\n"
     ]
    }
   ],
   "source": [
    "x = numpy.arange(-L/2, L/2, spacing)\n",
    "position = list(itertools.product(x, repeat=3))\n",
    "print(position[0:4])"
   ]
  },
  {
   "cell_type": "markdown",
   "metadata": {},
   "source": [
    "128 is less than `6*6*6`, so we need filter this list down to *N* particles."
   ]
  },
  {
   "cell_type": "code",
   "execution_count": 5,
   "metadata": {},
   "outputs": [],
   "source": [
    "position = position[0:N]"
   ]
  },
  {
   "cell_type": "markdown",
   "metadata": {},
   "source": [
    "We also need to set the **orientation** for each particle.\n",
    "HOOMD represents orientations with quaternions.\n",
    "The quaternion (1, 0, 0, 0) represents no rotation, set that for all particles:"
   ]
  },
  {
   "cell_type": "code",
   "execution_count": 6,
   "metadata": {},
   "outputs": [],
   "source": [
    "orientation = [(1, 0, 0, 0)]*N"
   ]
  },
  {
   "cell_type": "markdown",
   "metadata": {},
   "source": [
    "## Units\n",
    "\n",
    "HOOMD-blue does not adopt any particular real system of **units**. \n",
    "Instead, HOOMD-blue uses an *internally self-consistent* system of **units** and is compatible with *many* systems of **units**.\n",
    "For example: if you select the units of *meter*, *Joule*, and *kilogram* for length, energy and mass then the units of force will be *Newtons* and velocity will be *meters/second*.\n",
    "A popular system of units for nano-scale systems is *nanometers*, *kilojoules/mol*, and *atomic mass units*.\n",
    "\n",
    "In HPMC, the *primary* **unit** the applies is that of *length*.\n",
    "Mass exists, but is factored out of the partition function and does not enter into the simulation.\n",
    "The actual scale of the energy **unit** is irrelevant in athermal HPMC systems where overlapping energies are infinite and valid configurations have zero potential energy.\n",
    "However, energy does appear implicitly in **derived units** like *pressure* $\\left(\\frac{\\mathrm{energy}}{\\mathrm{distance}^3}\\right)$.\n",
    "In HPMC, $k_\\mathrm{B}T$ is assumed to be 1 energy unit.\n",
    "You can convert a pressure value $P$ in HPMC's units to a non-dimensional value with $P^* = \\frac{P\\sigma^3}{k_\\mathrm{B}T}$ where $\\sigma$ is a representative length in your system, such as the particle's diameter or edge length."
   ]
  },
  {
   "cell_type": "markdown",
   "metadata": {},
   "source": [
    "## Writing the configuration to disk\n",
    "\n",
    "[**GSD**](https://gsd.readthedocs.io/) files store the **periodic box**, particle **positions**, **orientations**,  and other properties of the state on disk.\n",
    "We will use the **GSD** Python package to write this file."
   ]
  },
  {
   "cell_type": "code",
   "execution_count": 7,
   "metadata": {},
   "outputs": [],
   "source": [
    "import gsd.hoomd"
   ]
  },
  {
   "cell_type": "markdown",
   "metadata": {},
   "source": [
    "The **Snapshot** object stores the state of the system."
   ]
  },
  {
   "cell_type": "code",
   "execution_count": 8,
   "metadata": {},
   "outputs": [],
   "source": [
    "snapshot = gsd.hoomd.Snapshot()\n",
    "snapshot.particles.N = N\n",
    "snapshot.particles.position = position\n",
    "snapshot.particles.orientation = orientation"
   ]
  },
  {
   "cell_type": "markdown",
   "metadata": {},
   "source": [
    "Each particle also has a **type**.\n",
    "In HPMC, each **type** has its own shape parameters.\n",
    "We have a single **type** in this tutorial, so set a **type id** of 0 for all particles:"
   ]
  },
  {
   "cell_type": "code",
   "execution_count": 9,
   "metadata": {},
   "outputs": [],
   "source": [
    "snapshot.particles.typeid = [0]*N"
   ]
  },
  {
   "cell_type": "markdown",
   "metadata": {},
   "source": [
    "We also need to set a name for our particle **type**.\n",
    "Names can be any string.\n",
    "HOOMD-blue uses the type names to match the parameters you specify in **operations** with the type names present in the **state**.\n",
    "Give the name `'octahedron'` to the type id 0:"
   ]
  },
  {
   "cell_type": "code",
   "execution_count": 10,
   "metadata": {},
   "outputs": [],
   "source": [
    "snapshot.particles.types = ['octahedron']"
   ]
  },
  {
   "cell_type": "markdown",
   "metadata": {},
   "source": [
    "**GSD** represents boxes with a 6-element array. Three box lengths *L_x*, *L_y*, *L_z*, and 3 tilt factors. We have a cubic box here, so the box lengths are equal and the tilt factors are all 0."
   ]
  },
  {
   "cell_type": "code",
   "execution_count": 11,
   "metadata": {},
   "outputs": [],
   "source": [
    "snapshot.configuration.box = [L, L, L, 0, 0, 0]"
   ]
  },
  {
   "cell_type": "markdown",
   "metadata": {},
   "source": [
    "Write this snapshot to `lattice.gsd`:"
   ]
  },
  {
   "cell_type": "code",
   "execution_count": 12,
   "metadata": {},
   "outputs": [],
   "source": [
    "with gsd.hoomd.open(name='lattice.gsd', mode='wb') as f:\n",
    "    f.append(snapshot)"
   ]
  },
  {
   "cell_type": "markdown",
   "metadata": {},
   "source": [
    "## Initializing a Simulation\n",
    "\n",
    "We can use the file to initialize the **Simulation state**.\n",
    "First, create a **Simulation**:"
   ]
  },
  {
   "cell_type": "code",
   "execution_count": 13,
   "metadata": {},
   "outputs": [
    {
     "name": "stdout",
     "output_type": "stream",
     "text": [
      "HOOMD-blue v2.9.0-1828-gd903f0dc6 DOUBLE HPMC_MIXED SSE SSE2 SSE3 SSE4_1 SSE4_2 AVX AVX2 \n",
      "Compiled: 06/10/2020\n",
      "Copyright (c) 2009-2019 The Regents of the University of Michigan.\n",
      "HOOMD-blue is running on the CPU\n"
     ]
    }
   ],
   "source": [
    "cpu = hoomd.device.CPU()\n",
    "sim = hoomd.Simulation(device=cpu)"
   ]
  },
  {
   "cell_type": "markdown",
   "metadata": {},
   "source": [
    "The use the `create_state_from_gsd` factory function to read in the GSD file and populate the **state** with the particles and box from the file:"
   ]
  },
  {
   "cell_type": "code",
   "execution_count": 14,
   "metadata": {},
   "outputs": [],
   "source": [
    "sim.create_state_from_gsd(filename='lattice.gsd')"
   ]
  },
  {
   "cell_type": "markdown",
   "metadata": {},
   "source": [
    "The next section in this tutorial will show you how to use HPMC to randomize the particle positions and orientations."
   ]
  },
  {
   "cell_type": "markdown",
   "metadata": {
    "nbsphinx": "hidden"
   },
   "source": [
    "[Previous section](02-Performing-Hard-Particle-Monte-Carlo-Simulations.ipynb). [Next section](04-Randomizing-the-System.ipynb)."
   ]
  }
 ],
 "metadata": {
  "kernelspec": {
   "display_name": "Python 3",
   "language": "python",
   "name": "python3"
  },
  "language_info": {
   "codemirror_mode": {
    "name": "ipython",
    "version": 3
   },
   "file_extension": ".py",
   "mimetype": "text/x-python",
   "name": "python",
   "nbconvert_exporter": "python",
   "pygments_lexer": "ipython3",
   "version": "3.8.3"
  }
 },
 "nbformat": 4,
 "nbformat_minor": 4
}
