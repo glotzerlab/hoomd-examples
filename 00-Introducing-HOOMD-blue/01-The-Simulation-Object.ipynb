{
 "cells": [
  {
   "cell_type": "markdown",
   "metadata": {},
   "source": [
    "# The Simulation Object\n",
    "\n",
    "## Overview\n",
    "\n",
    "### Questions\n",
    "\n",
    "* How can I configure and control a simulation?\n",
    "* How do I choose which processor to use?\n",
    "\n",
    "### Objectives\n",
    "\n",
    "* Explain the parts of the **Simulation** object and how they relate.\n",
    "* Explain how the **device** object influences how the simulation executes.\n",
    "* Demonstrate the creation of these objects."
   ]
  },
  {
   "cell_type": "markdown",
   "metadata": {},
   "source": [
    "## Core objects\n",
    "\n",
    "HOOMD-blue is an object-oriented Python package. First, import the package:"
   ]
  },
  {
   "cell_type": "code",
   "execution_count": 1,
   "metadata": {
    "execution": {
     "iopub.execute_input": "2021-02-16T17:05:52.430972Z",
     "iopub.status.busy": "2021-02-16T17:05:52.430338Z",
     "iopub.status.idle": "2021-02-16T17:05:52.550516Z",
     "shell.execute_reply": "2021-02-16T17:05:52.551176Z"
    }
   },
   "outputs": [],
   "source": [
    "import hoomd"
   ]
  },
  {
   "cell_type": "markdown",
   "metadata": {},
   "source": [
    "The **Simulation** object combines all the elements of a simulation together and provides an interface to run the simulation. It consists of the simulation **state** and **operations** which act on that state. The simulation **state** includes the current box, bonds, particle positions, velocities, orientations, and other particle properties. **Operations** examine or modify the state. A simulation has *one* state, and *any number* of operations."
   ]
  },
  {
   "cell_type": "markdown",
   "metadata": {},
   "source": [
    "## Selecting a device\n",
    "\n",
    "You must specify a **device** when constructing a **Simulation**. The **device** tells the simulation where to store the **state** and what processor to use when executing operations. HOOMD-blue can execute on the CPU:"
   ]
  },
  {
   "cell_type": "code",
   "execution_count": 2,
   "metadata": {
    "execution": {
     "iopub.execute_input": "2021-02-16T17:05:52.603506Z",
     "iopub.status.busy": "2021-02-16T17:05:52.602473Z",
     "iopub.status.idle": "2021-02-16T17:05:52.604758Z",
     "shell.execute_reply": "2021-02-16T17:05:52.605707Z"
    }
   },
   "outputs": [],
   "source": [
    "cpu = hoomd.device.CPU()"
   ]
  },
  {
   "cell_type": "markdown",
   "metadata": {},
   "source": [
    "Or the GPU:"
   ]
  },
  {
   "cell_type": "code",
   "execution_count": 3,
   "metadata": {
    "execution": {
     "iopub.execute_input": "2021-02-16T17:05:52.958741Z",
     "iopub.status.busy": "2021-02-16T17:05:52.957512Z",
     "iopub.status.idle": "2021-02-16T17:05:52.960040Z",
     "shell.execute_reply": "2021-02-16T17:05:52.961060Z"
    },
    "tags": [
     "raises-exception"
    ]
   },
   "outputs": [],
   "source": [
    "gpu = hoomd.device.GPU()"
   ]
  },
  {
   "cell_type": "markdown",
   "metadata": {},
   "source": [
    "GPUs are highly parallel processors best suited for larger workloads.\n",
    "In typical systems with more than 4,000 particles a single GPU performs an order of magnitude faster than an entire CPU (all cores).\n",
    "Try your simulation on both to see what hardware can run the same number of time steps in less time."
   ]
  },
  {
   "cell_type": "markdown",
   "metadata": {},
   "source": [
    "## Creating a Simulation\n",
    "\n",
    "Now, you can instantiate a **Simulation** with the chosen device."
   ]
  },
  {
   "cell_type": "code",
   "execution_count": 4,
   "metadata": {
    "execution": {
     "iopub.execute_input": "2021-02-16T17:05:52.966625Z",
     "iopub.status.busy": "2021-02-16T17:05:52.965442Z",
     "iopub.status.idle": "2021-02-16T17:05:52.967926Z",
     "shell.execute_reply": "2021-02-16T17:05:52.968934Z"
    }
   },
   "outputs": [],
   "source": [
    "sim = hoomd.Simulation(device=cpu)"
   ]
  },
  {
   "cell_type": "markdown",
   "metadata": {},
   "source": [
    "A newly constructed **Simulation** has no **state**:"
   ]
  },
  {
   "cell_type": "code",
   "execution_count": 5,
   "metadata": {
    "execution": {
     "iopub.execute_input": "2021-02-16T17:05:52.973837Z",
     "iopub.status.busy": "2021-02-16T17:05:52.972863Z",
     "iopub.status.idle": "2021-02-16T17:05:52.975052Z",
     "shell.execute_reply": "2021-02-16T17:05:52.975445Z"
    }
   },
   "outputs": [
    {
     "name": "stdout",
     "output_type": "stream",
     "text": [
      "None\n"
     ]
    }
   ],
   "source": [
    "print(sim.state)"
   ]
  },
  {
   "cell_type": "markdown",
   "metadata": {},
   "source": [
    "And no integrator, updaters, or writers, which are types of **operations**:"
   ]
  },
  {
   "cell_type": "code",
   "execution_count": 6,
   "metadata": {
    "execution": {
     "iopub.execute_input": "2021-02-16T17:05:52.980093Z",
     "iopub.status.busy": "2021-02-16T17:05:52.979618Z",
     "iopub.status.idle": "2021-02-16T17:05:52.982367Z",
     "shell.execute_reply": "2021-02-16T17:05:52.982747Z"
    }
   },
   "outputs": [
    {
     "name": "stdout",
     "output_type": "stream",
     "text": [
      "None\n"
     ]
    }
   ],
   "source": [
    "print(sim.operations.integrator)"
   ]
  },
  {
   "cell_type": "code",
   "execution_count": 7,
   "metadata": {
    "execution": {
     "iopub.execute_input": "2021-02-16T17:05:52.986433Z",
     "iopub.status.busy": "2021-02-16T17:05:52.985959Z",
     "iopub.status.idle": "2021-02-16T17:05:52.989070Z",
     "shell.execute_reply": "2021-02-16T17:05:52.988593Z"
    }
   },
   "outputs": [
    {
     "name": "stdout",
     "output_type": "stream",
     "text": [
      "[]\n"
     ]
    }
   ],
   "source": [
    "print(sim.operations.updaters[:])"
   ]
  },
  {
   "cell_type": "code",
   "execution_count": 8,
   "metadata": {
    "execution": {
     "iopub.execute_input": "2021-02-16T17:05:52.993018Z",
     "iopub.status.busy": "2021-02-16T17:05:52.992482Z",
     "iopub.status.idle": "2021-02-16T17:05:52.994942Z",
     "shell.execute_reply": "2021-02-16T17:05:52.995376Z"
    }
   },
   "outputs": [
    {
     "name": "stdout",
     "output_type": "stream",
     "text": [
      "[]\n"
     ]
    }
   ],
   "source": [
    "print(sim.operations.writers[:])"
   ]
  },
  {
   "cell_type": "markdown",
   "metadata": {},
   "source": [
    "The remaining sections in this tutorial will show you how to populate a **Simulation** with **operations**, initialize the **state**, and run the simulation."
   ]
  },
  {
   "cell_type": "markdown",
   "metadata": {
    "nbsphinx": "hidden"
   },
   "source": [
    "[Previous section](00-index.ipynb). [Next section](02-Performing-Hard-Particle-Monte-Carlo-Simulations.ipynb)."
   ]
  }
 ],
 "metadata": {
  "kernelspec": {
   "display_name": "Python 3",
   "language": "python",
   "name": "python3"
  },
  "language_info": {
   "codemirror_mode": {
    "name": "ipython",
    "version": 3
   },
   "file_extension": ".py",
   "mimetype": "text/x-python",
   "name": "python",
   "nbconvert_exporter": "python",
   "pygments_lexer": "ipython3",
   "version": "3.9.1"
  },
  "record_timing": false
 },
 "nbformat": 4,
 "nbformat_minor": 4
}
