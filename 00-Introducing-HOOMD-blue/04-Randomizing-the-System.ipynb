{
 "cells": [
  {
   "cell_type": "markdown",
   "metadata": {},
   "source": [
    "# Randomizing the System\n",
    "\n",
    "## Objectives\n",
    "\n",
    "### Questions\n",
    "\n",
    "* How can I generate a random initial condition?\n",
    "\n",
    "### Objectives\n",
    "\n",
    "* Show how to use HPMC to **randomize** the **initial condition**.\n",
    "* Demonstrate how to **run** a simulation.\n",
    "* Show how to use HPMC integrator properties to examine the **acceptance ratio**.\n",
    "* Explain that short simulations at low density effectively randomize the system."
   ]
  },
  {
   "cell_type": "code",
   "execution_count": 1,
   "metadata": {},
   "outputs": [],
   "source": [
    "import hoomd\n",
    "import math"
   ]
  },
  {
   "cell_type": "markdown",
   "metadata": {},
   "source": [
    "## Method\n",
    "\n",
    "The previous section of this tutorial placed all the particles on a simple cubic lattice.\n",
    "This is a convenient way to place non-overlapping particles, but it starts the simulation in a highly ordered state.\n",
    "We should **randomize** the the system enough so that it forgets this initial state and self-assembly to the final ordered state can proceed without influence by the initial condition.\n",
    "\n",
    "We cannot simply draw random numbers for the particle positions, as that will result in overlaps between particles.\n",
    "Instead, we will start from the lattice and use HPMC to move particles randomly while ensuring that they do not overlap.\n",
    "In low density configurations, like the lattice generated in the previous section, a short simulation will quickly **randomize** the system."
   ]
  },
  {
   "cell_type": "markdown",
   "metadata": {},
   "source": [
    "## Set up the simulation\n",
    "\n",
    "The following code block creates the **Simulation**, configures the HPMC **integrator**, and initializes the system **state** from `lattice.gsd` as has been discussed in previous sections in this tutorial:"
   ]
  },
  {
   "cell_type": "code",
   "execution_count": 2,
   "metadata": {},
   "outputs": [
    {
     "name": "stdout",
     "output_type": "stream",
     "text": [
      "HOOMD-blue v2.9.0-1828-gd903f0dc6 GPU [CUDA] (10.2) DOUBLE HPMC_MIXED SSE SSE2 \n",
      "Compiled: 06/08/2020\n",
      "Copyright (c) 2009-2019 The Regents of the University of Michigan.\n",
      "HOOMD-blue is running on the CPU\n"
     ]
    }
   ],
   "source": [
    "cpu = hoomd.device.CPU()\n",
    "sim = hoomd.Simulation(device=cpu)\n",
    "\n",
    "mc = hoomd.hpmc.integrate.ConvexPolyhedron(seed=42)\n",
    "mc.shape['tetrahedron'] = dict(vertices=[(math.sqrt(8/9), 0, -1/3),\n",
    "                                         (-math.sqrt(2/9), math.sqrt(2/3), -1/3),\n",
    "                                         (-math.sqrt(2/9), -math.sqrt(2/3), -1/3),\n",
    "                                         (0,0,1)])\n",
    "\n",
    "sim.operations.integrator = mc\n",
    "sim.create_state_from_gsd(filename='lattice.gsd')"
   ]
  },
  {
   "cell_type": "markdown",
   "metadata": {},
   "source": [
    "## Run the simulation\n",
    "\n",
    "Before we **run** the simulation, let's save a snapshot of the current state of the system.\n",
    "We will use this later to see how far particles have moved."
   ]
  },
  {
   "cell_type": "code",
   "execution_count": 3,
   "metadata": {},
   "outputs": [],
   "source": [
    "initial_snapshot = sim.state.snapshot"
   ]
  },
  {
   "cell_type": "markdown",
   "metadata": {},
   "source": [
    "**Run** the simulation to **randomize** the particle positions and orientations.\n",
    "The `run` method takes the number of steps to run as an argument.\n",
    "10,000 steps should be enough to **randomize** a low density system:"
   ]
  },
  {
   "cell_type": "code",
   "execution_count": 4,
   "metadata": {},
   "outputs": [],
   "source": [
    "sim.run(10e3)"
   ]
  },
  {
   "cell_type": "markdown",
   "metadata": {},
   "source": [
    "We can query properties of the HPMC **integrator** to see what it did.\n",
    "`translate_moves` is a tuple with the number of accepted and rejected translation moves.\n",
    "The **acceptance ratio**, the fraction of attempted moves which is accepted, is very high at this low density."
   ]
  },
  {
   "cell_type": "code",
   "execution_count": 5,
   "metadata": {},
   "outputs": [
    {
     "data": {
      "text/plain": [
       "(6203539, 356132)"
      ]
     },
     "execution_count": 5,
     "metadata": {},
     "output_type": "execute_result"
    }
   ],
   "source": [
    "mc.translate_moves"
   ]
  },
  {
   "cell_type": "code",
   "execution_count": 6,
   "metadata": {},
   "outputs": [
    {
     "data": {
      "text/plain": [
       "0.9457088625328923"
      ]
     },
     "execution_count": 6,
     "metadata": {},
     "output_type": "execute_result"
    }
   ],
   "source": [
    "mc.translate_moves[0] / sum(mc.translate_moves)"
   ]
  },
  {
   "cell_type": "markdown",
   "metadata": {},
   "source": [
    "`rotate_moves` similarly provides the number of accepted and rejected rotation moves."
   ]
  },
  {
   "cell_type": "code",
   "execution_count": 7,
   "metadata": {},
   "outputs": [
    {
     "data": {
      "text/plain": [
       "(6166155, 394174)"
      ]
     },
     "execution_count": 7,
     "metadata": {},
     "output_type": "execute_result"
    }
   ],
   "source": [
    "mc.rotate_moves"
   ]
  },
  {
   "cell_type": "code",
   "execution_count": 8,
   "metadata": {},
   "outputs": [
    {
     "data": {
      "text/plain": [
       "0.9399155133835514"
      ]
     },
     "execution_count": 8,
     "metadata": {},
     "output_type": "execute_result"
    }
   ],
   "source": [
    "mc.rotate_moves[0] / sum(mc.rotate_moves)"
   ]
  },
  {
   "cell_type": "markdown",
   "metadata": {},
   "source": [
    "`overlaps` reports the number of overlapping particle pairs in the **state**.\n",
    "There are no overlaps in the final configuration:"
   ]
  },
  {
   "cell_type": "code",
   "execution_count": 9,
   "metadata": {},
   "outputs": [
    {
     "data": {
      "text/plain": [
       "0"
      ]
     },
     "execution_count": 9,
     "metadata": {},
     "output_type": "execute_result"
    }
   ],
   "source": [
    "mc.overlaps"
   ]
  },
  {
   "cell_type": "markdown",
   "metadata": {},
   "source": [
    "## The final configuration\n",
    "\n",
    "Let's look at the final particle positions and orientations and see how they have changed."
   ]
  },
  {
   "cell_type": "code",
   "execution_count": 10,
   "metadata": {},
   "outputs": [],
   "source": [
    "final_snapshot = sim.state.snapshot"
   ]
  },
  {
   "cell_type": "code",
   "execution_count": 11,
   "metadata": {},
   "outputs": [
    {
     "data": {
      "text/plain": [
       "array([[-7.3499999 , -7.3499999 , -7.3499999 ],\n",
       "       [-7.3499999 , -7.3499999 , -5.25      ],\n",
       "       [-7.3499999 , -7.3499999 , -3.1500001 ],\n",
       "       [-7.3499999 , -7.3499999 , -1.04999995]])"
      ]
     },
     "execution_count": 11,
     "metadata": {},
     "output_type": "execute_result"
    }
   ],
   "source": [
    "initial_snapshot.particles.position[0:4]"
   ]
  },
  {
   "cell_type": "code",
   "execution_count": 12,
   "metadata": {},
   "outputs": [
    {
     "data": {
      "text/plain": [
       "array([[ 1.25836406,  1.63074177, -5.5856057 ],\n",
       "       [ 7.22317509, -3.70509202, -1.42608682],\n",
       "       [ 1.69358817,  0.30879439,  6.49902573],\n",
       "       [ 1.40394786,  5.27004891, -0.61866059]])"
      ]
     },
     "execution_count": 12,
     "metadata": {},
     "output_type": "execute_result"
    }
   ],
   "source": [
    "final_snapshot.particles.position[0:4]"
   ]
  },
  {
   "cell_type": "code",
   "execution_count": 13,
   "metadata": {},
   "outputs": [
    {
     "data": {
      "text/plain": [
       "array([[1., 0., 0., 0.],\n",
       "       [1., 0., 0., 0.],\n",
       "       [1., 0., 0., 0.],\n",
       "       [1., 0., 0., 0.]])"
      ]
     },
     "execution_count": 13,
     "metadata": {},
     "output_type": "execute_result"
    }
   ],
   "source": [
    "initial_snapshot.particles.orientation[0:4]"
   ]
  },
  {
   "cell_type": "code",
   "execution_count": 14,
   "metadata": {},
   "outputs": [
    {
     "data": {
      "text/plain": [
       "array([[-0.04936395,  0.56010907,  0.00891608, -0.82689875],\n",
       "       [-0.01328093, -0.97438384, -0.22152705,  0.03640776],\n",
       "       [ 0.07721853, -0.60327957, -0.78518527, -0.11651244],\n",
       "       [-0.5018886 , -0.55794604,  0.41878041,  0.51129934]])"
      ]
     },
     "execution_count": 14,
     "metadata": {},
     "output_type": "execute_result"
    }
   ],
   "source": [
    "final_snapshot.particles.orientation[0:4]"
   ]
  },
  {
   "cell_type": "markdown",
   "metadata": {},
   "source": [
    "The particle positions and orientations have indeed changed significantly, telling us that the system is well **randomized**.\n",
    "Let's save the final configuration to a GSD file for use in the next stage of the simulation."
   ]
  },
  {
   "cell_type": "code",
   "execution_count": 15,
   "metadata": {},
   "outputs": [],
   "source": [
    "hoomd.dump.GSD.write_state(state=sim.state, filename='random.gsd')"
   ]
  },
  {
   "cell_type": "markdown",
   "metadata": {},
   "source": [
    "We will take `random.gsd` and compress it down to a higher density in the next section of this tutorial."
   ]
  }
 ],
 "metadata": {
  "kernelspec": {
   "display_name": "Python 3",
   "language": "python",
   "name": "python3"
  },
  "language_info": {
   "codemirror_mode": {
    "name": "ipython",
    "version": 3
   },
   "file_extension": ".py",
   "mimetype": "text/x-python",
   "name": "python",
   "nbconvert_exporter": "python",
   "pygments_lexer": "ipython3",
   "version": "3.8.3"
  }
 },
 "nbformat": 4,
 "nbformat_minor": 4
}
