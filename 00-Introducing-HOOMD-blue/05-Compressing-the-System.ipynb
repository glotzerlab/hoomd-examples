{
 "cells": [
  {
   "cell_type": "markdown",
   "metadata": {},
   "source": [
    "# Compressing the System\n",
    "\n",
    "## Objectives\n",
    "\n",
    "### Questions\n",
    "\n",
    "* How do I compress the system to a target density? \n",
    "* What is a packing fraction?\n",
    "\n",
    "### Objectives\n",
    "\n",
    "* Show how to compute the **packing fraction** of a system.\n",
    "* Explain how how an **Updater** is an **operation** that modifies the system when its **Trigger** returns `True`.\n",
    "* Demonstrate using the **QuickCompress** updater to achieve a target packing fraction.\n",
    "* Show how some **operations** can stop the simulation **run**."
   ]
  },
  {
   "cell_type": "code",
   "execution_count": 1,
   "metadata": {},
   "outputs": [],
   "source": [
    "import hoomd\n",
    "import math\n",
    "import copy"
   ]
  },
  {
   "cell_type": "markdown",
   "metadata": {},
   "source": [
    "## Packing fraction\n",
    "\n",
    "Self-assembly in the [hard regular tetrahedra system](https://doi.org/10.1038/nature08641) occurs at a **packing fraction** of 0.55.\n",
    "The **packing fraction** is the ratio of the volume occupied by the particles to the volume of the **periodic box**.\n",
    "So far in this tutorial, we have **randomized** a system of *N* tetrahedra in a box with a very low packing fraction and stored that in `random.gsd`.\n",
    "Let's initialize a **Simulation** with this configuration and see what packing fraction it is at."
   ]
  },
  {
   "cell_type": "code",
   "execution_count": 2,
   "metadata": {},
   "outputs": [
    {
     "name": "stdout",
     "output_type": "stream",
     "text": [
      "HOOMD-blue v2.9.0-1828-gd903f0dc6 GPU [CUDA] (10.2) DOUBLE HPMC_MIXED SSE SSE2 \n",
      "Compiled: 06/08/2020\n",
      "Copyright (c) 2009-2019 The Regents of the University of Michigan.\n",
      "HOOMD-blue is running on the CPU\n"
     ]
    }
   ],
   "source": [
    "cpu = hoomd.device.CPU()\n",
    "sim = hoomd.Simulation(device=cpu)\n",
    "sim.create_state_from_gsd(filename='random.gsd')"
   ]
  },
  {
   "cell_type": "markdown",
   "metadata": {},
   "source": [
    "Compute the [volume of our tetrahedron](https://en.wikipedia.org/wiki/Tetrahedron):"
   ]
  },
  {
   "cell_type": "code",
   "execution_count": 3,
   "metadata": {},
   "outputs": [],
   "source": [
    "a = math.sqrt(8/3)\n",
    "V_particle = a**3 / (6 * math.sqrt(2))"
   ]
  },
  {
   "cell_type": "markdown",
   "metadata": {},
   "source": [
    "Compute the **packing fraction** (TODO: Add number of particles to state?)"
   ]
  },
  {
   "cell_type": "code",
   "execution_count": 4,
   "metadata": {},
   "outputs": [
    {
     "name": "stdout",
     "output_type": "stream",
     "text": [
      "0.052991804257688346\n"
     ]
    }
   ],
   "source": [
    "initial_packing_fraction = sim.state.snapshot.particles.N * V_particle / sim.state.box.volume\n",
    "print(initial_packing_fraction)"
   ]
  },
  {
   "cell_type": "markdown",
   "metadata": {},
   "source": [
    "As you can see, this **packing fraction** is very low and the box volume needs to be significantly reduced to achieve a **packing fraction** of 0.5."
   ]
  },
  {
   "cell_type": "markdown",
   "metadata": {},
   "source": [
    "We will use HPMC to move particles into non-overlapping configurations while we compress the system.\n",
    "Set up the HPMC integrator for the tetrahedron simulations:"
   ]
  },
  {
   "cell_type": "code",
   "execution_count": 5,
   "metadata": {},
   "outputs": [],
   "source": [
    "mc = hoomd.hpmc.integrate.ConvexPolyhedron(seed=42)\n",
    "mc.shape['tetrahedron'] = dict(vertices=[(math.sqrt(8/9), 0, -1/3),\n",
    "                                         (-math.sqrt(2/9), math.sqrt(2/3), -1/3),\n",
    "                                         (-math.sqrt(2/9), -math.sqrt(2/3), -1/3),\n",
    "                                         (0,0,1)])\n",
    "\n",
    "sim.operations.integrator = mc"
   ]
  },
  {
   "cell_type": "markdown",
   "metadata": {},
   "source": [
    "## The QuickCompress updater\n",
    "\n",
    "An **Updater** is a type of **operation** in HOOMD-blue that makes changes to the **state**.\n",
    "To use an **Updater**, we need to instantiate the object, assign a **Trigger**, and add it to the **Simulation**.\n",
    "**Simulation** will apply the **Updater** on **time steps** where the **Trigger** is `True`.\n",
    "The most commonly used **Trigger** is **PeriodicTrigger** which executes the **Updater** ever `period` steps.\n",
    "\n",
    "**QuickCompress** is an **Updater** that works with HPMC to quickly compress the box to a target volume.\n",
    "During compression, **QuickCompress** reduces the box volume by a scale factor, while *allowing slight overlaps between the particles*.\n",
    "It then waits for the translation and rotation **trial moves** to remove these overlaps before it reduces the volume again.\n",
    "This process temporarily produces invalid system configurations, but is much quicker than a process that does not allow temporary overlaps.\n",
    "\n",
    "Compute the final box size with a **packing fraction** of 0.55 and configure a **QuickCompress** to **trigger** every 10 **time steps**."
   ]
  },
  {
   "cell_type": "code",
   "execution_count": 6,
   "metadata": {},
   "outputs": [],
   "source": [
    "initial_box = sim.state.box\n",
    "final_box = hoomd.Box.from_box(initial_box)\n",
    "final_packing_fraction = 0.55\n",
    "final_box.volume = sim.state.snapshot.particles.N * V_particle / final_packing_fraction\n",
    "# TODO: Implement QuickCompress\n",
    "# compress = hoomd.hpmc.update.QuickCompress(trigger=hoomd.trigger.Periodic(10), target_box = final_box)"
   ]
  },
  {
   "cell_type": "markdown",
   "metadata": {},
   "source": [
    "Add the **Updater** to the **Simulation**:"
   ]
  },
  {
   "cell_type": "code",
   "execution_count": 7,
   "metadata": {},
   "outputs": [],
   "source": [
    "# sim.operations.updaters += compress"
   ]
  },
  {
   "cell_type": "markdown",
   "metadata": {},
   "source": []
  },
  {
   "cell_type": "code",
   "execution_count": null,
   "metadata": {},
   "outputs": [],
   "source": [
    "# This code is not part of the tutorial. \n",
    "# It is a temporary Python implementation of QuickCompress method. Will re-implement in C++ as an Updater later.\n",
    "D = 2\n",
    "max_scale = 0.99\n",
    "max_overlaps = 82*4 / 4\n",
    "mc.d['tetrahedron'] = 0.02693819753092484\n",
    "mc.a['tetrahedron'] = 0.019871213815167245\n",
    "\n",
    "import time\n",
    "import numpy\n",
    "start_time = time.time()\n",
    "\n",
    "current_box = hoomd.Box.from_box(initial_box)\n",
    "\n",
    "N = sim.state.snapshot.particles.N\n",
    "sim.operations.schedule()\n",
    "\n",
    "import sys\n",
    "\n",
    "count = 0\n",
    "\n",
    "while final_box.volume < current_box.volume:\n",
    "    \n",
    "    v = numpy.random.random(1)\n",
    "    current_scale = v * max_scale + (1-v)*1\n",
    "\n",
    "    prev_volume = current_box.volume\n",
    "    current_box.volume = current_scale * current_box.volume\n",
    "\n",
    "    if current_box.volume < final_box.volume:\n",
    "        current_box.volume = final_box.volume\n",
    "\n",
    "    hoomd.update.BoxResize.scale_state(sim.state, current_box)\n",
    "\n",
    "    overlaps = mc.overlaps\n",
    "\n",
    "    if overlaps > max_overlaps:\n",
    "        current_box.volume = prev_volume\n",
    "        hoomd.update.BoxResize.scale_state(sim.state, current_box)\n",
    "        overlaps = mc.overlaps\n",
    "        \n",
    "        sim.run(10)\n",
    "       \n",
    "#     if sim.timestep % 100 == 0:\n",
    "#         print(\"phi =\", (N*V_particle) / (current_box.volume), \": overlaps =\", overlaps);\n",
    "    \n",
    "    # run until all overlaps are removed\n",
    "    while overlaps > 0:\n",
    "        sim.run(10);\n",
    "        \n",
    "        overlaps = mc.overlaps;\n",
    "        sys.stdout.flush();\n",
    "        \n",
    "        gamma = 2.0\n",
    "#         acceptance = mc.translate_moves[0] / sum(mc.translate_moves)\n",
    "#         d_scale = ((1.0 + gamma) * acceptance) / (0.2 + gamma * acceptance)\n",
    "#         mc.d['tetrahedron'] = mc.d['tetrahedron'] * d_scale\n",
    "#         max_scale = (3*1 + (1 - mc.d['tetrahedron']/D)**3)/4\n",
    "\n",
    "#         acceptance = mc.rotate_moves[0] / sum(mc.rotate_moves)\n",
    "#         a_scale = ((1.0 + gamma) * acceptance) / (0.2 + gamma * acceptance)\n",
    "#         mc.a['tetrahedron'] = mc.a['tetrahedron'] * a_scale\n",
    "\n",
    "#print(\"phi =\", (N*V_particle) / (current_box.volume), \": overlaps =\", overlaps);\n",
    "#end_time = time.time()\n",
    "#print(end_time - start_time)"
   ]
  },
  {
   "cell_type": "markdown",
   "metadata": {},
   "source": [
    "Let's save the final configuration to a GSD file for use in the next stage of the simulation."
   ]
  },
  {
   "cell_type": "code",
   "execution_count": 9,
   "metadata": {},
   "outputs": [],
   "source": [
    "hoomd.dump.GSD.write_state(state=sim.state, filename='compressed.gsd')"
   ]
  },
  {
   "cell_type": "code",
   "execution_count": null,
   "metadata": {},
   "outputs": [],
   "source": []
  }
 ],
 "metadata": {
  "kernelspec": {
   "display_name": "Python 3",
   "language": "python",
   "name": "python3"
  },
  "language_info": {
   "codemirror_mode": {
    "name": "ipython",
    "version": 3
   },
   "file_extension": ".py",
   "mimetype": "text/x-python",
   "name": "python",
   "nbconvert_exporter": "python",
   "pygments_lexer": "ipython3",
   "version": "3.8.2"
  }
 },
 "nbformat": 4,
 "nbformat_minor": 4
}
