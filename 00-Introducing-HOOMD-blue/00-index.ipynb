{
 "cells": [
  {
   "cell_type": "markdown",
   "metadata": {},
   "source": [
    "# Introducing HOOMD-blue\n",
    "\n",
    "HOOMD-blue is a Python package that performs Molecular Dynamics and hard particle Monte Carlo simulations. HOOMD-blue is general and can be used to model nanoparticles, bead-spring polymers, active mater, and many other types of systems. This tutorial introduces the core concepts in HOOMD-blue using hard particle self-assembly as an example. Later tutorials will expand on these concepts for other types of simulations.\n",
    "\n",
    "**Prerequisites:**\n",
    "\n",
    "This tutorial assumes you have some familiarity with the Python programming language."
   ]
  },
  {
   "cell_type": "markdown",
   "metadata": {
    "nbsphinx-toctree": {
     "maxdepth": 1
    }
   },
   "source": [
    "## Outline\n",
    "\n",
    "1. [The Simulation Object](01-The-Simulation-Object.ipynb) - How can I configure and control a simulation? How do I choose which processor to use?\n",
    "2. [Performing Hard Particle Monte Carlo Simulations](02-Performing-Hard-Particle-Monte-Carlo-Simulations.ipynb) - What is hard particle Monte Carlo? How do I set up a hard particle Monte Carlo simulation?\n",
    "3. [Initializing the System State](03-Initializing-the-System-State.ipynb) - How do I place particles in the initial condition? What units does HOOMD-blue use?\n",
    "4. [Randomizing the System](04-Randomizing-the-System.ipynb) - How can I generate a random initial condition?\n",
    "5. [Compressing the System](05-Compressing-the-System.ipynb) - How do I compress the system to a target density? What is a packing fraction?\n",
    "6. [Equilibrating the System](06-Equilibrating-the-System.ipynb) - What is equilibration? How do I save simulation results?\n",
    "7. [Analyzing Trajectories](07-Analyzing-Trajectories.ipynb) - How can I analyze trajectories?\n"
   ]
  },
  {
   "cell_type": "markdown",
   "metadata": {},
   "source": [
    "This tutorial is written with [jupyter](https://jupyter.org/). You can download the source from the [hoomd-examples](https://github.com/glotzerlab/hoomd-examples) repository."
   ]
  },
  {
   "cell_type": "markdown",
   "metadata": {
    "nbsphinx": "hidden"
   },
   "source": [
    "[Next section](01-The-Simulation-Object.ipynb)."
   ]
  }
 ],
 "metadata": {
  "kernelspec": {
   "display_name": "Python 3",
   "language": "python",
   "name": "python3"
  },
  "language_info": {
   "codemirror_mode": {
    "name": "ipython",
    "version": 3
   },
   "file_extension": ".py",
   "mimetype": "text/x-python",
   "name": "python",
   "nbconvert_exporter": "python",
   "pygments_lexer": "ipython3",
   "version": "3.8.6"
  }
 },
 "nbformat": 4,
 "nbformat_minor": 4
}
