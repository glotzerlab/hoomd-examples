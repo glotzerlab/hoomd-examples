{
 "cells": [
  {
   "cell_type": "markdown",
   "metadata": {},
   "source": [
    "# Performing Hard Particle Monte Carlo Simulations\n",
    "\n",
    "## Overview\n",
    "\n",
    "### Questions\n",
    "\n",
    "* What is hard particle Monte Carlo?\n",
    "* How do I set up a hard particle Monte Carlo simulation?\n",
    "\n",
    "### Objectives\n",
    "\n",
    "* Describe hard particle Monte Carlo simulations, **particle shape**, and **trial moves**.\n",
    "* Show how to initialize the **ConvexPolyhedron integrator**.\n",
    "* Explain the integrator parameters.\n",
    "* Introduce **time steps**.\n",
    "\n",
    "## Boilerplate code"
   ]
  },
  {
   "cell_type": "code",
   "execution_count": 1,
   "metadata": {},
   "outputs": [],
   "source": [
    "import hoomd"
   ]
  },
  {
   "cell_type": "markdown",
   "metadata": {},
   "source": [
    "## Particle shape\n",
    "\n",
    "A hard particle Monte Carlo (HPMC) simulation represents particles as extended objects which are not allowed to overlap. \n",
    "There are no attractive or repulsive forces in the system.\n",
    "The **shape** of the particle alone controls how it interacts with other particles.\n",
    "Formally, the potential energy of the system is zero when there are no overlaps and infinite when there are.\n",
    "Purely hard interactions induce *effective attractions* between particles which can lead to ordered structures.\n",
    "For example, [hard regular octahedra will self-assemble into a bcc structure](https://doi.org/10.1038/ncomms14038). \n",
    "In this tutorial, you will learn how to run a simulation of hard octahedra and observe this behavior.\n",
    "\n",
    "![Octahedra self assembly](octahedra_assembly.png)\n",
    "\n",
    "## The integrator\n",
    "\n",
    "The **ConvexPolyhedron** **integrator** implements HPMC simulations - Create one:"
   ]
  },
  {
   "cell_type": "code",
   "execution_count": 2,
   "metadata": {},
   "outputs": [],
   "source": [
    "mc = hoomd.hpmc.integrate.ConvexPolyhedron()"
   ]
  },
  {
   "cell_type": "markdown",
   "metadata": {},
   "source": [
    "Set the `shape` *property* to define the **particle shape**.\n",
    "A convex polyhedron is defined by the convex hull of a [set of vertices](https://en.wikipedia.org/wiki/Octahedron):"
   ]
  },
  {
   "cell_type": "code",
   "execution_count": 3,
   "metadata": {},
   "outputs": [],
   "source": [
    "mc.shape['octahedron'] = dict(\n",
    "    vertices=[\n",
    "        (-0.5, 0, 0),\n",
    "        (0.5, 0, 0),\n",
    "        (0, -0.5, 0),\n",
    "        (0, 0.5, 0),\n",
    "        (0, 0, -0.5),\n",
    "        (0, 0, 0.5),\n",
    "    ]\n",
    ")"
   ]
  },
  {
   "cell_type": "markdown",
   "metadata": {},
   "source": [
    "## Trial moves\n",
    "\n",
    "During each **time step**, HPMC attempts `nselect` trial moves on each particle in the system. \n",
    "Each **trial move** is drawn from a pseudorandom number stream and may be either a *translation* or *rotation* move.\n",
    "*Translation moves* displace a particle a random distance (up to `d`) in a random direction.\n",
    "*Rotation moves* rotate the particle by a random angle about a random axis.\n",
    "Larger values of `a` lead to larger possible rotation moves.\n",
    "\n",
    "Any **trial move** whose shape overlaps with another particle is *rejected*, leaving the particle's position and orientation unchanged.\n",
    "Any **trial move** whose shape *does not* overlap with any other particle is *accepted*, setting the particle's position or orientation to the new value.\n",
    "\n",
    "`nselect`, `d`, and `a` are *properties* of the integrator:"
   ]
  },
  {
   "cell_type": "code",
   "execution_count": 4,
   "metadata": {},
   "outputs": [],
   "source": [
    "mc.nselect = 2\n",
    "mc.d['octahedron'] = 0.15\n",
    "mc.a['octahedron'] = 0.2"
   ]
  },
  {
   "cell_type": "markdown",
   "metadata": {},
   "source": [
    "## Setting the integrator"
   ]
  },
  {
   "cell_type": "code",
   "execution_count": 5,
   "metadata": {},
   "outputs": [],
   "source": [
    "cpu = hoomd.device.CPU()\n",
    "simulation = hoomd.Simulation(device=cpu, seed=1)"
   ]
  },
  {
   "cell_type": "markdown",
   "metadata": {},
   "source": [
    "An **integrator** is a type of **operation**. There can only be one **integrator** in a **Simulation** and it operates on the system **state** on every **time step**. Assign the HPMC **integrator** to the **Simulation** to use it:"
   ]
  },
  {
   "cell_type": "code",
   "execution_count": 6,
   "metadata": {},
   "outputs": [],
   "source": [
    "simulation.operations.integrator = mc"
   ]
  },
  {
   "cell_type": "markdown",
   "metadata": {},
   "source": [
    "The `seed` value (passed to the simulation constructor above) selects the sequence of values in the pseudorandom number stream.\n",
    "Given the same initial condition and `seed`, HPMC simulations will produce exactly the same results.\n",
    "\n",
    "All operations that generate psuedorandom numbers use the seed set in the simulation.\n",
    "Whenever you add operations that utilize random numbers, you should set the seed to a non-default value."
   ]
  },
  {
   "cell_type": "markdown",
   "metadata": {},
   "source": [
    "Now you have a **Simulation** and a **ConvexPolyhedron integrator**, but can't run the simulation yet.\n",
    "You first need to define the system **state** for the **integrator** to operate on.\n",
    "The next section in this tutorial will show you how to initialize the **state**."
   ]
  },
  {
   "cell_type": "markdown",
   "metadata": {
    "nbsphinx": "hidden"
   },
   "source": [
    "[Previous section](01-The-Simulation-Object.ipynb). [Next section](03-Initializing-the-System-State.ipynb)."
   ]
  }
 ],
 "metadata": {
  "language_info": {
   "codemirror_mode": {
    "name": "ipython",
    "version": 3
   },
   "file_extension": ".py",
   "mimetype": "text/x-python",
   "name": "python",
   "nbconvert_exporter": "python",
   "pygments_lexer": "ipython3",
   "version": "3.11.6"
  },
  "record_timing": false
 },
 "nbformat": 4,
 "nbformat_minor": 4
}
