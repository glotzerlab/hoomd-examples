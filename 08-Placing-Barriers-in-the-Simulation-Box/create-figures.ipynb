{
 "cells": [
  {
   "cell_type": "code",
   "execution_count": null,
   "id": "76c3c257-8587-4be7-b083-3a0e5da54782",
   "metadata": {},
   "outputs": [],
   "source": [
    "import matplotlib\n",
    "\n",
    "%matplotlib inline\n",
    "matplotlib.style.use('ggplot')"
   ]
  },
  {
   "cell_type": "code",
   "execution_count": null,
   "id": "dd636bc7-07fd-4bd3-9ed4-3c143840cced",
   "metadata": {},
   "outputs": [],
   "source": [
    "fig = matplotlib.figure.Figure(figsize=(5, 5))\n",
    "ax = fig.add_subplot()\n",
    "\n",
    "ax.set_xlim((-11.5, 11.5))\n",
    "ax.set_ylim((-11.5, 11.5))\n",
    "ax.axis('off')\n",
    "\n",
    "# box edges\n",
    "ax.vlines([-10, 10], -10, 10, color='k')\n",
    "ax.hlines([-10, 10], -10, 10, color='k')\n",
    "\n",
    "# disallowed area\n",
    "ax.fill([-10, -10, 10, 10], [-10, -8, -4, -10], color='C4', label='Disallowed region')\n",
    "ax.plot([-10, 10], [-8, -4], color='C2', label='Barrier', linestyle='--')\n",
    "\n",
    "# particles and movement arrows\n",
    "ax.plot([-2], [9.5], marker='o', color='C1')\n",
    "ax.plot([-2], [9.5 + 2 - 20], marker='o', color='C1', fillstyle='none')\n",
    "ax.arrow(-2, 9.5, 0, 2, width=0.15, color='gray', length_includes_head=True)\n",
    "ax.arrow(-2, 9.5 - 20, 0, 2, width=0.15, color='gray', length_includes_head=True)\n",
    "\n",
    "ax.plot([-9.5], [-6], marker='o', color='C1', linestyle='none', label='Particle')\n",
    "ax.plot([-9.5 - 2 + 20], [-6], marker='o', color='C1', fillstyle='none')\n",
    "ax.arrow(-9.5, -6, -2, 0, width=0.15, color='gray', length_includes_head=True)\n",
    "ax.arrow(-9.5 + 20, -6, -2, 0, width=0.15, color='gray', length_includes_head=True)\n",
    "\n",
    "ax.legend(loc='center')\n",
    "fig"
   ]
  },
  {
   "cell_type": "code",
   "execution_count": null,
   "id": "19d91732-e593-4c32-9faa-6560253a2253",
   "metadata": {},
   "outputs": [],
   "source": [
    "fig.savefig('invalid-barrier.svg', bbox_inches='tight')"
   ]
  },
  {
   "cell_type": "code",
   "execution_count": null,
   "id": "1f585c9a-aab8-41fd-a488-606da87dc3fb",
   "metadata": {},
   "outputs": [],
   "source": [
    "fig = matplotlib.figure.Figure(figsize=(5, 5))\n",
    "ax = fig.add_subplot()\n",
    "\n",
    "ax.set_xlim((-11.5, 11.5))\n",
    "ax.set_ylim((-11.5, 11.5))\n",
    "ax.axis('off')\n",
    "\n",
    "# box edges\n",
    "ax.vlines([-10, 10], -10, 10, color='k')\n",
    "ax.hlines([-10, 10], -10, 10, color='k')\n",
    "\n",
    "# disallowed area\n",
    "ax.fill([-10, -10, 10, 10], [-10, -8, -8, -10], color='C4', label='Disallowed region')\n",
    "ax.plot([-10, 10], [-8, -8], color='C2', label='Barrier', linestyle='--')\n",
    "\n",
    "ax.fill([-10, -10, 10, 10], [10, 8, 8, 10], color='C4')\n",
    "ax.plot([-10, 10], [8, 8], color='C2', linestyle='--')\n",
    "\n",
    "# particles and movement arrows\n",
    "ax.plot([3], [-8], marker='o', color='C1', linestyle='none', label='Particle')\n",
    "ax.add_patch(\n",
    "    matplotlib.patches.Circle(\n",
    "        [3, -8],\n",
    "        4,\n",
    "        facecolor='none',\n",
    "        edgecolor='C1',\n",
    "        linestyle=':',\n",
    "        linewidth=2,\n",
    "        label='Interaction range',\n",
    "    )\n",
    ")\n",
    "ax.add_patch(\n",
    "    matplotlib.patches.Circle(\n",
    "        [3, -8 + 20], 4, facecolor='none', edgecolor='C1', linestyle=':', linewidth=2\n",
    "    )\n",
    ")\n",
    "\n",
    "ax.legend(loc='center')\n",
    "fig"
   ]
  },
  {
   "cell_type": "code",
   "execution_count": null,
   "id": "6219c506-611c-438f-a7c6-6e4108e635e8",
   "metadata": {},
   "outputs": [],
   "source": [
    "fig.savefig('valid-barrier.svg', bbox_inches='tight')"
   ]
  }
 ],
 "metadata": {
  "language_info": {
   "codemirror_mode": {
    "name": "ipython",
    "version": 3
   },
   "file_extension": ".py",
   "mimetype": "text/x-python",
   "name": "python",
   "nbconvert_exporter": "python",
   "pygments_lexer": "ipython3",
   "version": "3.11.6"
  }
 },
 "nbformat": 4,
 "nbformat_minor": 5
}
