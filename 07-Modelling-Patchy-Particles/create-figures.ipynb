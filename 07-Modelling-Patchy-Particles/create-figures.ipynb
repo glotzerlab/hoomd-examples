{
 "cells": [
  {
   "cell_type": "code",
   "execution_count": 1,
   "id": "0726fd03",
   "metadata": {},
   "outputs": [],
   "source": [
    "import matplotlib\n",
    "import numpy\n",
    "\n",
    "%matplotlib inline\n",
    "matplotlib.style.use('ggplot')"
   ]
  },
  {
   "cell_type": "code",
   "execution_count": 3,
   "id": "1cd5e0fd",
   "metadata": {},
   "outputs": [],
   "source": [
    "def draw_kern_frenkel_particle(\n",
    "    ax, xy, sigma, kf_lambda, kf_delta, kf_director, draw_arrow=False\n",
    "):\n",
    "    theta_director = numpy.rad2deg(numpy.arctan2(kf_director[1], kf_director[0]))\n",
    "    wedge = matplotlib.patches.Wedge(\n",
    "        xy,\n",
    "        sigma * kf_lambda,\n",
    "        theta_director - kf_delta,\n",
    "        theta_director + kf_delta,\n",
    "        alpha=0.5,\n",
    "        zorder=1,\n",
    "    )\n",
    "    wedge = ax.add_patch(wedge)\n",
    "    ax.set_axis_off()\n",
    "    ax.set_aspect('equal')\n",
    "    circle = matplotlib.patches.Circle(xy, sigma, fc='gray', zorder=2, ec='k')\n",
    "    ax.add_patch(circle)\n",
    "\n",
    "    # draw director\n",
    "    if draw_arrow:\n",
    "        unit_director = numpy.array(kf_director) / numpy.linalg.norm(kf_director)\n",
    "        arrow = matplotlib.patches.FancyArrow(\n",
    "            xy[0],\n",
    "            xy[1],\n",
    "            unit_director[0] * sigma * kf_lambda,\n",
    "            unit_director[1] * sigma * kf_lambda,\n",
    "            color='k',\n",
    "            zorder=circle.get_zorder() + 1,\n",
    "            width=0.03,\n",
    "            length_includes_head=True,\n",
    "        )\n",
    "        ax.add_patch(arrow)\n",
    "\n",
    "    # adjust plot limits\n",
    "    new_extent = kf_lambda * sigma + max(abs(xy[0]), abs(xy[1]))\n",
    "    old_extent = ax.get_xlim()[1]\n",
    "    extent = max(new_extent, old_extent)\n",
    "    ax.set_xlim(-extent, extent)\n",
    "    ax.set_ylim(-extent, extent)"
   ]
  },
  {
   "cell_type": "code",
   "execution_count": 10,
   "id": "311d4f7a",
   "metadata": {},
   "outputs": [
    {
     "data": {
      "image/png": "[encoded data removed]",
      "text/plain": [
       "<Figure size 432x288 with 1 Axes>"
      ]
     },
     "metadata": {},
     "output_type": "display_data"
    }
   ],
   "source": [
    "fig, ax = matplotlib.pyplot.subplots()\n",
    "draw_kern_frenkel_particle(ax, (-1.1, 0), 1, 1.3, 45, (-0.2, 1), draw_arrow=True)\n",
    "draw_kern_frenkel_particle(ax, (1.1, 0), 1, 1.3, 45, (1, 1), draw_arrow=True)\n",
    "arrow = matplotlib.patches.FancyArrow(\n",
    "    -1.1,\n",
    "    0,\n",
    "    1.1 - (-1.1),\n",
    "    0,\n",
    "    color='k',\n",
    "    zorder=3,\n",
    "    width=0.03,\n",
    "    length_includes_head=True,\n",
    ")\n",
    "ax.add_patch(arrow)\n",
    "theta = numpy.arctan2(1, -0.2) + numpy.deg2rad(45)\n",
    "arrow = matplotlib.patches.FancyArrow(\n",
    "    -1.1,\n",
    "    0,\n",
    "    numpy.cos(theta),\n",
    "    numpy.sin(theta),\n",
    "    color='k',\n",
    "    zorder=3,\n",
    "    width=0.03,\n",
    "    length_includes_head=True,\n",
    ")\n",
    "ax.add_patch(arrow)\n",
    "annulus = matplotlib.patches.Annulus((-1.1, 0), 0.5, 0.03, zorder=2, color='k')\n",
    "ax.add_patch(annulus)\n",
    "circle = matplotlib.patches.Wedge(\n",
    "    (-1.1, 0),\n",
    "    1,\n",
    "    numpy.rad2deg(theta),\n",
    "    numpy.rad2deg(theta + 2 * numpy.pi - numpy.pi / 4),\n",
    "    zorder=2,\n",
    "    fc='gray',\n",
    "    ec='k',\n",
    ")\n",
    "ax.add_patch(circle)\n",
    "\n",
    "# labels\n",
    "ax.text(0.35, 0.15, r'$\\vec{r}_{ij}$', size=16)\n",
    "ax.text(-1.1, -0.6, r'$i$', size=16, ha='center', va='center')\n",
    "ax.text(1.1, -0.6, r'$j$', size=16, ha='center', va='center')\n",
    "ax.text(-0.9, 0.6, r'$\\vec{e}_i$', size=16, ha='center', va='center')\n",
    "ax.text(1.3, 0.6, r'$\\vec{e}_j$', size=16, ha='center', va='center')\n",
    "text = ax.text(-1.5, 0.6, r'$\\delta$', size=16, ha='center', va='center')\n",
    "ylim = ax.set_ylim(-1.1, 1.4)\n",
    "fig.savefig('kern-frenkel-schematic.svg')"
   ]
  }
 ],
 "metadata": {
  "language_info": {
   "codemirror_mode": {
    "name": "ipython",
    "version": 3
   },
   "file_extension": ".py",
   "mimetype": "text/x-python",
   "name": "python",
   "nbconvert_exporter": "python",
   "pygments_lexer": "ipython3",
   "version": "3.9.15"
  }
 },
 "nbformat": 4,
 "nbformat_minor": 5
}
