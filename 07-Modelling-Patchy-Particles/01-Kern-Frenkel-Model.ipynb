{
 "cells": [
  {
   "cell_type": "markdown",
   "id": "7288cb19",
   "metadata": {},
   "source": [
    "# Kern–Frenkel Model\n",
    "\n",
    "## Overview\n",
    "\n",
    "### Questions\n",
    "* What are patchy particles?\n",
    "* What is the Kern-Frenkel potential?\n",
    "* How can I evaluate the Kern-Frenkel potential between two particles? \n",
    "\n",
    "### Objectives\n",
    "* Describe the Kern–Frenkel model mathematically and graphically."
   ]
  },
  {
   "cell_type": "markdown",
   "id": "e373ba3e",
   "metadata": {},
   "source": [
    "## Patchy particles\n",
    "In the [Introducing Molecular Dynamics](../01-Introducing-Molecular-Dynamics/00-index.ipynb) tutorial, you simulated a system of particles interacting through the Lennard-Jones pair potential.\n",
    "The Lennard-Jones pair potential is spherically symmetric, that is, the pair potential does not depend on the relative orientation of the interacting particles.\n",
    "\n",
    "Some systems are better represented by anisotropic pair potentials, where there is a dependence on the relative orientation of particles.\n",
    "The hard octahedra you simulated in [Intoducing HOOMD-blue](../00-Introducing-HOOMD-blue/00-index.ipynb) interacted through a purely repulsive anisotropic pair potential.\n",
    "Particles that interact with anisotropic pair potentials where some relative orientations are more attractive than others are known as **patchy particles**, since we can imagine that there are attractive **patches** on the surface of the particles.\n",
    "\n",
    "\n",
    "## The Kern–Frenkel model\n",
    "\n",
    "One of the simplest patchy particle models is the Kern–Frenkel model, which was introduced in a [2003 Journal of Chemical Physics paper](https://doi.org/10.1063/1.1569473).\n",
    "The Kern–Frenkel model contains directional pairwise energetic interactions in addition to hard sphere-like volume exclusion.\n",
    "The pair potential $u_{ij}(r_{ij}, \\Omega_i, \\Omega_j)$ between particles $i$ and $j$ at a center-to-center distance $r_{ij}$ and orientations $\\Omega_i$ and $\\Omega_j$ is of the form\n",
    "$$\n",
    "\\beta u_{ij} = \n",
    "\\begin{cases}\n",
    "\\infty & r_{ij} < \\sigma_{ij} \\\\\n",
    "-\\beta\\varepsilon\\cdot f(\\Omega_1, \\Omega_2) & \\sigma_{ij} \\leq r_{ij} < \\lambda_{ij}\\sigma_{ij} \\\\\n",
    "0 & r_{ij} \\geq \\lambda_{ij}\\sigma_{ij}\n",
    "\\end{cases}\n",
    "$$\n",
    "where $\\beta = 1/k_BT$, $\\varepsilon$ is the strength of the patchy interaction, $\\sigma_{ij}$ is sum of the radii of particles $i$ and $j$, $\\lambda$ is the range of the square well attraction, and $f(\\Omega_i, \\Omega_j)$ is an orientational masking function given by\n",
    "$$\n",
    "f(\\Omega_1, \\Omega_2) = \n",
    "\\begin{cases}\n",
    "1 & \\hat{e}_i \\cdot \\hat{r}_{ij} > \\cos \\delta \\mathrm{~~and~~} \\hat{e}_j \\cdot \\hat{r}_{ji} > \\cos \\delta \\\\\n",
    "0 & \\mathrm{otherwise}\n",
    "\\end{cases}\n",
    "$$\n",
    "where $\\hat{e}_i$ is the **director** of the patch on particle $i$ and $\\delta$ is the half-opening angle of the patch.\n",
    "\n",
    "Graphically, this pair potential corresponds to the following criterion: two particles interact with energy $\\infty$ if the gray shaded regions on the two particles overlap at all, $-\\varepsilon$ if the blue shaded regions on the two particles overlap, and zero otherwise.\n",
    "\n",
    "![Kern–Frenkel](kern-frenkel-schematic.svg)"
   ]
  }
 ],
 "metadata": {
  "celltoolbar": "Raw Cell Format",
  "kernelspec": {
   "display_name": "Python 3 (ipykernel)",
   "language": "python",
   "name": "python3"
  },
  "language_info": {
   "codemirror_mode": {
    "name": "ipython",
    "version": 3
   },
   "file_extension": ".py",
   "mimetype": "text/x-python",
   "name": "python",
   "nbconvert_exporter": "python",
   "pygments_lexer": "ipython3",
   "version": "3.11.2"
  }
 },
 "nbformat": 4,
 "nbformat_minor": 5
}
