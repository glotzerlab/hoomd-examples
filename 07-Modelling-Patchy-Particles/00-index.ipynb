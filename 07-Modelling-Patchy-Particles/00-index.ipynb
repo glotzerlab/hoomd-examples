{
 "cells": [
  {
   "cell_type": "markdown",
   "metadata": {},
   "source": [
    "# Modelling Patchy Particles\n",
    "\n",
    "In this tutorial you will implement the Kern–Frenkel potential as a model for patchy particle interactions. To do so, you will use the `hpmc.pair.user` module, which enables the addition of user-defined, arbitrary, pairwise energetic interactions to a HPMC simulation.\n",
    "\n",
    "**Prerequisites:**\n",
    "\n",
    "This tutorial assumes you are familiar with the concepts introduced in [Introducing HOOMD-blue](../00-Introducing-HOOMD-blue) and [Introducing Molecular Dynamics](../01-Introducing-Molecular-Dynamics)."
   ]
  },
  {
   "cell_type": "markdown",
   "metadata": {
    "nbsphinx-toctree": {
     "maxdepth": 1
    }
   },
   "source": [
    "## Outline\n",
    "\n",
    "1. [Kern–Frenkel Model](01-Kern-Frenkel-Model.ipynb)\n",
    "1. [Simulating a System of Patchy Particles](02-Simulating-a-System-of-Patchy-Particles.ipynb)\n",
    "\n",
    "This tutorial is written with [jupyter](https://jupyter.org/). You can download the source from the [hoomd-examples](https://github.com/glotzerlab/hoomd-examples) repository."
   ]
  }
 ],
 "metadata": {
  "kernelspec": {
   "display_name": "Python 3 (ipykernel)",
   "language": "python",
   "name": "python3"
  },
  "language_info": {
   "codemirror_mode": {
    "name": "ipython",
    "version": 3
   },
   "file_extension": ".py",
   "mimetype": "text/x-python",
   "name": "python",
   "nbconvert_exporter": "python",
   "pygments_lexer": "ipython3",
   "version": "3.9.15"
  },
  "record_timing": false
 },
 "nbformat": 4,
 "nbformat_minor": 4
}
