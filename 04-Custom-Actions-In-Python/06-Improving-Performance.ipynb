{
 "cells": [
  {
   "cell_type": "markdown",
   "metadata": {},
   "source": [
    "# Improving Performance\n",
    "\n",
    "## Overview\n",
    "\n",
    "### Questions\n",
    "\n",
    "- How can I write custom actions to be as efficient as possible?\n",
    "\n",
    "### Objectives\n",
    "\n",
    "- Mention common means for improving performance.\n",
    "- Demonstrate using the local snapshot API for increased performance.\n",
    "\n",
    "## Boilerplate Code"
   ]
  },
  {
   "cell_type": "code",
   "execution_count": 1,
   "metadata": {},
   "outputs": [],
   "source": [
    "import numbers\n",
    "\n",
    "import hoomd\n",
    "import numpy\n",
    "\n",
    "cpu = hoomd.device.CPU()\n",
    "simulation = hoomd.Simulation(cpu, seed=1)\n",
    "\n",
    "# Create a simple cubic configuration of particles\n",
    "N = 12  # particles per box direction\n",
    "box_L = 50  # box dimension\n",
    "\n",
    "snap = hoomd.Snapshot(cpu.communicator)\n",
    "snap.configuration.box = [box_L] * 3 + [0, 0, 0]\n",
    "snap.particles.N = N**3\n",
    "x, y, z = numpy.meshgrid(\n",
    "    *(numpy.linspace(-box_L / 2, box_L / 2, N, endpoint=False),) * 3\n",
    ")\n",
    "positions = numpy.array((x.ravel(), y.ravel(), z.ravel())).T\n",
    "snap.particles.position[:] = positions\n",
    "snap.particles.types = ['A']\n",
    "snap.particles.typeid[:] = 0\n",
    "\n",
    "simulation.create_state_from_snapshot(snap)\n",
    "\n",
    "simulation.state.thermalize_particle_momenta(hoomd.filter.All(), 1.0)\n",
    "\n",
    "lj = hoomd.md.pair.LJ(nlist=hoomd.md.nlist.Cell(buffer=0.4))\n",
    "lj.params[('A', 'A')] = {'epsilon': 1.0, 'sigma': 1.0}\n",
    "lj.r_cut[('A', 'A')] = 2.5\n",
    "integrator = hoomd.md.Integrator(\n",
    "    methods=[hoomd.md.methods.ConstantVolume(hoomd.filter.All())], forces=[lj], dt=0.005\n",
    ")\n",
    "\n",
    "simulation.operations += integrator\n",
    "\n",
    "\n",
    "class GaussianVariant(hoomd.variant.Variant):\n",
    "    def __init__(self, mean, std):\n",
    "        hoomd.variant.Variant.__init__(self)\n",
    "        self.mean = mean\n",
    "        self.std = std\n",
    "\n",
    "    def __call__(self, timestep):\n",
    "        return rng.normal(self.mean, self.std)\n",
    "\n",
    "\n",
    "energy = GaussianVariant(0.1, 0.001)\n",
    "simulation.run(0)\n",
    "rng = numpy.random.default_rng(1245)"
   ]
  },
  {
   "cell_type": "markdown",
   "metadata": {},
   "source": [
    "## General Guidelines\n",
    "\n",
    "When trying to improve the performance of custom actions, the first\n",
    "step is always to profile the class. Python comes with profiling tools\n",
    "that can be used to determine bottlenecks in a custom action's\n",
    "performance. In addition, there are many external visualization and\n",
    "profiling tools available. However, after profiling here are some tips\n",
    "that should help improve performance.\n",
    "\n",
    "* `State.get_snapshot` aggregates data across MPI ranks and is $O(n)$ to\n",
    "  construct and setting the state to a new snapshot $O(n)$ as well.\n",
    "  However, `hoomd.State.cpu_local_snaphshot` or\n",
    "  `hoomd.State.gpu_local_snapshot` are on order $O(1)$ to construct\n",
    "  and modifying data in a local snapshot is $O(1)$ as well.\n",
    "* HOOMD-blue makes use of properties heavily. Since users can\n",
    "  change the system state in Python at any point, we must recompute\n",
    "  many of these quantities every time they are queried. If you are\n",
    "  using something like `hoomd.md.pair.LJ.energies` multiple times,\n",
    "  it will be more performant to first store the values and\n",
    "  then use that copy.\n",
    "* Avoid for loops for numerical calculation. Try to utilize NumPy\n",
    "  broadcasting or existing functions in NumPy or Scipy on the CPU\n",
    "  or CuPy on the GPU.\n",
    "\n",
    "## Improve InsertEnergyUpdater\n",
    "\n",
    "As an example, we will improve the performance of the \n",
    "`InsertEnergyUpdater`. Specifically we will change to use\n",
    "the `cpu_local_snapshot` to update particle velocity. \n",
    "We will use the `%%timeit` magic function for timing the\n",
    "simulation's run time before and after our optimization.\n",
    "To highlight the differnce, we will run the updater every\n",
    "timestep."
   ]
  },
  {
   "cell_type": "code",
   "execution_count": 2,
   "metadata": {},
   "outputs": [],
   "source": [
    "class InsertEnergyUpdater(hoomd.custom.Action):\n",
    "    def __init__(self, energy):\n",
    "        self._energy = energy\n",
    "\n",
    "    @property\n",
    "    def energy(self):\n",
    "        return self._energy\n",
    "\n",
    "    @energy.setter\n",
    "    def energy(self, new_energy):\n",
    "        if isinstance(new_energy, numbers.Number):\n",
    "            self._energy = hoomd.variant.Constant(new_energy)\n",
    "        elif isinstance(new_energy, hoomd.variant.Variant):\n",
    "            self._energy = new_energy\n",
    "        else:\n",
    "            message = 'energy must be a variant or real number.'\n",
    "            raise ValueError(message)\n",
    "\n",
    "    def act(self, timestep):\n",
    "        snap = self._state.get_snapshot()\n",
    "        if snap.communicator.rank == 0:\n",
    "            particle_i = rng.integers(snap.particles.N)\n",
    "            mass = snap.particles.mass[particle_i]\n",
    "            direction = self._get_direction()\n",
    "            magnitude = numpy.sqrt(2 * self.energy(timestep) / mass)\n",
    "            velocity = direction * magnitude\n",
    "            old_velocity = snap.particles.velocity[particle_i]\n",
    "            new_velocity = old_velocity + velocity\n",
    "            snap.particles.velocity[particle_i] = new_velocity\n",
    "        self._state.set_snapshot(snap)\n",
    "\n",
    "    @staticmethod\n",
    "    def _get_direction():\n",
    "        theta, z = rng.random(2)\n",
    "        theta *= 2 * numpy.pi\n",
    "        z = 2 * (z - 0.5)\n",
    "        return numpy.array(\n",
    "            [\n",
    "                numpy.sqrt(1 - (z * z)) * numpy.cos(theta),\n",
    "                numpy.sqrt(1 - (z * z)) * numpy.sin(theta),\n",
    "                z,\n",
    "            ]\n",
    "        )"
   ]
  },
  {
   "cell_type": "code",
   "execution_count": 3,
   "metadata": {},
   "outputs": [],
   "source": [
    "energy_action = InsertEnergyUpdater(energy)\n",
    "energy_operation = hoomd.update.CustomUpdater(action=energy_action, trigger=1)\n",
    "simulation.operations.updaters.append(energy_operation)"
   ]
  },
  {
   "cell_type": "code",
   "execution_count": 4,
   "metadata": {},
   "outputs": [
    {
     "name": "stdout",
     "output_type": "stream",
     "text": [
      "56.6 ms ± 918 µs per loop (mean ± std. dev. of 7 runs, 10 loops each)\n"
     ]
    }
   ],
   "source": [
    "%%timeit\n",
    "simulation.run(100)"
   ]
  },
  {
   "cell_type": "markdown",
   "metadata": {},
   "source": [
    "We now show the profile for the optimized code which\n",
    "uses the `cpu_local_snapshot` for updating velocities."
   ]
  },
  {
   "cell_type": "code",
   "execution_count": 5,
   "metadata": {},
   "outputs": [],
   "source": [
    "class InsertEnergyUpdater(hoomd.custom.Action):\n",
    "    def __init__(self, energy):\n",
    "        self._energy = energy\n",
    "\n",
    "    @property\n",
    "    def energy(self):\n",
    "        return self._energy\n",
    "\n",
    "    @energy.setter\n",
    "    def energy(self, new_energy):\n",
    "        if isinstance(new_energy, numbers.Number):\n",
    "            self._energy = hoomd.variant.Constant(new_energy)\n",
    "        elif isinstance(new_energy, hoomd.variant.Variant):\n",
    "            self._energy = new_energy\n",
    "        else:\n",
    "            message = 'energy must be a variant or real number.'\n",
    "            raise ValueError(message)\n",
    "\n",
    "    def attach(self, simulation):\n",
    "        self._state = simulation.state\n",
    "        self._comm = simulation.device.communicator\n",
    "\n",
    "    def detach(self):\n",
    "        del self._state\n",
    "        del self._comm\n",
    "\n",
    "    def act(self, timestep):\n",
    "        part_tag = rng.integers(self._state.N_particles)\n",
    "        direction = self._get_direction()\n",
    "        energy = self.energy(timestep)\n",
    "        with self._state.cpu_local_snapshot as snap:\n",
    "            # We restrict the computation to the MPI\n",
    "            # rank containing the particle if applicable.\n",
    "            # By checking if multiple MPI ranks exist first\n",
    "            # we can avoid for checking inclusion of a tag id\n",
    "            # in an array.\n",
    "            if self._comm.num_ranks <= 1 or part_tag in snap.particles.tag:\n",
    "                i = snap.particles.rtag[part_tag]\n",
    "                mass = snap.particles.mass[i]\n",
    "                magnitude = numpy.sqrt(2 * energy / mass)\n",
    "                velocity = direction * magnitude\n",
    "                old_velocity = snap.particles.velocity[i]\n",
    "                new_velocity = old_velocity + velocity\n",
    "                snap.particles.velocity[i] = new_velocity\n",
    "\n",
    "    @staticmethod\n",
    "    def _get_direction():\n",
    "        theta, z = rng.random(2)\n",
    "        theta *= 2 * numpy.pi\n",
    "        z = 2 * (z - 0.5)\n",
    "        return numpy.array(\n",
    "            [\n",
    "                numpy.sqrt(1 - (z * z)) * numpy.cos(theta),\n",
    "                numpy.sqrt(1 - (z * z)) * numpy.sin(theta),\n",
    "                z,\n",
    "            ]\n",
    "        )"
   ]
  },
  {
   "cell_type": "code",
   "execution_count": 6,
   "metadata": {},
   "outputs": [],
   "source": [
    "# Create and add our modified custom updater\n",
    "simulation.operations -= energy_operation\n",
    "energy_action = InsertEnergyUpdater(energy)\n",
    "energy_operation = hoomd.update.CustomUpdater(action=energy_action, trigger=1)\n",
    "simulation.operations.updaters.append(energy_operation)"
   ]
  },
  {
   "cell_type": "code",
   "execution_count": 7,
   "metadata": {},
   "outputs": [
    {
     "name": "stdout",
     "output_type": "stream",
     "text": [
      "17.5 ms ± 590 µs per loop (mean ± std. dev. of 7 runs, 100 loops each)\n"
     ]
    }
   ],
   "source": [
    "%%timeit\n",
    "simulation.run(100)"
   ]
  },
  {
   "cell_type": "markdown",
   "metadata": {},
   "source": [
    "As can be seen the simulation with the new\n",
    "EnergyInsertUpdater about an order of magnitude faster\n",
    "with a system size of $12^3 = 1728$,\n",
    "by virtue of the local snapshot modification having\n",
    "$O(1)$ time complexity. At larger system sizes this\n",
    "change will grow to be even more substantial.\n",
    "\n",
    "This concludes the tutorial on custom actions in Python. For\n",
    "more information see the API documentation."
   ]
  }
 ],
 "metadata": {
  "language_info": {
   "codemirror_mode": {
    "name": "ipython",
    "version": 3
   },
   "file_extension": ".py",
   "mimetype": "text/x-python",
   "name": "python",
   "nbconvert_exporter": "python",
   "pygments_lexer": "ipython3",
   "version": "3.11.6"
  }
 },
 "nbformat": 4,
 "nbformat_minor": 4
}
