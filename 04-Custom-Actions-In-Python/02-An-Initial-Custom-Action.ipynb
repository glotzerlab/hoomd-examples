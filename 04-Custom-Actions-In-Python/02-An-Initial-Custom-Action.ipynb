{
 "cells": [
  {
   "cell_type": "markdown",
   "metadata": {},
   "source": [
    "# An Initial Custom Action\n",
    "\n",
    "## Overview\n",
    "\n",
    "### Questions\n",
    "\n",
    "- How do I write a custom action in Python?\n",
    "- How do I wrap a custom action object?\n",
    "- How do I use a custom action in a simulation?\n",
    "\n",
    "### Objectives\n",
    "\n",
    "- Explain the steps in writing a custom action.\n",
    "- Demonstrate using a custom action in a simulation.\n",
    "\n",
    "## Writing a Custom Action\n",
    "\n",
    "First, import `hoomd`."
   ]
  },
  {
   "cell_type": "code",
   "execution_count": 1,
   "metadata": {},
   "outputs": [],
   "source": [
    "import hoomd"
   ]
  },
  {
   "cell_type": "markdown",
   "metadata": {},
   "source": [
    "We create a single particle snapshot for initializing a\n",
    "simulation's state further down."
   ]
  },
  {
   "cell_type": "code",
   "execution_count": 2,
   "metadata": {},
   "outputs": [],
   "source": [
    "snap = hoomd.Snapshot()\n",
    "snap.particles.N = 1\n",
    "snap.particles.position[:] = [0, 0, 0]\n",
    "snap.particles.types = ['A']\n",
    "snap.particles.typeid[:] = [0]\n",
    "snap.configuration.box = [10, 10, 10, 0, 0, 0]"
   ]
  },
  {
   "cell_type": "markdown",
   "metadata": {},
   "source": [
    "Create a custom action as a subclass of\n",
    "`hoomd.custom.Action`. Here we will create an action that prints\n",
    "the timestep to standard out."
   ]
  },
  {
   "cell_type": "code",
   "execution_count": 3,
   "metadata": {},
   "outputs": [],
   "source": [
    "class PrintTimestep(hoomd.custom.Action):\n",
    "    def act(self, timestep):\n",
    "        print(timestep)"
   ]
  },
  {
   "cell_type": "markdown",
   "metadata": {},
   "source": [
    "We now have an action that can print out the simulation\n",
    "timestep. The logic of the action goes inside the `act` method.\n",
    "All actions must define this function, and it must take in\n",
    "the simulation timestep; this is passed in when the action is called\n",
    "in the HOOMD-blue run loop. (If you are wondering how to access\n",
    "simulation data, there is a mechanism for that which we will go over\n",
    "in the next section).\n",
    "\n",
    "Let's go ahead and create a `PrintTimestep` object."
   ]
  },
  {
   "cell_type": "code",
   "execution_count": 4,
   "metadata": {},
   "outputs": [],
   "source": [
    "custom_action = PrintTimestep()"
   ]
  },
  {
   "cell_type": "markdown",
   "metadata": {},
   "source": [
    "## Wrapping Custom Actions\n",
    "\n",
    "To let an `Operations` object know what kind of action our\n",
    "custom action is, we must wrap it in a subclass of\n",
    "`hoomd.custom.CustomOperation`. We have three options as discussed in\n",
    "the previous section: an updater, writer, or tuner. Since our object\n",
    "does not modify simulation state or an object's hyperparameters, but\n",
    "writes the timestep to standard out, our action is a writer.\n",
    "`hoomd.write.CustomWriter` then is the correct class to wrap our custom\n",
    "action (`hoomd.update.CustomUpdater` and `hoomd.tune.CustomTuner` are\n",
    "for updaters and tuners respectively).\n",
    "\n",
    "Create a `CustomWriter` operation that will call the custom action when triggered:"
   ]
  },
  {
   "cell_type": "code",
   "execution_count": 5,
   "metadata": {},
   "outputs": [],
   "source": [
    "custom_op = hoomd.write.CustomWriter(\n",
    "    action=custom_action, trigger=hoomd.trigger.Periodic(100)\n",
    ")"
   ]
  },
  {
   "cell_type": "markdown",
   "metadata": {},
   "source": [
    "Notice that custom operations take triggers like other operations.\n",
    "\n",
    "## Using Custom Actions\n",
    "\n",
    "To use a custom opeation we must add it to a `hoomd.Operations` object.\n",
    "Thus, the steps to use a custom action in a simuluation are\n",
    "1. Instantiate the custom action object.\n",
    "2. Wrap the custom action in the appropriate custom operation class.\n",
    "3. Add the custom operation object to the appropriate container in a\n",
    "   `hoomd.Operations` object."
   ]
  },
  {
   "cell_type": "code",
   "execution_count": 6,
   "metadata": {},
   "outputs": [],
   "source": [
    "cpu = hoomd.device.CPU()\n",
    "simulation = hoomd.Simulation(device=cpu)"
   ]
  },
  {
   "cell_type": "markdown",
   "metadata": {},
   "source": [
    "Initialize the state"
   ]
  },
  {
   "cell_type": "code",
   "execution_count": 7,
   "metadata": {},
   "outputs": [],
   "source": [
    "simulation.create_state_from_snapshot(snap)"
   ]
  },
  {
   "cell_type": "markdown",
   "metadata": {},
   "source": [
    "Add the custom action wrapped by a `CustomWriter`:"
   ]
  },
  {
   "cell_type": "code",
   "execution_count": 8,
   "metadata": {},
   "outputs": [],
   "source": [
    "simulation.operations.writers.append(custom_op)"
   ]
  },
  {
   "cell_type": "markdown",
   "metadata": {},
   "source": [
    "We can now run our simulation to see our custom action in work!"
   ]
  },
  {
   "cell_type": "code",
   "execution_count": 9,
   "metadata": {},
   "outputs": [
    {
     "name": "stdout",
     "output_type": "stream",
     "text": [
      "100\n",
      "200\n",
      "300\n",
      "400\n",
      "500\n",
      "600\n",
      "700\n",
      "800\n",
      "900\n",
      "1000\n"
     ]
    }
   ],
   "source": [
    "simulation.run(1000)"
   ]
  },
  {
   "cell_type": "markdown",
   "metadata": {},
   "source": [
    "In the next section we discuss some of the features of custom actions,\n",
    "before getting into non-trival examples in later sections."
   ]
  }
 ],
 "metadata": {
  "language_info": {
   "codemirror_mode": {
    "name": "ipython",
    "version": 3
   },
   "file_extension": ".py",
   "mimetype": "text/x-python",
   "name": "python",
   "nbconvert_exporter": "python",
   "pygments_lexer": "ipython3",
   "version": "3.10.6"
  }
 },
 "nbformat": 4,
 "nbformat_minor": 4
}
