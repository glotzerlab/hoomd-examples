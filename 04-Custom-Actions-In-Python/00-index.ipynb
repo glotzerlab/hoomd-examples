{
 "cells": [
  {
   "cell_type": "markdown",
   "metadata": {},
   "source": [
    "# Custom Actions in Python\n",
    "\n",
    "This tutorial introduces the necessary information to create\n",
    "custom actions in Python. Briefly, custom actions allow users\n",
    "and developers to implement new functionality into HOOMD-blue\n",
    "without having to write C++ code.\n",
    "\n",
    "**Prerequisites:**\n",
    "\n",
    "This tutorial assumes you are familiar with the concepts presented in\n",
    "[Introducting HOOMD-blue](../00-Introducing-HOOMD-blue/00-index.ipynb) and\n",
    "[Introducing Molecular Dyanamics](../01-Introducing-Molecular-Dynamics/00-index.ipynb).\n",
    "Throughout this tutorial we may use other libraries to introduce writing\n",
    "performant actions in Python. Familiarity with these packages may help,\n",
    "but are not necessary to learn from this tutorial."
   ]
  },
  {
   "cell_type": "markdown",
   "metadata": {
    "nbsphinx-toctree": {
     "maxdepth": 1
    }
   },
   "source": [
    "## Outline\n",
    "\n",
    "1. [What are Actions?](01-What-are-Actions.ipynb)\n",
    "2. [An Initial Custom Action](02-An-Initial-Custom-Action.ipynb)\n",
    "3. [Custom Action Features](03-Custom-Action-Features.ipynb)\n",
    "4. [Custom Updater](04-Custom-Updater.ipynb)\n",
    "5. [Custom Writer](05-Custom-Writer.ipynb)\n",
    "6. [Improving Performance](06-Improving-Performance.ipynb)"
   ]
  },
  {
   "cell_type": "markdown",
   "metadata": {},
   "source": [
    "This tutorial is written with [jupyter](https://jupyter.org/). You can download the source from the [hoomd-examples](https://github.com/glotzerlab/hoomd-examples) repository."
   ]
  }
 ],
 "metadata": {
  "language_info": {
   "codemirror_mode": {
    "name": "ipython",
    "version": 3
   },
   "file_extension": ".py",
   "mimetype": "text/x-python",
   "name": "python",
   "nbconvert_exporter": "python",
   "pygments_lexer": "ipython3",
   "version": "3.9.2"
  }
 },
 "nbformat": 4,
 "nbformat_minor": 4
}
