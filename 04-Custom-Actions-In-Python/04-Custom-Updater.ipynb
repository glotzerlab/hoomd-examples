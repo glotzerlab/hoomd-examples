{
 "cells": [
  {
   "cell_type": "markdown",
   "metadata": {},
   "source": [
    "# Custom Updater\n",
    "\n",
    "## Overview\n",
    "\n",
    "### Questions\n",
    "\n",
    "- How can I modify the state of a system in a custom updater?\n",
    "\n",
    "### Objectives\n",
    "\n",
    "- Show an example of a non-trival custom updater.\n",
    "\n",
    "## Boilerplate Code"
   ]
  },
  {
   "cell_type": "code",
   "execution_count": 1,
   "metadata": {},
   "outputs": [],
   "source": [
    "import numbers\n",
    "\n",
    "import hoomd\n",
    "import numpy\n",
    "\n",
    "cpu = hoomd.device.CPU()\n",
    "simulation = hoomd.Simulation(device=cpu, seed=1)\n",
    "\n",
    "# Create a simple cubic configuration of particles\n",
    "N = 5  # particles per box direction\n",
    "box_L = 20  # box dimension\n",
    "\n",
    "snap = hoomd.Snapshot(cpu.communicator)\n",
    "snap.configuration.box = [box_L] * 3 + [0, 0, 0]\n",
    "snap.particles.N = N**3\n",
    "x, y, z = numpy.meshgrid(\n",
    "    *(numpy.linspace(-box_L / 2, box_L / 2, N, endpoint=False),) * 3\n",
    ")\n",
    "positions = numpy.array((x.ravel(), y.ravel(), z.ravel())).T\n",
    "snap.particles.position[:] = positions\n",
    "snap.particles.types = ['A']\n",
    "snap.particles.typeid[:] = 0\n",
    "\n",
    "simulation.create_state_from_snapshot(snap)\n",
    "rng = numpy.random.default_rng(1245)"
   ]
  },
  {
   "cell_type": "markdown",
   "metadata": {},
   "source": [
    "## Problem\n",
    "\n",
    "In this section, we will show how to create a custom updater\n",
    "that modifies the system state. To show this, we will create a custom\n",
    "updater that adds a prescribed amount of energy to a single particle\n",
    "simulating the bombardment of radioactive material into our system. For\n",
    "this problem, we pick a random particle and modify its velocity\n",
    "according to the radiation energy in a random direction."
   ]
  },
  {
   "cell_type": "code",
   "execution_count": 2,
   "metadata": {},
   "outputs": [],
   "source": [
    "class InsertEnergyUpdater(hoomd.custom.Action):\n",
    "    def __init__(self, energy):\n",
    "        self.energy = energy\n",
    "\n",
    "    def act(self, timestep):\n",
    "        snap = self._state.get_snapshot()\n",
    "        if snap.communicator.rank == 0:\n",
    "            particle_i = rng.integers(snap.particles.N)\n",
    "            mass = snap.particles.mass[particle_i]\n",
    "            direction = self._get_direction()\n",
    "            magnitude = numpy.sqrt(2 * self.energy / mass)\n",
    "            velocity = direction * magnitude\n",
    "            old_velocity = snap.particles.velocity[particle_i]\n",
    "            new_velocity = old_velocity + velocity\n",
    "            snap.particles.velocity[particle_i] = new_velocity\n",
    "        self._state.set_snapshot(snap)\n",
    "\n",
    "    @staticmethod\n",
    "    def _get_direction():\n",
    "        theta, z = rng.random(2)\n",
    "        theta *= 2 * numpy.pi\n",
    "        z = 2 * (z - 0.5)\n",
    "        return numpy.array(\n",
    "            [\n",
    "                numpy.sqrt(1 - (z * z)) * numpy.cos(theta),\n",
    "                numpy.sqrt(1 - (z * z)) * numpy.sin(theta),\n",
    "                z,\n",
    "            ]\n",
    "        )"
   ]
  },
  {
   "cell_type": "markdown",
   "metadata": {},
   "source": [
    "We will now use our custom updater with an `NVE` integrator.\n",
    "Particles will interact via a Lennard-Jones potential.\n",
    "Using the `Table` writer and a `hoomd.logging.Logger`, we will\n",
    "monitor the energy, which should be increasing as we are\n",
    "adding energy to the system. We will also thermalize our\n",
    "system to a `kT == 1`."
   ]
  },
  {
   "cell_type": "code",
   "execution_count": 3,
   "metadata": {},
   "outputs": [],
   "source": [
    "simulation.state.thermalize_particle_momenta(filter=hoomd.filter.All(), kT=1.0)\n",
    "\n",
    "lj = hoomd.md.pair.LJ(nlist=hoomd.md.nlist.Cell(buffer=0.4))\n",
    "lj.params[('A', 'A')] = {'epsilon': 1.0, 'sigma': 1.0}\n",
    "lj.r_cut[('A', 'A')] = 2.5\n",
    "integrator = hoomd.md.Integrator(\n",
    "    methods=[hoomd.md.methods.ConstantVolume(hoomd.filter.All())], forces=[lj], dt=0.005\n",
    ")\n",
    "\n",
    "thermo = hoomd.md.compute.ThermodynamicQuantities(hoomd.filter.All())\n",
    "logger = hoomd.logging.Logger(categories=['scalar'])\n",
    "logger.add(thermo, ['kinetic_energy', 'potential_energy'])\n",
    "logger['total_energy'] = (\n",
    "    lambda: thermo.kinetic_energy + thermo.potential_energy,\n",
    "    'scalar',\n",
    ")\n",
    "\n",
    "table = hoomd.write.Table(100, logger, max_header_len=1)\n",
    "\n",
    "simulation.operations += integrator\n",
    "simulation.operations += thermo\n",
    "simulation.operations += table\n",
    "\n",
    "# Create and add our custom updater\n",
    "energy_operation = hoomd.update.CustomUpdater(\n",
    "    action=InsertEnergyUpdater(10.0), trigger=100\n",
    ")\n",
    "\n",
    "simulation.operations += energy_operation"
   ]
  },
  {
   "cell_type": "code",
   "execution_count": 4,
   "metadata": {},
   "outputs": [
    {
     "name": "stdout",
     "output_type": "stream",
     "text": [
      " kinetic_energy  potential_energy   total_energy  \n",
      "   187.44685         -0.13298        187.31387    \n",
      "   195.16975         -5.51636        189.65338    \n",
      "   209.79330         -7.55467        202.23864    \n",
      "   219.90712         -8.52161        211.38551    \n",
      "   229.98365        -10.48876        219.49489    \n",
      "   239.84999         -8.49731        231.35268    \n",
      "   246.07432        -10.46920        235.60512    \n",
      "   246.31498        -10.08009        236.23489    \n",
      "   253.43790         -6.76563        246.67227    \n",
      "   269.87772         -9.59299        260.28473    \n"
     ]
    }
   ],
   "source": [
    "simulation.run(1000)"
   ]
  },
  {
   "cell_type": "markdown",
   "metadata": {},
   "source": [
    "As we can see the total energy of the system is indeed increasing.\n",
    "The energy isn't increasing by 10 every time since we are adding\n",
    "the velocity in a random direction which may be against the current\n",
    "velocity.\n",
    "\n",
    "## Improving upon our Custom Action\n",
    "\n",
    "Maybe we want to allow for the energy to be from a distribution.\n",
    "HOOMD-blue has a concept called a variant which allows for quantities\n",
    "that vary over time. Let's change the `InsertEnergyupdater` to use\n",
    "variants and create a custom variant that grabs a random number from\n",
    "a Gaussian distribution. (If you don't understand the variant code,\n",
    "that is fine. We are just using this to showcase how you can iteratively\n",
    "improve custom actions).\n",
    "\n",
    "<div class=\"alert alert-warning\">\n",
    "    <h4>Note:</h4>\n",
    "    <p><code>Variant</code> objects model a parameter as a \n",
    "        function of the timestep, so to get the value for a particular\n",
    "        timestep we have to call the variant. For more\n",
    "        information see the documentation for \n",
    "        <code>hoomd.variant</code>.\n",
    "    </p>\n",
    "</div>"
   ]
  },
  {
   "cell_type": "code",
   "execution_count": 5,
   "metadata": {},
   "outputs": [],
   "source": [
    "class InsertEnergyUpdater(hoomd.custom.Action):\n",
    "    def __init__(self, energy):\n",
    "        self._energy = energy\n",
    "\n",
    "    @property\n",
    "    def energy(self):\n",
    "        \"\"\"A `hoomd.variant.Variant` object.\"\"\"\n",
    "        return self._energy\n",
    "\n",
    "    @energy.setter\n",
    "    def energy(self, new_energy):\n",
    "        if isinstance(new_energy, numbers.Number):\n",
    "            self._energy = hoomd.variant.Constant(new_energy)\n",
    "        elif isinstance(new_energy, hoomd.variant.Variant):\n",
    "            self._energy = new_energy\n",
    "        else:\n",
    "            message = 'energy must be a variant or real number.'\n",
    "            raise ValueError(message)\n",
    "\n",
    "    def act(self, timestep):\n",
    "        snap = self._state.get_snapshot()\n",
    "        if snap.communicator.rank == 0:\n",
    "            particle_i = rng.integers(snap.particles.N)\n",
    "            mass = snap.particles.mass[particle_i]\n",
    "            direction = self._get_direction()\n",
    "            magnitude = numpy.sqrt(2 * self.energy(timestep) / mass)\n",
    "            velocity = direction * magnitude\n",
    "            old_velocity = snap.particles.velocity[particle_i]\n",
    "            new_velocity = old_velocity + velocity\n",
    "            snap.particles.velocity[particle_i] = new_velocity\n",
    "        self._state.set_snapshot(snap)\n",
    "\n",
    "    @staticmethod\n",
    "    def _get_direction():\n",
    "        theta, z = rng.random(2)\n",
    "        theta *= 2 * numpy.pi\n",
    "        z = 2 * (z - 0.5)\n",
    "        return numpy.array(\n",
    "            [\n",
    "                numpy.sqrt(1 - (z * z)) * numpy.cos(theta),\n",
    "                numpy.sqrt(1 - (z * z)) * numpy.sin(theta),\n",
    "                z,\n",
    "            ]\n",
    "        )\n",
    "\n",
    "\n",
    "class GaussianVariant(hoomd.variant.Variant):\n",
    "    def __init__(self, mean, std):\n",
    "        hoomd.variant.Variant.__init__(self)\n",
    "        self.mean = mean\n",
    "        self.std = std\n",
    "\n",
    "    def __call__(self, timestep):\n",
    "        return rng.normal(self.mean, self.std)"
   ]
  },
  {
   "cell_type": "markdown",
   "metadata": {},
   "source": [
    "We briefly show that the Gaussian Variant works."
   ]
  },
  {
   "cell_type": "code",
   "execution_count": 6,
   "metadata": {},
   "outputs": [
    {
     "data": {
      "text/plain": [
       "'Mean: 10.069550459202723, std. dev. 1.9965744919420398'"
      ]
     },
     "execution_count": 6,
     "metadata": {},
     "output_type": "execute_result"
    }
   ],
   "source": [
    "energy = GaussianVariant(mean=10.0, std=2.0)\n",
    "sample_energies = numpy.array([energy(0) for _ in range(1000)])\n",
    "f'Mean: {sample_energies.mean()}, std. dev. {sample_energies.std()}'"
   ]
  },
  {
   "cell_type": "markdown",
   "metadata": {},
   "source": [
    "We now use the updated `InsertEnergyUpdater` in the simulation."
   ]
  },
  {
   "cell_type": "code",
   "execution_count": 7,
   "metadata": {},
   "outputs": [
    {
     "name": "stdout",
     "output_type": "stream",
     "text": [
      "   285.96876        -10.45450        275.51427    \n",
      "   303.84204         -8.40413        295.43791    \n",
      "   320.12541         -6.86564        313.25977    \n",
      "   333.13502        -12.74600        320.38903    \n",
      "   346.94076        -13.49587        333.44489    \n",
      "   359.78511        -13.30828        346.47683    \n",
      "   363.05476         -5.18245        357.87231    \n",
      "   385.26368         -9.41100        375.85268    \n",
      "   384.85984         -2.13054        382.72930    \n",
      "   400.94032         -9.80655        391.13377    \n"
     ]
    }
   ],
   "source": [
    "simulation.operations.updaters.remove(energy_operation)\n",
    "# Create and add our custom updater\n",
    "energy_operation = hoomd.update.CustomUpdater(\n",
    "    action=InsertEnergyUpdater(energy), trigger=100\n",
    ")\n",
    "simulation.operations.updaters.append(energy_operation)\n",
    "simulation.run(1000)"
   ]
  },
  {
   "cell_type": "markdown",
   "metadata": {},
   "source": [
    "We could continue to improve upon this updater and the execution of\n",
    "this operation. However, this suffices to showcase the ability of non-trivial updaters to affect  the simulation state."
   ]
  }
 ],
 "metadata": {
  "language_info": {
   "codemirror_mode": {
    "name": "ipython",
    "version": 3
   },
   "file_extension": ".py",
   "mimetype": "text/x-python",
   "name": "python",
   "nbconvert_exporter": "python",
   "pygments_lexer": "ipython3",
   "version": "3.11.6"
  }
 },
 "nbformat": 4,
 "nbformat_minor": 4
}
