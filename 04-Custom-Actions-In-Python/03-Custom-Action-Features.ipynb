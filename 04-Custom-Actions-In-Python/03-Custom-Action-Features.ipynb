{
 "cells": [
  {
   "cell_type": "markdown",
   "metadata": {},
   "source": [
    "# Custom Action Features\n",
    "\n",
    "## Overview\n",
    "\n",
    "### Questions\n",
    "\n",
    "- How do I access simulation state information?\n",
    "- How do I create loggable quantities in custom actions?\n",
    "- What are other features provided by the custom action/operation\n",
    "  API?\n",
    "\n",
    "### Objectives\n",
    "\n",
    "- Explain how to access simulation state in a custom action.\n",
    "- Explain how to expose loggable quantities in a custom action.\n",
    "- Demonstrate other miscellaneous features of custom actions.\n",
    "\n",
    "## Boilerplate Code"
   ]
  },
  {
   "cell_type": "code",
   "execution_count": 1,
   "metadata": {},
   "outputs": [],
   "source": [
    "import hoomd\n",
    "\n",
    "cpu = hoomd.device.CPU()\n",
    "sim = hoomd.Simulation(device=cpu)\n",
    "\n",
    "snap = hoomd.Snapshot()\n",
    "snap.particles.N = 1\n",
    "snap.particles.position[:] = [0, 0, 0]\n",
    "snap.particles.types = ['A']\n",
    "snap.particles.typeid[:] = [0]\n",
    "snap.configuration.box = [10, 10, 10, 0, 0, 0]\n",
    "\n",
    "sim.create_state_from_snapshot(snap)"
   ]
  },
  {
   "cell_type": "markdown",
   "metadata": {},
   "source": [
    "## How do I access simulation state?\n",
    "\n",
    "By the time that a custom action will have its `act` method called\n",
    "it will have an attribute `_state` accessible to it which is the\n",
    "simulation state for the simulation it is associated with. The behavior\n",
    "of this is controlled in the `hoomd.custom.Action.attach` method. The\n",
    "method takes in a simulation object and performs any necessary set-up\n",
    "for the action call `act`. By default, the method stores the simulation\n",
    "state in the `_state` attribute.\n",
    "\n",
    "We will create two custom actions class to show this. In one, we will\n",
    "not modify the `attach` method, and in the other we will make `attach`\n",
    "method also print out some information."
   ]
  },
  {
   "cell_type": "code",
   "execution_count": 2,
   "metadata": {},
   "outputs": [],
   "source": [
    "class PrintTimestep(hoomd.custom.Action):\n",
    "\n",
    "    def act(self, timestep):\n",
    "        print(timestep)\n",
    "\n",
    "\n",
    "class NotifyAttachWithPrint(hoomd.custom.Action):\n",
    "\n",
    "    def attach(self, simulation):\n",
    "        print(f\"Has '_state' attribute {hasattr(self, '_state')}.\")\n",
    "        super().attach(simulation)\n",
    "        print(f\"Has '_state' attribute {hasattr(self, '_state')}.\")\n",
    "\n",
    "    def act(self, timestep):\n",
    "        print(timestep)"
   ]
  },
  {
   "cell_type": "markdown",
   "metadata": {},
   "source": [
    "Like in the previous section these are both writers. We will go ahead\n",
    "and wrap them and see what happens when we try to run the simulation."
   ]
  },
  {
   "cell_type": "code",
   "execution_count": 3,
   "metadata": {},
   "outputs": [],
   "source": [
    "print_timestep = PrintTimestep()\n",
    "print_timestep_operation = hoomd.write.CustomWriter(\n",
    "    action=print_timestep, trigger=hoomd.trigger.Periodic(10))\n",
    "sim.operations.writers.append(print_timestep_operation)\n",
    "sim.run(0)"
   ]
  },
  {
   "cell_type": "code",
   "execution_count": 4,
   "metadata": {},
   "outputs": [
    {
     "name": "stdout",
     "output_type": "stream",
     "text": [
      "Has '_state' attribute False.\n",
      "Has '_state' attribute True.\n"
     ]
    }
   ],
   "source": [
    "sim.operations -= print_timestep_operation\n",
    "print_timestep_with_notify = NotifyAttachWithPrint()\n",
    "sim.operations.writers.append(\n",
    "    hoomd.write.CustomWriter(action=print_timestep_with_notify,\n",
    "                             trigger=hoomd.trigger.Periodic(10)))\n",
    "sim.run(0)"
   ]
  },
  {
   "cell_type": "markdown",
   "metadata": {},
   "source": [
    "## Loggable Quantities in Custom Actions\n",
    "\n",
    "Custom actions can hook into HOOMD-blue's logging subsystem by using\n",
    "the `hoomd.logging.log` decorator to document which methods/properties\n",
    "of a custom action are loggable. See the documentation on `hoomd.logging.log` and `hoomd.logging.TypeFlags` for complete documenation of the decorator and loggable types.\n",
    "\n",
    "In general, `log` as a decorator takes optional arguments that control \n",
    "whether to make a method a property, what type the loggable quantity is, \n",
    "and whether the quantity should be logged by default.\n",
    "\n",
    "Rather than elaborate, we will use an example to explain these attributes."
   ]
  },
  {
   "cell_type": "code",
   "execution_count": 5,
   "metadata": {},
   "outputs": [],
   "source": [
    "class ActionWithLoggables(hoomd.custom.Action):\n",
    "\n",
    "    @hoomd.logging.log\n",
    "    def scalar_property_loggable(self):\n",
    "        return 42\n",
    "\n",
    "    @hoomd.logging.log(category='string')\n",
    "    def string_loggable(self):\n",
    "        return \"I am a string loggable.\"\n",
    "\n",
    "    def act(self, timestep):\n",
    "        pass\n",
    "\n",
    "\n",
    "action = ActionWithLoggables()"
   ]
  },
  {
   "cell_type": "code",
   "execution_count": 6,
   "metadata": {},
   "outputs": [
    {
     "data": {
      "text/plain": [
       "42"
      ]
     },
     "execution_count": 6,
     "metadata": {},
     "output_type": "execute_result"
    }
   ],
   "source": [
    "action.scalar_property_loggable"
   ]
  },
  {
   "cell_type": "code",
   "execution_count": 7,
   "metadata": {},
   "outputs": [
    {
     "data": {
      "text/plain": [
       "'I am a string loggable.'"
      ]
     },
     "execution_count": 7,
     "metadata": {},
     "output_type": "execute_result"
    }
   ],
   "source": [
    "action.string_loggable"
   ]
  },
  {
   "cell_type": "markdown",
   "metadata": {},
   "source": [
    "## Custom Operation Wrapping\n",
    "\n",
    "Another feature of the custom action API is that when an object is\n",
    "wrapped by a custom operation object (which is necessary to add a\n",
    "custom action to a simulation), the action's attributes are \n",
    "available through the operation object as if the operation were the\n",
    "action. For example, we will wrap `action` from the previous code block\n",
    "in a `CustomWriter` and access its attributes that way.\n",
    "\n",
    "Due to this wrapping the attribute `trigger` should not exist in your\n",
    "custom action."
   ]
  },
  {
   "cell_type": "code",
   "execution_count": 8,
   "metadata": {},
   "outputs": [
    {
     "data": {
      "text/plain": [
       "42"
      ]
     },
     "execution_count": 8,
     "metadata": {},
     "output_type": "execute_result"
    }
   ],
   "source": [
    "custom_op = hoomd.write.CustomWriter(action=action, trigger=100)\n",
    "custom_op.scalar_property_loggable"
   ]
  },
  {
   "cell_type": "code",
   "execution_count": 9,
   "metadata": {},
   "outputs": [
    {
     "data": {
      "text/plain": [
       "'I am a string loggable.'"
      ]
     },
     "execution_count": 9,
     "metadata": {},
     "output_type": "execute_result"
    }
   ],
   "source": [
    "custom_op.string_loggable"
   ]
  },
  {
   "cell_type": "markdown",
   "metadata": {},
   "source": [
    "## Summary\n",
    "\n",
    "These summarize most of the unique features of custom actions in Python.\n",
    "They are\n",
    "- Accessing simulation state through `_state`\n",
    "- Exposing loggable quantities\n",
    "- Accessing action attributes through custom operation wrapper\n",
    "\n",
    "With this information, you could write almost any action that is\n",
    "possible to write in Python for use in HOOMD-blue. The remain tutorial\n",
    "sections will focus on concrete examples and show some tricks to get the\n",
    "best performance. For the full list of accessible features for custom\n",
    "actions see the reference documentation."
   ]
  }
 ],
 "metadata": {
  "language_info": {
   "codemirror_mode": {
    "name": "ipython",
    "version": 3
   },
   "file_extension": ".py",
   "mimetype": "text/x-python",
   "name": "python",
   "nbconvert_exporter": "python",
   "pygments_lexer": "ipython3",
   "version": "3.9.6"
  }
 },
 "nbformat": 4,
 "nbformat_minor": 4
}
